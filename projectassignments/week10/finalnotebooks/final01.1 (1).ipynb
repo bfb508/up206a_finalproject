{
 "cells": [
  {
   "cell_type": "markdown",
   "metadata": {},
   "source": [
    "# Final Notebook Pt 1: means2work, race/eth, income, nbhooods"
   ]
  },
  {
   "cell_type": "markdown",
   "metadata": {},
   "source": [
    "**By:** Andrew Williams and Ben Brassette\n",
    "    \n",
    "**Description:** This notebook is building on earlier queries of means to work. Purpose is to intergrate and align race/eth and median income data. We are tacking points 1, 3, 4, 5, and 7 in this notebook.\n",
    "\n",
    "**Expected Outputs**\n",
    "* Trimmed data high transit areas--use same tracts for trimmed race/eth and median income data\n",
    "* Descriptive Statistics: Bar graphs of race/eth and income by using high public transit data\n",
    "* Side by side maps\n",
    "\n",
    "**Areas Where We Need More Work**\n",
    "* Spatial Statistics of means2work\n",
    "* Overlay of rail stops and bus lines\n",
    "* Descriptive Statistics of Access to Car\n",
    "* Inclusion of commute time and access to car maps (by high transit query)\n",
    "* Descriptive Statistics of Jobs\n",
    "* Interactive Map using some combination of our datasets\n",
    "\n",
    "**Notes for self to advance project:**\n",
    "1. Biggest step forward, intergrating our notebooks in the remaining few weeks in a targeted fashion\n",
    "2.  Overlay heavy rail and light rail stops\n",
    "3.  Provide more accurate description of the areas through a spatial join\n",
    "4. Compare with race/ethnicity and income data; we should create some side by side comparisons of transit use and race/eth and income\n",
    "5. Query \"high\" transit tracts, cross reference with income and race/eth, potential to add spatial dimension of LA neighborhoods\n",
    "6. Availability of cars in households\n",
    "7. Bring a shaprer focus to Central LA and the San Fernando Valley"
   ]
  },
  {
   "cell_type": "markdown",
   "metadata": {},
   "source": [
    "**TOC**\n",
    "* Section 2: Library Imports\n",
    "* Section 3: Mode of Travel\n",
    "* Section 4: Race/Eth and Income\n",
    "* Section 5: Public Transit Query\n",
    "* Section 6: Attribute Merge\n",
    "* Section 7: Matching Tracts\n",
    "* Section 8: Exploring Neighborhoods"
   ]
  },
  {
   "cell_type": "markdown",
   "metadata": {},
   "source": [
    "# Library Import \n"
   ]
  },
  {
   "cell_type": "markdown",
   "metadata": {},
   "source": [
    "Importing various libaries"
   ]
  },
  {
   "cell_type": "code",
   "execution_count": null,
   "metadata": {},
   "outputs": [],
   "source": [
    "import urllib.request, json \n",
    "import geopandas as gpd\n",
    "import pandas as pd\n",
    "import matplotlib.pyplot as plt\n",
    "import numpy as np\n",
    "import seaborn as sns "
   ]
  },
  {
   "cell_type": "markdown",
   "metadata": {},
   "source": [
    "Libraries good to go. "
   ]
  },
  {
   "cell_type": "markdown",
   "metadata": {},
   "source": [
    "\n",
    "# Mode of Travel"
   ]
  },
  {
   "cell_type": "markdown",
   "metadata": {},
   "source": [
    "Import data and run quick analysis of data.I have already cleaned this data and saved it from another notebook (public_transit_query)"
   ]
  },
  {
   "cell_type": "code",
   "execution_count": null,
   "metadata": {},
   "outputs": [],
   "source": [
    "means2work = gpd.read_file('Data/Means_Transpo_Work_Tract/acs2019_5yr_B08301_14000US06037185320.geojson')"
   ]
  },
  {
   "cell_type": "code",
   "execution_count": null,
   "metadata": {},
   "outputs": [],
   "source": [
    "type(means2work)"
   ]
  },
  {
   "cell_type": "code",
   "execution_count": null,
   "metadata": {},
   "outputs": [],
   "source": [
    "means2work.shape"
   ]
  },
  {
   "cell_type": "code",
   "execution_count": null,
   "metadata": {
    "scrolled": true
   },
   "outputs": [],
   "source": [
    "means2work.head(3)"
   ]
  },
  {
   "cell_type": "code",
   "execution_count": null,
   "metadata": {},
   "outputs": [],
   "source": [
    "means2work.tail(3)"
   ]
  },
  {
   "cell_type": "code",
   "execution_count": null,
   "metadata": {},
   "outputs": [],
   "source": [
    "means2work = means2work.drop([1004])"
   ]
  },
  {
   "cell_type": "code",
   "execution_count": null,
   "metadata": {},
   "outputs": [],
   "source": [
    "means2work.tail(3)"
   ]
  },
  {
   "cell_type": "code",
   "execution_count": null,
   "metadata": {
    "scrolled": true
   },
   "outputs": [],
   "source": [
    "means2work.columns.to_list()"
   ]
  },
  {
   "cell_type": "code",
   "execution_count": null,
   "metadata": {},
   "outputs": [],
   "source": [
    "columns_to_keep = ['geoid',\n",
    " 'name',\n",
    " 'B08301001',\n",
    " 'B08301002',\n",
    " 'B08301003',\n",
    " 'B08301004',\n",
    " 'B08301010',\n",
    " 'B08301011',\n",
    " 'B08301012',\n",
    " 'B08301013',\n",
    " 'B08301014',\n",
    " 'B08301016',\n",
    " 'B08301017',\n",
    " 'B08301018',\n",
    " 'B08301019',\n",
    " 'B08301020',\n",
    " 'B08301021',\n",
    " 'geometry']"
   ]
  },
  {
   "cell_type": "code",
   "execution_count": null,
   "metadata": {},
   "outputs": [],
   "source": [
    "means2work = means2work [columns_to_keep]"
   ]
  },
  {
   "cell_type": "code",
   "execution_count": null,
   "metadata": {},
   "outputs": [],
   "source": [
    "means2work.sample()"
   ]
  },
  {
   "cell_type": "code",
   "execution_count": null,
   "metadata": {},
   "outputs": [],
   "source": [
    "#renaming columns\n",
    "means2work.columns = ['geoid',\n",
    " 'name',\n",
    " 'Total',\n",
    " 'Car, truck, or van',\n",
    " 'Drove alone',\n",
    " 'Carpooled',\n",
    " 'Public transportation',\n",
    " 'Bus',\n",
    " 'Subway or elevated il',\n",
    " 'Long-distance train or commuter rail',\n",
    " 'Light rail, streetcar or trolley',\n",
    " 'Taxicab',\n",
    " 'Motorcycle',\n",
    " 'Bicycle',\n",
    " 'Walked',\n",
    " 'Other means',\n",
    " 'Worked from home',\n",
    " 'geometry']"
   ]
  },
  {
   "cell_type": "code",
   "execution_count": null,
   "metadata": {},
   "outputs": [],
   "source": [
    "means2work.sample()"
   ]
  },
  {
   "cell_type": "code",
   "execution_count": null,
   "metadata": {},
   "outputs": [],
   "source": [
    "means2work['Percent Car, truck, or van'] = means2work['Car, truck, or van']/means2work['Total']*100\n",
    "means2work['Percent Drove alone'] = means2work['Drove alone']/means2work['Total']*100\n",
    "means2work['Percent Carpooled'] = means2work['Carpooled']/means2work['Total']*100\n",
    "means2work['Percent Public transportation'] = means2work['Public transportation']/means2work['Total']*100\n",
    "means2work['Percent Bus'] = means2work['Bus']/means2work['Total']*100\n",
    "means2work['Percent Subway or elevated il'] = means2work['Subway or elevated il']/means2work['Total']*100\n",
    "means2work['Percent Long-distance train or commuter rail'] = means2work['Long-distance train or commuter rail']/means2work['Total']*100\n",
    "means2work['Percent Light rail, streetcar or trolley'] = means2work['Light rail, streetcar or trolley']/means2work['Total']*100\n",
    "means2work['Percent Taxicab'] = means2work['Taxicab']/means2work['Total']*100\n",
    "means2work['Percent Motorcycle'] = means2work['Motorcycle']/means2work['Total']*100\n",
    "means2work['Percent Bicycle'] = means2work['Bicycle']/means2work['Total']*100\n",
    "means2work['Percent Walked'] = means2work['Walked']/means2work['Total']*100\n",
    "means2work['Percent Other means'] = means2work['Other means']/means2work['Total']*100\n",
    "means2work['Percent Worked from home'] = means2work['Worked from home']/means2work['Total']*100"
   ]
  },
  {
   "cell_type": "code",
   "execution_count": null,
   "metadata": {},
   "outputs": [],
   "source": [
    "means2work.sample()"
   ]
  },
  {
   "cell_type": "markdown",
   "metadata": {},
   "source": [
    "# Race and Ethnicity Data for LA"
   ]
  },
  {
   "cell_type": "markdown",
   "metadata": {},
   "source": [
    "## Load Census data\n",
    "\n",
    "I will load one Census data table:\n",
    "\n",
    "Table B03002: Hispanic or Latino Origin by Race"
   ]
  },
  {
   "cell_type": "code",
   "execution_count": null,
   "metadata": {},
   "outputs": [],
   "source": [
    "# loading the three data files\n",
    "gdf_race = gpd.read_file('Data/race/acs2019_5yr_B03002_raceethnicity.geojson')"
   ]
  },
  {
   "cell_type": "markdown",
   "metadata": {},
   "source": [
    "## Begin to look at the data\n"
   ]
  },
  {
   "cell_type": "code",
   "execution_count": null,
   "metadata": {},
   "outputs": [],
   "source": [
    "gdf_race.shape"
   ]
  },
  {
   "cell_type": "markdown",
   "metadata": {},
   "source": [
    "There are 1005 rows of data, referencing the 1005 census tracts in LA. There are 45 race and ethnicity variables."
   ]
  },
  {
   "cell_type": "markdown",
   "metadata": {},
   "source": [
    "Checking to see if any data needs to be dropped."
   ]
  },
  {
   "cell_type": "code",
   "execution_count": null,
   "metadata": {},
   "outputs": [],
   "source": [
    "gdf_race.head(4)"
   ]
  },
  {
   "cell_type": "code",
   "execution_count": null,
   "metadata": {},
   "outputs": [],
   "source": [
    "gdf_race.tail(4)"
   ]
  },
  {
   "cell_type": "markdown",
   "metadata": {},
   "source": [
    "Need top drop the last row"
   ]
  },
  {
   "cell_type": "code",
   "execution_count": null,
   "metadata": {},
   "outputs": [],
   "source": [
    "gdf_race = gdf_race.drop([1004])"
   ]
  },
  {
   "cell_type": "code",
   "execution_count": null,
   "metadata": {
    "scrolled": true
   },
   "outputs": [],
   "source": [
    "gdf_race.tail(3)"
   ]
  },
  {
   "cell_type": "markdown",
   "metadata": {},
   "source": [
    "Drop sucessful"
   ]
  },
  {
   "cell_type": "code",
   "execution_count": null,
   "metadata": {},
   "outputs": [],
   "source": [
    "# columns to keep\n",
    "columns_to_keep = ['geoid',\n",
    " 'name',\n",
    " 'B03002001',\n",
    " 'B03002002',\n",
    " 'B03002003',\n",
    " 'B03002004',\n",
    " 'B03002005',\n",
    " 'B03002006',\n",
    " 'B03002007',\n",
    " 'B03002008',\n",
    " 'B03002009',\n",
    " 'B03002010',\n",
    " 'B03002011',\n",
    " 'B03002012',\n",
    " 'B03002013',\n",
    " 'B03002014',\n",
    " 'B03002015',\n",
    " 'B03002016',\n",
    " 'B03002017',\n",
    " 'B03002018',\n",
    " 'B03002019',\n",
    " 'B03002020',\n",
    " 'B03002021',\n",
    " 'geometry']"
   ]
  },
  {
   "cell_type": "code",
   "execution_count": null,
   "metadata": {},
   "outputs": [],
   "source": [
    "# redefine gdf with only columns to keep\n",
    "gdf_race = gdf_race[columns_to_keep]"
   ]
  },
  {
   "cell_type": "markdown",
   "metadata": {},
   "source": [
    "This removes any variables that we do not need."
   ]
  },
  {
   "cell_type": "code",
   "execution_count": null,
   "metadata": {},
   "outputs": [],
   "source": [
    "# check the slimmed down gdf\n",
    "gdf_race.head()"
   ]
  },
  {
   "cell_type": "markdown",
   "metadata": {},
   "source": [
    "We can run the .head command to see our first five lines of data and to make sure our varaibles were deleted. Next we will redefine the columns to match the variable names."
   ]
  },
  {
   "cell_type": "code",
   "execution_count": null,
   "metadata": {},
   "outputs": [],
   "source": [
    "gdf_race.columns = ['geoid',\n",
    " 'name',\n",
    " 'Total',\n",
    " 'Not Hispanic or Latino',\n",
    " 'N_White',\n",
    " 'N_Black',\n",
    " 'N_Native',\n",
    " 'N_Asian',\n",
    " 'N_Native Hawaiian',\n",
    " 'N_Some other race alone',\n",
    " 'N_Two or more races',\n",
    " 'N_Two races including some other race',\n",
    " 'N_Two races excluding some other race, and three or more races',\n",
    " 'Hispanic or Latino',\n",
    " 'H_White',\n",
    " 'H_Black',\n",
    " 'H_Native',\n",
    " 'H_Asian',\n",
    " 'H_Native Hawaiian',\n",
    " 'H_Some other race alone',\n",
    " 'H_Two or more races',\n",
    " 'H_Two races including some other race',\n",
    " 'H_Two races excluding some other race, and three or more races',\n",
    " 'geometry']"
   ]
  },
  {
   "cell_type": "code",
   "execution_count": null,
   "metadata": {
    "scrolled": true
   },
   "outputs": [],
   "source": [
    "gdf_race.head()"
   ]
  },
  {
   "cell_type": "markdown",
   "metadata": {},
   "source": [
    "See, it worked! Next we create percentage variables."
   ]
  },
  {
   "cell_type": "code",
   "execution_count": null,
   "metadata": {},
   "outputs": [],
   "source": [
    "gdf_race['N_WhitePercentage']=round(((gdf_race['N_White']/ gdf_race['Total'])*100),2)\n",
    "gdf_race['N_BlacPercentage']=round(((gdf_race['N_Black']/ gdf_race['Total'])*100),2)\n",
    "gdf_race['N_NativePercentage']=round(((gdf_race['N_Native']/ gdf_race['Total'])*100),2)\n",
    "gdf_race['N_AsianPercentage']=round(((gdf_race['N_Asian']/ gdf_race['Total'])*100),2)\n",
    "gdf_race['N_HawaiianPercentage']=round(((gdf_race['N_Native Hawaiian']/ gdf_race['Total'])*100),2)\n",
    "gdf_race['N_OtherPercentage']=round(((gdf_race['N_Some other race alone']/ gdf_race['Total'])*100),2)\n",
    "gdf_race['N_TwoPlusPercentage']=round(((gdf_race['N_Two or more races']/ gdf_race['Total'])*100),2)\n",
    "gdf_race['N_TwoInclOtherPercentage']=round(((gdf_race['N_Two races including some other race']/ gdf_race['Total'])*100),2)\n",
    "gdf_race['N_TwoPlusThreePlusPercentage']=round(((gdf_race['N_Two races excluding some other race, and three or more races']/ gdf_race['Total'])*100),2)\n",
    "gdf_race['HispanicPercentage']=round(((gdf_race['Hispanic or Latino']/ gdf_race['Total'])*100),2)\n",
    "gdf_race['H_WhitePercentage']=round(((gdf_race['H_White']/ gdf_race['Total'])*100),2)\n",
    "gdf_race['H_BlacPercentage']=round(((gdf_race['H_Black']/ gdf_race['Total'])*100),2)\n",
    "gdf_race['H_NativePercentage']=round(((gdf_race['H_Native']/ gdf_race['Total'])*100),2)\n",
    "gdf_race['H_AsianPercentage']=round(((gdf_race['H_Asian']/ gdf_race['Total'])*100),2)\n",
    "gdf_race['H_HawaiianPercentage']=round(((gdf_race['H_Native Hawaiian']/ gdf_race['Total'])*100),2)\n",
    "gdf_race['H_OtherPercentage']=round(((gdf_race['H_Some other race alone']/ gdf_race['Total'])*100),2)\n",
    "gdf_race['H_TwoPlusPercentage']=round(((gdf_race['H_Two or more races']/ gdf_race['Total'])*100),2)\n",
    "gdf_race['H_TwoInclOtherPercentage']=round(((gdf_race['H_Two races including some other race']/ gdf_race['Total'])*100),2)\n",
    "gdf_race['H_TwoPlusThreePlusPercentage']=round(((gdf_race['H_Two races excluding some other race, and three or more races']/ gdf_race['Total'])*100),2)\n"
   ]
  },
  {
   "cell_type": "markdown",
   "metadata": {},
   "source": [
    "Plotting to Hispanic spatial distribution across LA"
   ]
  },
  {
   "cell_type": "code",
   "execution_count": null,
   "metadata": {
    "scrolled": false
   },
   "outputs": [],
   "source": [
    "gdf_race.head(1004).plot(figsize=(10,10),column='HispanicPercentage',legend=True)"
   ]
  },
  {
   "cell_type": "markdown",
   "metadata": {},
   "source": [
    "* Large concntrations in Central, South, and Southeast nieghborhood regions of LA\n",
    "* Additionally, large concentrates in SF Valley\n",
    "* There could be a relationship between transit ridership in Central LA and the SF Valley"
   ]
  },
  {
   "cell_type": "markdown",
   "metadata": {},
   "source": [
    "Plotting to White spatial distribution across LA"
   ]
  },
  {
   "cell_type": "code",
   "execution_count": null,
   "metadata": {},
   "outputs": [],
   "source": [
    "gdf_race.head(1004).plot(figsize=(10,10),column='N_WhitePercentage',legend=True)"
   ]
  },
  {
   "cell_type": "markdown",
   "metadata": {},
   "source": [
    "* White population is almost completely absent in Central LA\n",
    "* Strong concentrations of White population in Western LA and the western SF Valley\n",
    "* Will there by any relationship between census tracts and White populaion in the SF Valley?"
   ]
  },
  {
   "cell_type": "markdown",
   "metadata": {},
   "source": [
    "Plotting to Black spatial distribution across LA"
   ]
  },
  {
   "cell_type": "code",
   "execution_count": null,
   "metadata": {
    "scrolled": false
   },
   "outputs": [],
   "source": [
    "gdf_race.head(1004).plot(figsize=(10,10),column='N_BlacPercentage',legend=True)"
   ]
  },
  {
   "cell_type": "markdown",
   "metadata": {},
   "source": [
    "* Black population concentrated west of Central LA, though there are a few pockets throughout the city\n",
    "* From what I know of transit ridership in LA, there is a disconnect between areas of high transit and Black population"
   ]
  },
  {
   "cell_type": "markdown",
   "metadata": {},
   "source": [
    "Plotting to Asian spatial distribution across LA"
   ]
  },
  {
   "cell_type": "code",
   "execution_count": null,
   "metadata": {},
   "outputs": [],
   "source": [
    "gdf_race.head(1004).plot(figsize=(10,10),column='N_AsianPercentage',legend=True)"
   ]
  },
  {
   "cell_type": "markdown",
   "metadata": {},
   "source": [
    "* Concentrations of Asian population in Central LA and there appears to be a wider distribution of Asian residents in the SF Valley"
   ]
  },
  {
   "cell_type": "markdown",
   "metadata": {},
   "source": [
    "This graph shows the number of non-hispanic white people in LA."
   ]
  },
  {
   "cell_type": "code",
   "execution_count": null,
   "metadata": {},
   "outputs": [],
   "source": [
    "# create the 1x2 subplots\n",
    "fig, axs = plt.subplots(1, 2, figsize=(15, 12))\n",
    "\n",
    "# name each subplot\n",
    "ax1, ax2 = axs\n",
    "\n",
    "# regular count map on the left\n",
    "gdf_race.plot(column='N_BlacPercentage', \n",
    "            cmap='viridis', \n",
    "            scheme='quantiles',\n",
    "            k=5, \n",
    "            edgecolor='white', \n",
    "            linewidth=0., \n",
    "            alpha=0.75, \n",
    "            ax=ax1, # this assigns the map to the subplot,\n",
    "            legend=True\n",
    "           )\n",
    "\n",
    "ax1.axis(\"off\")\n",
    "ax1.set_title(\"Black Population\")\n",
    "\n",
    "# spatial lag map on the right\n",
    "gdf_race.plot(column='HispanicPercentage', \n",
    "            cmap='viridis', \n",
    "            scheme='quantiles',\n",
    "            k=5, \n",
    "            edgecolor='white', \n",
    "            linewidth=0., \n",
    "            alpha=0.75, \n",
    "            ax=ax2, # this assigns the map to the subplot\n",
    "            legend=True\n",
    "           )\n",
    "\n",
    "ax2.axis(\"off\")\n",
    "ax2.set_title(\"Hispanic Population\")"
   ]
  },
  {
   "cell_type": "markdown",
   "metadata": {},
   "source": [
    "* This map shows the concentration of non-hispanic Black people in LA and Hispanic people in LA, respectively\n",
    "* On a marco scope, LA seems fairly segregated by race. This does not hold constant for every census tract and nieghborhood, but larger patterns seem to indicate high regional segregation"
   ]
  },
  {
   "cell_type": "markdown",
   "metadata": {},
   "source": [
    "# Income in Los Angeles\n",
    "\n",
    "Our group project is a comparison of accessibility and mobility in Los Angeles neighborhoods. We seek to understand who uses transit in LA, and how certain impacts land use or the transportation system may impact their lives. We will be using data from the American Community Survey, LA Metro, the City of LA, LA Times, and the Bureau of Transportation Statistics."
   ]
  },
  {
   "cell_type": "markdown",
   "metadata": {},
   "source": [
    "## Load Census data\n",
    "\n",
    "I will load one Census data table:\n",
    "\n",
    "Table B19013: Median Household Income in the Last 12 Months"
   ]
  },
  {
   "cell_type": "code",
   "execution_count": null,
   "metadata": {},
   "outputs": [],
   "source": [
    "# loading the data file\n",
    "\n",
    "gdf_income = gpd.read_file('Data/income/acs2019_5yr_B19013_income.geojson')"
   ]
  },
  {
   "cell_type": "markdown",
   "metadata": {},
   "source": [
    "## Begin to look at the data"
   ]
  },
  {
   "cell_type": "code",
   "execution_count": null,
   "metadata": {
    "scrolled": true
   },
   "outputs": [],
   "source": [
    "gdf_income.shape"
   ]
  },
  {
   "cell_type": "code",
   "execution_count": null,
   "metadata": {},
   "outputs": [],
   "source": [
    "gdf_income.tail(3)"
   ]
  },
  {
   "cell_type": "markdown",
   "metadata": {},
   "source": [
    "There are 1,005 rows of data which represent the 1,004 census tracts in the city of LA. There are 5 columns which will be discussed later."
   ]
  },
  {
   "cell_type": "code",
   "execution_count": null,
   "metadata": {
    "scrolled": true
   },
   "outputs": [],
   "source": [
    "gdf_income = gdf_income.drop([1004])"
   ]
  },
  {
   "cell_type": "code",
   "execution_count": null,
   "metadata": {},
   "outputs": [],
   "source": [
    "gdf_income.tail()"
   ]
  },
  {
   "cell_type": "markdown",
   "metadata": {},
   "source": [
    "We use the .head command to get a look at the first 5 lines of data. The columns are: geoid (geographic pinpoint of the tract), name (number identification of the census tract), B19013001 and B19013001, error which I discuss below, and the geometry which is that latitude and longitudinal coordinates. "
   ]
  },
  {
   "cell_type": "markdown",
   "metadata": {},
   "source": [
    "Since we do not want a column that has \"error\" in the name, we remove it by defining which columns to keep. "
   ]
  },
  {
   "cell_type": "code",
   "execution_count": null,
   "metadata": {},
   "outputs": [],
   "source": [
    "# columns to keep\n",
    "columns_to_keep = ['geoid',\n",
    " 'name',\n",
    " 'B19013001',\n",
    " 'geometry']"
   ]
  },
  {
   "cell_type": "code",
   "execution_count": null,
   "metadata": {},
   "outputs": [],
   "source": [
    "# redefine gdf with only columns to keep\n",
    "gdf_income = gdf_income[columns_to_keep]"
   ]
  },
  {
   "cell_type": "code",
   "execution_count": null,
   "metadata": {
    "scrolled": true
   },
   "outputs": [],
   "source": [
    "# check the slimmed down gdf\n",
    "gdf_income.head()"
   ]
  },
  {
   "cell_type": "markdown",
   "metadata": {},
   "source": [
    "The dataframe is now reduced to show only the columns we identified, but we still need to rename B19013001. We use the documentation from the dataset to know that this is the variable for median income. "
   ]
  },
  {
   "cell_type": "code",
   "execution_count": null,
   "metadata": {},
   "outputs": [],
   "source": [
    "gdf_income.columns = ['geoid',\n",
    " 'name',\n",
    " 'Median Income',\n",
    " 'geometry']"
   ]
  },
  {
   "cell_type": "code",
   "execution_count": null,
   "metadata": {
    "scrolled": true
   },
   "outputs": [],
   "source": [
    "gdf_income.head()"
   ]
  },
  {
   "cell_type": "markdown",
   "metadata": {},
   "source": [
    "## Now that we have our data fixed, it's time to make some graphs!"
   ]
  },
  {
   "cell_type": "code",
   "execution_count": null,
   "metadata": {
    "scrolled": false
   },
   "outputs": [],
   "source": [
    "gdf_income.plot(figsize=(12,10),\n",
    "                 column='Median Income',\n",
    "                 legend=True, \n",
    "                 scheme='UserDefined', cmap='Purples_r',\n",
    "               classification_kwds=dict(bins=[12760,23700,39450,63100,77300,100490,115950,139140,150000,200000])\n",
    "               )"
   ]
  },
  {
   "cell_type": "markdown",
   "metadata": {},
   "source": [
    "This map shows the median income by census tract across LA."
   ]
  },
  {
   "cell_type": "markdown",
   "metadata": {},
   "source": [
    "Same map as above, but putting a placeholder in case we want to compare another map later with median income"
   ]
  },
  {
   "cell_type": "code",
   "execution_count": null,
   "metadata": {
    "scrolled": false
   },
   "outputs": [],
   "source": [
    "# create the 1x2 subplots\n",
    "fig, axs = plt.subplots(1, 2, figsize=(15, 12))\n",
    "\n",
    "# name each subplot\n",
    "ax1, ax2 = axs\n",
    "\n",
    "# regular count map on the left\n",
    "gdf_income.plot(column='Median Income', \n",
    "            cmap='GnBu', \n",
    "            scheme='quantiles',\n",
    "            k=5, \n",
    "            edgecolor='white', \n",
    "            linewidth=0., \n",
    "            alpha=0.75, \n",
    "            ax=ax1, # this assigns the map to the subplot,\n",
    "            legend=True\n",
    "           )\n",
    "\n",
    "ax1.axis(\"off\")\n",
    "ax1.set_title(\"Median Income\")\n",
    "\n",
    "# spatial lag map on the right\n",
    "gdf_income.plot(column='Median Income', \n",
    "            cmap='GnBu', \n",
    "            scheme='quantiles',\n",
    "            k=5, \n",
    "            edgecolor='white', \n",
    "            linewidth=0., \n",
    "            alpha=0.75, \n",
    "            ax=ax2, # this assigns the map to the subplot\n",
    "            legend=True\n",
    "           )\n",
    "\n",
    "ax2.axis(\"off\")\n",
    "ax2.set_title(\"Median Income\")"
   ]
  },
  {
   "cell_type": "markdown",
   "metadata": {},
   "source": [
    "# Query for Relative High Transit Areas"
   ]
  },
  {
   "cell_type": "markdown",
   "metadata": {},
   "source": [
    "## Quick Survey of High Use Transit Areas"
   ]
  },
  {
   "cell_type": "code",
   "execution_count": null,
   "metadata": {},
   "outputs": [],
   "source": [
    "transit_indicators = ['Percent Public transportation',\n",
    "'Percent Bus',\n",
    "'Percent Subway or elevated il',\n",
    "'Percent Long-distance train or commuter rail',\n",
    "'Percent Light rail, streetcar or trolley',]"
   ]
  },
  {
   "cell_type": "code",
   "execution_count": null,
   "metadata": {},
   "outputs": [],
   "source": [
    "for indicator in transit_indicators:\n",
    "    print(indicator)\n",
    "    print (means2work.sort_values(by = indicator, ascending=False)[indicator].head(10))"
   ]
  },
  {
   "cell_type": "markdown",
   "metadata": {},
   "source": [
    "I don't know how to call two variables at the same time in my search-- I also want corresponding GEOIDs for my tracts. Will just query below to get the results I need, even if inefficently."
   ]
  },
  {
   "cell_type": "markdown",
   "metadata": {},
   "source": [
    "## Digging deeper into Public Transportation"
   ]
  },
  {
   "cell_type": "code",
   "execution_count": null,
   "metadata": {},
   "outputs": [],
   "source": [
    "means2work_sorted_pt = means2work.sort_values(by='Percent Public transportation',ascending = False)"
   ]
  },
  {
   "cell_type": "code",
   "execution_count": null,
   "metadata": {
    "scrolled": true
   },
   "outputs": [],
   "source": [
    "means2work_sorted_pt[['geoid','Percent Public transportation']].head(105)"
   ]
  },
  {
   "cell_type": "code",
   "execution_count": null,
   "metadata": {
    "scrolled": true
   },
   "outputs": [],
   "source": [
    "means2work_sorted_pt[means2work_sorted_pt['Percent Public transportation'] > 20]"
   ]
  },
  {
   "cell_type": "markdown",
   "metadata": {},
   "source": [
    "## Bus"
   ]
  },
  {
   "cell_type": "code",
   "execution_count": null,
   "metadata": {},
   "outputs": [],
   "source": [
    "means2work_sorted_bus = means2work.sort_values(by='Percent Bus',ascending = False)"
   ]
  },
  {
   "cell_type": "code",
   "execution_count": null,
   "metadata": {
    "scrolled": true
   },
   "outputs": [],
   "source": [
    "means2work_sorted_bus[['geoid','Percent Bus']].head(10)"
   ]
  },
  {
   "cell_type": "code",
   "execution_count": null,
   "metadata": {
    "scrolled": true
   },
   "outputs": [],
   "source": [
    "means2work_sorted_bus[means2work_sorted_bus['Percent Bus'] > 20]"
   ]
  },
  {
   "cell_type": "markdown",
   "metadata": {},
   "source": [
    "## Subway"
   ]
  },
  {
   "cell_type": "code",
   "execution_count": null,
   "metadata": {},
   "outputs": [],
   "source": [
    "means2work_sorted_sub = means2work.sort_values(by='Percent Subway or elevated il',ascending = False)"
   ]
  },
  {
   "cell_type": "code",
   "execution_count": null,
   "metadata": {
    "scrolled": true
   },
   "outputs": [],
   "source": [
    "means2work_sorted_sub[['geoid','Percent Subway or elevated il']].head(10)"
   ]
  },
  {
   "cell_type": "code",
   "execution_count": null,
   "metadata": {},
   "outputs": [],
   "source": [
    "means2work_sorted_sub[means2work_sorted_sub['Percent Subway or elevated il'] > 5]"
   ]
  },
  {
   "cell_type": "markdown",
   "metadata": {},
   "source": [
    "## Distance Rail"
   ]
  },
  {
   "cell_type": "code",
   "execution_count": null,
   "metadata": {},
   "outputs": [],
   "source": [
    "means2work_sorted_commuter = means2work.sort_values(by='Percent Long-distance train or commuter rail',ascending = False)"
   ]
  },
  {
   "cell_type": "code",
   "execution_count": null,
   "metadata": {},
   "outputs": [],
   "source": [
    "means2work_sorted_commuter[['geoid','Percent Long-distance train or commuter rail']].head(10)"
   ]
  },
  {
   "cell_type": "markdown",
   "metadata": {},
   "source": [
    "## Light Rail"
   ]
  },
  {
   "cell_type": "code",
   "execution_count": null,
   "metadata": {},
   "outputs": [],
   "source": [
    "means2work_sorted_lr = means2work.sort_values(by='Percent Light rail, streetcar or trolley',ascending = False)"
   ]
  },
  {
   "cell_type": "code",
   "execution_count": null,
   "metadata": {},
   "outputs": [],
   "source": [
    "means2work_sorted_lr[['geoid','Percent Light rail, streetcar or trolley']].head(10)"
   ]
  },
  {
   "cell_type": "markdown",
   "metadata": {},
   "source": [
    "# Attribute Merge"
   ]
  },
  {
   "cell_type": "markdown",
   "metadata": {},
   "source": [
    "## Means to work and Neighborhood"
   ]
  },
  {
   "cell_type": "markdown",
   "metadata": {},
   "source": [
    "Importing My previous file with geoids and neigborhoods names and data background check"
   ]
  },
  {
   "cell_type": "code",
   "execution_count": null,
   "metadata": {},
   "outputs": [],
   "source": [
    "df_slim = pd.read_csv('slim_full.csv')"
   ]
  },
  {
   "cell_type": "code",
   "execution_count": null,
   "metadata": {},
   "outputs": [],
   "source": [
    "type(df_slim)"
   ]
  },
  {
   "cell_type": "code",
   "execution_count": null,
   "metadata": {},
   "outputs": [],
   "source": [
    "df_slim.head(4)"
   ]
  },
  {
   "cell_type": "code",
   "execution_count": null,
   "metadata": {},
   "outputs": [],
   "source": [
    "df_slim['Name_1'].value_counts()"
   ]
  },
  {
   "cell_type": "code",
   "execution_count": null,
   "metadata": {
    "scrolled": true
   },
   "outputs": [],
   "source": [
    "df_slim.shape"
   ]
  },
  {
   "cell_type": "markdown",
   "metadata": {},
   "source": [
    "Info is good to go"
   ]
  },
  {
   "cell_type": "markdown",
   "metadata": {},
   "source": [
    "Starting process of merge, but quick sample of means2work data"
   ]
  },
  {
   "cell_type": "code",
   "execution_count": null,
   "metadata": {
    "scrolled": true
   },
   "outputs": [],
   "source": [
    "means2work.head(2)"
   ]
  },
  {
   "cell_type": "code",
   "execution_count": null,
   "metadata": {},
   "outputs": [],
   "source": [
    "m2w_nbh=means2work.merge(df_slim, on='geoid')"
   ]
  },
  {
   "cell_type": "code",
   "execution_count": null,
   "metadata": {
    "scrolled": true
   },
   "outputs": [],
   "source": [
    "m2w_nbh.head()"
   ]
  },
  {
   "cell_type": "code",
   "execution_count": null,
   "metadata": {
    "scrolled": true
   },
   "outputs": [],
   "source": [
    "type(m2w_nbh)"
   ]
  },
  {
   "cell_type": "code",
   "execution_count": null,
   "metadata": {},
   "outputs": [],
   "source": [
    "m2w_nbh.shape"
   ]
  },
  {
   "cell_type": "code",
   "execution_count": null,
   "metadata": {
    "scrolled": false
   },
   "outputs": [],
   "source": [
    "m2w_nbh.dtypes"
   ]
  },
  {
   "cell_type": "code",
   "execution_count": null,
   "metadata": {
    "scrolled": true
   },
   "outputs": [],
   "source": [
    "m2w_nbh.info()"
   ]
  },
  {
   "cell_type": "code",
   "execution_count": null,
   "metadata": {},
   "outputs": [],
   "source": [
    "m2w_nbh.columns.to_list()"
   ]
  },
  {
   "cell_type": "markdown",
   "metadata": {},
   "source": [
    "Success! I do want to cut a couple columns. "
   ]
  },
  {
   "cell_type": "code",
   "execution_count": null,
   "metadata": {},
   "outputs": [],
   "source": [
    "col_to_keep = ['geoid',\n",
    " 'name',\n",
    " 'Total',\n",
    " 'Car, truck, or van',\n",
    " 'Drove alone',\n",
    " 'Carpooled',\n",
    " 'Public transportation',\n",
    " 'Bus',\n",
    " 'Subway or elevated il',\n",
    " 'Long-distance train or commuter rail',\n",
    " 'Light rail, streetcar or trolley',\n",
    " 'Worked from home',\n",
    " 'geometry',\n",
    " 'Percent Car, truck, or van',\n",
    " 'Percent Drove alone',\n",
    " 'Percent Carpooled',\n",
    " 'Percent Public transportation',\n",
    " 'Percent Bus',\n",
    " 'Percent Subway or elevated il',\n",
    " 'Percent Long-distance train or commuter rail',\n",
    " 'Percent Light rail, streetcar or trolley',\n",
    " 'Percent Worked from home',\n",
    " 'Name_1'\n",
    "]"
   ]
  },
  {
   "cell_type": "code",
   "execution_count": null,
   "metadata": {},
   "outputs": [],
   "source": [
    "m2w_nbh = m2w_nbh [col_to_keep]"
   ]
  },
  {
   "cell_type": "code",
   "execution_count": null,
   "metadata": {
    "scrolled": false
   },
   "outputs": [],
   "source": [
    "m2w_nbh.sample(3)"
   ]
  },
  {
   "cell_type": "markdown",
   "metadata": {},
   "source": [
    "Rename Columns"
   ]
  },
  {
   "cell_type": "code",
   "execution_count": null,
   "metadata": {},
   "outputs": [],
   "source": [
    "#renaming columns\n",
    "m2w_nbh.columns = ['geoid',\n",
    " 'name',\n",
    " 'Total',\n",
    " 'Car Total',\n",
    " 'Drove alone',\n",
    " 'Carpooled',\n",
    " 'Public transportation',\n",
    " 'Bus',\n",
    " 'Subway or elevated il',\n",
    " 'Long-distance train or commuter rail',\n",
    " 'Light rail',\n",
    " 'Worked from home',\n",
    " 'geometry',\n",
    " 'Percent Car Total',\n",
    " 'Percent Drove alone',\n",
    " 'Percent Carpooled',\n",
    " 'Percent Public transportation',\n",
    " 'Percent Bus',\n",
    " 'Percent Subway or elevated il',\n",
    " 'Percent Long-distance train or commuter rail',\n",
    " 'Percent Light rail',\n",
    " 'Percent Worked from home',\n",
    " 'Neighborhood'\n",
    "]"
   ]
  },
  {
   "cell_type": "code",
   "execution_count": null,
   "metadata": {
    "scrolled": false
   },
   "outputs": [],
   "source": [
    "m2w_nbh.sample(2)"
   ]
  },
  {
   "cell_type": "markdown",
   "metadata": {},
   "source": [
    "I'm going to take a moment here to celebrate. I still need to some more work with this, like see which nieghborhoods are missing values and also create more variables to call data for each neighborhood, THAT BEING SAID, I've been workin on in some form for about 4-5 weeks. I'm very please with this initial result. "
   ]
  },
  {
   "cell_type": "markdown",
   "metadata": {},
   "source": [
    "## Spatial Join: Median Income and m2w_nbh Merge"
   ]
  },
  {
   "cell_type": "markdown",
   "metadata": {},
   "source": [
    "Instead of merging neighborhood data seperately to Median Income, I'm going to try try and merge them into dataset. If this works and is manageable, I would continue to add other datasets in order to query data more easily. At least that's my strand of thought for the moment."
   ]
  },
  {
   "cell_type": "code",
   "execution_count": null,
   "metadata": {},
   "outputs": [],
   "source": [
    "m2w_income_nbh=gpd.sjoin(m2w_nbh,gdf_income,how=\"inner\",op=\"contains\")"
   ]
  },
  {
   "cell_type": "code",
   "execution_count": null,
   "metadata": {
    "scrolled": true
   },
   "outputs": [],
   "source": [
    "m2w_income_nbh.head()"
   ]
  },
  {
   "cell_type": "code",
   "execution_count": null,
   "metadata": {},
   "outputs": [],
   "source": [
    "m2w_income_nbh.shape"
   ]
  },
  {
   "cell_type": "markdown",
   "metadata": {},
   "source": [
    "Well that worked! Going to make future work in 20 minutes so much easier for me."
   ]
  },
  {
   "cell_type": "code",
   "execution_count": null,
   "metadata": {},
   "outputs": [],
   "source": [
    "m2w_income_nbh.columns.to_list()"
   ]
  },
  {
   "cell_type": "code",
   "execution_count": null,
   "metadata": {},
   "outputs": [],
   "source": [
    "keep_col=['geoid_left',\n",
    " 'name_left',\n",
    " 'Neighborhood',\n",
    " 'Median Income',\n",
    " 'Total',\n",
    " 'Car Total',\n",
    " 'Drove alone',\n",
    " 'Carpooled',\n",
    " 'Public transportation',\n",
    " 'Bus',\n",
    " 'Subway or elevated il',\n",
    " 'Long-distance train or commuter rail',\n",
    " 'Light rail',\n",
    " 'Worked from home',\n",
    " 'Percent Car Total',\n",
    " 'Percent Drove alone',\n",
    " 'Percent Carpooled',\n",
    " 'Percent Public transportation',\n",
    " 'Percent Bus',\n",
    " 'Percent Subway or elevated il',\n",
    " 'Percent Long-distance train or commuter rail',\n",
    " 'Percent Light rail',\n",
    " 'Percent Worked from home',\n",
    " 'index_right',\n",
    " 'geometry',]"
   ]
  },
  {
   "cell_type": "code",
   "execution_count": null,
   "metadata": {},
   "outputs": [],
   "source": [
    "m2w_income_nbh = m2w_income_nbh [keep_col]\n",
    "m2w_income_nbh.sample(5)"
   ]
  },
  {
   "cell_type": "code",
   "execution_count": null,
   "metadata": {},
   "outputs": [],
   "source": [
    "m2w_income_nbh.sample(1)"
   ]
  },
  {
   "cell_type": "markdown",
   "metadata": {},
   "source": [
    "Wonderful! I also rearranged some of the columns to make it more readable for myself. "
   ]
  },
  {
   "cell_type": "code",
   "execution_count": null,
   "metadata": {},
   "outputs": [],
   "source": [
    "m2w_income_nbh.columns=[ 'geoid',\n",
    " 'name',\n",
    " 'Neighborhood',\n",
    " 'Median Income',\n",
    " 'Total Workers Commuting',\n",
    " 'Car Total',\n",
    " 'Drove alone',\n",
    " 'Carpooled',\n",
    " 'Public transportation',\n",
    " 'Bus',\n",
    " 'Subway or elevated il',\n",
    " 'Long-distance train or commuter rail',\n",
    " 'Light rail',\n",
    " 'Worked from home',\n",
    " 'Percent Car Total',\n",
    " 'Percent Drove alone',\n",
    " 'Percent Carpooled',\n",
    " 'Percent Public transportation',\n",
    " 'Percent Bus',\n",
    " 'Percent Subway or elevated il',\n",
    " 'Percent Long-distance train or commuter rail',\n",
    " 'Percent Light rail',\n",
    " 'Percent Worked from home',\n",
    " 'index',\n",
    " 'geometry',]"
   ]
  },
  {
   "cell_type": "code",
   "execution_count": null,
   "metadata": {
    "scrolled": true
   },
   "outputs": [],
   "source": [
    "m2w_income_nbh.sample(5)"
   ]
  },
  {
   "cell_type": "code",
   "execution_count": null,
   "metadata": {},
   "outputs": [],
   "source": [
    "type(m2w_income_nbh)"
   ]
  },
  {
   "cell_type": "markdown",
   "metadata": {},
   "source": [
    "## Merging Race/Eth Data: m2w_income_race"
   ]
  },
  {
   "cell_type": "markdown",
   "metadata": {},
   "source": [
    "Based on the success of the last merge, will merge race/eth data as well. I may just end up creating a juggernot of a dataset. For some reason, that makes me feel like I'm cheating since it will make my life so much easier. Going to follow the ethic of smarter not harder. "
   ]
  },
  {
   "cell_type": "code",
   "execution_count": null,
   "metadata": {},
   "outputs": [],
   "source": [
    "m2w_income_race=gpd.sjoin(m2w_income_nbh,gdf_race,how=\"inner\",op=\"contains\")"
   ]
  },
  {
   "cell_type": "code",
   "execution_count": null,
   "metadata": {},
   "outputs": [],
   "source": [
    "m2w_income_race.head()"
   ]
  },
  {
   "cell_type": "markdown",
   "metadata": {},
   "source": [
    "Great. Let's cleanup!"
   ]
  },
  {
   "cell_type": "code",
   "execution_count": null,
   "metadata": {},
   "outputs": [],
   "source": [
    "m2w_income_race.columns.to_list()"
   ]
  },
  {
   "cell_type": "code",
   "execution_count": null,
   "metadata": {},
   "outputs": [],
   "source": [
    "new_keep= ['geoid_left',\n",
    " 'name_left',\n",
    " 'Neighborhood',\n",
    " 'Median Income',\n",
    " 'Total Workers Commuting',\n",
    " 'Car Total',\n",
    " 'Drove alone',\n",
    " 'Carpooled',\n",
    " 'Public transportation',\n",
    " 'Bus',\n",
    " 'Subway or elevated il',\n",
    " 'Long-distance train or commuter rail',\n",
    " 'Light rail',\n",
    " 'Worked from home',\n",
    " 'Percent Car Total',\n",
    " 'Percent Drove alone',\n",
    " 'Percent Carpooled',\n",
    " 'Percent Public transportation',\n",
    " 'Percent Bus',\n",
    " 'Percent Subway or elevated il',\n",
    " 'Percent Long-distance train or commuter rail',\n",
    " 'Percent Light rail',\n",
    " 'Percent Worked from home',\n",
    " 'Total',\n",
    " 'N_White',\n",
    " 'N_Black',\n",
    " 'N_Native',\n",
    " 'N_Asian',\n",
    " 'N_Native Hawaiian',\n",
    " 'Hispanic or Latino',\n",
    " 'N_WhitePercentage',\n",
    " 'N_BlacPercentage',\n",
    " 'N_NativePercentage',\n",
    " 'N_AsianPercentage',\n",
    " 'N_HawaiianPercentage',\n",
    " 'HispanicPercentage',\n",
    " 'geometry',\n",
    "]"
   ]
  },
  {
   "cell_type": "code",
   "execution_count": null,
   "metadata": {
    "scrolled": true
   },
   "outputs": [],
   "source": [
    "m2w_income_race = m2w_income_race[new_keep]\n",
    "m2w_income_race.sample(4)"
   ]
  },
  {
   "cell_type": "code",
   "execution_count": null,
   "metadata": {},
   "outputs": [],
   "source": [
    "m2w_income_race.columns=['geoid',\n",
    " 'name',\n",
    " 'Neighborhood',\n",
    " 'Median Income',\n",
    " 'Total Workers Commuting',\n",
    " 'Car Total',\n",
    " 'Drove alone',\n",
    " 'Carpooled',\n",
    " 'Public transportation',\n",
    " 'Bus',\n",
    " 'Subway or elevated il',\n",
    " 'Long-distance train or commuter rail',\n",
    " 'Light rail',\n",
    " 'Worked from home',\n",
    " '%Car Total',\n",
    " '%Drove alone',\n",
    " '%Carpooled',\n",
    " '%Public transportation',\n",
    " '%Bus',\n",
    " '%Subway or elevated il',\n",
    " '%Long-distance train or commuter rail',\n",
    " '%Light rail',\n",
    " '%Worked from home',\n",
    " 'Total Pop Race',\n",
    " 'N_White',\n",
    " 'N_Black',\n",
    " 'N_Native',\n",
    " 'N_Asian',\n",
    " 'N_Native Hawaiian',\n",
    " 'Hispanic or Latino',\n",
    " '%N_White',\n",
    " '%N_Black',\n",
    " '%N_Native',\n",
    " '%N_Asian',\n",
    " '%N_Hawaiian',\n",
    " '%Hispanic',\n",
    " 'geometry',]"
   ]
  },
  {
   "cell_type": "code",
   "execution_count": null,
   "metadata": {},
   "outputs": [],
   "source": [
    "m2w_income_race.sample(5)"
   ]
  },
  {
   "cell_type": "code",
   "execution_count": null,
   "metadata": {
    "scrolled": true
   },
   "outputs": [],
   "source": [
    "type(m2w_income_race)"
   ]
  },
  {
   "cell_type": "markdown",
   "metadata": {},
   "source": [
    "Testing it"
   ]
  },
  {
   "cell_type": "markdown",
   "metadata": {},
   "source": [
    "Comparing an orginal with new combined data."
   ]
  },
  {
   "cell_type": "code",
   "execution_count": null,
   "metadata": {
    "scrolled": false
   },
   "outputs": [],
   "source": [
    "gdf_income.plot(figsize=(12,10),\n",
    "                 column='Median Income',\n",
    "                 legend=True, \n",
    "                 scheme='equal_interval')"
   ]
  },
  {
   "cell_type": "code",
   "execution_count": null,
   "metadata": {},
   "outputs": [],
   "source": [
    "m2w_income_race.plot(figsize=(12,10),\n",
    "                 column='Median Income',\n",
    "                 legend=True, \n",
    "                 scheme='equal_interval')   "
   ]
  },
  {
   "cell_type": "markdown",
   "metadata": {},
   "source": [
    "Maps seems to check out from each dataset!\n",
    "\n",
    "\n",
    "Great. Time for some exploring."
   ]
  },
  {
   "cell_type": "markdown",
   "metadata": {},
   "source": [
    "# Exploring Neighborhoods"
   ]
  },
  {
   "cell_type": "markdown",
   "metadata": {},
   "source": [
    "Purpose is to query nbhoods, define new variables, find missing tracts"
   ]
  },
  {
   "cell_type": "markdown",
   "metadata": {},
   "source": [
    "## Lay of the Land: Missing Tracts"
   ]
  },
  {
   "cell_type": "code",
   "execution_count": null,
   "metadata": {},
   "outputs": [],
   "source": [
    "m2w_income_race.head()"
   ]
  },
  {
   "cell_type": "code",
   "execution_count": null,
   "metadata": {},
   "outputs": [],
   "source": [
    "m2w_income_race.columns.to_list()"
   ]
  },
  {
   "cell_type": "code",
   "execution_count": null,
   "metadata": {
    "scrolled": false
   },
   "outputs": [],
   "source": [
    "m2w_income_race[m2w_income_race['%Public transportation']>20]"
   ]
  },
  {
   "cell_type": "markdown",
   "metadata": {},
   "source": [
    "Of the 9 I'm missing, 3 of those missing have 20% or higher"
   ]
  },
  {
   "cell_type": "code",
   "execution_count": null,
   "metadata": {
    "scrolled": true
   },
   "outputs": [],
   "source": [
    "m2w_income_race[m2w_income_race['%Bus']>20]"
   ]
  },
  {
   "cell_type": "markdown",
   "metadata": {},
   "source": [
    "Missing 1 census tract."
   ]
  },
  {
   "cell_type": "code",
   "execution_count": null,
   "metadata": {
    "scrolled": true
   },
   "outputs": [],
   "source": [
    "m2w_income_race[m2w_income_race['%Subway or elevated il']>5]"
   ]
  },
  {
   "cell_type": "markdown",
   "metadata": {},
   "source": [
    "Missing no census tracts."
   ]
  },
  {
   "cell_type": "markdown",
   "metadata": {},
   "source": [
    "."
   ]
  },
  {
   "cell_type": "code",
   "execution_count": null,
   "metadata": {
    "scrolled": true
   },
   "outputs": [],
   "source": [
    "m2w_income_race[m2w_income_race['%Long-distance train or commuter rail']>3]"
   ]
  },
  {
   "cell_type": "markdown",
   "metadata": {},
   "source": [
    "Missing one census tract: 14000US06037104124"
   ]
  },
  {
   "cell_type": "markdown",
   "metadata": {},
   "source": [
    "Adding biking and walking, as there may be a correlation to transit friendly areas."
   ]
  },
  {
   "cell_type": "code",
   "execution_count": null,
   "metadata": {
    "scrolled": true
   },
   "outputs": [],
   "source": [
    "m2w_income_race[m2w_income_race['%Light rail']>2]"
   ]
  },
  {
   "cell_type": "markdown",
   "metadata": {},
   "source": [
    "Lost no Light rail census tracts"
   ]
  },
  {
   "cell_type": "markdown",
   "metadata": {},
   "source": [
    "## Digging a little deeper into each higher transit neighborhoods"
   ]
  },
  {
   "cell_type": "markdown",
   "metadata": {},
   "source": [
    "A little trimming to identify neighborhoods"
   ]
  },
  {
   "cell_type": "markdown",
   "metadata": {},
   "source": [
    "### Public Transit"
   ]
  },
  {
   "cell_type": "code",
   "execution_count": null,
   "metadata": {},
   "outputs": [],
   "source": [
    "nbh_pt20 = m2w_income_race[m2w_income_race['%Public transportation']>20]"
   ]
  },
  {
   "cell_type": "code",
   "execution_count": null,
   "metadata": {
    "scrolled": true
   },
   "outputs": [],
   "source": [
    "nbh_pt20.tail()"
   ]
  },
  {
   "cell_type": "code",
   "execution_count": null,
   "metadata": {},
   "outputs": [],
   "source": [
    "nbh_pt20['Neighborhood'].value_counts()"
   ]
  },
  {
   "cell_type": "code",
   "execution_count": null,
   "metadata": {},
   "outputs": [],
   "source": [
    "nbh_pt20_count = nbh_pt20['Neighborhood'].value_counts()\n",
    "nbh_pt20_count"
   ]
  },
  {
   "cell_type": "code",
   "execution_count": null,
   "metadata": {},
   "outputs": [],
   "source": [
    "nbh_pt20_count = nbh_pt20_count.reset_index()\n",
    "nbh_pt20_count"
   ]
  },
  {
   "cell_type": "markdown",
   "metadata": {},
   "source": [
    "### Bus"
   ]
  },
  {
   "cell_type": "code",
   "execution_count": null,
   "metadata": {},
   "outputs": [],
   "source": [
    "nbh_bus20 = m2w_income_race[m2w_income_race['%Bus']>20]"
   ]
  },
  {
   "cell_type": "code",
   "execution_count": null,
   "metadata": {
    "scrolled": false
   },
   "outputs": [],
   "source": [
    "nbh_bus20.sample(5)"
   ]
  },
  {
   "cell_type": "code",
   "execution_count": null,
   "metadata": {
    "scrolled": true
   },
   "outputs": [],
   "source": [
    "nbh_bus20['Neighborhood'].value_counts()"
   ]
  },
  {
   "cell_type": "markdown",
   "metadata": {},
   "source": [
    "### Subway"
   ]
  },
  {
   "cell_type": "code",
   "execution_count": null,
   "metadata": {},
   "outputs": [],
   "source": [
    "nbh_sub5 = m2w_income_race[m2w_income_race['%Subway or elevated il']>5]"
   ]
  },
  {
   "cell_type": "code",
   "execution_count": null,
   "metadata": {},
   "outputs": [],
   "source": [
    "nbh_sub5"
   ]
  },
  {
   "cell_type": "code",
   "execution_count": null,
   "metadata": {},
   "outputs": [],
   "source": [
    "nbh_sub5['Neighborhood'].value_counts()"
   ]
  },
  {
   "cell_type": "markdown",
   "metadata": {},
   "source": [
    "### Commuter"
   ]
  },
  {
   "cell_type": "code",
   "execution_count": null,
   "metadata": {},
   "outputs": [],
   "source": [
    "nbh_commute3 = m2w_income_race[m2w_income_race['%Long-distance train or commuter rail']>3]"
   ]
  },
  {
   "cell_type": "code",
   "execution_count": null,
   "metadata": {
    "scrolled": true
   },
   "outputs": [],
   "source": [
    "nbh_commute3"
   ]
  },
  {
   "cell_type": "code",
   "execution_count": null,
   "metadata": {},
   "outputs": [],
   "source": [
    "nbh_commute3['Neighborhood'].value_counts()"
   ]
  },
  {
   "cell_type": "markdown",
   "metadata": {},
   "source": [
    "### Light Rail"
   ]
  },
  {
   "cell_type": "code",
   "execution_count": null,
   "metadata": {},
   "outputs": [],
   "source": [
    "nbh_lr4 = m2w_income_race[m2w_income_race['%Light rail']>4]"
   ]
  },
  {
   "cell_type": "code",
   "execution_count": null,
   "metadata": {
    "scrolled": true
   },
   "outputs": [],
   "source": [
    "nbh_lr4"
   ]
  },
  {
   "cell_type": "markdown",
   "metadata": {},
   "source": [
    "**Most Frequenct users of Public Transit:**\n",
    "* Westlake                  23x\n",
    "* Koreatown                 18x\n",
    "* Pico-Union                13x\n",
    "* East Hollywood             9x\n",
    "* Historic South-Central     6x\n",
    "* Downtown                   5x\n",
    "* Hollywood                  5x\n",
    "* Panorama City              4x\n",
    "* Harvard Heights            3x\n",
    "* Vermont Square             2x\n",
    "* Boyle Heights              2x\n",
    "* Central-Alameda            2x\n",
    "* Exposition Park            2x\n",
    "* Vermont Knolls             1x\n",
    "* South Park                 1x\n",
    "* Florence                   1x\n",
    "* Echo Park                  1x\n",
    "* University Park            1x\n",
    "* Chinatown                  1x\n",
    "* Adams-Normandie            1x\n",
    "* Highland Park              1x\n",
    "* Los Feliz                  1x\n",
    "\n",
    "\n",
    "**Other Neighborhoods to conisder:**\n",
    "* North Hollywood (sub)     4x\n",
    "* East Hollywood (sub)      3x\n",
    "* Mount Washington (sub)    1x\n",
    "* Chinatown (sub)           1x\n",
    "* Studio City  (sub)        1x\n",
    "* Montecito Heights (sub)   1x\n",
    "* Palms (sub)               1x\n",
    "* Valley Village (sub)      1x\n",
    "* Baldwin Hills/Crenshaw (distance rail)    2x\n",
    "* Jefferson Park (distance rail)            1x\n",
    "* Exposition Park   (distance rail)         1"
   ]
  },
  {
   "cell_type": "markdown",
   "metadata": {},
   "source": [
    "A breakdown by region"
   ]
  },
  {
   "cell_type": "markdown",
   "metadata": {},
   "source": [
    "**SF Valley**\n",
    "* Studio City\n",
    "* North Hollywood\n",
    "* Panorama City \n",
    "* Valley Village \n",
    "\n",
    " \n",
    "**Westside**\n",
    "* Palms\n",
    "\n",
    "**Central LA**\n",
    "* Hollywood\n",
    "* East Hollywood \n",
    "* Koreatown   \n",
    "* Westlake  \n",
    "* Downtown\n",
    "* Echo Park\n",
    "* Chinatown\n",
    "* Harvard Heights\n",
    "* Pico-Union  \n",
    "* Los Feliz  \n",
    "\n",
    "**South LA**\n",
    "* Historic South-Central\n",
    "* Vermont Square  \n",
    "* Vermont Knolls \n",
    "* Central-Alameda \n",
    "* Exposition Park\n",
    "* South Park\n",
    "* Florence   \n",
    "* University Park\n",
    "* Adams-Normandie\n",
    "* Baldwin Hills/Crenshaw\n",
    "* Jefferson Park\n",
    "* Exposition Park\n",
    "\n",
    "**Eastside**\n",
    "* Boyle Heights  \n",
    "\n",
    "**Northeast LA**\n",
    "* Highland Park \n",
    "* Mount Washington \n",
    "* Montecito Heights "
   ]
  },
  {
   "cell_type": "markdown",
   "metadata": {
    "slideshow": {
     "slide_type": "slide"
    }
   },
   "source": [
    "With my partner, we will need to decide which of these meighborhoods we would like to foucs on. Each region and each nieghborhood tells its own tale. We will start with Central LA (likely) as thats the most robust transit area in LA. "
   ]
  },
  {
   "cell_type": "code",
   "execution_count": null,
   "metadata": {},
   "outputs": [],
   "source": [
    "m2w_income_race.to_file('m2w_income_race_new.geojson')"
   ]
  },
  {
   "cell_type": "code",
   "execution_count": null,
   "metadata": {},
   "outputs": [],
   "source": [
    "m2w_income_race_2 = gpd.read_file('m2w_income_race_new.geojson') "
   ]
  },
  {
   "cell_type": "code",
   "execution_count": null,
   "metadata": {},
   "outputs": [],
   "source": [
    "type(m2w_income_race_2)"
   ]
  },
  {
   "cell_type": "code",
   "execution_count": null,
   "metadata": {},
   "outputs": [],
   "source": [
    "m2w_income_race_2.shape"
   ]
  },
  {
   "cell_type": "code",
   "execution_count": null,
   "metadata": {},
   "outputs": [],
   "source": [
    "m2w_income_race_2.head(4)"
   ]
  },
  {
   "cell_type": "code",
   "execution_count": null,
   "metadata": {},
   "outputs": [],
   "source": [
    "m2w_income_race_2.columns.to_list()"
   ]
  },
  {
   "cell_type": "markdown",
   "metadata": {},
   "source": [
    "This concludes this notebook. In order to save space and memory, I will start a second notebook continuing where we left off. "
   ]
  }
 ],
 "metadata": {
  "celltoolbar": "Raw Cell Format",
  "kernelspec": {
   "display_name": "Python 3",
   "language": "python",
   "name": "python3"
  },
  "language_info": {
   "codemirror_mode": {
    "name": "ipython",
    "version": 3
   },
   "file_extension": ".py",
   "mimetype": "text/x-python",
   "name": "python",
   "nbconvert_exporter": "python",
   "pygments_lexer": "ipython3",
   "version": "3.8.5"
  },
  "toc": {
   "base_numbering": 1,
   "nav_menu": {},
   "number_sections": true,
   "sideBar": true,
   "skip_h1_title": false,
   "title_cell": "Table of Contents",
   "title_sidebar": "Contents",
   "toc_cell": false,
   "toc_position": {},
   "toc_section_display": true,
   "toc_window_display": false
  }
 },
 "nbformat": 4,
 "nbformat_minor": 4
}
