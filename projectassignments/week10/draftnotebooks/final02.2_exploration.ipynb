{
 "cells": [
  {
   "cell_type": "markdown",
   "metadata": {},
   "source": [
    "# Final Notebook Pt 2.2: Commute, Car Access, and Jobs"
   ]
  },
  {
   "cell_type": "markdown",
   "metadata": {},
   "source": [
    "**By:** Andrew Williams and Ben Brassette\n",
    "    \n",
    "**Description:** This notebook is building on earlier queries of means to work. Purpose is to intergrate and our other remaining datasets. We are tacking points 1, 3, 6, and 7 in this notebook. Next notebooks should focus on spatial stats and overlays, then just cleaning up our charts and maps in a coordinated fashion. \n",
    "\n",
    "**Expected Outputs**\n",
    "* Descriptive Stats for our selected neighborhoods\n",
    "* Side by side maps\n",
    "\n",
    "**Areas Where We Need More Work**\n",
    "* Spatial Statistics of means2work\n",
    "* Overlay of rail stops and bus lines\n",
    "* Interactive Map using some combination of our datasets\n",
    "\n",
    "**Notes for self to advance project:**\n",
    "1. Biggest step forward, intergrating our notebooks in the remaining few weeks in a targeted fashion\n",
    "2.  Overlay heavy rail and light rail stops\n",
    "3.  Provide more accurate description of the areas through a spatial join\n",
    "4. Compare with race/ethnicity and income data; we should create some side by side comparisons of transit use and race/eth and income\n",
    "5. Query \"high\" transit tracts, cross reference with income and race/eth, potential to add spatial dimension of LA neighborhoods\n",
    "6. Availability of cars in households\n",
    "7. Bring a shaprer focus to Central LA and the San Fernando Valley"
   ]
  },
  {
   "cell_type": "markdown",
   "metadata": {},
   "source": [
    "**TOC**\n",
    "* Section 2: Library Imports\n",
    "* Section 3: Impportin Data and Prepping it\n",
    "\n",
    "* Section 8: Graphs\n",
    "* Section 9: Maps"
   ]
  },
  {
   "cell_type": "markdown",
   "metadata": {},
   "source": [
    "# Library Import \n"
   ]
  },
  {
   "cell_type": "markdown",
   "metadata": {},
   "source": [
    "Importing various libaries"
   ]
  },
  {
   "cell_type": "code",
   "execution_count": null,
   "metadata": {},
   "outputs": [],
   "source": [
    "import urllib.request, json \n",
    "import geopandas as gpd\n",
    "import pandas as pd\n",
    "import matplotlib.pyplot as plt\n",
    "import numpy as np\n",
    "import seaborn as sns "
   ]
  },
  {
   "cell_type": "markdown",
   "metadata": {},
   "source": [
    "Libraries good to go. "
   ]
  },
  {
   "cell_type": "markdown",
   "metadata": {},
   "source": [
    "# Importing Data and Prepping It"
   ]
  },
  {
   "cell_type": "code",
   "execution_count": null,
   "metadata": {},
   "outputs": [],
   "source": [
    "#for just commute, car access\n",
    "#m2w_commute_acess= gpd.read_file('m2w_commute_acess.geojson') "
   ]
  },
  {
   "cell_type": "code",
   "execution_count": null,
   "metadata": {},
   "outputs": [],
   "source": [
    "# for just everything minus commute and car access\n",
    "# jobs_m2w_income_race = gpd.read_file('jobs_m2w_income_race.geojson') "
   ]
  },
  {
   "cell_type": "code",
   "execution_count": null,
   "metadata": {},
   "outputs": [],
   "source": [
    "#for master dataset\n",
    "master = gpd.read_file('master.geojson') "
   ]
  },
  {
   "cell_type": "code",
   "execution_count": null,
   "metadata": {},
   "outputs": [],
   "source": [
    "type(master)"
   ]
  },
  {
   "cell_type": "code",
   "execution_count": null,
   "metadata": {},
   "outputs": [],
   "source": [
    "master.sample(3)"
   ]
  },
  {
   "cell_type": "code",
   "execution_count": null,
   "metadata": {},
   "outputs": [],
   "source": [
    "master.columns= ['geoid',\n",
    " 'name',\n",
    " 'Neighborhood',\n",
    " 'Median Income',\n",
    " 'Total Workers Commuting',\n",
    " 'Car Total',\n",
    " 'Drove alone',\n",
    " 'Carpooled',\n",
    " 'Public transportation',\n",
    " 'Bus',\n",
    " 'Subway or elevated il',\n",
    " 'Long-distance train or commuter rail',\n",
    " 'Light rail',\n",
    " 'Worked from home',\n",
    " '%Car Total',\n",
    " '%Drove alone',\n",
    " '%Carpooled',\n",
    " '%Public transportation',\n",
    " '%Bus',\n",
    " '%Subway or elevated il',\n",
    " '%Long-distance train or commuter rail',\n",
    " '%Light rail',\n",
    " '%Worked from home',\n",
    " 'Total Pop Race',\n",
    " 'White',\n",
    " 'Black',\n",
    " 'Native',\n",
    " 'Asian',\n",
    " 'Pacific Islander',\n",
    " 'Hispanic or Latino',\n",
    " '%White',\n",
    " '%Black',\n",
    " '%Native',\n",
    " '%Asian',\n",
    " '%Pacific Islander',\n",
    " '%Hispanic or Latino',\n",
    " 'Total Commute Pop',\n",
    " 't_Less than 10 minutes',\n",
    " 't_10 to 14 minutes',\n",
    " 't_15 to 19 minutes',\n",
    " 't_20 to 24 minutes',\n",
    " 't_25 to 29 minutes',\n",
    " 't_30 to 34 minutes',\n",
    " 't_35 to 44 minutes',\n",
    " 't_45 to 59 minutes',\n",
    " 't_60 or more minutes',\n",
    " 'Car, truck, or van',\n",
    " 'c_Less than 10 minutes',\n",
    " 'c_10 to 14 minutes',\n",
    " 'c_15 to 19 minutes',\n",
    " 'c_20 to 24 minutes',\n",
    " 'c_25 to 29 minutes',\n",
    " 'c_30 to 34 minutes',\n",
    " 'c_35 to 44 minutes',\n",
    " 'c_45 to 59 minutes',\n",
    " 'c_60 or more minutes',\n",
    " 'Drove alone_commmute',\n",
    " 'da_Less than 10 minutes',\n",
    " 'da_10 to 14 minutes',\n",
    " 'da_15 to 19 minutes',\n",
    " 'da_20 to 24 minutes',\n",
    " 'da_25 to 29 minutes',\n",
    " 'da_30 to 34 minutes',\n",
    " 'da_35 to 44 minutes',\n",
    " 'da_45 to 59 minutes',\n",
    " 'da_60 or more minutes',\n",
    " 'Carpooled_commmute',\n",
    " 'cp_Less than 10 minutes',\n",
    " 'cp_10 to 14 minutes',\n",
    " 'cp_15 to 19 minutes',\n",
    " 'cp_20 to 24 minutes',\n",
    " 'cp_25 to 29 minutes',\n",
    " 'cp_30 to 34 minutes',\n",
    " 'cp_35 to 44 minutes',\n",
    " 'cp_45 to 59 minutes',\n",
    " 'cp_60 or more minutes',\n",
    " 'Public transportation_commmute',\n",
    " 'pt_Less than 10 minutes',\n",
    " 'pt_10 to 14 minutes',\n",
    " 'pt_15 to 19 minutes',\n",
    " 'pt_20 to 24 minutes',\n",
    " 'pt_25 to 29 minutes',\n",
    " 'pt_30 to 34 minutes',\n",
    " 'pt_35 to 44 minutes',\n",
    " 'pt_45 to 59 minutes',\n",
    " 'pt_60 or more minutes',\n",
    " 'Bus_commmute',\n",
    " 'b_Less than 10 minutes',\n",
    " 'b_10 to 14 minutes',\n",
    " 'b_15 to 19 minutes',\n",
    " 'b_20 to 24 minutes',\n",
    " 'b_25 to 29 minutes',\n",
    " 'b_30 to 34 minutes',\n",
    " 'b_35 to 44 minutes',\n",
    " 'b_45 to 59 minutes',\n",
    " 'b_60 or more minutes',\n",
    " 'Subway_commmute',\n",
    " 's_Less than 10 minutes',\n",
    " 's_10 to 14 minutes',\n",
    " 's_15 to 19 minutes',\n",
    " 's_20 to 24 minutes',\n",
    " 's_25 to 29 minutes',\n",
    " 's_30 to 34 minutes',\n",
    " 's_35 to 44 minutes',\n",
    " 's_45 to 59 minutes',\n",
    " 's_60 or more minutes',\n",
    " 'Long-distance train_commmute',\n",
    " 'ldt_Less than 10 minutes',\n",
    " 'ldt_10 to 14 minutes',\n",
    " 'ldt_15 to 19 minutes',\n",
    " 'ldt_20 to 24 minutes',\n",
    " 'ldt_25 to 29 minutes',\n",
    " 'ldt_30 to 34 minutes',\n",
    " 'ldt_35 to 44 minutes',\n",
    " 'ldt_45 to 59 minutes',\n",
    " 'ldt_60 or more minutes',\n",
    " 'Walked_commmute',\n",
    " 'w_Less than 10 minutes',\n",
    " 'w_10 to 14 minutes',\n",
    " 'w_15 to 19 minutes',\n",
    " 'w_20 to 24 minutes',\n",
    " 'w_25 to 29 minutes',\n",
    " 'w_30 to 34 minutes',\n",
    " 'w_35 to 44 minutes',\n",
    " 'w_45 to 59 minutes',\n",
    " 'w_60 or more minutes',\n",
    " 'Percent t_Less than 10 minutes',\n",
    " 'Percent t_15 to 19 minutes',\n",
    " 'Percent t_20 to 24 minutes',\n",
    " 'Percent t_25 to 29 minutes',\n",
    " 'Percent t_30 to 34 minutes',\n",
    " 'Percent t_35 to 44 minutes',\n",
    " 'Percent t_45 to 59 minutes',\n",
    " 'Percent t_60 or more minutes',\n",
    " 'Percent c_Less than 10 minutes',\n",
    " 'Percent c_15 to 19 minutes',\n",
    " 'Percent c_20 to 24 minutes',\n",
    " 'Percent c_25 to 29 minutes',\n",
    " 'Percent c_30 to 34 minutes',\n",
    " 'Percent c_35 to 44 minutes',\n",
    " 'Percent c_45 to 59 minutes',\n",
    " 'Percent c_60 or more minutes',\n",
    " 'Percent pt_Less than 10 minutes',\n",
    " 'Percent pt_15 to 19 minutes',\n",
    " 'Percent pt_20 to 24 minutes',\n",
    " 'Percent pt_25 to 29 minutes',\n",
    " 'Percent pt_30 to 34 minutes',\n",
    " 'Percent pt_35 to 44 minutes',\n",
    " 'Percent pt_45 to 59 minutes',\n",
    " 'Percent pt_60 or more minutes',\n",
    " 'Total Pop Car Access',\n",
    " 'Total No vehicle available',\n",
    " 'Total 1 vehicle available',\n",
    " 'Total 2 vehicles available',\n",
    " 'Total 3 or more vehicles available',\n",
    " 'Car Drove Alone_caccess',\n",
    " 'CA No vehicle available',\n",
    " 'CA 1 vehicle available',\n",
    " 'CA 2 vehicles available',\n",
    " 'CA 3 or more vehicles available',\n",
    " 'Car Carpool_caccess',\n",
    " 'CP No vehicle available',\n",
    " 'CP 1 vehicle available',\n",
    " 'CP 2 vehicles available',\n",
    " 'CP 3 or more vehicles available',\n",
    " 'Public transportation_caccess',\n",
    " 'PT No vehicle available',\n",
    " 'PT 1 vehicle available',\n",
    " 'PT 2 vehicles available',\n",
    " 'PT 3 or more vehicles available',\n",
    " 'Worked from home_right_caccess',\n",
    " 'WH No vehicle available',\n",
    " 'WH 1 vehicle available',\n",
    " 'WH 2 vehicles available',\n",
    " 'WH 3 or more vehicles available',\n",
    " '%Total No vehicle available',\n",
    " '%Total 1 vehicle available',\n",
    " '%Total 2 vehicles available',\n",
    " '%Total 3 or more vehicles available',\n",
    " '%PT No vehicle available',\n",
    " '%PT 1 vehicle available',\n",
    " '%PT 2 vehicles available',\n",
    " '%PT 3 or more vehicles available',\n",
    " 'Total',\n",
    " 'Total Agriculture, forestry, fishing and hunting, and mining',\n",
    " 'Total Construction',\n",
    " 'Total Manufacturing',\n",
    " 'Total Wholesale trade',\n",
    " 'Total Retail trade',\n",
    " 'Total Transportation and warehousing, and utilitie',\n",
    " 'Total Information',\n",
    " 'Total Finance and insurance, and real estate and rental and leasing',\n",
    " 'Total Professional, scientific, and management, and administrative and waste management services',\n",
    " 'Total Educational services, and health care and social assistance',\n",
    " 'Total Arts, entertainment, and recreation, and accommodation and food services',\n",
    " 'Total Other services (except public administration)',\n",
    " 'Total Public administration',\n",
    " 'Total Armed forces',\n",
    " 'Car, truck, or van - drove alone_jobm2w',\n",
    " 'Car(alone) Agriculture, forestry, fishing and hunting, and mining',\n",
    " 'Car(alone) Construction',\n",
    " 'Car(alone) Manufacturing',\n",
    " 'Car(alone) Wholesale trade',\n",
    " 'Car(alone) Retail trade',\n",
    " 'Car(alone) Transportation and warehousing, and utilitie',\n",
    " 'Car(alone) Information',\n",
    " 'Car(alone) Finance and insurance, and real estate and rental and leasing',\n",
    " 'Car(alone) Professional, scientific, and management, and administrative and waste management services',\n",
    " 'Car(alone) Educational services, and health care and social assistance',\n",
    " 'Car(alone) Arts, entertainment, and recreation, and accommodation and food services',\n",
    " 'Car(alone) Other services (except public administration)',\n",
    " 'Car(alone) Public administration',\n",
    " 'Car(alone) Armed forces',\n",
    " 'Car, truck, or van - carpooled',\n",
    " 'Carpool Agriculture, forestry, fishing and hunting, and mining',\n",
    " 'Carpool Construction',\n",
    " 'Carpool Manufacturing',\n",
    " 'Carpool Wholesale trade',\n",
    " 'Carpool Retail trade',\n",
    " 'Carpool Transportation and warehousing, and utilitie',\n",
    " 'Carpool Information',\n",
    " 'Carpool Finance and insurance, and real estate and rental and leasing',\n",
    " 'Carpool Professional, scientific, and management, and administrative and waste management services',\n",
    " 'Carpool Educational services, and health care and social assistance',\n",
    " 'Carpool Arts, entertainment, and recreation, and accommodation and food services',\n",
    " 'Carpool Other services (except public administration)',\n",
    " 'Carpool Public administration',\n",
    " 'Carpool Armed forces',\n",
    " 'Public transportation_jobm2w',\n",
    " 'PT Agriculture, forestry, fishing and hunting, and mining',\n",
    " 'PT Construction',\n",
    " 'PT Manufacturing',\n",
    " 'PT Wholesale trade',\n",
    " 'PT Retail trade',\n",
    " 'PT Transportation and warehousing, and utilitie',\n",
    " 'PT Information',\n",
    " 'PT Finance and insurance, and real estate and rental and leasing',\n",
    " 'PT Professional, scientific, and management, and administrative and waste management services',\n",
    " 'PT Educational services, and health care and social assistance',\n",
    " 'PT Arts, entertainment, and recreation, and accommodation and food services',\n",
    " 'PT Other services (except public administration)',\n",
    " 'PT Public administration',\n",
    " 'PT Armed forces',\n",
    " 'Worked from home_jobm2w',\n",
    " 'From Home Agriculture, forestry, fishing and hunting, and mining',\n",
    " 'From Home Construction',\n",
    " 'From Home Manufacturing',\n",
    " 'From Home Wholesale trade',\n",
    " 'From Home Retail trade',\n",
    " 'From Home Transportation and warehousing, and utilitie',\n",
    " 'From Home Information',\n",
    " 'From Home Finance and insurance, and real estate and rental and leasing',\n",
    " 'From Home Professional, scientific, and management, and administrative and waste management services',\n",
    " 'From Home Educational services, and health care and social assistance',\n",
    " 'From Home Arts, entertainment, and recreation, and accommodation and food services',\n",
    " 'From Home Other services (except public administration)',\n",
    " 'From Home Public administration',\n",
    " 'From Home Armed forces',\n",
    " '%Total Agriculture, forestry, fishing and hunting, and mining',\n",
    " '%Total Construction',\n",
    " '%Total Manufacturing',\n",
    " '%Total Wholesale trade',\n",
    " '%Total Retail trade',\n",
    " '%Total Transportation and warehousing, and utilitie',\n",
    " '%Total Information',\n",
    " '%Total Finance and insurance, and real estate and rental and leasing',\n",
    " '%Total Professional, scientific, and management, and administrative and waste management services',\n",
    " '%Total Educational services, and health care and social assistance',\n",
    " '%Total Arts, entertainment, and recreation, and accommodation and food services',\n",
    " '%Total Other services (except public administration)',\n",
    " '%Total Public administration',\n",
    " '%Total Armed forces',\n",
    " '%Car(alone) Agriculture, forestry, fishing and hunting, and mining',\n",
    " '%Car(alone) Construction',\n",
    " '%Car(alone) Manufacturing',\n",
    " '%Car(alone) Wholesale trade',\n",
    " '%Car(alone) Retail trade',\n",
    " '%Car(alone) Transportation and warehousing, and utilitie',\n",
    " '%Car(alone) Information',\n",
    " '%Car(alone) Finance and insurance, and real estate and rental and leasing',\n",
    " '%Car(alone) Professional, scientific, and management, and administrative and waste management services',\n",
    " '%Car(alone) Educational services, and health care and social assistance',\n",
    " '%Car(alone) Arts, entertainment, and recreation, and accommodation and food services',\n",
    " '%Car(alone) Other services (except public administration)',\n",
    " '%Car(alone) Public administration',\n",
    " '%Car(alone) Armed forces',\n",
    " '%PT Agriculture, forestry, fishing and hunting, and mining',\n",
    " '%PT Construction',\n",
    " '%PT Manufacturing',\n",
    " '%PT Wholesale trade',\n",
    " '%PT Retail trade',\n",
    " '%PT Transportation and warehousing, and utilitie',\n",
    " '%PT Information',\n",
    " '%PT Finance and insurance, and real estate and rental and leasing',\n",
    " '%PT Professional, scientific, and management, and administrative and waste management services',\n",
    " '%PT Educational services, and health care and social assistance',\n",
    " '%PT Arts, entertainment, and recreation, and accommodation and food services',\n",
    " '%PT Other services (except public administration)',\n",
    " '%PT Public administration',\n",
    " '%PT Armed forces',\n",
    " '%From Home Agriculture, forestry, fishing and hunting, and mining',\n",
    " '%From Home Construction',\n",
    " '%From Home Manufacturing',\n",
    " '%From Home Wholesale trade',\n",
    " '%From Home Retail trade',\n",
    " '%From Home Transportation and warehousing, and utilitie',\n",
    " '%From Home Information',\n",
    " '%From Home Finance and insurance, and real estate and rental and leasing',\n",
    " '%From Home Professional, scientific, and management, and administrative and waste management services',\n",
    " '%From Home Educational services, and health care and social assistance',\n",
    " '%From Home Arts, entertainment, and recreation, and accommodation and food services',\n",
    " '%From Home Other services (except public administration)',\n",
    " '%From Home Public administration',\n",
    " '%From Home Armed forces',\n",
    " 'geometry',\n",
    "]"
   ]
  },
  {
   "cell_type": "code",
   "execution_count": null,
   "metadata": {},
   "outputs": [],
   "source": [
    "master.sample(3)"
   ]
  },
  {
   "cell_type": "markdown",
   "metadata": {},
   "source": [
    "# Adding Some New Variables"
   ]
  },
  {
   "cell_type": "markdown",
   "metadata": {},
   "source": [
    "Creating percent of jobs using public transit out of total public transit."
   ]
  },
  {
   "cell_type": "code",
   "execution_count": null,
   "metadata": {},
   "outputs": [],
   "source": [
    "master['Percent PT Agriculture, forestry, fishing and hunting, and mining'] = master['PT Agriculture, forestry, fishing and hunting, and mining']/master['Public transportation_jobm2w']*100\n",
    "master['Percent PT Construction'] = master['PT Construction']/master['Public transportation_jobm2w']*100\n",
    "master['Percent PT Manufacturing'] = master['PT Manufacturing']/master['Public transportation_jobm2w']*100\n",
    "master['Percent PT Wholesale trade'] = master['PT Wholesale trade']/master['Public transportation_jobm2w']*100\n",
    "master['Percent PT Retail trade'] = master['PT Retail trade']/master['Public transportation_jobm2w']*100\n",
    "master['Percent PT Transportation and warehousing, and utilitie'] = master['PT Transportation and warehousing, and utilitie']/master['Public transportation_jobm2w']*100\n",
    "master['Percent PT Information'] = master['PT Information']/master['Public transportation_jobm2w']*100\n",
    "master['Percent PT Finance and insurance, and real estate and rental and leasing'] = master['Total Finance and insurance, and real estate and rental and leasing']/master['Public transportation_jobm2w']*100\n",
    "master['Percent PT Professional, scientific, and management, and administrative and waste management services'] = master['PT Professional, scientific, and management, and administrative and waste management services']/master['Public transportation_jobm2w']*100\n",
    "master['Percent PT Educational services, and health care and social assistance'] = master['PT Educational services, and health care and social assistance']/master['Public transportation_jobm2w']*100\n",
    "master['Percent PT Arts, entertainment, and recreation, and accommodation and food services'] = master['PT Arts, entertainment, and recreation, and accommodation and food services']/master['Public transportation_jobm2w']*100\n",
    "master['Percent PT Other services (except public administration)'] = master['PT Other services (except public administration)']/master['Public transportation_jobm2w']*100\n",
    "master['Percent PT Public administration'] = master['PT Public administration']/master['Public transportation_jobm2w']*100\n",
    "master['Percent PT Armed forces'] = master['PT Armed forces']/master['Public transportation_jobm2w']*100"
   ]
  },
  {
   "cell_type": "code",
   "execution_count": null,
   "metadata": {},
   "outputs": [],
   "source": [
    "master.sample(4)"
   ]
  },
  {
   "cell_type": "markdown",
   "metadata": {},
   "source": [
    "# Visual Displays"
   ]
  },
  {
   "cell_type": "markdown",
   "metadata": {},
   "source": [
    "## Prepping Data"
   ]
  },
  {
   "cell_type": "markdown",
   "metadata": {},
   "source": [
    "Bring in more libraries!"
   ]
  },
  {
   "cell_type": "code",
   "execution_count": null,
   "metadata": {},
   "outputs": [],
   "source": [
    "# for interactive plots\n",
    "import plotly.express as px\n",
    "\n",
    "# to import open data,\n",
    "from sodapy import Socrata\n",
    "\n",
    "import urllib.request, json \n",
    "\n",
    "from shapely.geometry import Polygon"
   ]
  },
  {
   "cell_type": "markdown",
   "metadata": {},
   "source": [
    "Prep data and ensure it's ready to go."
   ]
  },
  {
   "cell_type": "code",
   "execution_count": null,
   "metadata": {},
   "outputs": [],
   "source": [
    "master.columns.to_list()"
   ]
  },
  {
   "cell_type": "code",
   "execution_count": null,
   "metadata": {},
   "outputs": [],
   "source": [
    "#remove geometry\n",
    "keep_df=['geoid',\n",
    " 'name',\n",
    " 'Neighborhood',\n",
    " 'Total Commute Pop',\n",
    " 't_Less than 10 minutes',\n",
    " 't_10 to 14 minutes',\n",
    " 't_15 to 19 minutes',\n",
    " 't_20 to 24 minutes',\n",
    " 't_25 to 29 minutes',\n",
    " 't_30 to 34 minutes',\n",
    " 't_35 to 44 minutes',\n",
    " 't_45 to 59 minutes',\n",
    " 't_60 or more minutes',\n",
    " 'Car, truck, or van',\n",
    " 'c_Less than 10 minutes',\n",
    " 'c_10 to 14 minutes',\n",
    " 'c_15 to 19 minutes',\n",
    " 'c_20 to 24 minutes',\n",
    " 'c_25 to 29 minutes',\n",
    " 'c_30 to 34 minutes',\n",
    " 'c_35 to 44 minutes',\n",
    " 'c_45 to 59 minutes',\n",
    " 'c_60 or more minutes',\n",
    " 'Drove alone_commmute',\n",
    " 'da_Less than 10 minutes',\n",
    " 'da_10 to 14 minutes',\n",
    " 'da_15 to 19 minutes',\n",
    " 'da_20 to 24 minutes',\n",
    " 'da_25 to 29 minutes',\n",
    " 'da_30 to 34 minutes',\n",
    " 'da_35 to 44 minutes',\n",
    " 'da_45 to 59 minutes',\n",
    " 'da_60 or more minutes',\n",
    " 'Carpooled_commmute',\n",
    " 'cp_Less than 10 minutes',\n",
    " 'cp_10 to 14 minutes',\n",
    " 'cp_15 to 19 minutes',\n",
    " 'cp_20 to 24 minutes',\n",
    " 'cp_25 to 29 minutes',\n",
    " 'cp_30 to 34 minutes',\n",
    " 'cp_35 to 44 minutes',\n",
    " 'cp_45 to 59 minutes',\n",
    " 'cp_60 or more minutes',\n",
    " 'Public transportation_commmute',\n",
    " 'pt_Less than 10 minutes',\n",
    " 'pt_10 to 14 minutes',\n",
    " 'pt_15 to 19 minutes',\n",
    " 'pt_20 to 24 minutes',\n",
    " 'pt_25 to 29 minutes',\n",
    " 'pt_30 to 34 minutes',\n",
    " 'pt_35 to 44 minutes',\n",
    " 'pt_45 to 59 minutes',\n",
    " 'pt_60 or more minutes',\n",
    " 'Bus_commmute',\n",
    " 'b_Less than 10 minutes',\n",
    " 'b_10 to 14 minutes',\n",
    " 'b_15 to 19 minutes',\n",
    " 'b_20 to 24 minutes',\n",
    " 'b_25 to 29 minutes',\n",
    " 'b_30 to 34 minutes',\n",
    " 'b_35 to 44 minutes',\n",
    " 'b_45 to 59 minutes',\n",
    " 'b_60 or more minutes',\n",
    " 'Subway_commmute',\n",
    " 's_Less than 10 minutes',\n",
    " 's_10 to 14 minutes',\n",
    " 's_15 to 19 minutes',\n",
    " 's_20 to 24 minutes',\n",
    " 's_25 to 29 minutes',\n",
    " 's_30 to 34 minutes',\n",
    " 's_35 to 44 minutes',\n",
    " 's_45 to 59 minutes',\n",
    " 's_60 or more minutes',\n",
    " 'Long-distance train_commmute',\n",
    " 'ldt_Less than 10 minutes',\n",
    " 'ldt_10 to 14 minutes',\n",
    " 'ldt_15 to 19 minutes',\n",
    " 'ldt_20 to 24 minutes',\n",
    " 'ldt_25 to 29 minutes',\n",
    " 'ldt_30 to 34 minutes',\n",
    " 'ldt_35 to 44 minutes',\n",
    " 'ldt_45 to 59 minutes',\n",
    " 'ldt_60 or more minutes',\n",
    " 'Walked_commmute',\n",
    " 'w_Less than 10 minutes',\n",
    " 'w_10 to 14 minutes',\n",
    " 'w_15 to 19 minutes',\n",
    " 'w_20 to 24 minutes',\n",
    " 'w_25 to 29 minutes',\n",
    " 'w_30 to 34 minutes',\n",
    " 'w_35 to 44 minutes',\n",
    " 'w_45 to 59 minutes',\n",
    " 'w_60 or more minutes',\n",
    " 'Percent t_Less than 10 minutes',\n",
    " 'Percent t_15 to 19 minutes',\n",
    " 'Percent t_20 to 24 minutes',\n",
    " 'Percent t_25 to 29 minutes',\n",
    " 'Percent t_30 to 34 minutes',\n",
    " 'Percent t_35 to 44 minutes',\n",
    " 'Percent t_45 to 59 minutes',\n",
    " 'Percent t_60 or more minutes',\n",
    " 'Percent c_Less than 10 minutes',\n",
    " 'Percent c_15 to 19 minutes',\n",
    " 'Percent c_20 to 24 minutes',\n",
    " 'Percent c_25 to 29 minutes',\n",
    " 'Percent c_30 to 34 minutes',\n",
    " 'Percent c_35 to 44 minutes',\n",
    " 'Percent c_45 to 59 minutes',\n",
    " 'Percent c_60 or more minutes',\n",
    " 'Percent pt_Less than 10 minutes',\n",
    " 'Percent pt_15 to 19 minutes',\n",
    " 'Percent pt_20 to 24 minutes',\n",
    " 'Percent pt_25 to 29 minutes',\n",
    " 'Percent pt_30 to 34 minutes',\n",
    " 'Percent pt_35 to 44 minutes',\n",
    " 'Percent pt_45 to 59 minutes',\n",
    " 'Percent pt_60 or more minutes',\n",
    " 'Total Pop Car Access',\n",
    " 'Total No vehicle available',\n",
    " 'Total 1 vehicle available',\n",
    " 'Total 2 vehicles available',\n",
    " 'Total 3 or more vehicles available',\n",
    " 'Car Drove Alone_caccess',\n",
    " 'CA No vehicle available',\n",
    " 'CA 1 vehicle available',\n",
    " 'CA 2 vehicles available',\n",
    " 'CA 3 or more vehicles available',\n",
    " 'Car Carpool_caccess',\n",
    " 'CP No vehicle available',\n",
    " 'CP 1 vehicle available',\n",
    " 'CP 2 vehicles available',\n",
    " 'CP 3 or more vehicles available',\n",
    " 'Public transportation_caccess',\n",
    " 'PT No vehicle available',\n",
    " 'PT 1 vehicle available',\n",
    " 'PT 2 vehicles available',\n",
    " 'PT 3 or more vehicles available',\n",
    " 'Worked from home_right_caccess',\n",
    " 'WH No vehicle available',\n",
    " 'WH 1 vehicle available',\n",
    " 'WH 2 vehicles available',\n",
    " 'WH 3 or more vehicles available',\n",
    " '%Total No vehicle available',\n",
    " '%Total 1 vehicle available',\n",
    " '%Total 2 vehicles available',\n",
    " '%Total 3 or more vehicles available',\n",
    " '%PT No vehicle available',\n",
    " '%PT 1 vehicle available',\n",
    " '%PT 2 vehicles available',\n",
    " '%PT 3 or more vehicles available',\n",
    " 'Total',\n",
    " 'Total Agriculture, forestry, fishing and hunting, and mining',\n",
    " 'Total Construction',\n",
    " 'Total Manufacturing',\n",
    " 'Total Wholesale trade',\n",
    " 'Total Retail trade',\n",
    " 'Total Transportation and warehousing, and utilitie',\n",
    " 'Total Information',\n",
    " 'Total Finance and insurance, and real estate and rental and leasing',\n",
    " 'Total Professional, scientific, and management, and administrative and waste management services',\n",
    " 'Total Educational services, and health care and social assistance',\n",
    " 'Total Arts, entertainment, and recreation, and accommodation and food services',\n",
    " 'Total Other services (except public administration)',\n",
    " 'Total Public administration',\n",
    " 'Total Armed forces',\n",
    " 'Car, truck, or van - drove alone_jobm2w',\n",
    " 'Car(alone) Agriculture, forestry, fishing and hunting, and mining',\n",
    " 'Car(alone) Construction',\n",
    " 'Car(alone) Manufacturing',\n",
    " 'Car(alone) Wholesale trade',\n",
    " 'Car(alone) Retail trade',\n",
    " 'Car(alone) Transportation and warehousing, and utilitie',\n",
    " 'Car(alone) Information',\n",
    " 'Car(alone) Finance and insurance, and real estate and rental and leasing',\n",
    " 'Car(alone) Professional, scientific, and management, and administrative and waste management services',\n",
    " 'Car(alone) Educational services, and health care and social assistance',\n",
    " 'Car(alone) Arts, entertainment, and recreation, and accommodation and food services',\n",
    " 'Car(alone) Other services (except public administration)',\n",
    " 'Car(alone) Public administration',\n",
    " 'Car(alone) Armed forces',\n",
    " 'Car, truck, or van - carpooled',\n",
    " 'Carpool Agriculture, forestry, fishing and hunting, and mining',\n",
    " 'Carpool Construction',\n",
    " 'Carpool Manufacturing',\n",
    " 'Carpool Wholesale trade',\n",
    " 'Carpool Retail trade',\n",
    " 'Carpool Transportation and warehousing, and utilitie',\n",
    " 'Carpool Information',\n",
    " 'Carpool Finance and insurance, and real estate and rental and leasing',\n",
    " 'Carpool Professional, scientific, and management, and administrative and waste management services',\n",
    " 'Carpool Educational services, and health care and social assistance',\n",
    " 'Carpool Arts, entertainment, and recreation, and accommodation and food services',\n",
    " 'Carpool Other services (except public administration)',\n",
    " 'Carpool Public administration',\n",
    " 'Carpool Armed forces',\n",
    " 'Public transportation_jobm2w',\n",
    " 'PT Agriculture, forestry, fishing and hunting, and mining',\n",
    " 'PT Construction',\n",
    " 'PT Manufacturing',\n",
    " 'PT Wholesale trade',\n",
    " 'PT Retail trade',\n",
    " 'PT Transportation and warehousing, and utilitie',\n",
    " 'PT Information',\n",
    " 'PT Finance and insurance, and real estate and rental and leasing',\n",
    " 'PT Professional, scientific, and management, and administrative and waste management services',\n",
    " 'PT Educational services, and health care and social assistance',\n",
    " 'PT Arts, entertainment, and recreation, and accommodation and food services',\n",
    " 'PT Other services (except public administration)',\n",
    " 'PT Public administration',\n",
    " 'PT Armed forces',\n",
    " 'Worked from home_jobm2w',\n",
    " 'From Home Agriculture, forestry, fishing and hunting, and mining',\n",
    " 'From Home Construction',\n",
    " 'From Home Manufacturing',\n",
    " 'From Home Wholesale trade',\n",
    " 'From Home Retail trade',\n",
    " 'From Home Transportation and warehousing, and utilitie',\n",
    " 'From Home Information',\n",
    " 'From Home Finance and insurance, and real estate and rental and leasing',\n",
    " 'From Home Professional, scientific, and management, and administrative and waste management services',\n",
    " 'From Home Educational services, and health care and social assistance',\n",
    " 'From Home Arts, entertainment, and recreation, and accommodation and food services',\n",
    " 'From Home Other services (except public administration)',\n",
    " 'From Home Public administration',\n",
    " 'From Home Armed forces',\n",
    " '%Total Agriculture, forestry, fishing and hunting, and mining',\n",
    " '%Total Construction',\n",
    " '%Total Manufacturing',\n",
    " '%Total Wholesale trade',\n",
    " '%Total Retail trade',\n",
    " '%Total Transportation and warehousing, and utilitie',\n",
    " '%Total Information',\n",
    " '%Total Finance and insurance, and real estate and rental and leasing',\n",
    " '%Total Professional, scientific, and management, and administrative and waste management services',\n",
    " '%Total Educational services, and health care and social assistance',\n",
    " '%Total Arts, entertainment, and recreation, and accommodation and food services',\n",
    " '%Total Other services (except public administration)',\n",
    " '%Total Public administration',\n",
    " '%Total Armed forces',\n",
    " '%Car(alone) Agriculture, forestry, fishing and hunting, and mining',\n",
    " '%Car(alone) Construction',\n",
    " '%Car(alone) Manufacturing',\n",
    " '%Car(alone) Wholesale trade',\n",
    " '%Car(alone) Retail trade',\n",
    " '%Car(alone) Transportation and warehousing, and utilitie',\n",
    " '%Car(alone) Information',\n",
    " '%Car(alone) Finance and insurance, and real estate and rental and leasing',\n",
    " '%Car(alone) Professional, scientific, and management, and administrative and waste management services',\n",
    " '%Car(alone) Educational services, and health care and social assistance',\n",
    " '%Car(alone) Arts, entertainment, and recreation, and accommodation and food services',\n",
    " '%Car(alone) Other services (except public administration)',\n",
    " '%Car(alone) Public administration',\n",
    " '%Car(alone) Armed forces',\n",
    " '%PT Agriculture, forestry, fishing and hunting, and mining',\n",
    " '%PT Construction',\n",
    " '%PT Manufacturing',\n",
    " '%PT Wholesale trade',\n",
    " '%PT Retail trade',\n",
    " '%PT Transportation and warehousing, and utilitie',\n",
    " '%PT Information',\n",
    " '%PT Finance and insurance, and real estate and rental and leasing',\n",
    " '%PT Professional, scientific, and management, and administrative and waste management services',\n",
    " '%PT Educational services, and health care and social assistance',\n",
    " '%PT Arts, entertainment, and recreation, and accommodation and food services',\n",
    " '%PT Other services (except public administration)',\n",
    " '%PT Public administration',\n",
    " '%PT Armed forces',\n",
    " 'Percent PT Agriculture, forestry, fishing and hunting, and mining',\n",
    " 'Percent PT Construction',\n",
    " 'Percent PT Manufacturing',\n",
    " 'Percent PT Wholesale trade',\n",
    " 'Percent PT Retail trade',\n",
    " 'Percent PT Transportation and warehousing, and utilitie',\n",
    " 'Percent PT Information',\n",
    " 'Percent PT Finance and insurance, and real estate and rental and leasing',\n",
    " 'Percent PT Professional, scientific, and management, and administrative and waste management services',\n",
    " 'Percent PT Educational services, and health care and social assistance',\n",
    " 'Percent PT Arts, entertainment, and recreation, and accommodation and food services',\n",
    " 'Percent PT Other services (except public administration)',\n",
    " 'Percent PT Public administration',\n",
    " 'Percent PT Armed forces']"
   ]
  },
  {
   "cell_type": "code",
   "execution_count": null,
   "metadata": {},
   "outputs": [],
   "source": [
    "df = master [keep_df]"
   ]
  },
  {
   "cell_type": "code",
   "execution_count": null,
   "metadata": {},
   "outputs": [],
   "source": [
    "type(df)"
   ]
  },
  {
   "cell_type": "code",
   "execution_count": null,
   "metadata": {},
   "outputs": [],
   "source": [
    "df.shape"
   ]
  },
  {
   "cell_type": "code",
   "execution_count": null,
   "metadata": {
    "scrolled": false
   },
   "outputs": [],
   "source": [
    "df.sample(2)"
   ]
  },
  {
   "cell_type": "code",
   "execution_count": null,
   "metadata": {},
   "outputs": [],
   "source": [
    "df.shape"
   ]
  },
  {
   "cell_type": "markdown",
   "metadata": {},
   "source": [
    "Data is ready to go."
   ]
  },
  {
   "cell_type": "markdown",
   "metadata": {},
   "source": [
    "## Central LA"
   ]
  },
  {
   "cell_type": "markdown",
   "metadata": {},
   "source": [
    "### Downtown"
   ]
  },
  {
   "cell_type": "markdown",
   "metadata": {},
   "source": [
    "Data query and check. "
   ]
  },
  {
   "cell_type": "code",
   "execution_count": null,
   "metadata": {},
   "outputs": [],
   "source": [
    "dtown= df.query(\"Neighborhood == 'Downtown'\")"
   ]
  },
  {
   "cell_type": "code",
   "execution_count": null,
   "metadata": {},
   "outputs": [],
   "source": [
    "dtown.shape"
   ]
  },
  {
   "cell_type": "code",
   "execution_count": null,
   "metadata": {},
   "outputs": [],
   "source": [
    "type(dtown)"
   ]
  },
  {
   "cell_type": "markdown",
   "metadata": {},
   "source": [
    "Data query and check. "
   ]
  },
  {
   "cell_type": "markdown",
   "metadata": {},
   "source": [
    "Car access Total"
   ]
  },
  {
   "cell_type": "code",
   "execution_count": null,
   "metadata": {},
   "outputs": [],
   "source": [
    "fig = px.bar(dtown, \n",
    "             x=\"geoid\", \n",
    "             y=['%Total No vehicle available','%Total 1 vehicle available','%Total 2 vehicles available', '%Total 3 or more vehicles available',],\n",
    "             title='Downtown Car Access',\n",
    "             labels={\n",
    "                     \"geoid\": \"Census Tracts\",\n",
    "                     \"value\": \"Percentage\",\n",
    "                     \"variable\": \"Car Access\"\n",
    "                 },\n",
    "\n",
    "            )\n",
    "fig.show()"
   ]
  },
  {
   "cell_type": "markdown",
   "metadata": {},
   "source": [
    "Car Access- Public Trasnportation"
   ]
  },
  {
   "cell_type": "code",
   "execution_count": null,
   "metadata": {},
   "outputs": [],
   "source": [
    "fig = px.bar(dtown, \n",
    "             x=\"geoid\", \n",
    "             y='%PT No vehicle available',\n",
    "             title='Downtown Car Access Using Public Trasnportation',\n",
    "             labels={\n",
    "                     \"geoid\": \"Census Tracts\",\n",
    "                     \"value\": \"Population Count\",\n",
    "                     \"variable\": \"Using Public Transit Car Access\"\n",
    "                 },\n",
    "             )\n",
    "fig.show()"
   ]
  },
  {
   "cell_type": "markdown",
   "metadata": {},
   "source": [
    "Total Jobs dtown"
   ]
  },
  {
   "cell_type": "code",
   "execution_count": null,
   "metadata": {},
   "outputs": [],
   "source": [
    "fig = px.bar(dtown, \n",
    "             x=\"geoid\", \n",
    "             y=['Total Agriculture, forestry, fishing and hunting, and mining','Total Construction','Total Manufacturing','Total Wholesale trade','Total Retail trade','Total Transportation and warehousing, and utilitie', 'Total Information',\n",
    "                 'Total Finance and insurance, and real estate and rental and leasing', 'Total Professional, scientific, and management, and administrative and waste management services','%Total Educational services, and health care and social assistance',\n",
    "                 'Total Arts, entertainment, and recreation, and accommodation and food services', 'Total Other services (except public administration)', 'Total Public administration', 'Total Armed forces',],\n",
    "             title='Downtown Resident Jobs',\n",
    "             labels={\n",
    "                     \"geoid\": \"Census Tracts\",\n",
    "                     \"value\": \"Worker Count\",\n",
    "                     \"variable\": \"Vocation\"\n",
    "                 },\n",
    "             )\n",
    "fig.update_layout(showlegend=False)\n",
    "fig.show()"
   ]
  },
  {
   "cell_type": "markdown",
   "metadata": {},
   "source": [
    "Percent or total counts? Also, another way to look at the data."
   ]
  },
  {
   "cell_type": "code",
   "execution_count": null,
   "metadata": {},
   "outputs": [],
   "source": [
    "fig = px.bar(dtown, \n",
    "             y=\"geoid\", \n",
    "             x=['%Total Agriculture, forestry, fishing and hunting, and mining','%Total Construction','%Total Manufacturing','%Total Wholesale trade','%Total Retail trade','%Total Transportation and warehousing, and utilitie', '%Total Information',\n",
    "                 '%Total Finance and insurance, and real estate and rental and leasing', '%Total Professional, scientific, and management, and administrative and waste management services','%Total Educational services, and health care and social assistance',\n",
    "                 '%Total Arts, entertainment, and recreation, and accommodation and food services', '%Total Other services (except public administration)', '%Total Public administration', '%Total Armed forces',],\n",
    "             title='Downtown Resident Jobs',\n",
    "             labels={\n",
    "                     \"geoid\": \"Census Tracts\",\n",
    "                     \"value\": \"Percent\",\n",
    "                     \"variable\": \"Vocation\"\n",
    "                 },\n",
    "             )\n",
    "fig.update_layout(showlegend=False)\n",
    "fig.show()"
   ]
  },
  {
   "cell_type": "markdown",
   "metadata": {},
   "source": [
    "Jobs using public transportation"
   ]
  },
  {
   "cell_type": "code",
   "execution_count": null,
   "metadata": {},
   "outputs": [],
   "source": [
    "fig = px.bar(dtown, \n",
    "             x=\"geoid\", \n",
    "             y= ['PT Agriculture, forestry, fishing and hunting, and mining',\n",
    "                 'PT Construction',\n",
    "                 'PT Manufacturing',\n",
    "                 'PT Wholesale trade',\n",
    "                 'PT Retail trade',\n",
    "                 'PT Transportation and warehousing, and utilitie',\n",
    "                 'PT Information',\n",
    "                 'PT Finance and insurance, and real estate and rental and leasing',\n",
    "                 'PT Professional, scientific, and management, and administrative and waste management services',\n",
    "                 'PT Educational services, and health care and social assistance',\n",
    "                 'PT Arts, entertainment, and recreation, and accommodation and food services',\n",
    "                 'PT Other services (except public administration)',\n",
    "                 'PT Public administration',\n",
    "                 'PT Armed forces'],\n",
    "             title='Downtown Jobs Using Public Transit',\n",
    "             labels={\n",
    "                     \"geoid\": \"Census Tracts\",\n",
    "                     \"value\": \"Population Count\",\n",
    "                     \"variable\": \"Vocation\"\n",
    "                 },\n",
    "             )\n",
    "fig.update_layout(showlegend=False)\n",
    "fig.show()"
   ]
  },
  {
   "cell_type": "markdown",
   "metadata": {},
   "source": [
    "Commute Bar Chart"
   ]
  },
  {
   "cell_type": "code",
   "execution_count": null,
   "metadata": {},
   "outputs": [],
   "source": [
    "fig = px.bar(dtown, \n",
    "             x=\"geoid\", \n",
    "             y=['Percent pt_Less than 10 minutes', 'Percent pt_15 to 19 minutes', 'Percent pt_20 to 24 minutes', 'Percent pt_25 to 29 minutes',\n",
    "             'Percent pt_30 to 34 minutes', 'Percent pt_35 to 44 minutes', 'Percent pt_45 to 59 minutes', 'Percent pt_60 or more minutes',],\n",
    "             title='Downtown Pulic Transit Commute',\n",
    "             labels={\n",
    "                     \"geoid\": \"Census Tracts\",\n",
    "                     \"value\": \"Percent\",\n",
    "                     \"variable\": \"Commute Times\"\n",
    "                 },\n",
    "             )\n",
    "fig.show()"
   ]
  },
  {
   "cell_type": "markdown",
   "metadata": {},
   "source": [
    "Querying dtown commute gdf"
   ]
  },
  {
   "cell_type": "markdown",
   "metadata": {},
   "source": [
    "Commute Indicators"
   ]
  },
  {
   "cell_type": "code",
   "execution_count": null,
   "metadata": {},
   "outputs": [],
   "source": [
    "dtown_gdf= master.query(\"Neighborhood == 'Downtown'\")"
   ]
  },
  {
   "cell_type": "code",
   "execution_count": null,
   "metadata": {},
   "outputs": [],
   "source": [
    "type(dtown_gdf)"
   ]
  },
  {
   "cell_type": "code",
   "execution_count": null,
   "metadata": {},
   "outputs": [],
   "source": [
    "dtown_gdf.sample(1)"
   ]
  },
  {
   "cell_type": "code",
   "execution_count": null,
   "metadata": {},
   "outputs": [],
   "source": [
    "dt_commute_indicators_pt= ['Percent t_Less than 10 minutes',\n",
    "'Percent t_15 to 19 minutes',\n",
    "'Percent t_20 to 24 minutes',\n",
    "'Percent t_25 to 29 minutes',\n",
    "'Percent t_30 to 34 minutes',\n",
    "'Percent t_35 to 44 minutes',\n",
    "'Percent t_45 to 59 minutes',\n",
    "'Percent t_60 or more minutes',\n",
    "'Percent pt_Less than 10 minutes',\n",
    "'Percent pt_15 to 19 minutes',\n",
    "'Percent pt_20 to 24 minutes',\n",
    "'Percent pt_25 to 29 minutes',\n",
    "'Percent pt_30 to 34 minutes',\n",
    "'Percent pt_35 to 44 minutes',\n",
    "'Percent pt_45 to 59 minutes',\n",
    "'Percent pt_60 or more minutes',]"
   ]
  },
  {
   "cell_type": "code",
   "execution_count": null,
   "metadata": {},
   "outputs": [],
   "source": [
    "for indicator in dt_commute_indicators_pt:\n",
    "    print(indicator)\n",
    "    print (dtown_gdf.sort_values(by = indicator, ascending=False)[indicator].head(10))"
   ]
  },
  {
   "cell_type": "markdown",
   "metadata": {},
   "source": [
    "Commute Maps"
   ]
  },
  {
   "cell_type": "markdown",
   "metadata": {},
   "source": [
    "Add scheme "
   ]
  },
  {
   "cell_type": "code",
   "execution_count": null,
   "metadata": {},
   "outputs": [],
   "source": [
    "def get_map(column='Percent Long-distance train or commuter rail'):\n",
    "    ax = dtown_gdf.plot(figsize=(10,10),\n",
    "                  column=column,\n",
    "                  legend=True,\n",
    "                 )\n",
    "    ax.set_title(column, fontsize=14)\n",
    "    ax.axis('off');"
   ]
  },
  {
   "cell_type": "code",
   "execution_count": null,
   "metadata": {
    "scrolled": true
   },
   "outputs": [],
   "source": [
    "for indicator in dt_commute_indicators_pt:\n",
    "    get_map(indicator)"
   ]
  },
  {
   "cell_type": "code",
   "execution_count": null,
   "metadata": {},
   "outputs": [],
   "source": [
    "jobs_m2w.plot(figsize=(15, 12),\n",
    "            column='Percent PT Construction', \n",
    "            cmap='viridis', \n",
    "            scheme='quantiles',\n",
    "            k=5, \n",
    "            edgecolor='white', \n",
    "            linewidth=0., \n",
    "            alpha=0.75, \n",
    "            legend=True,)"
   ]
  },
  {
   "cell_type": "markdown",
   "metadata": {},
   "source": [
    "### Pico-Union"
   ]
  },
  {
   "cell_type": "markdown",
   "metadata": {},
   "source": [
    "Data query and check. "
   ]
  },
  {
   "cell_type": "code",
   "execution_count": null,
   "metadata": {},
   "outputs": [],
   "source": [
    "pu= df.query(\"Neighborhood == 'Pico-Union'\")"
   ]
  },
  {
   "cell_type": "code",
   "execution_count": null,
   "metadata": {},
   "outputs": [],
   "source": [
    "pu.shape"
   ]
  },
  {
   "cell_type": "code",
   "execution_count": null,
   "metadata": {},
   "outputs": [],
   "source": [
    "type(pu)"
   ]
  },
  {
   "cell_type": "markdown",
   "metadata": {},
   "source": [
    "Data query and check. "
   ]
  },
  {
   "cell_type": "markdown",
   "metadata": {},
   "source": [
    "Car access"
   ]
  },
  {
   "cell_type": "code",
   "execution_count": null,
   "metadata": {},
   "outputs": [],
   "source": [
    "fig = px.bar(pu, \n",
    "             x=\"geoid\", \n",
    "             y=['%Total No vehicle available','%Total 1 vehicle available','%Total 2 vehicles available', '%Total 3 or more vehicles available',],\n",
    "             title='Pico-Union Car Access',\n",
    "             labels={\n",
    "                     \"geoid\": \"Census Tracts\",\n",
    "                     \"value\": \"Percentage\",\n",
    "                     \"variable\": \"Car Access\"\n",
    "                 },\n",
    "             )\n",
    "fig.show()"
   ]
  },
  {
   "cell_type": "markdown",
   "metadata": {},
   "source": [
    "Car Access, those using public transportation"
   ]
  },
  {
   "cell_type": "code",
   "execution_count": null,
   "metadata": {},
   "outputs": [],
   "source": [
    "fig = px.bar(pu, \n",
    "             x=\"geoid\", \n",
    "             y='%PT No vehicle available',\n",
    "             title='Pico-Union Car Access Using Public Trasnportation',\n",
    "             labels={\n",
    "                     \"geoid\": \"Census Tracts\",\n",
    "                     \"value\": \"Population Count\",\n",
    "                     \"variable\": \"Using Public Transit Car Access\"\n",
    "                 },\n",
    "             )\n",
    "fig.show()"
   ]
  },
  {
   "cell_type": "markdown",
   "metadata": {},
   "source": [
    "Overall jobs in Pico-Union"
   ]
  },
  {
   "cell_type": "code",
   "execution_count": null,
   "metadata": {},
   "outputs": [],
   "source": [
    "fig = px.bar(pu, \n",
    "             x=\"geoid\", \n",
    "             y=['Total Agriculture, forestry, fishing and hunting, and mining','Total Construction','Total Manufacturing','Total Wholesale trade','Total Retail trade','Total Transportation and warehousing, and utilitie', 'Total Information',\n",
    "                 'Total Finance and insurance, and real estate and rental and leasing', 'Total Professional, scientific, and management, and administrative and waste management services','%Total Educational services, and health care and social assistance',\n",
    "                 'Total Arts, entertainment, and recreation, and accommodation and food services', 'Total Other services (except public administration)', 'Total Public administration', 'Total Armed forces',],\n",
    "             title='Pico-Union Resident Jobs',\n",
    "             labels={\n",
    "                     \"geoid\": \"Census Tracts\",\n",
    "                     \"value\": \"Worker Count\",\n",
    "                     \"variable\": \"Vocation\"\n",
    "                 },\n",
    "             )\n",
    "fig.update_layout(showlegend=False)\n",
    "fig.show()"
   ]
  },
  {
   "cell_type": "markdown",
   "metadata": {},
   "source": [
    "Jobs using transit"
   ]
  },
  {
   "cell_type": "code",
   "execution_count": null,
   "metadata": {},
   "outputs": [],
   "source": [
    "fig = px.bar(pu, \n",
    "             x=\"geoid\", \n",
    "             y= ['PT Agriculture, forestry, fishing and hunting, and mining',\n",
    "                 'PT Construction',\n",
    "                 'PT Manufacturing',\n",
    "                 'PT Wholesale trade',\n",
    "                 'PT Retail trade',\n",
    "                 'PT Transportation and warehousing, and utilitie',\n",
    "                 'PT Information',\n",
    "                 'PT Finance and insurance, and real estate and rental and leasing',\n",
    "                 'PT Professional, scientific, and management, and administrative and waste management services',\n",
    "                 'PT Educational services, and health care and social assistance',\n",
    "                 'PT Arts, entertainment, and recreation, and accommodation and food services',\n",
    "                 'PT Other services (except public administration)',\n",
    "                 'PT Public administration',\n",
    "                 'PT Armed forces'],\n",
    "             title='Pico-Union Jobs Using Public Transit',\n",
    "             labels={\n",
    "                     \"geoid\": \"Census Tracts\",\n",
    "                     \"value\": \"Population Count\",\n",
    "                     \"variable\": \"Vocation\"\n",
    "                 },\n",
    "             )\n",
    "fig.update_layout(showlegend=False)\n",
    "fig.show()"
   ]
  },
  {
   "cell_type": "markdown",
   "metadata": {},
   "source": [
    "Breakdown of transit commute time"
   ]
  },
  {
   "cell_type": "code",
   "execution_count": null,
   "metadata": {},
   "outputs": [],
   "source": [
    "fig = px.bar(pu, \n",
    "             x=\"geoid\", \n",
    "             y=['Percent pt_Less than 10 minutes', 'Percent pt_15 to 19 minutes', 'Percent pt_20 to 24 minutes', 'Percent pt_25 to 29 minutes',\n",
    "             'Percent pt_30 to 34 minutes', 'Percent pt_35 to 44 minutes', 'Percent pt_45 to 59 minutes', 'Percent pt_60 or more minutes',],\n",
    "             title='Pico-Union Pulic Transit Commute',\n",
    "             labels={\n",
    "                     \"geoid\": \"Census Tracts\",\n",
    "                     \"value\": \"Percent\",\n",
    "                     \"variable\": \"Commute Times\"\n",
    "                 },\n",
    "             )\n",
    "fig.show()"
   ]
  },
  {
   "cell_type": "code",
   "execution_count": null,
   "metadata": {},
   "outputs": [],
   "source": [
    "pu_gdf= master.query(\"Neighborhood == 'Pico-Union'\")"
   ]
  },
  {
   "cell_type": "markdown",
   "metadata": {},
   "source": [
    "### Mid City"
   ]
  },
  {
   "cell_type": "markdown",
   "metadata": {},
   "source": [
    "Data query and check. "
   ]
  },
  {
   "cell_type": "code",
   "execution_count": null,
   "metadata": {},
   "outputs": [],
   "source": [
    "mc= df.query(\"Neighborhood == 'Mid-City'\")"
   ]
  },
  {
   "cell_type": "code",
   "execution_count": null,
   "metadata": {},
   "outputs": [],
   "source": [
    "mc.shape"
   ]
  },
  {
   "cell_type": "code",
   "execution_count": null,
   "metadata": {},
   "outputs": [],
   "source": [
    "type(mc)"
   ]
  },
  {
   "cell_type": "markdown",
   "metadata": {},
   "source": [
    "Data query and check. "
   ]
  },
  {
   "cell_type": "markdown",
   "metadata": {},
   "source": [
    "Car Access"
   ]
  },
  {
   "cell_type": "code",
   "execution_count": null,
   "metadata": {},
   "outputs": [],
   "source": [
    "fig = px.bar(mc, \n",
    "             x=\"geoid\", \n",
    "             y=['%Total No vehicle available','%Total 1 vehicle available','%Total 2 vehicles available', '%Total 3 or more vehicles available',],\n",
    "             title='Mid-City Car Access',\n",
    "             labels={\n",
    "                     \"geoid\": \"Census Tracts\",\n",
    "                     \"value\": \"Percentage\",\n",
    "                     \"variable\": \"Car Access\"\n",
    "                 },\n",
    "             )\n",
    "fig.show()"
   ]
  },
  {
   "cell_type": "markdown",
   "metadata": {},
   "source": [
    "Car access, those using transit."
   ]
  },
  {
   "cell_type": "code",
   "execution_count": null,
   "metadata": {
    "scrolled": false
   },
   "outputs": [],
   "source": [
    "fig = px.bar(mc, \n",
    "             x=\"geoid\", \n",
    "             y='%PT No vehicle available',\n",
    "             title='Mid-City Car Access Using Public Trasnportation',\n",
    "             labels={\n",
    "                     \"geoid\": \"Census Tracts\",\n",
    "                     \"value\": \"Population Count\",\n",
    "                     \"variable\": \"Using Public Transit Car Access\"\n",
    "                 },\n",
    "             )\n",
    "fig.show()"
   ]
  },
  {
   "cell_type": "markdown",
   "metadata": {},
   "source": [
    "Car access, those using transit as a percentage"
   ]
  },
  {
   "cell_type": "code",
   "execution_count": null,
   "metadata": {},
   "outputs": [],
   "source": [
    "fig = px.bar(mc, \n",
    "             x=\"geoid\", \n",
    "             y='PT No vehicle available',\n",
    "             title='Mid-City Car Access Using Public Trasnportation',\n",
    "             labels={\n",
    "                     \"geoid\": \"Census Tracts\",\n",
    "                     \"value\": \"Population Count\",\n",
    "                     \"variable\": \"Using Public Transit Car Access\"\n",
    "                 },\n",
    "             )\n",
    "fig.show()"
   ]
  },
  {
   "cell_type": "markdown",
   "metadata": {},
   "source": [
    "Total jobs"
   ]
  },
  {
   "cell_type": "code",
   "execution_count": null,
   "metadata": {},
   "outputs": [],
   "source": [
    "fig = px.bar(mc, \n",
    "             x=\"geoid\", \n",
    "             y=['Total Agriculture, forestry, fishing and hunting, and mining','Total Construction','Total Manufacturing','Total Wholesale trade','Total Retail trade','Total Transportation and warehousing, and utilitie', 'Total Information',\n",
    "                 'Total Finance and insurance, and real estate and rental and leasing', 'Total Professional, scientific, and management, and administrative and waste management services','%Total Educational services, and health care and social assistance',\n",
    "                 'Total Arts, entertainment, and recreation, and accommodation and food services', 'Total Other services (except public administration)', 'Total Public administration', 'Total Armed forces',],\n",
    "             title='Mid-City Resident Jobs',\n",
    "             labels={\n",
    "                     \"geoid\": \"Census Tracts\",\n",
    "                     \"value\": \"Worker Count\",\n",
    "                     \"variable\": \"Vocation\"\n",
    "                 },\n",
    "             )\n",
    "fig.update_layout(showlegend=False)\n",
    "fig.show()"
   ]
  },
  {
   "cell_type": "markdown",
   "metadata": {},
   "source": [
    "Total jobs using transit"
   ]
  },
  {
   "cell_type": "code",
   "execution_count": null,
   "metadata": {},
   "outputs": [],
   "source": [
    "fig = px.bar(mc, \n",
    "             x=\"geoid\", \n",
    "             y= ['PT Agriculture, forestry, fishing and hunting, and mining',\n",
    "                 'PT Construction',\n",
    "                 'PT Manufacturing',\n",
    "                 'PT Wholesale trade',\n",
    "                 'PT Retail trade',\n",
    "                 'PT Transportation and warehousing, and utilitie',\n",
    "                 'PT Information',\n",
    "                 'PT Finance and insurance, and real estate and rental and leasing',\n",
    "                 'PT Professional, scientific, and management, and administrative and waste management services',\n",
    "                 'PT Educational services, and health care and social assistance',\n",
    "                 'PT Arts, entertainment, and recreation, and accommodation and food services',\n",
    "                 'PT Other services (except public administration)',\n",
    "                 'PT Public administration',\n",
    "                 'PT Armed forces'],\n",
    "             title='Mid-City Jobs Using Public Transit',\n",
    "             labels={\n",
    "                     \"geoid\": \"Census Tracts\",\n",
    "                     \"value\": \"Population Count\",\n",
    "                     \"variable\": \"Vocation\"\n",
    "                 },\n",
    "             )\n",
    "fig.update_layout(showlegend=False)\n",
    "fig.show()"
   ]
  },
  {
   "cell_type": "markdown",
   "metadata": {},
   "source": [
    "Commute of public transit"
   ]
  },
  {
   "cell_type": "code",
   "execution_count": null,
   "metadata": {},
   "outputs": [],
   "source": [
    "fig = px.bar(mc, \n",
    "             x=\"geoid\", \n",
    "             y=['Percent pt_Less than 10 minutes', 'Percent pt_15 to 19 minutes', 'Percent pt_20 to 24 minutes', 'Percent pt_25 to 29 minutes',\n",
    "             'Percent pt_30 to 34 minutes', 'Percent pt_35 to 44 minutes', 'Percent pt_45 to 59 minutes', 'Percent pt_60 or more minutes',],\n",
    "             title='Mid-City Pulic Transit Commute',\n",
    "             labels={\n",
    "                     \"geoid\": \"Census Tracts\",\n",
    "                     \"value\": \"Percent\",\n",
    "                     \"variable\": \"Commute Times\"\n",
    "                 },\n",
    "             )\n",
    "fig.show()"
   ]
  },
  {
   "cell_type": "markdown",
   "metadata": {},
   "source": [
    "mc_gdf= master.query(\"Neighborhood == 'Mid-City'\")"
   ]
  },
  {
   "cell_type": "markdown",
   "metadata": {},
   "source": [
    "## San Fernando Valley"
   ]
  },
  {
   "cell_type": "markdown",
   "metadata": {},
   "source": [
    "### Panaroma City"
   ]
  },
  {
   "cell_type": "markdown",
   "metadata": {},
   "source": [
    "Data query and check. "
   ]
  },
  {
   "cell_type": "code",
   "execution_count": null,
   "metadata": {},
   "outputs": [],
   "source": [
    "paci= df.query(\"Neighborhood == 'Panorama City'\")"
   ]
  },
  {
   "cell_type": "code",
   "execution_count": null,
   "metadata": {},
   "outputs": [],
   "source": [
    "paci.shape"
   ]
  },
  {
   "cell_type": "code",
   "execution_count": null,
   "metadata": {},
   "outputs": [],
   "source": [
    "type(paci)"
   ]
  },
  {
   "cell_type": "markdown",
   "metadata": {},
   "source": [
    "Data query and check. "
   ]
  },
  {
   "cell_type": "markdown",
   "metadata": {},
   "source": [
    "Car Access"
   ]
  },
  {
   "cell_type": "code",
   "execution_count": null,
   "metadata": {},
   "outputs": [],
   "source": [
    "fig = px.bar(paci, \n",
    "             x=\"geoid\", \n",
    "             y=['%Total No vehicle available','%Total 1 vehicle available','%Total 2 vehicles available', '%Total 3 or more vehicles available',],\n",
    "             title='Panorama City Car Access',\n",
    "             labels={\n",
    "                     \"geoid\": \"Census Tracts\",\n",
    "                     \"value\": \"Percentage\",\n",
    "                     \"variable\": \"Car Access\"\n",
    "                 },\n",
    "             )\n",
    "fig.show()"
   ]
  },
  {
   "cell_type": "markdown",
   "metadata": {},
   "source": [
    "Car access, those using transit"
   ]
  },
  {
   "cell_type": "code",
   "execution_count": null,
   "metadata": {},
   "outputs": [],
   "source": [
    "fig = px.bar(paci, \n",
    "             x=\"geoid\", \n",
    "             y='%PT No vehicle available',\n",
    "             title='Panorama City Car Access Using Public Trasnportation',\n",
    "             labels={\n",
    "                     \"geoid\": \"Census Tracts\",\n",
    "                     \"value\": \"Population Count\",\n",
    "                     \"variable\": \"Using Public Transit Car Access\"\n",
    "                 },\n",
    "             )\n",
    "fig.show()"
   ]
  },
  {
   "cell_type": "markdown",
   "metadata": {},
   "source": [
    "Total jobs"
   ]
  },
  {
   "cell_type": "code",
   "execution_count": null,
   "metadata": {},
   "outputs": [],
   "source": [
    "fig = px.bar(paci, \n",
    "             x=\"geoid\", \n",
    "             y=['Total Agriculture, forestry, fishing and hunting, and mining','Total Construction','Total Manufacturing','Total Wholesale trade','Total Retail trade','Total Transportation and warehousing, and utilitie', 'Total Information',\n",
    "                 'Total Finance and insurance, and real estate and rental and leasing', 'Total Professional, scientific, and management, and administrative and waste management services','%Total Educational services, and health care and social assistance',\n",
    "                 'Total Arts, entertainment, and recreation, and accommodation and food services', 'Total Other services (except public administration)', 'Total Public administration', 'Total Armed forces',],\n",
    "             title='Panorama City Resident Jobs',\n",
    "             labels={\n",
    "                     \"geoid\": \"Census Tracts\",\n",
    "                     \"value\": \"Worker Count\",\n",
    "                     \"variable\": \"Vocation\"\n",
    "                 },\n",
    "             )\n",
    "fig.update_layout(showlegend=False)\n",
    "fig.show()"
   ]
  },
  {
   "cell_type": "markdown",
   "metadata": {},
   "source": [
    "Total jobs using transit"
   ]
  },
  {
   "cell_type": "code",
   "execution_count": null,
   "metadata": {},
   "outputs": [],
   "source": [
    "fig = px.bar(paci, \n",
    "             x=\"geoid\", \n",
    "             y= ['PT Agriculture, forestry, fishing and hunting, and mining',\n",
    "                 'PT Construction',\n",
    "                 'PT Manufacturing',\n",
    "                 'PT Wholesale trade',\n",
    "                 'PT Retail trade',\n",
    "                 'PT Transportation and warehousing, and utilitie',\n",
    "                 'PT Information',\n",
    "                 'PT Finance and insurance, and real estate and rental and leasing',\n",
    "                 'PT Professional, scientific, and management, and administrative and waste management services',\n",
    "                 'PT Educational services, and health care and social assistance',\n",
    "                 'PT Arts, entertainment, and recreation, and accommodation and food services',\n",
    "                 'PT Other services (except public administration)',\n",
    "                 'PT Public administration',\n",
    "                 'PT Armed forces'],\n",
    "             title='Panorama City Jobs Using Public Transit',\n",
    "             labels={\n",
    "                     \"geoid\": \"Census Tracts\",\n",
    "                     \"value\": \"Population Count\",\n",
    "                     \"variable\": \"Vocation\"\n",
    "                 },\n",
    "             )\n",
    "fig.update_layout(showlegend=False)\n",
    "fig.show()"
   ]
  },
  {
   "cell_type": "markdown",
   "metadata": {},
   "source": [
    "Commute time using transit"
   ]
  },
  {
   "cell_type": "code",
   "execution_count": null,
   "metadata": {},
   "outputs": [],
   "source": [
    "fig = px.bar(paci, \n",
    "             x=\"geoid\", \n",
    "             y=['Percent pt_Less than 10 minutes', 'Percent pt_15 to 19 minutes', 'Percent pt_20 to 24 minutes', 'Percent pt_25 to 29 minutes',\n",
    "             'Percent pt_30 to 34 minutes', 'Percent pt_35 to 44 minutes', 'Percent pt_45 to 59 minutes', 'Percent pt_60 or more minutes',],\n",
    "             title='Panorama City Pulic Transit Commute',\n",
    "             labels={\n",
    "                     \"geoid\": \"Census Tracts\",\n",
    "                     \"value\": \"Percent\",\n",
    "                     \"variable\": \"Commute Times\"\n",
    "                 },\n",
    "             )\n",
    "fig.show()"
   ]
  },
  {
   "cell_type": "code",
   "execution_count": null,
   "metadata": {},
   "outputs": [],
   "source": [
    "paci_gdf= master.query(\"Neighborhood == 'Panorama City'\")"
   ]
  },
  {
   "cell_type": "code",
   "execution_count": null,
   "metadata": {},
   "outputs": [],
   "source": []
  },
  {
   "cell_type": "markdown",
   "metadata": {},
   "source": [
    "### North Hollywood"
   ]
  },
  {
   "cell_type": "markdown",
   "metadata": {},
   "source": [
    "Data query and check. "
   ]
  },
  {
   "cell_type": "code",
   "execution_count": null,
   "metadata": {},
   "outputs": [],
   "source": [
    "nhwood= df.query(\"Neighborhood == 'North Hollywood'\")"
   ]
  },
  {
   "cell_type": "code",
   "execution_count": null,
   "metadata": {},
   "outputs": [],
   "source": [
    "nhwood.shape"
   ]
  },
  {
   "cell_type": "code",
   "execution_count": null,
   "metadata": {},
   "outputs": [],
   "source": [
    "type(nhwood)"
   ]
  },
  {
   "cell_type": "markdown",
   "metadata": {},
   "source": [
    "Data query and check. "
   ]
  },
  {
   "cell_type": "markdown",
   "metadata": {},
   "source": [
    "Car Access"
   ]
  },
  {
   "cell_type": "code",
   "execution_count": null,
   "metadata": {},
   "outputs": [],
   "source": [
    "fig = px.bar(nhwood, \n",
    "             x=\"geoid\", \n",
    "             y=['%Total No vehicle available','%Total 1 vehicle available','%Total 2 vehicles available', '%Total 3 or more vehicles available',],\n",
    "             title='North Hollywood Car Access',\n",
    "             labels={\n",
    "                     \"geoid\": \"Census Tracts\",\n",
    "                     \"value\": \"Percentage\",\n",
    "                     \"variable\": \"Car Access\"\n",
    "                 },\n",
    "             )\n",
    "fig.show()"
   ]
  },
  {
   "cell_type": "markdown",
   "metadata": {},
   "source": [
    "Car access, those not using transit"
   ]
  },
  {
   "cell_type": "code",
   "execution_count": null,
   "metadata": {},
   "outputs": [],
   "source": [
    "fig = px.bar(nhwood, \n",
    "             x=\"geoid\", \n",
    "             y='%PT No vehicle available',\n",
    "             title='North Hollywood Car Access Using Public Trasnportation',\n",
    "             labels={\n",
    "                     \"geoid\": \"Census Tracts\",\n",
    "                     \"value\": \"Population Count\",\n",
    "                     \"variable\": \"Using Public Transit Car Access\"\n",
    "                 },\n",
    "             )\n",
    "fig.show()"
   ]
  },
  {
   "cell_type": "markdown",
   "metadata": {},
   "source": [
    "Total jobs"
   ]
  },
  {
   "cell_type": "code",
   "execution_count": null,
   "metadata": {},
   "outputs": [],
   "source": [
    "fig = px.bar(nhwood, \n",
    "             x=\"geoid\", \n",
    "             y=['Total Agriculture, forestry, fishing and hunting, and mining','Total Construction','Total Manufacturing','Total Wholesale trade','Total Retail trade','Total Transportation and warehousing, and utilitie', 'Total Information',\n",
    "                 'Total Finance and insurance, and real estate and rental and leasing', 'Total Professional, scientific, and management, and administrative and waste management services','%Total Educational services, and health care and social assistance',\n",
    "                 'Total Arts, entertainment, and recreation, and accommodation and food services', 'Total Other services (except public administration)', 'Total Public administration', 'Total Armed forces',],\n",
    "             title='North Hollywood Resident Jobs',\n",
    "             labels={\n",
    "                     \"geoid\": \"Census Tracts\",\n",
    "                     \"value\": \"Worker Count\",\n",
    "                     \"variable\": \"Vocation\"\n",
    "                 },\n",
    "             )\n",
    "fig.update_layout(showlegend=False)\n",
    "fig.show()"
   ]
  },
  {
   "cell_type": "markdown",
   "metadata": {},
   "source": [
    "Total jobs, those using transit"
   ]
  },
  {
   "cell_type": "code",
   "execution_count": null,
   "metadata": {},
   "outputs": [],
   "source": [
    "fig = px.bar(nhwood, \n",
    "             x=\"geoid\", \n",
    "             y= ['PT Agriculture, forestry, fishing and hunting, and mining',\n",
    "                 'PT Construction',\n",
    "                 'PT Manufacturing',\n",
    "                 'PT Wholesale trade',\n",
    "                 'PT Retail trade',\n",
    "                 'PT Transportation and warehousing, and utilitie',\n",
    "                 'PT Information',\n",
    "                 'PT Finance and insurance, and real estate and rental and leasing',\n",
    "                 'PT Professional, scientific, and management, and administrative and waste management services',\n",
    "                 'PT Educational services, and health care and social assistance',\n",
    "                 'PT Arts, entertainment, and recreation, and accommodation and food services',\n",
    "                 'PT Other services (except public administration)',\n",
    "                 'PT Public administration',\n",
    "                 'PT Armed forces'],\n",
    "             title='North Hollywood Jobs Using Public Transit',\n",
    "             labels={\n",
    "                     \"geoid\": \"Census Tracts\",\n",
    "                     \"value\": \"Population Count\",\n",
    "                     \"variable\": \"Vocation\"\n",
    "                 },\n",
    "             )\n",
    "fig.update_layout(showlegend=False)\n",
    "fig.show()"
   ]
  },
  {
   "cell_type": "markdown",
   "metadata": {},
   "source": [
    "Transit commute time"
   ]
  },
  {
   "cell_type": "code",
   "execution_count": null,
   "metadata": {},
   "outputs": [],
   "source": [
    "fig = px.bar(nhwood, \n",
    "             x=\"geoid\", \n",
    "             y=['Percent pt_Less than 10 minutes', 'Percent pt_15 to 19 minutes', 'Percent pt_20 to 24 minutes', 'Percent pt_25 to 29 minutes',\n",
    "             'Percent pt_30 to 34 minutes', 'Percent pt_35 to 44 minutes', 'Percent pt_45 to 59 minutes', 'Percent pt_60 or more minutes',],\n",
    "             title='North Hollywood Pulic Transit Commute',\n",
    "             labels={\n",
    "                     \"geoid\": \"Census Tracts\",\n",
    "                     \"value\": \"Percent\",\n",
    "                     \"variable\": \"Commute Times\"\n",
    "                 },\n",
    "             )\n",
    "fig.show()"
   ]
  },
  {
   "cell_type": "code",
   "execution_count": null,
   "metadata": {},
   "outputs": [],
   "source": [
    "nhwood_gdf= master.query(\"Neighborhood == 'North Hollywood'\")"
   ]
  },
  {
   "cell_type": "code",
   "execution_count": null,
   "metadata": {},
   "outputs": [],
   "source": []
  },
  {
   "cell_type": "markdown",
   "metadata": {},
   "source": [
    "# Other Graphs Not Used"
   ]
  },
  {
   "cell_type": "markdown",
   "metadata": {},
   "source": [
    "Query ideas for later"
   ]
  },
  {
   "cell_type": "markdown",
   "metadata": {},
   "source": [
    "Median"
   ]
  },
  {
   "cell_type": "code",
   "execution_count": null,
   "metadata": {},
   "outputs": [],
   "source": [
    "# get 75th percentile for public transportation\n",
    "#trans_75 = gdf_part1['% Public Transportation'].describe()['75%']"
   ]
  },
  {
   "cell_type": "markdown",
   "metadata": {},
   "source": [
    "A little slicing: Jobs, Neighborhoods, and Means to work"
   ]
  },
  {
   "cell_type": "code",
   "execution_count": null,
   "metadata": {},
   "outputs": [],
   "source": [
    "# index \n",
    "#gdf_sub = gdf_part1[(gdf_part1['Median Household Income']<inc_25) & \n",
    "#    (gdf_part1['% Public Transportation']>trans_75) &\n",
    "#    (gdf_part1['% Hispanic or Latino']>hisp_75)]"
   ]
  },
  {
   "cell_type": "code",
   "execution_count": null,
   "metadata": {
    "scrolled": true
   },
   "outputs": [],
   "source": [
    "master.query(\"Neighborhood == 'North Hollywood'\").plot()"
   ]
  },
  {
   "cell_type": "code",
   "execution_count": null,
   "metadata": {},
   "outputs": [],
   "source": [
    "#fig = px.bar(westlake, \n",
    "           #  x=\"geoid\", \n",
    "           #  y=[ '%PT Agriculture, forestry, fishing and hunting, and mining','%PT Construction','%PT Manufacturing','%PT Wholesale trade',\n",
    "            #     '%PT Retail trade','%PT Transportation and warehousing, and utilitie','%PT Information','%PT Finance and insurance, and real estate and rental and leasing',\n",
    "            #     '%PT Professional, scientific, and management, and administrative and waste management services','%PT Educational services, and health care and social assistance',\n",
    "             #   '%PT Arts, entertainment, and recreation, and accommodation and food services', '%PT Other services (except public administration)',\n",
    "           #      '%PT Public administration','%PT Armed forces',],\n",
    "          #   title='Westlake Resident Jobs',\n",
    "           #  labels={\n",
    "              #       \"geoid\": \"Census Tracts\",\n",
    "              #       \"value\": \"Percent\",\n",
    "              #       \"variable\": \"Vocation\"\n",
    "             #    },\n",
    "           #  )\n",
    "#fig.update_layout(showlegend=False)\n",
    "#fig.show()"
   ]
  }
 ],
 "metadata": {
  "celltoolbar": "Raw Cell Format",
  "kernelspec": {
   "display_name": "Python 3",
   "language": "python",
   "name": "python3"
  },
  "language_info": {
   "codemirror_mode": {
    "name": "ipython",
    "version": 3
   },
   "file_extension": ".py",
   "mimetype": "text/x-python",
   "name": "python",
   "nbconvert_exporter": "python",
   "pygments_lexer": "ipython3",
   "version": "3.8.5"
  },
  "toc": {
   "base_numbering": 1,
   "nav_menu": {},
   "number_sections": true,
   "sideBar": true,
   "skip_h1_title": false,
   "title_cell": "Table of Contents",
   "title_sidebar": "Contents",
   "toc_cell": false,
   "toc_position": {},
   "toc_section_display": true,
   "toc_window_display": false
  }
 },
 "nbformat": 4,
 "nbformat_minor": 4
}
