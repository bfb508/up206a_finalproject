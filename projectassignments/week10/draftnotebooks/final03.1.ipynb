{
 "cells": [
  {
   "cell_type": "markdown",
   "metadata": {},
   "source": [
    "# Final Notebook Pt 3.1: Transit Overlays"
   ]
  },
  {
   "cell_type": "markdown",
   "metadata": {},
   "source": [
    "**By:** Andrew Williams and Ben Brassette\n",
    "    \n",
    "**Description:** This notebook is building on earlier work for each neighborhood. Purpose is to intergrate bus lines and rail stations and our other remaining datasets. We are tackling points 1, 3, 6, and 7 in this notebook. Additonally, this notebook is building off of ealier transit notebooks which will serves as the foundation. \n",
    "\n",
    "**Expected Outputs**\n",
    "* Overlay of rail stops and bus lines\n",
    "\n",
    "**Areas Where We Need More Work**\n",
    "* Coordinate maps and charts\n",
    "* Create story map\n",
    "* Clean Notebooks, with outputs leading to inssight for our paper\n",
    "\n",
    "**Notes for self to advance project:**\n",
    "1.  Biggest step forward, intergrating our notebooks in the remaining few weeks in a targeted fashion\n",
    "2.  Overlay heavy rail and light rail stops\n",
    "3.  Provide more accurate description of the areas through a spatial join\n",
    "4. Compare with race/ethnicity and income data; we should create some side by side comparisons of transit use and race/eth and income\n",
    "5. Query \"high\" transit tracts, cross reference with income and race/eth, potential to add spatial dimension of LA neighborhoods\n",
    "6. Availability of cars in households\n",
    "7. Bring a shaprer focus to Central LA and the San Fernando Valley"
   ]
  },
  {
   "cell_type": "markdown",
   "metadata": {},
   "source": [
    "# Importing Libraries and Datasets"
   ]
  },
  {
   "cell_type": "markdown",
   "metadata": {},
   "source": [
    "Importing libraries for gpd, plotting, and basepamps."
   ]
  },
  {
   "cell_type": "code",
   "execution_count": null,
   "metadata": {},
   "outputs": [],
   "source": [
    "import urllib.request, json \n",
    "import geopandas as gpd\n",
    "import pandas as pd\n",
    "import matplotlib.pyplot as plt\n",
    "import numpy as np\n",
    "import seaborn as sns \n",
    "import contextily as ctx"
   ]
  },
  {
   "cell_type": "markdown",
   "metadata": {},
   "source": [
    "Import was successful."
   ]
  },
  {
   "cell_type": "markdown",
   "metadata": {
    "slideshow": {
     "slide_type": "slide"
    }
   },
   "source": [
    "Importing datasets: rail, bus, and bus frequency."
   ]
  },
  {
   "cell_type": "code",
   "execution_count": null,
   "metadata": {},
   "outputs": [],
   "source": [
    "rail_stops = gpd.read_file('Data/RailStations0715/Stations_All_0715.shp')\n",
    "\n",
    "bus_freq = gpd.read_file('Data/means2work_freq/Existing_Bus_System.shp')"
   ]
  },
  {
   "cell_type": "markdown",
   "metadata": {
    "slideshow": {
     "slide_type": "slide"
    }
   },
   "source": [
    "Shape files are ready for exploration now. "
   ]
  },
  {
   "cell_type": "markdown",
   "metadata": {},
   "source": [
    "# Bus Frequency "
   ]
  },
  {
   "cell_type": "markdown",
   "metadata": {},
   "source": [
    "This is new bus data. I imagine it will mirror much of what I had before from just the LA Metro bus lines, with the addition of frequency. I'm going to explore it a little but and see what I have to work with."
   ]
  },
  {
   "cell_type": "code",
   "execution_count": null,
   "metadata": {},
   "outputs": [],
   "source": [
    "type(bus_freq)"
   ]
  },
  {
   "cell_type": "code",
   "execution_count": null,
   "metadata": {},
   "outputs": [],
   "source": [
    "bus_freq.info()"
   ]
  },
  {
   "cell_type": "markdown",
   "metadata": {},
   "source": [
    "Lots of columns! I can vaugely picture what I this will say in terms of frequency."
   ]
  },
  {
   "cell_type": "code",
   "execution_count": null,
   "metadata": {},
   "outputs": [],
   "source": [
    "bus_freq.shape"
   ]
  },
  {
   "cell_type": "code",
   "execution_count": null,
   "metadata": {},
   "outputs": [],
   "source": [
    "bus_freq.head(3)"
   ]
  },
  {
   "cell_type": "code",
   "execution_count": null,
   "metadata": {},
   "outputs": [],
   "source": [
    "bus_freq.tail(3)"
   ]
  },
  {
   "cell_type": "markdown",
   "metadata": {},
   "source": [
    "In terms of the the columns, I believe I'm seeing the number of times a bus is being in use during a particular period."
   ]
  },
  {
   "cell_type": "markdown",
   "metadata": {},
   "source": [
    "I would like to see what routes/bus-systems/tiers are available in this dataset."
   ]
  },
  {
   "cell_type": "code",
   "execution_count": null,
   "metadata": {},
   "outputs": [],
   "source": [
    "bus_freq['tier'].value_counts()"
   ]
  },
  {
   "cell_type": "markdown",
   "metadata": {},
   "source": [
    "The biggest differnce I see between my previous Metro bus data was that the local lines were subdivided into two categories: CBD and Non-CBD. This one large category seems unruly, but if need be, I can query and sub divide it further. "
   ]
  },
  {
   "cell_type": "markdown",
   "metadata": {},
   "source": [
    "Next step is to create to sub-categories which will be easier to call than having an extroadinarly long syntaxt (though I should practice those as well)>"
   ]
  },
  {
   "cell_type": "markdown",
   "metadata": {},
   "source": [
    "## Local Bus Freq"
   ]
  },
  {
   "cell_type": "markdown",
   "metadata": {},
   "source": [
    "Will define and quickly map data to see results."
   ]
  },
  {
   "cell_type": "markdown",
   "metadata": {},
   "source": [
    "Pulling subset of data- local routes"
   ]
  },
  {
   "cell_type": "code",
   "execution_count": null,
   "metadata": {},
   "outputs": [],
   "source": [
    "local_f = bus_freq[bus_freq.tier == 'Local']\n",
    "local_f.sample(3)"
   ]
  },
  {
   "cell_type": "markdown",
   "metadata": {},
   "source": [
    "Pulling subset of data- Rapid routes"
   ]
  },
  {
   "cell_type": "code",
   "execution_count": null,
   "metadata": {},
   "outputs": [],
   "source": [
    "local_f = bus_freq[bus_freq.tier == 'Local']\n",
    "local_f.sample(3)"
   ]
  },
  {
   "cell_type": "markdown",
   "metadata": {},
   "source": [
    "This is great! Much better than my previous bus maps. I'm going to cycle through and finish defining these subcategoires. Next steps would include a query into which routes are the heavist used and then overlay that with transit census tracts. "
   ]
  },
  {
   "cell_type": "markdown",
   "metadata": {},
   "source": [
    "## Rapid Freq"
   ]
  },
  {
   "cell_type": "markdown",
   "metadata": {},
   "source": [
    "Pulling subset of data- Rapid routes"
   ]
  },
  {
   "cell_type": "code",
   "execution_count": null,
   "metadata": {},
   "outputs": [],
   "source": [
    "rapid_f = bus_freq[bus_freq.tier == 'Rapid']\n",
    "rapid_f.sample(3)"
   ]
  },
  {
   "cell_type": "markdown",
   "metadata": {},
   "source": [
    "Also revealing. I'm curious what the line on the far east of the map is and what its connections are to job centers, other lines. "
   ]
  },
  {
   "cell_type": "markdown",
   "metadata": {},
   "source": [
    "## Limited Frew"
   ]
  },
  {
   "cell_type": "markdown",
   "metadata": {},
   "source": [
    "Pulling subset of data- Limited routes"
   ]
  },
  {
   "cell_type": "code",
   "execution_count": null,
   "metadata": {},
   "outputs": [],
   "source": [
    "limited_f = bus_freq[bus_freq.tier == 'Limited']\n",
    "limited_f.sample(3)"
   ]
  },
  {
   "cell_type": "markdown",
   "metadata": {},
   "source": [
    "## Shuttle Freq"
   ]
  },
  {
   "cell_type": "markdown",
   "metadata": {},
   "source": [
    "Pulling subset of data-- for Shuttles"
   ]
  },
  {
   "cell_type": "code",
   "execution_count": null,
   "metadata": {},
   "outputs": [],
   "source": [
    "shuttle_f = bus_freq[bus_freq.tier == 'Shuttles']\n",
    "shuttle_f.sample(3)"
   ]
  },
  {
   "cell_type": "markdown",
   "metadata": {},
   "source": [
    "## Exp Freq"
   ]
  },
  {
   "cell_type": "markdown",
   "metadata": {},
   "source": [
    "Pulling subset of data- Exp routes"
   ]
  },
  {
   "cell_type": "code",
   "execution_count": null,
   "metadata": {},
   "outputs": [],
   "source": [
    "exp_f = bus_freq[bus_freq.tier == 'Express']\n",
    "exp_f.sample(3)"
   ]
  },
  {
   "cell_type": "markdown",
   "metadata": {},
   "source": [
    "## Busway Freq"
   ]
  },
  {
   "cell_type": "markdown",
   "metadata": {},
   "source": [
    "Pulling subset of data- Busway routes"
   ]
  },
  {
   "cell_type": "code",
   "execution_count": null,
   "metadata": {},
   "outputs": [],
   "source": [
    "bw_f = bus_freq[bus_freq.tier == 'Busway']\n",
    "bw_f.sample(3)"
   ]
  },
  {
   "cell_type": "markdown",
   "metadata": {},
   "source": [
    "# Rail Line Stations "
   ]
  },
  {
   "cell_type": "markdown",
   "metadata": {},
   "source": [
    "Now for some rail lines. Going to do a little exploration. I've done this before during one of our class labs and on my own, but that over a month ago and I'm no longer farmiliar with this dataset."
   ]
  },
  {
   "cell_type": "code",
   "execution_count": null,
   "metadata": {},
   "outputs": [],
   "source": [
    "type(rail_stops)"
   ]
  },
  {
   "cell_type": "code",
   "execution_count": null,
   "metadata": {},
   "outputs": [],
   "source": [
    "rail_stops.shape"
   ]
  },
  {
   "cell_type": "code",
   "execution_count": null,
   "metadata": {},
   "outputs": [],
   "source": [
    "rail_stops.head(3)"
   ]
  },
  {
   "cell_type": "markdown",
   "metadata": {},
   "source": [
    "How many rail stops are there per line. "
   ]
  },
  {
   "cell_type": "code",
   "execution_count": null,
   "metadata": {
    "scrolled": true
   },
   "outputs": [],
   "source": [
    "rail_stops['LINE'].value_counts()"
   ]
  },
  {
   "cell_type": "markdown",
   "metadata": {},
   "source": [
    "This helpful. Though from previous research, I know rail is not heavily used by LA resdients, or used often at all. LA is a car city first, then a bus city. Still, I want to explore the associations with the use of high transit."
   ]
  },
  {
   "cell_type": "markdown",
   "metadata": {},
   "source": [
    "There are more robust options to do here, especially with folium. "
   ]
  },
  {
   "cell_type": "markdown",
   "metadata": {},
   "source": [
    "# Neighborhood Dataset"
   ]
  },
  {
   "cell_type": "markdown",
   "metadata": {},
   "source": [
    "Downloading master datase, running usual checks, and trimming it down some more."
   ]
  },
  {
   "cell_type": "code",
   "execution_count": null,
   "metadata": {},
   "outputs": [],
   "source": [
    "just_nbh = gpd.read_file('neighborhoods_trimmed.geojson') "
   ]
  },
  {
   "cell_type": "code",
   "execution_count": null,
   "metadata": {},
   "outputs": [],
   "source": [
    "type(just_nbh)"
   ]
  },
  {
   "cell_type": "code",
   "execution_count": null,
   "metadata": {
    "scrolled": true
   },
   "outputs": [],
   "source": [
    "just_nbh.sample(3)"
   ]
  },
  {
   "cell_type": "code",
   "execution_count": null,
   "metadata": {},
   "outputs": [],
   "source": [
    "just_nbh.columns.to_list()"
   ]
  },
  {
   "cell_type": "code",
   "execution_count": null,
   "metadata": {},
   "outputs": [],
   "source": [
    "keep= ['geoid',\n",
    " 'name',\n",
    " 'Neighborho',\n",
    " 'Median Inc',\n",
    " 'Total Work',\n",
    " 'Car Total',\n",
    " 'Drove alon',\n",
    " 'Carpooled',\n",
    " 'Public tra',\n",
    " 'Bus',\n",
    " 'Subway or',\n",
    " 'Long-dista',\n",
    " 'Light rail',\n",
    " 'Worked fro',\n",
    " '%Car Total',\n",
    " '%Drove alo',\n",
    " '%Carpooled',\n",
    " '%Public tr',\n",
    " '%Bus',\n",
    " '%Subway or',\n",
    " '%Long-dist',\n",
    " '%Light rai',\n",
    " '%Worked fr',\n",
    " 'Total Pop',\n",
    " 'White',\n",
    " 'Black',\n",
    " 'Native',\n",
    " 'Asian',\n",
    " 'Pacific Is',\n",
    " 'Hispanic o',\n",
    " '%White',\n",
    " '%Black',\n",
    " '%Native',\n",
    " '%Asian',\n",
    " '%Pacific I',\n",
    " '%Hispanic',\n",
    " 'geometry']"
   ]
  },
  {
   "cell_type": "code",
   "execution_count": null,
   "metadata": {},
   "outputs": [],
   "source": [
    "just_nbh=just_nbh[keep]\n",
    "just_nbh"
   ]
  },
  {
   "cell_type": "code",
   "execution_count": null,
   "metadata": {},
   "outputs": [],
   "source": [
    "just_nbh.columns= ['geoid',\n",
    " 'name',\n",
    " 'Neighborhood',\n",
    " 'Median Income',\n",
    " 'Total Workers Commuting',\n",
    " 'Car Total',\n",
    " 'Drove alone',\n",
    " 'Carpooled',\n",
    " 'Public transportation',\n",
    " 'Bus',\n",
    " 'Subway or elevated il',\n",
    " 'Long-distance train or commuter rail',\n",
    " 'Light rail',\n",
    " 'Worked from home',\n",
    " '%Car Total',\n",
    " '%Drove alone',\n",
    " '%Carpooled',\n",
    " '%Public transportation',\n",
    " '%Bus',\n",
    " '%Subway or elevated il',\n",
    " '%Long-distance train or commuter rail',\n",
    " '%Light rail',\n",
    " '%Worked from home',\n",
    " 'Total Pop Race',\n",
    " 'White',\n",
    " 'Black',\n",
    " 'Native',\n",
    " 'Asian',\n",
    " 'Pacific Islander',\n",
    " 'Hispanic or Latino',\n",
    " '%White',\n",
    " '%Black',\n",
    " '%Native',\n",
    " '%Asian',\n",
    " '%Pacific Islander',\n",
    " '%Hispanic or Latino',\n",
    "  'geometry',]"
   ]
  },
  {
   "cell_type": "code",
   "execution_count": null,
   "metadata": {},
   "outputs": [],
   "source": [
    "just_nbh.sample(3)"
   ]
  },
  {
   "cell_type": "markdown",
   "metadata": {},
   "source": [
    "# Bus Maps"
   ]
  },
  {
   "cell_type": "markdown",
   "metadata": {},
   "source": [
    "First map will be just for looking at general bus routes overlayed on neighborhoods."
   ]
  },
  {
   "cell_type": "code",
   "execution_count": null,
   "metadata": {},
   "outputs": [],
   "source": [
    "just_nbh = just_nbh.to_crs(epsg=3857)"
   ]
  },
  {
   "cell_type": "code",
   "execution_count": null,
   "metadata": {},
   "outputs": [],
   "source": [
    "minx, miny, maxx, maxy = just_nbh.geometry.total_bounds\n",
    "print(minx)\n",
    "print(maxx)\n",
    "print(miny)\n",
    "print(maxy)"
   ]
  },
  {
   "cell_type": "code",
   "execution_count": null,
   "metadata": {
    "scrolled": false
   },
   "outputs": [],
   "source": [
    "fig,ax = plt.subplots(figsize=(20,20))\n",
    "\n",
    "just_nbh.plot(ax=ax, column='Neighborhood', color='yellow', zorder=15,lw=0.5)\n",
    "\n",
    "bus_freq.plot(ax=ax, alpha=0.75, zorder=20, lw=1, legend=True)\n",
    "\n",
    "\n",
    "fig.patch.set_facecolor('black')\n",
    "ax.axis('off')\n",
    "#ctx.add_basemap(ax,source=ctx.providers.CartoDB.Positron)"
   ]
  },
  {
   "cell_type": "markdown",
   "metadata": {},
   "source": [
    "* Playing around woth colors...\n",
    "* Central LA...well is centrally located. Bus routes go through Downtown in high frequency. \n",
    "* Well connected on a broad level, but how serivce actually opertates remains another question\n",
    "* Strong street grid in SF Valeey neighborhoods, could indicate easier connectivity and access to bus routes, more research needed"
   ]
  },
  {
   "cell_type": "markdown",
   "metadata": {},
   "source": [
    "Bus Frequencies "
   ]
  },
  {
   "cell_type": "code",
   "execution_count": null,
   "metadata": {
    "scrolled": false
   },
   "outputs": [],
   "source": [
    "fig,ax = plt.subplots(figsize=(20,20))\n",
    "\n",
    "just_nbh.plot(ax=ax, column='Neighborhood', color='pink', zorder=15,lw=0.5)\n",
    "\n",
    "bus_freq.plot(ax=ax, column='ampk_1', cmap='Blues', alpha=0.75, zorder=20, lw=1, legend=True, scheme='NaturalBreaks')\n",
    "\n",
    "ax.axis('off')\n",
    "#ctx.add_basemap(ax,source=ctx.providers.CartoDB.Positron)"
   ]
  },
  {
   "cell_type": "markdown",
   "metadata": {},
   "source": [
    "* Map show bus frequencies.\n",
    "* Not as frequent buses running in DT or PU, but there are a greater number of routes going through those areas.\n",
    "* Higher frequencies on the outskirts, especially in east LA, and in the SF Valley"
   ]
  },
  {
   "cell_type": "markdown",
   "metadata": {},
   "source": [
    "Buses running over 25 times during peak AM times"
   ]
  },
  {
   "cell_type": "code",
   "execution_count": null,
   "metadata": {},
   "outputs": [],
   "source": [
    "fig,ax = plt.subplots(figsize=(20,20))\n",
    "\n",
    "just_nbh.plot(ax=ax, column='Neighborhood', color='pink', zorder=15,lw=0.5)\n",
    "\n",
    "bus_freq[bus_freq['ampk_1']>25].plot(ax=ax, alpha=0.75, zorder=20, lw=1, legend=True, scheme='NaturalBreaks')\n",
    "\n",
    "ax.axis('off')\n",
    "#ctx.add_basemap(ax,source=ctx.providers.CartoDB.Positron)"
   ]
  },
  {
   "cell_type": "markdown",
   "metadata": {},
   "source": [
    "* No connectivity in MC\n",
    "* Very few high freq buses runnin DT, none in PY, but may be compensated by other routes\n",
    "* More high freq buses in NH and PC"
   ]
  },
  {
   "cell_type": "markdown",
   "metadata": {},
   "source": [
    "# A Closer Look"
   ]
  },
  {
   "cell_type": "markdown",
   "metadata": {},
   "source": [
    "## Central Los Angeles"
   ]
  },
  {
   "cell_type": "code",
   "execution_count": null,
   "metadata": {
    "scrolled": true
   },
   "outputs": [],
   "source": [
    "just_nbh.shape"
   ]
  },
  {
   "cell_type": "code",
   "execution_count": null,
   "metadata": {},
   "outputs": [],
   "source": [
    "minx, miny, maxx, maxy = just_nbh.geometry.total_bounds\n",
    "print(minx)\n",
    "print(maxx)\n",
    "print(miny)\n",
    "print(maxy)"
   ]
  },
  {
   "cell_type": "markdown",
   "metadata": {},
   "source": [
    "Bus Percentages"
   ]
  },
  {
   "cell_type": "code",
   "execution_count": null,
   "metadata": {
    "scrolled": false
   },
   "outputs": [],
   "source": [
    "fig,ax = plt.subplots(figsize=(20,20))\n",
    "\n",
    "just_nbh[(just_nbh['Neighborhood']=='Downtown')|(just_nbh['Neighborhood']=='Pico-Union')|(just_nbh['Neighborhood']=='Mid-City')].plot(ax=ax, column='%Bus', zorder=15,lw=0.5, legend=True, scheme='NaturalBreaks',)\n",
    "\n",
    "bus_freq.plot(ax=ax, column='ampk_1', color='gray', alpha=0.75, zorder=20, lw=.5, legend=True, scheme='NaturalBreaks')\n",
    "\n",
    "ax.axis('off')\n",
    "#ctx.add_basemap(ax,source=ctx.providers.CartoDB.Positron)"
   ]
  },
  {
   "cell_type": "markdown",
   "metadata": {},
   "source": [
    "* Seems well connected, but need a closer look"
   ]
  },
  {
   "cell_type": "code",
   "execution_count": null,
   "metadata": {},
   "outputs": [],
   "source": [
    "#alt ctx: ctx.add_basemap(ax, source=ctx.providers.Stamen.TonerLite)"
   ]
  },
  {
   "cell_type": "code",
   "execution_count": null,
   "metadata": {},
   "outputs": [],
   "source": [
    "#ctx.add_basemap(ax,source=ctx.providers.CartoDB.Positron)\n",
    "#ax.set_xlim(minx+.45,maxx-20)\n",
    "#ax.set_ylim(miny+20,maxy-10)"
   ]
  },
  {
   "cell_type": "code",
   "execution_count": null,
   "metadata": {
    "scrolled": false
   },
   "outputs": [],
   "source": [
    "fig,ax = plt.subplots(figsize=(20,20))\n",
    "\n",
    "just_nbh[(just_nbh['Neighborhood']=='Downtown')|(just_nbh['Neighborhood']=='Pico-Union')|(just_nbh['Neighborhood']=='Mid-City')].plot(ax=ax, column='%Public transportation', zorder=15,lw=0.5, legend=True, scheme='NaturalBreaks')\n",
    "\n",
    "bus_freq.plot(ax=ax, column='ampk_1', color='gray', alpha=0.75, zorder=20, lw=1,)\n",
    "\n",
    "ax.set_xlim(minx+.45,maxx-20)\n",
    "ax.set_ylim(miny+20,maxy-10)\n",
    "#ctx.add_basemap(ax,source=ctx.providers.CartoDB.Positron)"
   ]
  },
  {
   "cell_type": "markdown",
   "metadata": {},
   "source": [
    "* tons of lines going through DT, and PU, some going through MC\n",
    "* Difficult again to determine pattern though overlay\n",
    "* Central LA is well connected, but where are people going?"
   ]
  },
  {
   "cell_type": "markdown",
   "metadata": {},
   "source": [
    "## San Fernando Valley"
   ]
  },
  {
   "cell_type": "code",
   "execution_count": null,
   "metadata": {},
   "outputs": [],
   "source": [
    "fig,ax = plt.subplots(figsize=(20,20))\n",
    "\n",
    "just_nbh[(just_nbh['Neighborhood']=='North Hollywood')|(just_nbh['Neighborhood']=='Panorama City')].plot(ax=ax, column='%Public transportation', zorder=10, legend=True, scheme='NaturalBreaks')\n",
    "\n",
    "bus_freq.plot(ax=ax, column='ampk_1', alpha=0.75, zorder=20, lw=1, legend=True, color='gray')\n",
    "\n",
    "ax.set_xlim(minx+.45,maxx-20)\n",
    "ax.set_ylim(miny+20,maxy-10)\n",
    "#ctx.add_basemap(ax,source=ctx.providers.CartoDB.Positron)"
   ]
  },
  {
   "cell_type": "markdown",
   "metadata": {},
   "source": [
    "* Zoomed in versino of SF Valley\n",
    "* Not as well served as Central LA, but a good number of buses are runnign through NH and PACI\n",
    "* Again, difficult it discern patterns with just an overlay"
   ]
  },
  {
   "cell_type": "code",
   "execution_count": null,
   "metadata": {},
   "outputs": [],
   "source": [
    "fig,ax = plt.subplots(figsize=(20,20))\n",
    "\n",
    "just_nbh[(just_nbh['Neighborhood']=='North Hollywood')|(just_nbh['Neighborhood']=='Panorama City')].plot(ax=ax, column='%Public transportation', zorder=10, legend=True, scheme='NaturalBreaks')\n",
    "\n",
    "bus_freq.plot(ax=ax, column='ampk_1', alpha=0.75, zorder=20, lw=1, legend=True, color='gray')\n",
    "\n",
    "#ctx.add_basemap(ax,source=ctx.providers.CartoDB.Positron)"
   ]
  },
  {
   "cell_type": "markdown",
   "metadata": {},
   "source": [
    "Zoomed out version to show perspective, not much detail can be gathered here"
   ]
  },
  {
   "cell_type": "code",
   "execution_count": null,
   "metadata": {
    "scrolled": false
   },
   "outputs": [],
   "source": [
    "fig,ax = plt.subplots(figsize=(20,20))\n",
    "\n",
    "just_nbh[(just_nbh['Neighborhood']=='North Hollywood')|(just_nbh['Neighborhood']=='Panorama City')].plot(ax=ax, column='%Bus', zorder=10, legend=True, scheme='NaturalBreaks')\n",
    "\n",
    "bus_freq.plot(ax=ax, column='ampk_1', color='orange', alpha=0.75, zorder=20, lw=1,)\n",
    "\n",
    "#ctx.add_basemap(ax,source=ctx.providers.CartoDB.Positron)\n",
    "ax.set_xlim(minx+.45,maxx-20)\n",
    "ax.set_ylim(miny+20,maxy-10)"
   ]
  },
  {
   "cell_type": "markdown",
   "metadata": {},
   "source": [
    "Same map as above with different color choices. I like this, but the larger map looks better with gray and I would like to stay consistant."
   ]
  },
  {
   "cell_type": "markdown",
   "metadata": {},
   "source": [
    "# Rails"
   ]
  },
  {
   "cell_type": "code",
   "execution_count": null,
   "metadata": {},
   "outputs": [],
   "source": [
    "rail_stops.shape"
   ]
  },
  {
   "cell_type": "code",
   "execution_count": null,
   "metadata": {
    "scrolled": true
   },
   "outputs": [],
   "source": [
    "rail_stops.head()"
   ]
  },
  {
   "cell_type": "code",
   "execution_count": null,
   "metadata": {},
   "outputs": [],
   "source": [
    "rail_stops=rail_stops.to_crs(epsg=3857)"
   ]
  },
  {
   "cell_type": "markdown",
   "metadata": {},
   "source": [
    "Let's plot some rail stops!"
   ]
  },
  {
   "cell_type": "code",
   "execution_count": null,
   "metadata": {
    "scrolled": false
   },
   "outputs": [],
   "source": [
    "fig, ax = plt.subplots(figsize=(20, 15))\n",
    "\n",
    "rail_stops.plot(column='LINE', \n",
    "            alpha=0.75, \n",
    "           zorder=20,\n",
    "            ax=ax,\n",
    "            legend=True\n",
    "           )\n",
    "\n",
    "just_nbh.boundary.plot(ax=ax, color='black',zorder=10,lw=1)\n",
    "\n",
    "#ctx.add_basemap(ax,source=ctx.providers.CartoDB.Positron)"
   ]
  },
  {
   "cell_type": "markdown",
   "metadata": {},
   "source": [
    "For some reason, this took longer than it needed\n",
    "* Subway as whole seems sparse, at least compared to the T in BOS\n",
    "* Central LA seems very connected from just an overlay\n",
    "* Mid-City, minues one tract, and Panorama City seems very unconnected"
   ]
  },
  {
   "cell_type": "code",
   "execution_count": null,
   "metadata": {
    "scrolled": false
   },
   "outputs": [],
   "source": [
    "fig, ax = plt.subplots(figsize=(20, 15))\n",
    "\n",
    "rail_stops.plot(column='LINE', \n",
    "            alpha=0.75, \n",
    "            ax=ax,\n",
    "                zorder=20,\n",
    "            legend=True\n",
    "           )\n",
    "\n",
    "just_nbh.plot(ax=ax, column=\"Neighborhood\", cmap='tab10', zorder=15 ,lw=0.5)\n",
    "\n",
    "\n",
    "#ctx.add_basemap(ax,source=ctx.providers.CartoDB.Positron)"
   ]
  },
  {
   "cell_type": "markdown",
   "metadata": {},
   "source": [
    "Same map as above, but different context"
   ]
  },
  {
   "cell_type": "markdown",
   "metadata": {},
   "source": [
    "## Zoomed In"
   ]
  },
  {
   "cell_type": "markdown",
   "metadata": {},
   "source": [
    "SF Valley"
   ]
  },
  {
   "cell_type": "code",
   "execution_count": null,
   "metadata": {},
   "outputs": [],
   "source": [
    "fig, ax = plt.subplots(figsize=(20, 15))\n",
    "\n",
    "rail_stops.plot(column='LINE', \n",
    "            color='red',\n",
    "            alpha=0.75, \n",
    "            zorder=20,\n",
    "            ax=ax,\n",
    "            legend=True\n",
    "           )\n",
    "\n",
    "just_nbh[(just_nbh['Neighborhood']=='North Hollywood')|(just_nbh['Neighborhood']=='Panorama City')].plot(ax=ax, column='%Subway or elevated il', zorder=10, legend=True, scheme='NaturalBreaks')\n",
    "\n",
    "ax.set_xlim(minx+.45,maxx-20)\n",
    "ax.set_ylim(miny+20,maxy-10)\n",
    "#ctx.add_basemap(ax,source=ctx.providers.CartoDB.Positron)"
   ]
  },
  {
   "cell_type": "markdown",
   "metadata": {},
   "source": [
    "* Makes sense that at least one census tract uses more subway than the rest\n",
    "* Dismal subway rates a whole\n",
    "* Curious why there are two tracts north in North Hollywood using sub more. Still low rates nonetheless"
   ]
  },
  {
   "cell_type": "markdown",
   "metadata": {},
   "source": [
    "Downtown"
   ]
  },
  {
   "cell_type": "code",
   "execution_count": null,
   "metadata": {},
   "outputs": [],
   "source": [
    "fig, ax = plt.subplots(figsize=(20, 15))\n",
    "\n",
    "rail_stops.plot(column='LINE', \n",
    "            color='red',\n",
    "            alpha=0.75, \n",
    "            zorder=20,\n",
    "            ax=ax,\n",
    "            legend=True\n",
    "           )\n",
    "\n",
    "just_nbh[(just_nbh['Neighborhood']=='Downtown')|(just_nbh['Neighborhood']=='Pico-Union')|(just_nbh['Neighborhood']=='Mid-City')].plot(ax=ax, column='%Subway or elevated il', zorder=10, legend=True, scheme='NaturalBreaks')\n",
    "\n",
    "ax.set_xlim(minx+.45,maxx-20)\n",
    "ax.set_ylim(miny+20,maxy-10)\n",
    "#ctx.add_basemap(ax,source=ctx.providers.CartoDB.Positron)"
   ]
  },
  {
   "cell_type": "markdown",
   "metadata": {},
   "source": [
    "* Better connectivity and closer to subway stops, but subway is hardly used\n",
    "* First inclication is that the subway doesn't takt this population, in Downtown at least, where it needs to go"
   ]
  }
 ],
 "metadata": {
  "kernelspec": {
   "display_name": "Python 3",
   "language": "python",
   "name": "python3"
  },
  "language_info": {
   "codemirror_mode": {
    "name": "ipython",
    "version": 3
   },
   "file_extension": ".py",
   "mimetype": "text/x-python",
   "name": "python",
   "nbconvert_exporter": "python",
   "pygments_lexer": "ipython3",
   "version": "3.8.5"
  },
  "toc": {
   "base_numbering": 1,
   "nav_menu": {},
   "number_sections": true,
   "sideBar": true,
   "skip_h1_title": false,
   "title_cell": "Table of Contents",
   "title_sidebar": "Contents",
   "toc_cell": false,
   "toc_position": {},
   "toc_section_display": true,
   "toc_window_display": false
  }
 },
 "nbformat": 4,
 "nbformat_minor": 4
}
