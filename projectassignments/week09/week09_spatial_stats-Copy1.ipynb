{
 "cells": [
  {
   "cell_type": "markdown",
   "id": "curious-bowling",
   "metadata": {},
   "source": [
    "# Week 09 (?!) LA Neighborhood Transit: Spatial Statistics Overview"
   ]
  },
  {
   "cell_type": "markdown",
   "id": "complicated-framing",
   "metadata": {},
   "source": [
    "**By:** Andrew Williams and Ben Brassette"
   ]
  },
  {
   "cell_type": "markdown",
   "id": "perfect-netscape",
   "metadata": {},
   "source": [
    "Uploaded without runnnig the cells as I'm having difficulty saving my notebooks after I run them, even if I'm using minimal memory. Will contact Ben Winjum about this."
   ]
  },
  {
   "cell_type": "markdown",
   "id": "colonial-convert",
   "metadata": {},
   "source": [
    "**Decription:** Purpose of this notebook is to use the tools from the Week 08 Spatial Stats lesson in order to provide a better analysis of our chosen neighborhoods for this project. "
   ]
  },
  {
   "cell_type": "markdown",
   "id": "bridal-blues",
   "metadata": {},
   "source": [
    "**Neighborhoods:**\n",
    "* Downtown (Central LA)\n",
    "* Pico-Union(Central LA)\n",
    "* Panaroma City (San Fernando Valley)\n",
    "* North Hollywood (San Fernando Valley)\n",
    "* Mid-City (Central LA, Car Dominant)"
   ]
  },
  {
   "cell_type": "markdown",
   "id": "mental-highway",
   "metadata": {},
   "source": [
    "# Library "
   ]
  },
  {
   "cell_type": "code",
   "execution_count": null,
   "id": "official-builder",
   "metadata": {},
   "outputs": [],
   "source": [
    "# to read and wrangle data\n",
    "import pandas as pd\n",
    "\n",
    "# to create spatial data\n",
    "import geopandas as gpd\n",
    "\n",
    "# for basemaps\n",
    "import contextily as ctx\n",
    "\n",
    "# For spatial statistics\n",
    "import esda\n",
    "from esda.moran import Moran, Moran_Local\n",
    "\n",
    "import splot\n",
    "from splot.esda import moran_scatterplot, plot_moran, lisa_cluster,plot_moran_simulation\n",
    "\n",
    "import libpysal as lps\n",
    "\n",
    "# Graphics\n",
    "import matplotlib.pyplot as plt\n",
    "import plotly.express as px"
   ]
  },
  {
   "cell_type": "markdown",
   "id": "planned-profile",
   "metadata": {},
   "source": [
    "# Trimming Data"
   ]
  },
  {
   "cell_type": "markdown",
   "id": "cellular-illustration",
   "metadata": {},
   "source": [
    "## Data Check"
   ]
  },
  {
   "cell_type": "markdown",
   "id": "dependent-calcium",
   "metadata": {},
   "source": [
    "I'm going to downloand my dataset that features mode of transportatotion to work. I'm using a dataset that also has neighborhoods, income, and racial breakdownn in case I need to explore other variables (time permitting). I will do a typical check of the data to make sure it's ready for some exploration. "
   ]
  },
  {
   "cell_type": "code",
   "execution_count": null,
   "id": "further-favorite",
   "metadata": {},
   "outputs": [],
   "source": [
    "gdf= gpd.read_file('m2w_income_race_new.geojson')"
   ]
  },
  {
   "cell_type": "code",
   "execution_count": null,
   "id": "touched-ordering",
   "metadata": {},
   "outputs": [],
   "source": [
    "type(gdf)"
   ]
  },
  {
   "cell_type": "code",
   "execution_count": null,
   "id": "charged-morgan",
   "metadata": {},
   "outputs": [],
   "source": [
    "gdf.shape"
   ]
  },
  {
   "cell_type": "code",
   "execution_count": null,
   "id": "determined-lighter",
   "metadata": {
    "scrolled": true
   },
   "outputs": [],
   "source": [
    "gdf. head(4)"
   ]
  },
  {
   "cell_type": "code",
   "execution_count": null,
   "id": "judicial-terrorist",
   "metadata": {},
   "outputs": [],
   "source": [
    "gdf.tail(4)"
   ]
  },
  {
   "cell_type": "markdown",
   "id": "legendary-divide",
   "metadata": {},
   "source": [
    "I'll need to rename my columns"
   ]
  },
  {
   "cell_type": "code",
   "execution_count": null,
   "id": "geographic-status",
   "metadata": {
    "scrolled": true
   },
   "outputs": [],
   "source": [
    "gdf.columns.to_list()"
   ]
  },
  {
   "cell_type": "code",
   "execution_count": null,
   "id": "speaking-lemon",
   "metadata": {},
   "outputs": [],
   "source": [
    "gdf.columns=['Geoid',\n",
    " 'Name',\n",
    " 'Neighborhood',\n",
    " 'Median Inc',\n",
    " 'Total Work',\n",
    " 'Car Total',\n",
    " 'Drove alone',\n",
    " 'Carpooled',\n",
    " 'Public transportation',\n",
    " 'Bus',\n",
    " 'Subway',\n",
    " 'Long-distance rail',\n",
    " 'Light rail',\n",
    " 'Worked from home',\n",
    " '%Car Total',\n",
    " '%Drove alone',\n",
    " '%Carpooled',\n",
    " '%Public transportation',\n",
    " '%Bus',\n",
    " '%Subway',\n",
    " '%Long-distance rail',\n",
    " '%Light rail',\n",
    " '%Worked from home',\n",
    " 'Total Pop',\n",
    " 'White',\n",
    " 'Black',\n",
    " 'Native',\n",
    " 'Asian',\n",
    " 'Native H',\n",
    " 'Hispanic or Latino',\n",
    " '%White',\n",
    " '%Black',\n",
    " '%Native',\n",
    " '%Asian',\n",
    " '%Hawaiian',\n",
    " '%Hispanic or Latino',\n",
    " 'geometry']"
   ]
  },
  {
   "cell_type": "code",
   "execution_count": null,
   "id": "arabic-usage",
   "metadata": {
    "scrolled": false
   },
   "outputs": [],
   "source": [
    "gdf.head(3)"
   ]
  },
  {
   "cell_type": "markdown",
   "id": "grave-bahamas",
   "metadata": {},
   "source": [
    "All is right with the world and the dataset is good to go!"
   ]
  },
  {
   "cell_type": "markdown",
   "id": "atlantic-installation",
   "metadata": {},
   "source": [
    "# Normalizing: Our Data per 1000 people"
   ]
  },
  {
   "cell_type": "markdown",
   "id": "bibliographic-subcommittee",
   "metadata": {},
   "source": [
    "Following the example from class, I'm normalizing a couple variables to see the rate per 1000 people"
   ]
  },
  {
   "cell_type": "code",
   "execution_count": null,
   "id": "available-margin",
   "metadata": {},
   "outputs": [],
   "source": [
    "gdf['car_per_1000'] = gdf['Car Total']/gdf['Total Work']*1000\n",
    "gdf['transit_per_1000'] = gdf['Public transportation']/gdf['Total Work']*1000\n",
    "gdf['bus_per_1000'] = gdf['Bus']/gdf['Total Work']*1000\n",
    "gdf['subway_per_1000'] = gdf['Subway']/gdf['Total Work']*1000\n",
    "gdf['disrail_per_1000'] = gdf['Long-distance rail']/gdf['Total Work']*1000\n",
    "gdf['lightrail_per_1000'] = gdf['Worked from home']/gdf['Total Work']*1000"
   ]
  },
  {
   "cell_type": "markdown",
   "id": "virtual-blackjack",
   "metadata": {},
   "source": [
    "Well we use all of these, no. Likely just car and transporation. But it's nice to have options."
   ]
  },
  {
   "cell_type": "code",
   "execution_count": null,
   "id": "lovely-camcorder",
   "metadata": {},
   "outputs": [],
   "source": [
    "gdf.sample(3)"
   ]
  },
  {
   "cell_type": "markdown",
   "id": "distant-islam",
   "metadata": {},
   "source": [
    "Also note, I should really stops adding space to my variables. "
   ]
  },
  {
   "cell_type": "code",
   "execution_count": null,
   "id": "alpha-basic",
   "metadata": {
    "scrolled": false
   },
   "outputs": [],
   "source": [
    "gdf.sort_values(by=\"transit_per_1000\").tail(10)"
   ]
  },
  {
   "cell_type": "markdown",
   "id": "opposite-structure",
   "metadata": {},
   "source": [
    "So I'm following Yoh's notebook until I get my feet settled with this data, but did not realize 5 tracts have no data. They are not in our slected neighborhoods, but would like to explore why these show up with no values. I know one of the tracts consists of the beach on the Westside. I imagine other are similar in nature."
   ]
  },
  {
   "cell_type": "markdown",
   "id": "handmade-hartford",
   "metadata": {},
   "source": [
    "I know people are using points for their data with their polygons but I'm going to continue to use my polygon tracts. HOWEVER, it would be interesting to to map bus stops or transit stops in each tract. I initially tried bus stops but was having troubles uploading my data to jupyter. May try again later. I could use rail stops, but given the dismal rail ridership I've seen, I'm not sure if that will be terribly helpful. Will forge on for better or worse now"
   ]
  },
  {
   "cell_type": "code",
   "execution_count": null,
   "id": "whole-romania",
   "metadata": {
    "scrolled": false
   },
   "outputs": [],
   "source": [
    "fig,ax = plt.subplots(figsize=(20,18))\n",
    "gdf.sort_values(by='transit_per_1000',ascending=False)[:30].plot(ax=ax,\n",
    "                                                                 color='blue',\n",
    "                                                                 edgecolor='white',\n",
    "                                                                 alpha=0.5,legend=True)\n",
    "\n",
    "\n",
    "# title\n",
    "ax.set_title('Top 30 Tracts of Transit Ridership per 1000 people')\n",
    "\n",
    "# no axis\n",
    "ax.axis('off')\n",
    "\n",
    "# add a basemap\n",
    "ctx.add_basemap(ax, crs=gdf.crs.to_string())"
   ]
  },
  {
   "cell_type": "markdown",
   "id": "approximate-preparation",
   "metadata": {},
   "source": [
    "I changed the contexuality input that we were using from class as that wasn't showing anything. I think there may be an issue with projecting my data to a CRS, but am not entirely sure.\n",
    "\n",
    "Top 30 tracts are in the Central LA. It looks like mostly Westlake with some scattering around the edges. It's noticable that these areas are presenting themselves as clusters, with one mega-cluster in Westlake."
   ]
  },
  {
   "cell_type": "code",
   "execution_count": null,
   "id": "occupational-policy",
   "metadata": {
    "scrolled": false
   },
   "outputs": [],
   "source": [
    "fig,ax = plt.subplots(figsize=(20,20))\n",
    "\n",
    "gdf.plot(ax=ax,\n",
    "        column='transit_per_1000',\n",
    "        legend=True,\n",
    "        alpha=0.8,\n",
    "        cmap='cividis',\n",
    "        scheme='quantiles')\n",
    "\n",
    "ax.axis('off')\n",
    "ax.set_title('Transit Ridership Per 1000 People',fontsize=22) #font size! Well hot dog. Going to be using this for the next week\n",
    "ctx.add_basemap(ax, crs=gdf.crs.to_string())"
   ]
  },
  {
   "cell_type": "markdown",
   "id": "surprised-ferry",
   "metadata": {},
   "source": [
    "Okay, really want to get my bus stop data to work now, I think that would be helpful. Still having trouble with the data itself.\n",
    "\n",
    "But the story: High transit use in Central LA and South LA and moderate usage on the Westside and the San Fernando Valley. This presents a new persective my adding normalizing the data per 1000 people, which in effect is a different way to present percentages. Still interesting to see. I'm curious what the lag data will show. "
   ]
  },
  {
   "cell_type": "markdown",
   "id": "assigned-assembly",
   "metadata": {},
   "source": [
    "# Global Spaitial Autocorrelation or Something Like That"
   ]
  },
  {
   "cell_type": "markdown",
   "id": "uniform-catalog",
   "metadata": {},
   "source": [
    "So I'm using K to count the number of nearest neighbors. When we eventually get down to some of the mapping and charts, I think seeing clusters of transit will provide some insights, but am stil worried about using just the one combined dataset I have-- as it feels \"flat.\""
   ]
  },
  {
   "cell_type": "code",
   "execution_count": null,
   "id": "center-treasurer",
   "metadata": {},
   "outputs": [],
   "source": [
    "# calculate spatial weight\n",
    "wq =  lps.weights.KNN.from_dataframe(gdf,k=8)\n",
    "\n",
    "# Row-standardization\n",
    "wq.transform = 'r'"
   ]
  },
  {
   "cell_type": "markdown",
   "id": "completed-musical",
   "metadata": {},
   "source": [
    "Woo! Something happened. "
   ]
  },
  {
   "cell_type": "markdown",
   "id": "reasonable-wealth",
   "metadata": {},
   "source": [
    "Doing stuff with spatial lag. Kind of exciting to see what happens with this. "
   ]
  },
  {
   "cell_type": "markdown",
   "id": "earned-moscow",
   "metadata": {},
   "source": [
    "Moved down to just the one variable to make sure I get this right. But creating a new variable"
   ]
  },
  {
   "cell_type": "code",
   "execution_count": null,
   "id": "surrounded-little",
   "metadata": {},
   "outputs": [],
   "source": [
    "gdf['transit_per_1000_lag'] = lps.weights.lag_spatial(wq, gdf['transit_per_1000'])"
   ]
  },
  {
   "cell_type": "code",
   "execution_count": null,
   "id": "unlimited-zimbabwe",
   "metadata": {},
   "outputs": [],
   "source": [
    "gdf.sample(10)[['Total Work','Neighborhood','Public transportation','transit_per_1000','transit_per_1000_lag']]"
   ]
  },
  {
   "cell_type": "markdown",
   "id": "baking-terrorism",
   "metadata": {},
   "source": [
    "Oh! This is what I was expecting and I'm also surprised. There will be a couple layers to unpack here in a bit. Excited to move on."
   ]
  },
  {
   "cell_type": "markdown",
   "id": "hundred-walter",
   "metadata": {},
   "source": [
    "## DONUT and DONUT HOLE TIME (down with diamonds!)"
   ]
  },
  {
   "cell_type": "markdown",
   "id": "confused-authentication",
   "metadata": {},
   "source": [
    "Going to try and identify some donuts and donut holes. "
   ]
  },
  {
   "cell_type": "code",
   "execution_count": null,
   "id": "polish-combat",
   "metadata": {},
   "outputs": [],
   "source": [
    "gdf['transit_lag_diff'] = gdf['transit_per_1000'] - gdf['transit_per_1000_lag']"
   ]
  },
  {
   "cell_type": "code",
   "execution_count": null,
   "id": "aboriginal-segment",
   "metadata": {
    "scrolled": true
   },
   "outputs": [],
   "source": [
    "gdf.sort_values(by='transit_lag_diff')"
   ]
  },
  {
   "cell_type": "markdown",
   "id": "periodic-trout",
   "metadata": {},
   "source": [
    "Well that query wasn't too helpful and I'm definately not going to check out the whole dataset. Though myabe it's time to check out what this means for our selected neighborhoods."
   ]
  },
  {
   "cell_type": "markdown",
   "id": "opposed-harassment",
   "metadata": {},
   "source": [
    "* Downtown (Central LA)\n",
    "* Pico-Union(Central LA)\n",
    "* Panaroma City (San Fernando Valley)\n",
    "* North Hollywood (San Fernando Valley)\n",
    "* Mid-City (Central LA, Car Dominant)"
   ]
  },
  {
   "cell_type": "code",
   "execution_count": null,
   "id": "invalid-fraud",
   "metadata": {
    "scrolled": true
   },
   "outputs": [],
   "source": [
    "gdf.query(\"Neighborhood== 'Downtown'\").sort_values(by='transit_lag_diff')"
   ]
  },
  {
   "cell_type": "markdown",
   "id": "public-collectible",
   "metadata": {},
   "source": [
    "Obvisouly these are all in one neighborhood, but I will be interested to see how they spatailly related to each other. There is a pretty significant range in transit lag differnces."
   ]
  },
  {
   "cell_type": "code",
   "execution_count": null,
   "id": "infectious-calvin",
   "metadata": {
    "scrolled": true
   },
   "outputs": [],
   "source": [
    "gdf.query(\"Neighborhood== 'Pico-Union'\").sort_values(by='transit_lag_diff')"
   ]
  },
  {
   "cell_type": "markdown",
   "id": "dying-pennsylvania",
   "metadata": {},
   "source": [
    "Range is not quite as large as Downtown, but still significant."
   ]
  },
  {
   "cell_type": "code",
   "execution_count": null,
   "id": "visible-format",
   "metadata": {
    "scrolled": true
   },
   "outputs": [],
   "source": [
    "gdf.query(\"Neighborhood== 'Panorama City'\").sort_values(by='transit_lag_diff')"
   ]
  },
  {
   "cell_type": "markdown",
   "id": "professional-contamination",
   "metadata": {},
   "source": [
    "Panorama City range is actually similar to Pico-Union, which I do find suprising. Excited to plot these soon and see their spatial relation>"
   ]
  },
  {
   "cell_type": "code",
   "execution_count": null,
   "id": "fabulous-study",
   "metadata": {
    "scrolled": true
   },
   "outputs": [],
   "source": [
    "gdf.query(\"Neighborhood== 'North Hollywood'\").sort_values(by='transit_lag_diff')"
   ]
  },
  {
   "cell_type": "markdown",
   "id": "compressed-printing",
   "metadata": {},
   "source": [
    "Less transit lag differences that are positive, but can be expected given this neighborhood is in the San Fernando Valley."
   ]
  },
  {
   "cell_type": "code",
   "execution_count": null,
   "id": "handled-adventure",
   "metadata": {
    "scrolled": true
   },
   "outputs": [],
   "source": [
    "gdf.query(\"Neighborhood== 'Mid-City'\").sort_values(by='transit_lag_diff')"
   ]
  },
  {
   "cell_type": "markdown",
   "id": "inside-amplifier",
   "metadata": {},
   "source": [
    "Again, seems similar to Pico-Union and Panorama City. Maybe these patterns are indicative of neighborhoods in general, or at least neighborhoods with marginally more transit ridership."
   ]
  },
  {
   "cell_type": "code",
   "execution_count": null,
   "id": "furnished-translator",
   "metadata": {},
   "outputs": [],
   "source": [
    "gdf_donut = gdf.sort_values(by='transit_lag_diff').head(5)\n",
    "gdf_donut"
   ]
  },
  {
   "cell_type": "code",
   "execution_count": null,
   "id": "guided-dinner",
   "metadata": {},
   "outputs": [],
   "source": [
    "# hashtag-donut holes for the win\n",
    "gdf_donuthole = gdf.sort_values(by='transit_lag_diff').tail(28)\n",
    "gdf_donuthole"
   ]
  },
  {
   "cell_type": "markdown",
   "id": "taken-scientist",
   "metadata": {},
   "source": [
    "So the last 28 tracts have NaN values. I wonder if that's becasue trasnit ridership in these areas is so small. I thought they would show up as negative values, so I'm a little confused in what's happening here. "
   ]
  },
  {
   "cell_type": "markdown",
   "id": "noble-tunnel",
   "metadata": {},
   "source": [
    "<div class=\"alert alert-danger\">\n",
    "<h1>Note</h1>\n",
    "The maps below all have the wrong column value `transit_lag_diff` so changed those to `transit_per_1000_lag`\n",
    "</div>"
   ]
  },
  {
   "cell_type": "code",
   "execution_count": null,
   "id": "ruled-fundamentals",
   "metadata": {},
   "outputs": [],
   "source": [
    "# create the 1x2 subplots\n",
    "fig, ax = plt.subplots(1, 2, figsize=(20, 15))\n",
    "\n",
    "# two subplots produces ax[0] (left) and ax[1] (right)\n",
    "\n",
    "# regular count map on the left\n",
    "gdf.plot(ax=ax[0], # this assigns the map to the left subplot\n",
    "         column='transit_per_1000', \n",
    "         scheme='quantiles',\n",
    "         k=5, \n",
    "         edgecolor='white', \n",
    "         linewidth=0, \n",
    "         alpha=0.8, \n",
    "         legend=True,)\n",
    "\n",
    "\n",
    "ax[0].axis(\"off\")\n",
    "ax[0].set_title(\"Transit per 1000\",fontsize=22)\n",
    "\n",
    "# spatial lag map on the right\n",
    "gdf.plot(ax=ax[1],\n",
    "         column='transit_per_1000_lag',\n",
    "         scheme='quantiles',\n",
    "         k=5, \n",
    "         edgecolor='white',\n",
    "         linewidth=0, \n",
    "         alpha=0.8,\n",
    "         legend=True,)\n",
    "\n",
    "\n",
    "ax[1].axis(\"off\")\n",
    "ax[1].set_title('Transit Spatial Lag, Per 1000 People',fontsize=22)\n",
    "\n",
    "plt.show()"
   ]
  },
  {
   "cell_type": "markdown",
   "id": "retained-coast",
   "metadata": {},
   "source": [
    "So, I defintaly spend too much time exploring different color options. It's JUST SO FUN. "
   ]
  },
  {
   "cell_type": "markdown",
   "id": "appreciated-rebate",
   "metadata": {},
   "source": [
    "I'm also not delving into donut and donut holes as I would like, but need to be a bit more efficient with my time (or at least try to)."
   ]
  },
  {
   "cell_type": "markdown",
   "id": "informal-interaction",
   "metadata": {},
   "source": [
    "There is a much more clear picture now. Strong clusterings in Central LA and the SF Valley. Moderate use in West LA and even some in west SF Valley--all these being relative given low trasnit numbers in general."
   ]
  },
  {
   "cell_type": "markdown",
   "id": "parental-barrel",
   "metadata": {},
   "source": [
    "Mapping the Neighborhoods\n",
    "* Downtown (Central LA)\n",
    "* Pico-Union(Central LA)\n",
    "* Panoroma City (San Fernando Valley)\n",
    "* North Hollywood (San Fernando Valley)\n",
    "* Mid-City (Central LA, Car Dominant)"
   ]
  },
  {
   "cell_type": "markdown",
   "id": "considerable-voluntary",
   "metadata": {},
   "source": [
    "In order to save on memory and successfully save this file,the below maps are disabled--I added a # to the first run line of code"
   ]
  },
  {
   "cell_type": "markdown",
   "id": "eight-cleveland",
   "metadata": {},
   "source": [
    "Downtown"
   ]
  },
  {
   "cell_type": "code",
   "execution_count": null,
   "id": "desirable-straight",
   "metadata": {},
   "outputs": [],
   "source": [
    "# create the 1x2 subplots\n",
    "fig, ax = plt.subplots(1, 2, figsize=(20, 15))\n",
    "\n",
    "# two subplots produces ax[0] (left) and ax[1] (right)\n",
    "\n",
    "# regular count map on the left\n",
    "gdf.query(\"Neighborhood== 'Downtown'\").plot(ax=ax[0], # this assigns the map to the left subplot\n",
    "         column='transit_per_1000', \n",
    "         scheme='quantiles',\n",
    "         k=5, \n",
    "         edgecolor='white', \n",
    "         linewidth=0, \n",
    "         alpha=0.8, \n",
    "         legend=True,)\n",
    "\n",
    "\n",
    "ax[0].axis(\"off\")\n",
    "ax[0].set_title(\"Transit per 1000\",fontsize=22)\n",
    "\n",
    "# spatial lag map on the right\n",
    "gdf.query(\"Neighborhood== 'Downtown'\").plot(ax=ax[1],\n",
    "         column='transit_per_1000_lag',\n",
    "         scheme='quantiles',\n",
    "         k=5, \n",
    "         edgecolor='white',\n",
    "         linewidth=0, \n",
    "         alpha=0.8,\n",
    "         legend=True,)\n",
    "\n",
    "\n",
    "ax[1].axis(\"off\")\n",
    "ax[1].set_title('Transit Spatial Lag, Per 1000 People',fontsize=22)\n",
    "\n",
    "plt.show()"
   ]
  },
  {
   "cell_type": "markdown",
   "id": "pediatric-humanity",
   "metadata": {},
   "source": [
    "* Numbers significantly reduced\n",
    "* Other tracts not on this neighborhood are likely influencing this the boundaries of each neighborhood.\n",
    "* Auto travel of neighboring tracts are likely influencing these numbers\n",
    "* Ultimately, surprising to see how trasnit lag numbers on this \"high transit\" area, though since its' LA, maybe not so surprising. I also think looking on a finer detail would help--block groups\n"
   ]
  },
  {
   "cell_type": "markdown",
   "id": "graphic-cooler",
   "metadata": {},
   "source": [
    "Pico-Union"
   ]
  },
  {
   "cell_type": "code",
   "execution_count": null,
   "id": "general-policy",
   "metadata": {},
   "outputs": [],
   "source": [
    "# create the 1x2 subplots\n",
    "fig, ax = plt.subplots(1, 2, figsize=(20, 15))\n",
    "\n",
    "# two subplots produces ax[0] (left) and ax[1] (right)\n",
    "\n",
    "# regular count map on the left\n",
    "gdf.query(\"Neighborhood== 'Pico-Union'\").plot(ax=ax[0], # this assigns the map to the left subplot\n",
    "         column='transit_per_1000', \n",
    "         scheme='quantiles',\n",
    "         k=5, \n",
    "         edgecolor='white', \n",
    "         linewidth=0, \n",
    "         alpha=0.8, \n",
    "         legend=True,)\n",
    "\n",
    "\n",
    "ax[0].axis(\"off\")\n",
    "ax[0].set_title(\"Transit per 1000\",fontsize=22)\n",
    "\n",
    "# spatial lag map on the right\n",
    "gdf.query(\"Neighborhood== 'Pico-Union'\").plot(ax=ax[1],\n",
    "         column='transit_per_1000_lag',\n",
    "         scheme='quantiles',\n",
    "         k=5, \n",
    "         edgecolor='white',\n",
    "         linewidth=0, \n",
    "         alpha=0.8,\n",
    "         legend=True,)\n",
    "\n",
    "\n",
    "ax[1].axis(\"off\")\n",
    "ax[1].set_title('Transit Spatial Lag, Per 1000 People',fontsize=22)\n",
    "\n",
    "plt.show()"
   ]
  },
  {
   "cell_type": "markdown",
   "id": "pretty-weapon",
   "metadata": {},
   "source": [
    "So be warned, I'm imaging all of these maps are likely going to say the same thing, more or less. These other neighborhoods will have significantly less transit compared to Downtown.\n",
    "* It would be helpful to see what neighborhoods surround Pico-Union.\n",
    "* Auto travel of neighboring tracts are likely influencing these numbers\n",
    "* Most of these look fairly uniform\n"
   ]
  },
  {
   "cell_type": "markdown",
   "id": "interpreted-surgeon",
   "metadata": {},
   "source": [
    "Panorama City"
   ]
  },
  {
   "cell_type": "code",
   "execution_count": null,
   "id": "agreed-reservation",
   "metadata": {},
   "outputs": [],
   "source": [
    "# create the 1x2 subplots\n",
    "fig, ax = plt.subplots(1, 2, figsize=(20, 15))\n",
    "\n",
    "# two subplots produces ax[0] (left) and ax[1] (right)\n",
    "\n",
    "# regular count map on the left\n",
    "gdf.query(\"Neighborhood== 'Panorama City'\").plot(ax=ax[0], # this assigns the map to the left subplot\n",
    "         column='transit_per_1000', \n",
    "         scheme='quantiles',\n",
    "         k=5, \n",
    "         edgecolor='white', \n",
    "         linewidth=0, \n",
    "         alpha=0.8, \n",
    "         legend=True,)\n",
    "\n",
    "\n",
    "ax[0].axis(\"off\")\n",
    "ax[0].set_title(\"Transit per 1000\",fontsize=22)\n",
    "\n",
    "# spatial lag map on the right\n",
    "gdf.query(\"Neighborhood== 'Panorama City'\").plot(ax=ax[1],\n",
    "         column='transit_per_1000_lag',\n",
    "         scheme='quantiles',\n",
    "         k=5, \n",
    "         edgecolor='white',\n",
    "         linewidth=0, \n",
    "         alpha=0.8,\n",
    "         legend=True,)\n",
    "\n",
    "\n",
    "ax[1].axis(\"off\")\n",
    "ax[1].set_title('Transit Spatial Lag, Per 1000 People',fontsize=22)\n",
    "\n",
    "plt.show()"
   ]
  },
  {
   "cell_type": "markdown",
   "id": "aerial-luther",
   "metadata": {},
   "source": [
    "* Numbers reduced, more tracts are in the \"positive\", I should look at their total populations. This is surprising given this neighborhood’s location in the San Fernando Valley\n",
    "* It would be helpful to see what neighborhoods surround Panorama City.\n",
    "* Auto travel of neighboring tracts are likely influencing these numbers\n"
   ]
  },
  {
   "cell_type": "markdown",
   "id": "useful-necessity",
   "metadata": {},
   "source": [
    "North Hollywod"
   ]
  },
  {
   "cell_type": "code",
   "execution_count": null,
   "id": "ecological-inventory",
   "metadata": {},
   "outputs": [],
   "source": [
    "# create the 1x2 subplots\n",
    "#fig, ax = plt.subplots(1, 2, figsize=(20, 15))\n",
    "\n",
    "# two subplots produces ax[0] (left) and ax[1] (right)\n",
    "\n",
    "# regular count map on the left\n",
    "#gdf.query(\"Neighborhood== 'North Hollywood'\").plot(ax=ax[0], # this assigns the map to the left subplot\n",
    "       #  column='transit_per_1000', \n",
    "      #   scheme='quantiles',\n",
    "     #    k=5, \n",
    "    #     edgecolor='white', \n",
    "   #      linewidth=0, \n",
    "  #       alpha=0.8, \n",
    " #        legend=True,)\n",
    "\n",
    "\n",
    "#ax[0].axis(\"off\")\n",
    "#ax[0].set_title(\"Transit per 1000\",fontsize=22)\n",
    "\n",
    "# spatial lag map on the right\n",
    "#gdf.query(\"Neighborhood== 'North Hollywood'\").plot(ax=ax[1],\n",
    "        # column='transit_per_1000_lag',\n",
    "       #  scheme='quantiles',\n",
    "      #   k=5, \n",
    "     #    edgecolor='white',\n",
    "    #     linewidth=0, \n",
    "  ##       alpha=0.8,\n",
    " #        legend=True,)\n",
    "\n",
    "\n",
    "#ax[1].axis(\"off\")\n",
    "#ax[1].set_title('Transit Spatial Lag, Per 1000 People',fontsize=22)\n",
    "\n",
    "#plt.show()"
   ]
  },
  {
   "cell_type": "markdown",
   "id": "informational-tokyo",
   "metadata": {},
   "source": [
    "So these maps are practically identical, with some slight changes\n",
    "* Again, more tracts in the positive\n",
    "* That is unique from what I've seen here. There are some nuances to this, but something I was not expecting.\n",
    "* Interval ranges are also much more condensed compared to the others"
   ]
  },
  {
   "cell_type": "markdown",
   "id": "remarkable-blogger",
   "metadata": {},
   "source": [
    "Mid-City (Not running map in order to save room to save)"
   ]
  },
  {
   "cell_type": "code",
   "execution_count": null,
   "id": "relevant-detection",
   "metadata": {},
   "outputs": [],
   "source": [
    "# create the 1x2 subplots\n",
    "#fig, ax = plt.subplots(1, 2, figsize=(20, 15))\n",
    "\n",
    "# two subplots produces ax[0] (left) and ax[1] (right)\n",
    "\n",
    "# regular count map on the left\n",
    "#gdf.query(\"Neighborhood== 'Mid-City'\").plot(ax=ax[0], # this assigns the map to the left subplot\n",
    "       #  column='transit_per_1000', \n",
    "      #   scheme='quantiles',\n",
    "      #   k=5, \n",
    "       #  edgecolor='white', \n",
    "       #  linewidth=0, \n",
    "        # alpha=0.8, \n",
    "         #legend=True,)\n",
    "#\n",
    "\n",
    "#ax[0].axis(\"off\")\n",
    "#ax[0].set_title(\"Transit per 1000\",fontsize=22)\n",
    "\n",
    "# spatial lag map on the right\n",
    "#gdf.query(\"Neighborhood== 'Mid-City'\").plot(ax=ax[1],\n",
    "        # column='transit_per_1000_lag',\n",
    "       #  scheme='quantiles',\n",
    "       #  k=5, \n",
    "        # edgecolor='white',\n",
    "        # linewidth=0, \n",
    "        # alpha=0.8,\n",
    "        # legend=True,)\n",
    "\n",
    "\n",
    "#ax[1].axis(\"off\")\n",
    "#ax[1].set_title('Transit Spatial Lag, Per 1000 People',fontsize=22)\n",
    "\n",
    "#plt.show()"
   ]
  },
  {
   "cell_type": "markdown",
   "id": "welsh-merchandise",
   "metadata": {},
   "source": [
    "* Again, almost identical.\n",
    "* Numbers are compressed. Downtown appears to have the biggest range of trasnit numbers."
   ]
  },
  {
   "cell_type": "markdown",
   "id": "historical-correlation",
   "metadata": {},
   "source": [
    "# Moran"
   ]
  },
  {
   "cell_type": "markdown",
   "id": "expected-iceland",
   "metadata": {},
   "source": [
    "This part I'm again not condifent in. Will follow Yoh's notebook for guidance and see what we can find."
   ]
  },
  {
   "cell_type": "markdown",
   "id": "handmade-meter",
   "metadata": {},
   "source": [
    "Restarting some steps removing NaN values from the dataset. I'm dropping these values, which I realize is a drastic option. I'm also trying some options like a trimmed dataset or just excluding them."
   ]
  },
  {
   "cell_type": "code",
   "execution_count": null,
   "id": "advised-donna",
   "metadata": {},
   "outputs": [],
   "source": [
    "gdf2=gdf"
   ]
  },
  {
   "cell_type": "code",
   "execution_count": null,
   "id": "passive-tomorrow",
   "metadata": {
    "scrolled": true
   },
   "outputs": [],
   "source": [
    "gdf2.sample(5)"
   ]
  },
  {
   "cell_type": "code",
   "execution_count": null,
   "id": "ideal-reason",
   "metadata": {},
   "outputs": [],
   "source": [
    "gdf2=gdf.drop([1003, 1001, 998, 997, 995])"
   ]
  },
  {
   "cell_type": "code",
   "execution_count": null,
   "id": "endangered-silence",
   "metadata": {
    "scrolled": true
   },
   "outputs": [],
   "source": [
    "gdf2.sort_values(by='transit_per_1000').head()"
   ]
  },
  {
   "cell_type": "code",
   "execution_count": null,
   "id": "controlled-nursery",
   "metadata": {
    "scrolled": true
   },
   "outputs": [],
   "source": [
    "gdf2.sort_values(by='transit_per_1000').tail()"
   ]
  },
  {
   "cell_type": "code",
   "execution_count": null,
   "id": "ultimate-closing",
   "metadata": {},
   "outputs": [],
   "source": [
    "gdf2.reset_index()"
   ]
  },
  {
   "cell_type": "code",
   "execution_count": null,
   "id": "ruled-hunter",
   "metadata": {},
   "outputs": [],
   "source": [
    "gdf2=gdf2.reset_index()"
   ]
  },
  {
   "cell_type": "code",
   "execution_count": null,
   "id": "difficult-reach",
   "metadata": {
    "scrolled": false
   },
   "outputs": [],
   "source": [
    "gdf2.sample()"
   ]
  },
  {
   "cell_type": "markdown",
   "id": "south-yield",
   "metadata": {},
   "source": [
    "So we dropped the NaN neighborhoods. I believe that was the crux of our problem, but I'm not entirely sure. "
   ]
  },
  {
   "cell_type": "markdown",
   "id": "plastic-offset",
   "metadata": {},
   "source": [
    "Significant problems right here with getting Moran to work. If I'm unable to solve this and the TAs/Yoh are unavaiable, I will submit the notebook as is, depite the lack of moran related charts and maps we were supposed to use. I will circle back around with them later this week to try and get some help. Apologies for coming up short. "
   ]
  },
  {
   "cell_type": "markdown",
   "id": "practical-blackberry",
   "metadata": {},
   "source": [
    "<div class=\"alert alert-danger\">\n",
    "<h1>Note</h1>\n",
    "You are misssing some steps here...\n",
    "    \n",
    "First do the global autocorrelation\n",
    "</div>"
   ]
  },
  {
   "cell_type": "code",
   "execution_count": null,
   "id": "chicken-reflection",
   "metadata": {
    "cell_id": "00044-c20d9e6b-953d-44f8-8f15-51052303c063",
    "deepnote_cell_type": "code",
    "execution_millis": 111,
    "execution_start": 1605806657728,
    "output_cleared": false,
    "slideshow": {
     "slide_type": "fragment"
    },
    "source_hash": "3ee158c7"
   },
   "outputs": [],
   "source": [
    "# calculate spatial weight\n",
    "wq =  lps.weights.KNN.from_dataframe(gdf2,k=8)\n",
    "\n",
    "# Row-standardization\n",
    "wq.transform = 'r'"
   ]
  },
  {
   "cell_type": "code",
   "execution_count": null,
   "id": "welcome-mainstream",
   "metadata": {
    "slideshow": {
     "slide_type": "fragment"
    }
   },
   "outputs": [],
   "source": [
    "y = gdf2.transit_per_1000\n",
    "moran = Moran(y, wq)\n",
    "moran.I"
   ]
  },
  {
   "cell_type": "code",
   "execution_count": null,
   "id": "continued-budget",
   "metadata": {
    "slideshow": {
     "slide_type": "fragment"
    }
   },
   "outputs": [],
   "source": [
    "fig, ax = moran_scatterplot(moran, aspect_equal=True)\n",
    "plt.show()"
   ]
  },
  {
   "cell_type": "markdown",
   "id": "chief-oregon",
   "metadata": {},
   "source": [
    "There is a very clear patter pattern here. Though there is huge concentration at 0,0, which I think explains general low public transportation use in LA. Stong clope. "
   ]
  },
  {
   "cell_type": "code",
   "execution_count": null,
   "id": "outstanding-outside",
   "metadata": {
    "cell_id": "00055-489abd0d-4dfc-4a43-ab07-631157aaea0d",
    "deepnote_cell_type": "code",
    "execution_millis": 47,
    "execution_start": 1605807625694,
    "output_cleared": false,
    "slideshow": {
     "slide_type": "slide"
    },
    "source_hash": "707e03ac"
   },
   "outputs": [],
   "source": [
    "plot_moran_simulation(moran,aspect_equal=False)"
   ]
  },
  {
   "cell_type": "code",
   "execution_count": null,
   "id": "tight-wonder",
   "metadata": {
    "cell_id": "00057-90a65e59-c521-42fa-bc23-4141b9369225",
    "deepnote_cell_type": "code",
    "output_cleared": true,
    "scrolled": true,
    "slideshow": {
     "slide_type": "fragment"
    }
   },
   "outputs": [],
   "source": [
    "moran.p_sim"
   ]
  },
  {
   "cell_type": "markdown",
   "id": "eligible-suicide",
   "metadata": {},
   "source": [
    "Low p-value. Would reject my null hpothesis based on this with a chosen alpha of 0.05. Public trasnportation is not equal among census tracts."
   ]
  },
  {
   "cell_type": "markdown",
   "id": "incident-contest",
   "metadata": {},
   "source": [
    "<div class=\"alert alert-danger\">\n",
    "<h1>Note</h1>\n",
    "Now you can do the local auto-correlation\n",
    "</div>"
   ]
  },
  {
   "cell_type": "code",
   "execution_count": null,
   "id": "favorite-visitor",
   "metadata": {
    "cell_id": "00060-4a2f2b79-53f9-44b4-ae86-31cc8fdce2bd",
    "deepnote_cell_type": "code",
    "execution_millis": 3398,
    "execution_start": 1605807811791,
    "output_cleared": false,
    "slideshow": {
     "slide_type": "fragment"
    },
    "source_hash": "bf84c31e"
   },
   "outputs": [],
   "source": [
    "# calculate local moran values\n",
    "lisa = esda.moran.Moran_Local(y, wq)"
   ]
  },
  {
   "cell_type": "code",
   "execution_count": null,
   "id": "medical-transport",
   "metadata": {
    "cell_id": "00063-d9fc9212-bf39-4525-90db-ff4cbcfd7783",
    "deepnote_cell_type": "code",
    "execution_millis": 214,
    "execution_start": 1605807831354,
    "output_cleared": false,
    "scrolled": false,
    "slideshow": {
     "slide_type": "fragment"
    },
    "source_hash": "2b643"
   },
   "outputs": [],
   "source": [
    "# Plot\n",
    "fig,ax = plt.subplots(figsize=(10,15))\n",
    "\n",
    "moran_scatterplot(lisa, ax=ax, p=0.05)\n",
    "ax.set_xlabel(\"Arrests\")\n",
    "ax.set_ylabel('Spatial Lag of Public Transportation')\n",
    "\n",
    "# add some labels\n",
    "plt.text(1.95, 0.5, \"HH\", fontsize=25)\n",
    "plt.text(1.95, -1, \"HL\", fontsize=25)\n",
    "plt.text(-2, 1, \"LH\", fontsize=25)\n",
    "plt.text(-1, -1, \"LL\", fontsize=25)\n",
    "plt.show()"
   ]
  },
  {
   "cell_type": "markdown",
   "id": "fleet-crash",
   "metadata": {},
   "source": [
    "Shows P-values that are less than 0.05--these are statisically significant, spatailly autocorrelated geographies.My assumption is that these will all be in Central LA, few a few scattered elsewhere--SF Valley. I assum the LL points will be in the SF Valley as well and in the harbor region."
   ]
  },
  {
   "cell_type": "code",
   "execution_count": null,
   "id": "manufactured-degree",
   "metadata": {
    "cell_id": "00064-5038673d-0806-4e6c-a49e-9938454eedd4",
    "deepnote_cell_type": "code",
    "execution_millis": 819,
    "execution_start": 1605807832811,
    "output_cleared": false,
    "scrolled": false,
    "slideshow": {
     "slide_type": "fragment"
    },
    "source_hash": "4f4bbffa"
   },
   "outputs": [],
   "source": [
    "fig, ax = plt.subplots(figsize=(14,12))\n",
    "lisa_cluster(lisa, gdf2, p=0.05, ax=ax)\n",
    "plt.show()"
   ]
  },
  {
   "cell_type": "markdown",
   "id": "ecological-yeast",
   "metadata": {},
   "source": [
    "This shows what I assumed would happen, but goes further. I am particularly interested in the HL and LH clusters. What explains the HL on the norwest of the SF Valley? The HH points have statisically confirmed what we know, but narrowed the area in which we thhought are high transit users. "
   ]
  },
  {
   "cell_type": "code",
   "execution_count": null,
   "id": "comfortable-biodiversity",
   "metadata": {
    "cell_id": "00053-3d2f883f-e36b-42a8-b0e4-8d46ac893d67",
    "deepnote_cell_type": "code",
    "execution_millis": 1427,
    "execution_start": 1605807604042,
    "output_cleared": false,
    "slideshow": {
     "slide_type": "fragment"
    },
    "source_hash": "26dd2021"
   },
   "outputs": [],
   "source": [
    "# create the 1x2 subplots\n",
    "fig, ax = plt.subplots(1, 2, figsize=(15, 8))\n",
    "\n",
    "# regular count map on the left\n",
    "lisa_cluster(lisa, gdf2, p=0.05, ax=ax[0])\n",
    "\n",
    "ax[0].axis(\"off\")\n",
    "ax[0].set_title(\"P-value: 0.05\")\n",
    "\n",
    "# spatial lag map on the right\n",
    "lisa_cluster(lisa, gdf2, p=0.01, ax=ax[1])\n",
    "ax[1].axis(\"off\")\n",
    "ax[1].set_title(\"P-value: 0.01\")\n",
    "\n",
    "plt.show()"
   ]
  },
  {
   "cell_type": "markdown",
   "id": "responsible-storm",
   "metadata": {},
   "source": [
    "If we change our p-value to 0.01, are results are narrowed even further. HH transit areas are only in Central LA, which itself has eroded extensively. In all honesty, I'm surprised that any SF Valley tracts showed up with a p-value of 0.05, but makes me feel better knowing we have a focus in that region in our analysis. I think this adds a new element to what we've done thus far by showing the stasitical signifance of high transit tracts. "
   ]
  },
  {
   "cell_type": "markdown",
   "id": "legitimate-giant",
   "metadata": {},
   "source": [
    "# Division of Labor"
   ]
  },
  {
   "cell_type": "markdown",
   "id": "similar-kernel",
   "metadata": {},
   "source": [
    "Both discussed the process and communicated analysis of data. \n",
    "\n",
    "**Andrew:** Prepped the data, provided an added lens to the neighborhoods we're focusing on, relayed info to Ben, AND struggled with Moran.  \n",
    "\n",
    "**Ben:** Using the same data, also ran tests to explore data and practice skills, provided mores analysis, and also struggled with Moran.  \n",
    "\n",
    "**Yoh:** Fixed maps and added global autocorrelation to the new dataset so we could run Moran."
   ]
  },
  {
   "cell_type": "code",
   "execution_count": null,
   "id": "suffering-taiwan",
   "metadata": {},
   "outputs": [],
   "source": []
  }
 ],
 "metadata": {
  "kernelspec": {
   "display_name": "Python 3",
   "language": "python",
   "name": "python3"
  },
  "language_info": {
   "codemirror_mode": {
    "name": "ipython",
    "version": 3
   },
   "file_extension": ".py",
   "mimetype": "text/x-python",
   "name": "python",
   "nbconvert_exporter": "python",
   "pygments_lexer": "ipython3",
   "version": "3.8.5"
  },
  "toc": {
   "base_numbering": 1,
   "nav_menu": {},
   "number_sections": true,
   "sideBar": true,
   "skip_h1_title": false,
   "title_cell": "Table of Contents",
   "title_sidebar": "Contents",
   "toc_cell": false,
   "toc_position": {
    "height": "calc(100% - 180px)",
    "left": "10px",
    "top": "150px",
    "width": "165px"
   },
   "toc_section_display": true,
   "toc_window_display": true
  }
 },
 "nbformat": 4,
 "nbformat_minor": 5
}
