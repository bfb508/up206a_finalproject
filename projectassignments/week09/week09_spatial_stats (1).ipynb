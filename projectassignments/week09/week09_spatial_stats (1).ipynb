{
 "cells": [
  {
   "cell_type": "markdown",
   "id": "heard-hurricane",
   "metadata": {},
   "source": [
    "# Week 09 (?!) LA Neighborhood Transit: Spatial Statistics Overview"
   ]
  },
  {
   "cell_type": "markdown",
   "id": "searching-fence",
   "metadata": {},
   "source": [
    "**By:** Andrew Williams and Ben Brassette"
   ]
  },
  {
   "cell_type": "markdown",
   "id": "sapphire-raising",
   "metadata": {},
   "source": [
    "**Decription:** Purpose of this notebook is to use the tools from the Week 08 Spatial Stats lesson in order to provide a better analysis of our chosen neighborhoods for this project. "
   ]
  },
  {
   "cell_type": "markdown",
   "id": "respective-humor",
   "metadata": {},
   "source": [
    "**Neighborhoods:**\n",
    "* Downtown (Central LA)\n",
    "* Pico-Union(Central LA)\n",
    "* Panaroma City (San Fernando Valley)\n",
    "* North Hollywood (San Fernando Valley)\n",
    "* Mid-City (Central LA, Car Dominant)"
   ]
  },
  {
   "cell_type": "markdown",
   "id": "agreed-animal",
   "metadata": {},
   "source": [
    "# Library "
   ]
  },
  {
   "cell_type": "code",
   "execution_count": null,
   "id": "studied-arkansas",
   "metadata": {},
   "outputs": [],
   "source": [
    "# to read and wrangle data\n",
    "import pandas as pd\n",
    "\n",
    "# to create spatial data\n",
    "import geopandas as gpd\n",
    "\n",
    "# for basemaps\n",
    "import contextily as ctx\n",
    "\n",
    "# For spatial statistics\n",
    "import esda\n",
    "from esda.moran import Moran, Moran_Local\n",
    "\n",
    "import splot\n",
    "from splot.esda import moran_scatterplot, plot_moran, lisa_cluster,plot_moran_simulation\n",
    "\n",
    "import libpysal as lps\n",
    "\n",
    "# Graphics\n",
    "import matplotlib.pyplot as plt\n",
    "import plotly.express as px"
   ]
  },
  {
   "cell_type": "markdown",
   "id": "experimental-girlfriend",
   "metadata": {},
   "source": [
    "# Trimming Data"
   ]
  },
  {
   "cell_type": "markdown",
   "id": "potential-cathedral",
   "metadata": {},
   "source": [
    "## Data Check"
   ]
  },
  {
   "cell_type": "markdown",
   "id": "sixth-graphics",
   "metadata": {},
   "source": [
    "I'm going to downloand my dataset that features mode of transportatotion to work. I'm using a dataset that also has neighborhoods, income, and racial breakdownn in case I need to explore other variables (time permitting). I will do a typical check of the data to make sure it's ready for some exploration. "
   ]
  },
  {
   "cell_type": "code",
   "execution_count": null,
   "id": "artificial-knock",
   "metadata": {},
   "outputs": [],
   "source": [
    "gdf= gpd.read_file('m2w_income_race_new.geojson')"
   ]
  },
  {
   "cell_type": "code",
   "execution_count": null,
   "id": "adapted-freeze",
   "metadata": {},
   "outputs": [],
   "source": [
    "type(gdf)"
   ]
  },
  {
   "cell_type": "code",
   "execution_count": null,
   "id": "premium-ecology",
   "metadata": {},
   "outputs": [],
   "source": [
    "gdf.shape"
   ]
  },
  {
   "cell_type": "code",
   "execution_count": null,
   "id": "dedicated-correction",
   "metadata": {
    "scrolled": true
   },
   "outputs": [],
   "source": [
    "gdf. head(4)"
   ]
  },
  {
   "cell_type": "code",
   "execution_count": null,
   "id": "liable-nicholas",
   "metadata": {},
   "outputs": [],
   "source": [
    "gdf.tail(4)"
   ]
  },
  {
   "cell_type": "markdown",
   "id": "bright-relations",
   "metadata": {},
   "source": [
    "I'll need to rename my columns"
   ]
  },
  {
   "cell_type": "code",
   "execution_count": null,
   "id": "united-spending",
   "metadata": {
    "scrolled": true
   },
   "outputs": [],
   "source": [
    "gdf.columns.to_list()"
   ]
  },
  {
   "cell_type": "code",
   "execution_count": null,
   "id": "viral-northern",
   "metadata": {},
   "outputs": [],
   "source": [
    "gdf.columns=['Geoid',\n",
    " 'Name',\n",
    " 'Neighborhood',\n",
    " 'Median Inc',\n",
    " 'Total Work',\n",
    " 'Car Total',\n",
    " 'Drove alone',\n",
    " 'Carpooled',\n",
    " 'Public transportation',\n",
    " 'Bus',\n",
    " 'Subway',\n",
    " 'Long-distance rail',\n",
    " 'Light rail',\n",
    " 'Worked from home',\n",
    " '%Car Total',\n",
    " '%Drove alone',\n",
    " '%Carpooled',\n",
    " '%Public transportation',\n",
    " '%Bus',\n",
    " '%Subway',\n",
    " '%Long-distance rail',\n",
    " '%Light rail',\n",
    " '%Worked from home',\n",
    " 'Total Pop',\n",
    " 'White',\n",
    " 'Black',\n",
    " 'Native',\n",
    " 'Asian',\n",
    " 'Native H',\n",
    " 'Hispanic or Latino',\n",
    " '%White',\n",
    " '%Black',\n",
    " '%Native',\n",
    " '%Asian',\n",
    " '%Hawaiian',\n",
    " '%Hispanic or Latino',\n",
    " 'geometry']"
   ]
  },
  {
   "cell_type": "code",
   "execution_count": null,
   "id": "offensive-tuition",
   "metadata": {
    "scrolled": false
   },
   "outputs": [],
   "source": [
    "gdf.head(3)"
   ]
  },
  {
   "cell_type": "markdown",
   "id": "dependent-occasions",
   "metadata": {},
   "source": [
    "All is right with the world and the dataset is good to go!"
   ]
  },
  {
   "cell_type": "markdown",
   "id": "worst-cherry",
   "metadata": {},
   "source": [
    "# Normalizing: Our Data per 1000 people"
   ]
  },
  {
   "cell_type": "markdown",
   "id": "removable-canberra",
   "metadata": {},
   "source": [
    "Following the example from class, I'm normalizing a couple variables to see the rate per 1000 people"
   ]
  },
  {
   "cell_type": "code",
   "execution_count": null,
   "id": "essential-piano",
   "metadata": {},
   "outputs": [],
   "source": [
    "gdf['car_per_1000'] = gdf['Car Total']/gdf['Total Work']*1000\n",
    "gdf['transit_per_1000'] = gdf['Public transportation']/gdf['Total Work']*1000\n",
    "gdf['bus_per_1000'] = gdf['Bus']/gdf['Total Work']*1000\n",
    "gdf['subway_per_1000'] = gdf['Subway']/gdf['Total Work']*1000\n",
    "gdf['disrail_per_1000'] = gdf['Long-distance rail']/gdf['Total Work']*1000\n",
    "gdf['lightrail_per_1000'] = gdf['Worked from home']/gdf['Total Work']*1000"
   ]
  },
  {
   "cell_type": "markdown",
   "id": "computational-editor",
   "metadata": {},
   "source": [
    "Well we use all of these, no. Likely just car and transporation. But it's nice to have options."
   ]
  },
  {
   "cell_type": "code",
   "execution_count": null,
   "id": "intelligent-greensboro",
   "metadata": {},
   "outputs": [],
   "source": [
    "gdf.sample(3)"
   ]
  },
  {
   "cell_type": "markdown",
   "id": "prerequisite-journey",
   "metadata": {},
   "source": [
    "Also note, I should really stops adding space to my variables. "
   ]
  },
  {
   "cell_type": "code",
   "execution_count": null,
   "id": "attractive-equation",
   "metadata": {
    "scrolled": false
   },
   "outputs": [],
   "source": [
    "gdf.sort_values(by=\"transit_per_1000\").tail(10)"
   ]
  },
  {
   "cell_type": "markdown",
   "id": "presidential-modem",
   "metadata": {},
   "source": [
    "So I'm following Yoh's notebook until I get my feet settled with this data, but did not realize 5 tracts have no data. They are not in our slected neighborhoods, but would like to explore why these show up with no values. I know one of the tracts consists of the beach on the Westside. I imagine other are similar in nature."
   ]
  },
  {
   "cell_type": "markdown",
   "id": "aware-desire",
   "metadata": {},
   "source": [
    "I know people are using points for their data with their polygons but I'm going to continue to use my polygon tracts. HOWEVER, it would be interesting to to map bus stops or transit stops in each tract. I initially tried bus stops but was having troubles uploading my data to jupyter. May try again later. I could use rail stops, but given the dismal rail ridership I've seen, I'm not sure if that will be terribly helpful. Will forge on for better or worse now"
   ]
  },
  {
   "cell_type": "code",
   "execution_count": null,
   "id": "interim-moment",
   "metadata": {
    "scrolled": false
   },
   "outputs": [],
   "source": [
    "fig,ax = plt.subplots(figsize=(20,18))\n",
    "gdf.sort_values(by='transit_per_1000',ascending=False)[:30].plot(ax=ax,\n",
    "                                                                 color='blue',\n",
    "                                                                 edgecolor='white',\n",
    "                                                                 alpha=0.5,legend=True)\n",
    "\n",
    "\n",
    "# title\n",
    "ax.set_title('Top 30 Tracts of Transit Ridership per 1000 people')\n",
    "\n",
    "# no axis\n",
    "ax.axis('off')\n",
    "\n",
    "# add a basemap\n",
    "ctx.add_basemap(ax, crs=gdf.crs.to_string())"
   ]
  },
  {
   "cell_type": "markdown",
   "id": "efficient-curtis",
   "metadata": {},
   "source": [
    "I changed the contexuality input that we were using from class as that wasn't showing anything. I think there may be an issue with projecting my data to a CRS, but am not entirely sure.\n",
    "\n",
    "Top 30 tracts are in the Central LA. It looks like mostly Westlake with some scattering around the edges. It's noticable that these areas are presenting themselves as clusters, with one mega-cluster in Westlake."
   ]
  },
  {
   "cell_type": "code",
   "execution_count": null,
   "id": "moral-roads",
   "metadata": {
    "scrolled": false
   },
   "outputs": [],
   "source": [
    "fig,ax = plt.subplots(figsize=(20,20))\n",
    "\n",
    "gdf.plot(ax=ax,\n",
    "        column='transit_per_1000',\n",
    "        legend=True,\n",
    "        alpha=0.8,\n",
    "        cmap='cividis',\n",
    "        scheme='quantiles')\n",
    "\n",
    "ax.axis('off')\n",
    "ax.set_title('Transit Ridership Per 1000 People',fontsize=22) #font size! Well hot dog. Going to be using this for the next week\n",
    "ctx.add_basemap(ax, crs=gdf.crs.to_string())"
   ]
  },
  {
   "cell_type": "markdown",
   "id": "dying-columbia",
   "metadata": {},
   "source": [
    "Okay, really want to get my bus stop data to work now, I think that would be helpful. Still having trouble with the data itself.\n",
    "\n",
    "But the story: High transit use in Central LA and South LA and moderate usage on the Westside and the San Fernando Valley. This presents a new persective my adding normalizing the data per 1000 people, which in effect is a different way to present percentages. Still interesting to see. I'm curious what the lag data will show. "
   ]
  },
  {
   "cell_type": "markdown",
   "id": "indonesian-identification",
   "metadata": {},
   "source": [
    "# Global Spaitial Autocorrelation or Something Like That"
   ]
  },
  {
   "cell_type": "markdown",
   "id": "oriental-statement",
   "metadata": {},
   "source": [
    "So I'm using K to count the number of nearest neighbors. When we eventually get down to some of the mapping and charts, I think seeing clusters of transit will provide some insights, but am stil worried about using just the one combined dataset I have-- as it feels \"flat.\""
   ]
  },
  {
   "cell_type": "code",
   "execution_count": null,
   "id": "focused-yield",
   "metadata": {},
   "outputs": [],
   "source": [
    "# calculate spatial weight\n",
    "wq =  lps.weights.KNN.from_dataframe(gdf,k=8)\n",
    "\n",
    "# Row-standardization\n",
    "wq.transform = 'r'"
   ]
  },
  {
   "cell_type": "markdown",
   "id": "published-field",
   "metadata": {},
   "source": [
    "Woo! Something happened. "
   ]
  },
  {
   "cell_type": "markdown",
   "id": "intensive-health",
   "metadata": {},
   "source": [
    "Doing stuff with spatial lag. Kind of exciting to see what happens with this. "
   ]
  },
  {
   "cell_type": "markdown",
   "id": "under-cabinet",
   "metadata": {},
   "source": [
    "Moved down to just the one variable to make sure I get this right. But creating a new variable"
   ]
  },
  {
   "cell_type": "code",
   "execution_count": null,
   "id": "international-investigation",
   "metadata": {},
   "outputs": [],
   "source": [
    "gdf['transit_per_1000_lag'] = lps.weights.lag_spatial(wq, gdf['transit_per_1000'])"
   ]
  },
  {
   "cell_type": "code",
   "execution_count": null,
   "id": "talented-penalty",
   "metadata": {},
   "outputs": [],
   "source": [
    "gdf.sample(10)[['Total Work','Neighborhood','Public transportation','transit_per_1000','transit_per_1000_lag']]"
   ]
  },
  {
   "cell_type": "markdown",
   "id": "southern-scope",
   "metadata": {},
   "source": [
    "Oh! This is what I was expecting and I'm also surprised. There will be a couple layers to unpack here in a bit. Excited to move on."
   ]
  },
  {
   "cell_type": "markdown",
   "id": "upset-entry",
   "metadata": {},
   "source": [
    "## DONUT and DONUT HOLE TIME (down with diamonds!)"
   ]
  },
  {
   "cell_type": "markdown",
   "id": "italic-fellow",
   "metadata": {},
   "source": [
    "Going to try and identify some donuts and donut holes. "
   ]
  },
  {
   "cell_type": "code",
   "execution_count": null,
   "id": "formal-israel",
   "metadata": {},
   "outputs": [],
   "source": [
    "gdf['transit_lag_diff'] = gdf['transit_per_1000'] - gdf['transit_per_1000_lag']"
   ]
  },
  {
   "cell_type": "code",
   "execution_count": null,
   "id": "informative-irish",
   "metadata": {
    "scrolled": true
   },
   "outputs": [],
   "source": [
    "gdf.sort_values(by='transit_lag_diff')"
   ]
  },
  {
   "cell_type": "markdown",
   "id": "formal-disclaimer",
   "metadata": {},
   "source": [
    "Well that query wasn't too helpful and I'm definately not going to check out the whole dataset. Though myabe it's time to check out what this means for our selected neighborhoods."
   ]
  },
  {
   "cell_type": "markdown",
   "id": "equivalent-feeling",
   "metadata": {},
   "source": [
    "* Downtown (Central LA)\n",
    "* Pico-Union(Central LA)\n",
    "* Panaroma City (San Fernando Valley)\n",
    "* North Hollywood (San Fernando Valley)\n",
    "* Mid-City (Central LA, Car Dominant)"
   ]
  },
  {
   "cell_type": "code",
   "execution_count": null,
   "id": "israeli-edmonton",
   "metadata": {
    "scrolled": true
   },
   "outputs": [],
   "source": [
    "gdf.query(\"Neighborhood== 'Downtown'\").sort_values(by='transit_lag_diff')"
   ]
  },
  {
   "cell_type": "markdown",
   "id": "dedicated-sydney",
   "metadata": {},
   "source": [
    "Obvisouly these are all in one neighborhood, but I will be interested to see how they spatailly related to each other. There is a pretty significant range in transit lag differnces."
   ]
  },
  {
   "cell_type": "code",
   "execution_count": null,
   "id": "advance-click",
   "metadata": {
    "scrolled": true
   },
   "outputs": [],
   "source": [
    "gdf.query(\"Neighborhood== 'Pico-Union'\").sort_values(by='transit_lag_diff')"
   ]
  },
  {
   "cell_type": "markdown",
   "id": "contained-practice",
   "metadata": {},
   "source": [
    "Range is not quite as large as Downtown, but still significant."
   ]
  },
  {
   "cell_type": "code",
   "execution_count": null,
   "id": "economic-publication",
   "metadata": {
    "scrolled": true
   },
   "outputs": [],
   "source": [
    "gdf.query(\"Neighborhood== 'Panorama City'\").sort_values(by='transit_lag_diff')"
   ]
  },
  {
   "cell_type": "markdown",
   "id": "scenic-uganda",
   "metadata": {},
   "source": [
    "Panorama City range is actually similar to Pico-Union, which I do find suprising. Excited to plot these soon and see their spatial relation>"
   ]
  },
  {
   "cell_type": "code",
   "execution_count": null,
   "id": "falling-guess",
   "metadata": {
    "scrolled": true
   },
   "outputs": [],
   "source": [
    "gdf.query(\"Neighborhood== 'North Hollywood'\").sort_values(by='transit_lag_diff')"
   ]
  },
  {
   "cell_type": "markdown",
   "id": "wooden-logging",
   "metadata": {},
   "source": [
    "Less transit lag differences that are positive, but can be expected given this neighborhood is in the San Fernando Valley."
   ]
  },
  {
   "cell_type": "code",
   "execution_count": null,
   "id": "sticky-laugh",
   "metadata": {
    "scrolled": true
   },
   "outputs": [],
   "source": [
    "gdf.query(\"Neighborhood== 'Mid-City'\").sort_values(by='transit_lag_diff')"
   ]
  },
  {
   "cell_type": "markdown",
   "id": "electronic-africa",
   "metadata": {},
   "source": [
    "Again, seems similar to Pico-Union and Panorama City. Maybe these patterns are indicative of neighborhoods in general, or at least neighborhoods with marginally more transit ridership."
   ]
  },
  {
   "cell_type": "code",
   "execution_count": null,
   "id": "attached-machine",
   "metadata": {},
   "outputs": [],
   "source": [
    "gdf_donut = gdf.sort_values(by='transit_lag_diff').head(5)\n",
    "gdf_donut"
   ]
  },
  {
   "cell_type": "code",
   "execution_count": null,
   "id": "conceptual-negotiation",
   "metadata": {},
   "outputs": [],
   "source": [
    "# hashtag-donut holes for the win\n",
    "gdf_donuthole = gdf.sort_values(by='transit_lag_diff').tail(28)\n",
    "gdf_donuthole"
   ]
  },
  {
   "cell_type": "markdown",
   "id": "knowing-adventure",
   "metadata": {},
   "source": [
    "So the last 28 tracts have NaN values. I wonder if that's becasue trasnit ridership in these areas is so small. I thought they would show up as negative values, so I'm a little confused in what's happening here. "
   ]
  },
  {
   "cell_type": "code",
   "execution_count": null,
   "id": "comic-underground",
   "metadata": {},
   "outputs": [],
   "source": [
    "# create the 1x2 subplots\n",
    "fig, ax = plt.subplots(1, 2, figsize=(20, 15))\n",
    "\n",
    "# two subplots produces ax[0] (left) and ax[1] (right)\n",
    "\n",
    "# regular count map on the left\n",
    "gdf.plot(ax=ax[0], # this assigns the map to the left subplot\n",
    "         column='transit_per_1000', \n",
    "         scheme='quantiles',\n",
    "         k=5, \n",
    "         edgecolor='white', \n",
    "         linewidth=0, \n",
    "         alpha=0.8, \n",
    "         legend=True,)\n",
    "\n",
    "\n",
    "ax[0].axis(\"off\")\n",
    "ax[0].set_title(\"Transit per 1000\",fontsize=22)\n",
    "\n",
    "# spatial lag map on the right\n",
    "gdf.plot(ax=ax[1],\n",
    "         column='transit_lag_diff',\n",
    "         scheme='quantiles',\n",
    "         k=5, \n",
    "         edgecolor='white',\n",
    "         linewidth=0, \n",
    "         alpha=0.8,\n",
    "         legend=True,)\n",
    "\n",
    "\n",
    "ax[1].axis(\"off\")\n",
    "ax[1].set_title('Transit Spatial Lag, Per 1000 People',fontsize=22)\n",
    "\n",
    "plt.show()"
   ]
  },
  {
   "cell_type": "markdown",
   "id": "upper-segment",
   "metadata": {},
   "source": [
    "So, I defintaly spend too much time exploring different color options. It's JUST SO FUN. "
   ]
  },
  {
   "cell_type": "markdown",
   "id": "lyric-switzerland",
   "metadata": {},
   "source": [
    "These images are pretty startling. Definately not as uniform as I thought it would be. Transit ridership is more differetiated in the spatial lag map. The spatial lag brings reduces transit ridership significantly. All of which should not be surprising given LA's inherent driving nature."
   ]
  },
  {
   "cell_type": "markdown",
   "id": "together-springfield",
   "metadata": {},
   "source": [
    "Mapping the Neighborhoods\n",
    "* Downtown (Central LA)\n",
    "* Pico-Union(Central LA)\n",
    "* Panoroma City (San Fernando Valley)\n",
    "* North Hollywood (San Fernando Valley)\n",
    "* Mid-City (Central LA, Car Dominant)"
   ]
  },
  {
   "cell_type": "markdown",
   "id": "acknowledged-nickel",
   "metadata": {},
   "source": [
    "Downtown"
   ]
  },
  {
   "cell_type": "code",
   "execution_count": null,
   "id": "reflected-corporation",
   "metadata": {},
   "outputs": [],
   "source": [
    "# create the 1x2 subplots\n",
    "fig, ax = plt.subplots(1, 2, figsize=(20, 15))\n",
    "\n",
    "# two subplots produces ax[0] (left) and ax[1] (right)\n",
    "\n",
    "# regular count map on the left\n",
    "gdf.query(\"Neighborhood== 'Downtown'\").plot(ax=ax[0], # this assigns the map to the left subplot\n",
    "         column='transit_per_1000', \n",
    "         scheme='quantiles',\n",
    "         k=5, \n",
    "         edgecolor='white', \n",
    "         linewidth=0, \n",
    "         alpha=0.8, \n",
    "         legend=True,)\n",
    "\n",
    "\n",
    "ax[0].axis(\"off\")\n",
    "ax[0].set_title(\"Transit per 1000\",fontsize=22)\n",
    "\n",
    "# spatial lag map on the right\n",
    "gdf.query(\"Neighborhood== 'Downtown'\").plot(ax=ax[1],\n",
    "         column='transit_lag_diff',\n",
    "         scheme='quantiles',\n",
    "         k=5, \n",
    "         edgecolor='white',\n",
    "         linewidth=0, \n",
    "         alpha=0.8,\n",
    "         legend=True,)\n",
    "\n",
    "\n",
    "ax[1].axis(\"off\")\n",
    "ax[1].set_title('Transit Spatial Lag, Per 1000 People',fontsize=22)\n",
    "\n",
    "plt.show()"
   ]
  },
  {
   "cell_type": "markdown",
   "id": "utility-helen",
   "metadata": {},
   "source": [
    "* Numbers significantly reduced\n",
    "* Other tracts not on this neighborhood are liekly influencing this the boundaries of each neighborhood. \n",
    "* Auto travel of neighboring tracts are likley influencing these numbers\n",
    "* Only 1 interval is positive\n",
    "* Ultimately, suprising to see how trasnit lag numbers on this \"high transit\" area, though since its' LA, maybe not so surprising"
   ]
  },
  {
   "cell_type": "markdown",
   "id": "desperate-tradition",
   "metadata": {},
   "source": [
    "Pico-Union"
   ]
  },
  {
   "cell_type": "code",
   "execution_count": null,
   "id": "loaded-label",
   "metadata": {},
   "outputs": [],
   "source": [
    "# create the 1x2 subplots\n",
    "fig, ax = plt.subplots(1, 2, figsize=(20, 15))\n",
    "\n",
    "# two subplots produces ax[0] (left) and ax[1] (right)\n",
    "\n",
    "# regular count map on the left\n",
    "gdf.query(\"Neighborhood== 'Pico-Union'\").plot(ax=ax[0], # this assigns the map to the left subplot\n",
    "         column='transit_per_1000', \n",
    "         scheme='quantiles',\n",
    "         k=5, \n",
    "         edgecolor='white', \n",
    "         linewidth=0, \n",
    "         alpha=0.8, \n",
    "         legend=True,)\n",
    "\n",
    "\n",
    "ax[0].axis(\"off\")\n",
    "ax[0].set_title(\"Transit per 1000\",fontsize=22)\n",
    "\n",
    "# spatial lag map on the right\n",
    "gdf.query(\"Neighborhood== 'Pico-Union'\").plot(ax=ax[1],\n",
    "         column='transit_lag_diff',\n",
    "         scheme='quantiles',\n",
    "         k=5, \n",
    "         edgecolor='white',\n",
    "         linewidth=0, \n",
    "         alpha=0.8,\n",
    "         legend=True,)\n",
    "\n",
    "\n",
    "ax[1].axis(\"off\")\n",
    "ax[1].set_title('Transit Spatial Lag, Per 1000 People',fontsize=22)\n",
    "\n",
    "plt.show()"
   ]
  },
  {
   "cell_type": "markdown",
   "id": "cordless-singing",
   "metadata": {},
   "source": [
    "So be warned, I'm imaging all of these maps are likley going to say the same thing, more or less. These other neighborhoods will have significantly less transit compared to Downtown. \n",
    "* Numbers significantly reduced, more so than Downtown. \n",
    "* It would be helpful to see what neighborhoods surround Pico-Union. \n",
    "* Auto travel of neighboring tracts are likley influencing these numbers\n",
    "* Only 1 interval is positive"
   ]
  },
  {
   "cell_type": "markdown",
   "id": "welsh-semester",
   "metadata": {},
   "source": [
    "Panorama City"
   ]
  },
  {
   "cell_type": "code",
   "execution_count": null,
   "id": "middle-compound",
   "metadata": {},
   "outputs": [],
   "source": [
    "# create the 1x2 subplots\n",
    "fig, ax = plt.subplots(1, 2, figsize=(20, 15))\n",
    "\n",
    "# two subplots produces ax[0] (left) and ax[1] (right)\n",
    "\n",
    "# regular count map on the left\n",
    "gdf.query(\"Neighborhood== 'Panorama City'\").plot(ax=ax[0], # this assigns the map to the left subplot\n",
    "         column='transit_per_1000', \n",
    "         scheme='quantiles',\n",
    "         k=5, \n",
    "         edgecolor='white', \n",
    "         linewidth=0, \n",
    "         alpha=0.8, \n",
    "         legend=True,)\n",
    "\n",
    "\n",
    "ax[0].axis(\"off\")\n",
    "ax[0].set_title(\"Transit per 1000\",fontsize=22)\n",
    "\n",
    "# spatial lag map on the right\n",
    "gdf.query(\"Neighborhood== 'Panorama City'\").plot(ax=ax[1],\n",
    "         column='transit_lag_diff',\n",
    "         scheme='quantiles',\n",
    "         k=5, \n",
    "         edgecolor='white',\n",
    "         linewidth=0, \n",
    "         alpha=0.8,\n",
    "         legend=True,)\n",
    "\n",
    "\n",
    "ax[1].axis(\"off\")\n",
    "ax[1].set_title('Transit Spatial Lag, Per 1000 People',fontsize=22)\n",
    "\n",
    "plt.show()"
   ]
  },
  {
   "cell_type": "markdown",
   "id": "broke-lying",
   "metadata": {},
   "source": [
    "* Numbers significantly reduced, more tracts are in the \"positive\", I should look at their total populations. This is surprising given this neighorhood's location in the San Fernando Valley\n",
    "* It would be helpful to see what neighborhoods surround Panorama City. \n",
    "* Auto travel of neighboring tracts are likley influencing these numbers\n",
    "* Only 1 interval is positive"
   ]
  },
  {
   "cell_type": "markdown",
   "id": "adolescent-staff",
   "metadata": {},
   "source": [
    "North Hollywod"
   ]
  },
  {
   "cell_type": "code",
   "execution_count": null,
   "id": "subject-picnic",
   "metadata": {},
   "outputs": [],
   "source": [
    "# create the 1x2 subplots\n",
    "fig, ax = plt.subplots(1, 2, figsize=(20, 15))\n",
    "\n",
    "# two subplots produces ax[0] (left) and ax[1] (right)\n",
    "\n",
    "# regular count map on the left\n",
    "gdf.query(\"Neighborhood== 'North Hollywood'\").plot(ax=ax[0], # this assigns the map to the left subplot\n",
    "         column='transit_per_1000', \n",
    "         scheme='quantiles',\n",
    "         k=5, \n",
    "         edgecolor='white', \n",
    "         linewidth=0, \n",
    "         alpha=0.8, \n",
    "         legend=True,)\n",
    "\n",
    "\n",
    "ax[0].axis(\"off\")\n",
    "ax[0].set_title(\"Transit per 1000\",fontsize=22)\n",
    "\n",
    "# spatial lag map on the right\n",
    "gdf.query(\"Neighborhood== 'North Hollywood'\").plot(ax=ax[1],\n",
    "         column='transit_lag_diff',\n",
    "         scheme='quantiles',\n",
    "         k=5, \n",
    "         edgecolor='white',\n",
    "         linewidth=0, \n",
    "         alpha=0.8,\n",
    "         legend=True,)\n",
    "\n",
    "\n",
    "ax[1].axis(\"off\")\n",
    "ax[1].set_title('Transit Spatial Lag, Per 1000 People',fontsize=22)\n",
    "\n",
    "plt.show()"
   ]
  },
  {
   "cell_type": "markdown",
   "id": "opened-differential",
   "metadata": {},
   "source": [
    "*So these maps are practically identical, with some slight changes\n",
    "* Again, more tracts in the positive\n",
    "* Has three interval ranges in the positive. That is unique from what I've seen here. There are some nuances to this, but something I was not expecting.\n",
    "* Interval ranges are also much more condensed compared to the others"
   ]
  },
  {
   "cell_type": "markdown",
   "id": "electrical-angle",
   "metadata": {},
   "source": [
    "Mid-City"
   ]
  },
  {
   "cell_type": "code",
   "execution_count": null,
   "id": "constant-vermont",
   "metadata": {},
   "outputs": [],
   "source": [
    "# create the 1x2 subplots\n",
    "fig, ax = plt.subplots(1, 2, figsize=(20, 15))\n",
    "\n",
    "# two subplots produces ax[0] (left) and ax[1] (right)\n",
    "\n",
    "# regular count map on the left\n",
    "gdf.query(\"Neighborhood== 'Mid-City'\").plot(ax=ax[0], # this assigns the map to the left subplot\n",
    "         column='transit_per_1000', \n",
    "         scheme='quantiles',\n",
    "         k=5, \n",
    "         edgecolor='white', \n",
    "         linewidth=0, \n",
    "         alpha=0.8, \n",
    "         legend=True,)\n",
    "\n",
    "\n",
    "ax[0].axis(\"off\")\n",
    "ax[0].set_title(\"Transit per 1000\",fontsize=22)\n",
    "\n",
    "# spatial lag map on the right\n",
    "gdf.query(\"Neighborhood== 'Mid-City'\").plot(ax=ax[1],\n",
    "         column='transit_lag_diff',\n",
    "         scheme='quantiles',\n",
    "         k=5, \n",
    "         edgecolor='white',\n",
    "         linewidth=0, \n",
    "         alpha=0.8,\n",
    "         legend=True,)\n",
    "\n",
    "\n",
    "ax[1].axis(\"off\")\n",
    "ax[1].set_title('Transit Spatial Lag, Per 1000 People',fontsize=22)\n",
    "\n",
    "plt.show()"
   ]
  },
  {
   "cell_type": "markdown",
   "id": "secret-surgeon",
   "metadata": {},
   "source": [
    "* Again, almost identical.\n",
    "* Only one interval in the positive, but ultiple tracts in this interval.\n",
    "* Numbers are compressed. Downtown appears to have the biggest range of trasnit numbers."
   ]
  },
  {
   "cell_type": "markdown",
   "id": "weird-western",
   "metadata": {},
   "source": [
    "# Moran"
   ]
  },
  {
   "cell_type": "markdown",
   "id": "hungarian-bunch",
   "metadata": {},
   "source": [
    "This part I'm again not condifent in. Will follow Yoh's notebook for guidance and see what we can find."
   ]
  },
  {
   "cell_type": "markdown",
   "id": "durable-manner",
   "metadata": {},
   "source": [
    "Restarting some steps removing NaN values from the dataset. "
   ]
  },
  {
   "cell_type": "code",
   "execution_count": null,
   "id": "hired-stone",
   "metadata": {},
   "outputs": [],
   "source": [
    "gdf2=gdf"
   ]
  },
  {
   "cell_type": "code",
   "execution_count": null,
   "id": "destroyed-pledge",
   "metadata": {
    "scrolled": true
   },
   "outputs": [],
   "source": [
    "gdf2.sample(5)"
   ]
  },
  {
   "cell_type": "code",
   "execution_count": null,
   "id": "pressing-blood",
   "metadata": {},
   "outputs": [],
   "source": [
    "gdf2=gdf.drop([1003, 1001, 998, 997, 995])"
   ]
  },
  {
   "cell_type": "code",
   "execution_count": null,
   "id": "noticed-holocaust",
   "metadata": {
    "scrolled": true
   },
   "outputs": [],
   "source": [
    "gdf2.sort_values(by='transit_per_1000').head()"
   ]
  },
  {
   "cell_type": "code",
   "execution_count": null,
   "id": "spiritual-hello",
   "metadata": {
    "scrolled": true
   },
   "outputs": [],
   "source": [
    "gdf2.sort_values(by='transit_per_1000').tail()"
   ]
  },
  {
   "cell_type": "code",
   "execution_count": null,
   "id": "empty-peoples",
   "metadata": {},
   "outputs": [],
   "source": [
    "gdf2.reset_index()"
   ]
  },
  {
   "cell_type": "code",
   "execution_count": null,
   "id": "found-closing",
   "metadata": {},
   "outputs": [],
   "source": [
    "gdf2=gdf2.reset_index()"
   ]
  },
  {
   "cell_type": "code",
   "execution_count": null,
   "id": "quick-capital",
   "metadata": {},
   "outputs": [],
   "source": [
    "gdf2.sample()"
   ]
  },
  {
   "cell_type": "code",
   "execution_count": null,
   "id": "dirty-trademark",
   "metadata": {},
   "outputs": [],
   "source": [
    "gdf3=gdf2"
   ]
  },
  {
   "cell_type": "code",
   "execution_count": null,
   "id": "confirmed-greece",
   "metadata": {},
   "outputs": [],
   "source": []
  },
  {
   "cell_type": "markdown",
   "id": "figured-pontiac",
   "metadata": {},
   "source": [
    "So we dropped the NaN neighborhoods. I believe that was the crux of our problem, but I'm not entirely sure. "
   ]
  },
  {
   "cell_type": "code",
   "execution_count": null,
   "id": "vertical-edinburgh",
   "metadata": {},
   "outputs": [],
   "source": [
    "gdf3[gdf3['transit_per_1000']>1]"
   ]
  },
  {
   "cell_type": "code",
   "execution_count": null,
   "id": "major-limit",
   "metadata": {},
   "outputs": [],
   "source": [
    "gdf3_trimmed= gdf3[gdf3['transit_per_1000']>1]"
   ]
  },
  {
   "cell_type": "code",
   "execution_count": null,
   "id": "capital-shipping",
   "metadata": {},
   "outputs": [],
   "source": [
    "gdf3_trimmed.sample()"
   ]
  },
  {
   "cell_type": "code",
   "execution_count": null,
   "id": "particular-manual",
   "metadata": {},
   "outputs": [],
   "source": [
    "y = gdf2.transit_per_1000\n",
    "moran = Moran(y, wq)\n",
    "moran.I"
   ]
  },
  {
   "cell_type": "code",
   "execution_count": null,
   "id": "provincial-indonesian",
   "metadata": {},
   "outputs": [],
   "source": [
    "fig, ax = moran_scatterplot(moran, aspect_equal=True)\n",
    "plt.show()"
   ]
  },
  {
   "cell_type": "markdown",
   "id": "instant-glasgow",
   "metadata": {},
   "source": [
    "# Work Division--need to come back to"
   ]
  },
  {
   "cell_type": "markdown",
   "id": "double-great",
   "metadata": {},
   "source": [
    "Both discussed the process and communicated analysis of data,\n",
    "\n",
    "**Andrew:** Prepped the data, ran some intial tests to practice skills, and relayed info to Ben. Gave feedback. \n",
    "\n",
    "**Ben:** Using the same data, also ran tests to explore data and practice skills. Provided analysis. Gave feedback. "
   ]
  },
  {
   "cell_type": "code",
   "execution_count": null,
   "id": "incomplete-reynolds",
   "metadata": {},
   "outputs": [],
   "source": []
  }
 ],
 "metadata": {
  "kernelspec": {
   "display_name": "Python 3",
   "language": "python",
   "name": "python3"
  },
  "language_info": {
   "codemirror_mode": {
    "name": "ipython",
    "version": 3
   },
   "file_extension": ".py",
   "mimetype": "text/x-python",
   "name": "python",
   "nbconvert_exporter": "python",
   "pygments_lexer": "ipython3",
   "version": "3.8.5"
  },
  "toc": {
   "base_numbering": 1,
   "nav_menu": {},
   "number_sections": true,
   "sideBar": true,
   "skip_h1_title": false,
   "title_cell": "Table of Contents",
   "title_sidebar": "Contents",
   "toc_cell": false,
   "toc_position": {},
   "toc_section_display": true,
   "toc_window_display": false
  }
 },
 "nbformat": 4,
 "nbformat_minor": 5
}
