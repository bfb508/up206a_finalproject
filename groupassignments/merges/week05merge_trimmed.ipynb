{
 "cells": [
  {
   "cell_type": "markdown",
   "metadata": {},
   "source": [
    "<h1> Week 05 Merged Datasets for Midterm"
   ]
  },
  {
   "cell_type": "markdown",
   "metadata": {},
   "source": [
    "**By:** Andrew Williams & Ben Brassette\n",
    "    \n",
    "**Description:** We merged our collective notebooks into this single notebook in order to leverage our analysis on transit mobility across Los Angeles. \n",
    "\n",
    "Section 2: Library Import\n",
    "\n",
    "Section 3: Trasnportation Means to Work\n",
    "\n",
    "Section 4: Census: Median Income Data Exploration\n",
    "\n",
    "Section 5: Census: Race and Ethnicity  Data Exploration\n",
    "\n",
    "Section 6: LA Metro and Rail Shapefiles-- All inputs are mark down. Will use as necessary or use LA Metro API. \n",
    "\n",
    "Section 7: Deeper Analysis"
   ]
  },
  {
   "cell_type": "markdown",
   "metadata": {},
   "source": [
    "<h1> Import Libraries"
   ]
  },
  {
   "cell_type": "markdown",
   "metadata": {},
   "source": [
    "Importing various libaries"
   ]
  },
  {
   "cell_type": "code",
   "execution_count": null,
   "metadata": {},
   "outputs": [],
   "source": [
    "import urllib.request, json \n",
    "import geopandas as gpd\n",
    "import pandas as pd\n",
    "import matplotlib.pyplot as plt\n",
    "import numpy as np"
   ]
  },
  {
   "cell_type": "markdown",
   "metadata": {},
   "source": [
    "<h1> Transportation Means to Work Data"
   ]
  },
  {
   "cell_type": "markdown",
   "metadata": {},
   "source": [
    "<h2> Basics"
   ]
  },
  {
   "cell_type": "code",
   "execution_count": null,
   "metadata": {},
   "outputs": [],
   "source": [
    "#transporation means to work\n",
    "means2work = gpd.read_file('Data/Means_Transpo_Work_Tract/acs2019_5yr_B08301_14000US06037185320.geojson')"
   ]
  },
  {
   "cell_type": "code",
   "execution_count": null,
   "metadata": {},
   "outputs": [],
   "source": [
    "type(means2work)"
   ]
  },
  {
   "cell_type": "markdown",
   "metadata": {},
   "source": [
    "Libraries good to go, meanstwork gdp good to go."
   ]
  },
  {
   "cell_type": "markdown",
   "metadata": {},
   "source": [
    "Looking for an LA total row to drop."
   ]
  },
  {
   "cell_type": "code",
   "execution_count": null,
   "metadata": {
    "scrolled": true
   },
   "outputs": [],
   "source": [
    "means2work.head(4)"
   ]
  },
  {
   "cell_type": "code",
   "execution_count": null,
   "metadata": {},
   "outputs": [],
   "source": [
    "means2work.tail(4)"
   ]
  },
  {
   "cell_type": "markdown",
   "metadata": {},
   "source": [
    "Look like row 1004 is our winner. I will drop it after plotting some charts I want to use it for. "
   ]
  },
  {
   "cell_type": "markdown",
   "metadata": {},
   "source": [
    "I'm deleting my error rows and dropping the breakdown of carpooling. Will re-define my variable and test it out. "
   ]
  },
  {
   "cell_type": "code",
   "execution_count": null,
   "metadata": {},
   "outputs": [],
   "source": [
    "columns_to_keep = ['geoid',\n",
    " 'name',\n",
    " 'B08301001',\n",
    " 'B08301002',\n",
    " 'B08301003',\n",
    " 'B08301004',\n",
    " 'B08301010',\n",
    " 'B08301011',\n",
    " 'B08301012',\n",
    " 'B08301013',\n",
    " 'B08301014',\n",
    " 'B08301016',\n",
    " 'B08301017',\n",
    " 'B08301018',\n",
    " 'B08301019',\n",
    " 'B08301020',\n",
    " 'B08301021',\n",
    " 'geometry']"
   ]
  },
  {
   "cell_type": "code",
   "execution_count": null,
   "metadata": {},
   "outputs": [],
   "source": [
    "means2work = means2work [columns_to_keep]"
   ]
  },
  {
   "cell_type": "code",
   "execution_count": null,
   "metadata": {},
   "outputs": [],
   "source": [
    "means2work.sample()"
   ]
  },
  {
   "cell_type": "markdown",
   "metadata": {},
   "source": [
    "Great, columns have been dropped, but now will relabel them appropriately. "
   ]
  },
  {
   "cell_type": "code",
   "execution_count": null,
   "metadata": {},
   "outputs": [],
   "source": [
    "#renaming columns\n",
    "means2work.columns = ['geoid',\n",
    " 'name',\n",
    " 'Total',\n",
    " 'Car, truck, or van',\n",
    " 'Drove alone',\n",
    " 'Carpooled',\n",
    " 'Public transportation',\n",
    " 'Bus',\n",
    " 'Subway or elevated il',\n",
    " 'Long-distance train or commuter rail',\n",
    " 'Light rail, streetcar or trolley',\n",
    " 'Taxicab',\n",
    " 'Motorcycle',\n",
    " 'Bicycle',\n",
    " 'Walked',\n",
    " 'Other means',\n",
    " 'Worked from home',\n",
    " 'geometry']"
   ]
  },
  {
   "cell_type": "code",
   "execution_count": null,
   "metadata": {},
   "outputs": [],
   "source": [
    "means2work.sample()"
   ]
  },
  {
   "cell_type": "markdown",
   "metadata": {},
   "source": [
    "Fantastic, columns have been re-named as seen in the sample above."
   ]
  },
  {
   "cell_type": "markdown",
   "metadata": {},
   "source": [
    "To make appropriate comparisons, will create percenates for each category."
   ]
  },
  {
   "cell_type": "code",
   "execution_count": null,
   "metadata": {},
   "outputs": [],
   "source": [
    "means2work['Percent Car, truck, or van'] = means2work['Car, truck, or van']/means2work['Total']*100\n",
    "means2work['Percent Drove alone'] = means2work['Drove alone']/means2work['Total']*100\n",
    "means2work['Percent Carpooled'] = means2work['Carpooled']/means2work['Total']*100\n",
    "means2work['Percent Public transportation'] = means2work['Public transportation']/means2work['Total']*100\n",
    "means2work['Percent Bus'] = means2work['Bus']/means2work['Total']*100\n",
    "means2work['Percent Subway or elevated il'] = means2work['Subway or elevated il']/means2work['Total']*100\n",
    "means2work['Percent Long-distance train or commuter rail'] = means2work['Long-distance train or commuter rail']/means2work['Total']*100\n",
    "means2work['Percent Light rail, streetcar or trolley'] = means2work['Light rail, streetcar or trolley']/means2work['Total']*100\n",
    "means2work['Percent Taxicab'] = means2work['Taxicab']/means2work['Total']*100\n",
    "means2work['Percent Motorcycle'] = means2work['Motorcycle']/means2work['Total']*100\n",
    "means2work['Percent Bicycle'] = means2work['Bicycle']/means2work['Total']*100\n",
    "means2work['Percent Walked'] = means2work['Walked']/means2work['Total']*100\n",
    "means2work['Percent Other means'] = means2work['Other means']/means2work['Total']*100\n",
    "means2work['Percent Worked from home'] = means2work['Worked from home']/means2work['Total']*100"
   ]
  },
  {
   "cell_type": "code",
   "execution_count": null,
   "metadata": {
    "scrolled": true
   },
   "outputs": [],
   "source": [
    "means2work.sample()"
   ]
  },
  {
   "cell_type": "markdown",
   "metadata": {},
   "source": [
    "Lovely, percent columns have been added to my dataset."
   ]
  },
  {
   "cell_type": "markdown",
   "metadata": {},
   "source": [
    "<h2> Prepping for Charts"
   ]
  },
  {
   "cell_type": "markdown",
   "metadata": {},
   "source": [
    "Define new vairbale so I can chart LA city totals."
   ]
  },
  {
   "cell_type": "code",
   "execution_count": null,
   "metadata": {},
   "outputs": [],
   "source": [
    "total_means2work=means2work"
   ]
  },
  {
   "cell_type": "code",
   "execution_count": null,
   "metadata": {},
   "outputs": [],
   "source": [
    "type(total_means2work)"
   ]
  },
  {
   "cell_type": "markdown",
   "metadata": {},
   "source": [
    "New variable defined and checks out as gpd."
   ]
  },
  {
   "cell_type": "code",
   "execution_count": null,
   "metadata": {},
   "outputs": [],
   "source": []
  },
  {
   "cell_type": "markdown",
   "metadata": {},
   "source": [
    "Time to drop my last row before map plotting. "
   ]
  },
  {
   "cell_type": "code",
   "execution_count": null,
   "metadata": {},
   "outputs": [],
   "source": [
    "#dropped la city total\n",
    "means2work = means2work.drop([1004])"
   ]
  },
  {
   "cell_type": "code",
   "execution_count": null,
   "metadata": {},
   "outputs": [],
   "source": [
    "means2work.tail()"
   ]
  },
  {
   "cell_type": "markdown",
   "metadata": {},
   "source": [
    "dropped"
   ]
  },
  {
   "cell_type": "markdown",
   "metadata": {},
   "source": [
    "<h1>Census: Median Income Data Exploration"
   ]
  },
  {
   "cell_type": "markdown",
   "metadata": {},
   "source": [
    "## Load Census data\n",
    "\n",
    "I will load one Census data table:\n",
    "\n",
    "Table B19013: Median Household Income in the Last 12 Months"
   ]
  },
  {
   "cell_type": "code",
   "execution_count": null,
   "metadata": {},
   "outputs": [],
   "source": [
    "# loading the three data files\n",
    "\n",
    "gdf_income = gpd.read_file('Data/income/acs2019_5yr_B19013_income.geojson')"
   ]
  },
  {
   "cell_type": "markdown",
   "metadata": {},
   "source": [
    "## Begin to look at the data\n",
    "Since there are three different datasets, we will need to run commands for each one. "
   ]
  },
  {
   "cell_type": "code",
   "execution_count": null,
   "metadata": {},
   "outputs": [],
   "source": [
    "gdf_income.shape"
   ]
  },
  {
   "cell_type": "code",
   "execution_count": null,
   "metadata": {},
   "outputs": [],
   "source": [
    "gdf_income.head()"
   ]
  },
  {
   "cell_type": "code",
   "execution_count": null,
   "metadata": {},
   "outputs": [],
   "source": [
    "# columns to keep\n",
    "columns_to_keep = ['geoid',\n",
    " 'name',\n",
    " 'B19013001',\n",
    " 'geometry']"
   ]
  },
  {
   "cell_type": "code",
   "execution_count": null,
   "metadata": {},
   "outputs": [],
   "source": [
    "# redefine gdf with only columns to keep\n",
    "gdf_income = gdf_income[columns_to_keep]"
   ]
  },
  {
   "cell_type": "code",
   "execution_count": null,
   "metadata": {},
   "outputs": [],
   "source": [
    "# check the slimmed down gdf\n",
    "gdf_income.head()"
   ]
  },
  {
   "cell_type": "code",
   "execution_count": null,
   "metadata": {},
   "outputs": [],
   "source": [
    "gdf_income.columns = ['geoid',\n",
    " 'name',\n",
    " 'Median Income',\n",
    " 'geometry']"
   ]
  },
  {
   "cell_type": "code",
   "execution_count": null,
   "metadata": {},
   "outputs": [],
   "source": [
    "gdf_income.head()"
   ]
  },
  {
   "cell_type": "code",
   "execution_count": null,
   "metadata": {},
   "outputs": [],
   "source": [
    "gdf_income"
   ]
  },
  {
   "cell_type": "markdown",
   "metadata": {},
   "source": [
    "# Census: Race and Ethnicity Data Exploration\n",
    "Ben Bressette\n",
    "\n",
    "I am using this assignment opportunity to rework some of the things in this file that didn't work properly and I didn't have the patience to fix :)\n",
    "\n",
    "Namely, I am going to narrow it down to one dataset, and then actually go through and clean the data (that is, rename the columns). \n",
    "\n",
    "--\n",
    "\n",
    "Our group project is a comparison of accessibility and mobility in Los Angeles neighborhoods. We seek to grasp how different neighborhoods and demographic compositions experience daily life in their own neighborhood and the broader city. We will be using data from the American Community Survey, LA Metro, the City of LA, LA Times, and the Bureau of Transportation Statistics.\n",
    "\n",
    "My partner, Andrew Williams, looked at a variety of data that explores the means of transportation to work at the census tract level. I will analyze race, income, and density at the same level across the City of LA. "
   ]
  },
  {
   "cell_type": "markdown",
   "metadata": {},
   "source": [
    "## Load Census data\n",
    "\n",
    "I will load one Census data table:\n",
    "\n",
    "Table B03002: Hispanic or Latino Origin by Race"
   ]
  },
  {
   "cell_type": "code",
   "execution_count": null,
   "metadata": {},
   "outputs": [],
   "source": [
    "# loading the three data files\n",
    "\n",
    "gdf_race = gpd.read_file('Data/race/acs2019_5yr_B03002_raceethnicity.geojson')"
   ]
  },
  {
   "cell_type": "markdown",
   "metadata": {},
   "source": [
    "## Begin to look at the data\n",
    "Since there are three different datasets, we will need to run commands for each one. "
   ]
  },
  {
   "cell_type": "code",
   "execution_count": null,
   "metadata": {},
   "outputs": [],
   "source": [
    "gdf_race.shape"
   ]
  },
  {
   "cell_type": "code",
   "execution_count": null,
   "metadata": {},
   "outputs": [],
   "source": [
    "# columns to keep\n",
    "columns_to_keep = ['geoid',\n",
    " 'name',\n",
    " 'B03002001',\n",
    " 'B03002002',\n",
    " 'B03002003',\n",
    " 'B03002004',\n",
    " 'B03002005',\n",
    " 'B03002006',\n",
    " 'B03002007',\n",
    " 'B03002008',\n",
    " 'B03002009',\n",
    " 'B03002010',\n",
    " 'B03002011',\n",
    " 'B03002012',\n",
    " 'B03002013',\n",
    " 'B03002014',\n",
    " 'B03002015',\n",
    " 'B03002016',\n",
    " 'B03002017',\n",
    " 'B03002018',\n",
    " 'B03002019',\n",
    " 'B03002020',\n",
    " 'B03002021',\n",
    " 'geometry']"
   ]
  },
  {
   "cell_type": "code",
   "execution_count": null,
   "metadata": {},
   "outputs": [],
   "source": [
    "# redefine gdf with only columns to keep\n",
    "gdf_race = gdf_race[columns_to_keep]"
   ]
  },
  {
   "cell_type": "code",
   "execution_count": null,
   "metadata": {},
   "outputs": [],
   "source": [
    "# check the slimmed down gdf\n",
    "gdf_race.head()"
   ]
  },
  {
   "cell_type": "code",
   "execution_count": null,
   "metadata": {},
   "outputs": [],
   "source": [
    "gdf_race.columns = ['geoid',\n",
    " 'name',\n",
    " 'Total',\n",
    " 'Not Hispanic or Latino',\n",
    " 'N_White',\n",
    " 'N_Black',\n",
    " 'N_Native',\n",
    " 'N_Asian',\n",
    " 'N_Native Hawaiian',\n",
    " 'N_Some other race alone',\n",
    " 'N_Two or more races',\n",
    " 'N_Two races including some other race',\n",
    " 'N_Two races excluding some other race, and three or more races',\n",
    " 'Hispanic or Latino',\n",
    " 'H_White',\n",
    " 'H_Black',\n",
    " 'H_Native',\n",
    " 'H_Asian',\n",
    " 'H_Native Hawaiian',\n",
    " 'H_Some other race alone',\n",
    " 'H_Two or more races',\n",
    " 'H_Two races including some other race',\n",
    " 'H_Two races excluding some other race, and three or more races',\n",
    " 'geometry']"
   ]
  },
  {
   "cell_type": "code",
   "execution_count": null,
   "metadata": {},
   "outputs": [],
   "source": [
    "gdf_race.head()"
   ]
  },
  {
   "cell_type": "code",
   "execution_count": null,
   "metadata": {},
   "outputs": [],
   "source": [
    "gdf_race['N_WhitePercentage']=round(((gdf_race['N_White']/ gdf_race['Total'])*100),2)\n",
    "gdf_race['N_BlacPercentage']=round(((gdf_race['N_Black']/ gdf_race['Total'])*100),2)\n",
    "gdf_race['N_NativePercentage']=round(((gdf_race['N_Native']/ gdf_race['Total'])*100),2)\n",
    "gdf_race['N_AsianPercentage']=round(((gdf_race['N_Asian']/ gdf_race['Total'])*100),2)\n",
    "gdf_race['N_HawaiianPercentage']=round(((gdf_race['N_Native Hawaiian']/ gdf_race['Total'])*100),2)\n",
    "gdf_race['N_OtherPercentage']=round(((gdf_race['N_Some other race alone']/ gdf_race['Total'])*100),2)\n",
    "gdf_race['N_TwoPlusPercentage']=round(((gdf_race['N_Two or more races']/ gdf_race['Total'])*100),2)\n",
    "gdf_race['N_TwoInclOtherPercentage']=round(((gdf_race['N_Two races including some other race']/ gdf_race['Total'])*100),2)\n",
    "gdf_race['N_TwoPlusThreePlusPercentage']=round(((gdf_race['N_Two races excluding some other race, and three or more races']/ gdf_race['Total'])*100),2)\n",
    "\n",
    "gdf_race['H_WhitePercentage']=round(((gdf_race['H_White']/ gdf_race['Total'])*100),2)\n",
    "gdf_race['H_BlacPercentage']=round(((gdf_race['H_Black']/ gdf_race['Total'])*100),2)\n",
    "gdf_race['H_NativePercentage']=round(((gdf_race['H_Native']/ gdf_race['Total'])*100),2)\n",
    "gdf_race['H_AsianPercentage']=round(((gdf_race['H_Asian']/ gdf_race['Total'])*100),2)\n",
    "gdf_race['H_HawaiianPercentage']=round(((gdf_race['H_Native Hawaiian']/ gdf_race['Total'])*100),2)\n",
    "gdf_race['H_OtherPercentage']=round(((gdf_race['H_Some other race alone']/ gdf_race['Total'])*100),2)\n",
    "gdf_race['H_TwoPlusPercentage']=round(((gdf_race['H_Two or more races']/ gdf_race['Total'])*100),2)\n",
    "gdf_race['H_TwoInclOtherPercentage']=round(((gdf_race['H_Two races including some other race']/ gdf_race['Total'])*100),2)\n",
    "gdf_race['H_TwoPlusThreePlusPercentage']=round(((gdf_race['H_Two races excluding some other race, and three or more races']/ gdf_race['Total'])*100),2)\n",
    "\n",
    "\n",
    "gdf_race.head()"
   ]
  },
  {
   "cell_type": "code",
   "execution_count": null,
   "metadata": {},
   "outputs": [],
   "source": [
    "gdf_race"
   ]
  },
  {
   "cell_type": "markdown",
   "metadata": {},
   "source": [
    "## What does this tell us? \n",
    "**(analysis for intial maps, but deeper analysis below)**\n",
    "\n",
    "Not a lot -- so far. The maps produced for the race and language are the same, and the data table for geographic mobility is just what we saw when we downloaded the data from the Census. This is ok though -- not all data is going to be conclusive on its own, and we will need to combine sets, tables, and variables to reach meaningful relationships."
   ]
  },
  {
   "cell_type": "code",
   "execution_count": null,
   "metadata": {},
   "outputs": [],
   "source": [
    "gdf_race.geoid.head()"
   ]
  },
  {
   "cell_type": "markdown",
   "metadata": {},
   "source": [
    "Again, this doesn't tell us much. It's just the geographic IDs of the observations in the Census, which are the same. "
   ]
  },
  {
   "cell_type": "code",
   "execution_count": null,
   "metadata": {},
   "outputs": [],
   "source": [
    "pd.set_option('display.max_columns', None)\n",
    "pd.set_option('display.max_rows', None)"
   ]
  },
  {
   "cell_type": "code",
   "execution_count": null,
   "metadata": {},
   "outputs": [],
   "source": [
    "gdf_race.sample()"
   ]
  },
  {
   "cell_type": "code",
   "execution_count": null,
   "metadata": {
    "scrolled": true
   },
   "outputs": [],
   "source": [
    "gdf_race.info"
   ]
  },
  {
   "cell_type": "markdown",
   "metadata": {},
   "source": [
    "<h1> LA Metro Transit Consolidation: Bus & Rail"
   ]
  },
  {
   "cell_type": "markdown",
   "metadata": {},
   "source": [
    "<h2> Importing Libraries and Datasets"
   ]
  },
  {
   "cell_type": "markdown",
   "metadata": {
    "slideshow": {
     "slide_type": "slide"
    }
   },
   "source": [
    "Importing a long line of shape files from LA Metro-- Better yet, I found a combined a LA bus routes shapefile coutesy of LA GeoHub. "
   ]
  },
  {
   "cell_type": "markdown",
   "metadata": {},
   "source": [
    "rail_lines = gpd.read_file('Data/RailStations0715/Stations_All_0715.shp')\n",
    "\n",
    "mbus_lines = gpd.read_file('Data/metro_bus_lines/Metro_Bus_Lines.shp')"
   ]
  },
  {
   "cell_type": "markdown",
   "metadata": {
    "slideshow": {
     "slide_type": "slide"
    }
   },
   "source": [
    "Shape files are ready for exploration now. "
   ]
  },
  {
   "cell_type": "markdown",
   "metadata": {},
   "source": [
    "<h2> Metro Bus Lines"
   ]
  },
  {
   "cell_type": "markdown",
   "metadata": {},
   "source": [
    "Ensuring datatype"
   ]
  },
  {
   "cell_type": "markdown",
   "metadata": {},
   "source": [
    "type(mbus_lines)"
   ]
  },
  {
   "cell_type": "markdown",
   "metadata": {},
   "source": [
    "bmus_line is a gpd."
   ]
  },
  {
   "cell_type": "markdown",
   "metadata": {},
   "source": [
    "I want to see the kinds of data within this dataset"
   ]
  },
  {
   "cell_type": "markdown",
   "metadata": {},
   "source": [
    "mbus_lines.info()"
   ]
  },
  {
   "cell_type": "markdown",
   "metadata": {},
   "source": [
    "It appears I have a few strings, one geo, and the rest are intergers. No floats. "
   ]
  },
  {
   "cell_type": "markdown",
   "metadata": {},
   "source": [
    "I want to see the size of my dataset (rows and columns)"
   ]
  },
  {
   "cell_type": "markdown",
   "metadata": {},
   "source": [
    "mbus_lines.shape"
   ]
  },
  {
   "cell_type": "markdown",
   "metadata": {},
   "source": [
    "No surprises here, list is expanisve given it contains all of LA metro's bus lines. "
   ]
  },
  {
   "cell_type": "markdown",
   "metadata": {},
   "source": [
    "Scoping out the head and tails of my data to see what the actual values are in my dataset."
   ]
  },
  {
   "cell_type": "markdown",
   "metadata": {},
   "source": [
    "mbus_lines.head()"
   ]
  },
  {
   "cell_type": "markdown",
   "metadata": {},
   "source": [
    "Tons of useful information on metro bus routes. I will eventually want to seperate the MetroCateg so I can plot different bus line systems."
   ]
  },
  {
   "cell_type": "markdown",
   "metadata": {},
   "source": [
    "I would like to see my bus lines"
   ]
  },
  {
   "cell_type": "markdown",
   "metadata": {},
   "source": [
    "mbus_lines['VAR_ROUTE'].value_counts()"
   ]
  },
  {
   "cell_type": "markdown",
   "metadata": {},
   "source": [
    "Bus route numbers. Wondering what the difference between VAR_ROUTE and RouteNumbe."
   ]
  },
  {
   "cell_type": "markdown",
   "metadata": {},
   "source": [
    "I want to see if the metrocatego encompasses all the bus lines as described by LA Metro. Otherwise, I will have to upload missing bus line systems"
   ]
  },
  {
   "cell_type": "markdown",
   "metadata": {
    "scrolled": true
   },
   "source": [
    "mbus_lines['MetroCateg'].value_counts()"
   ]
  },
  {
   "cell_type": "markdown",
   "metadata": {},
   "source": [
    "Fantastic. This list has all 5 bus line systems that have corresponding shapefiles on LA Metro's website. "
   ]
  },
  {
   "cell_type": "markdown",
   "metadata": {},
   "source": [
    "Quick plot to see bus system appatarus."
   ]
  },
  {
   "cell_type": "markdown",
   "metadata": {},
   "source": [
    "mbus_lines.plot(figsize=(20,15))"
   ]
  },
  {
   "cell_type": "markdown",
   "metadata": {},
   "source": [
    "LA Metro bus sytem seems widespread. Will be beneficial to create sub-datasets for each type of bus (cbd, non cbd, etc.)"
   ]
  },
  {
   "cell_type": "markdown",
   "metadata": {},
   "source": [
    "<h2> Local CBD Bus Lines"
   ]
  },
  {
   "cell_type": "markdown",
   "metadata": {},
   "source": [
    "A couple steps in one since I'm doing this for five different subcomponents for this dataset."
   ]
  },
  {
   "cell_type": "markdown",
   "metadata": {},
   "source": [
    "#pulling subset of data from mbus_lines-- the local CBD routes and creating a variable\n",
    "local_cbd = mbus_lines[mbus_lines.MetroCateg == 'LocalCBD']\n",
    "#testing new variable\n",
    "local_cbd"
   ]
  },
  {
   "cell_type": "markdown",
   "metadata": {},
   "source": [
    "New local cbd bus variable created. "
   ]
  },
  {
   "cell_type": "markdown",
   "metadata": {},
   "source": [
    "I want to compare VAR_ROUTES and RouteNumbe, will do a value count for each."
   ]
  },
  {
   "cell_type": "markdown",
   "metadata": {
    "scrolled": true
   },
   "source": [
    "local_cbd['VAR_ROUTE'].value_counts()"
   ]
  },
  {
   "cell_type": "markdown",
   "metadata": {
    "scrolled": false
   },
   "source": [
    "local_cbd['RouteNumbe'].value_counts()"
   ]
  },
  {
   "cell_type": "markdown",
   "metadata": {
    "slideshow": {
     "slide_type": "slide"
    }
   },
   "source": [
    "I need to reach out to someone who knows what these variables actually stand for. Google searches have not been helpful.There is some crossover, but some missing gaps as well. "
   ]
  },
  {
   "cell_type": "markdown",
   "metadata": {},
   "source": [
    "Will try a loc or query to find all the \"None\" values."
   ]
  },
  {
   "cell_type": "markdown",
   "metadata": {},
   "source": [
    "local_cbd.plot(figsize=(20,15))"
   ]
  },
  {
   "cell_type": "markdown",
   "metadata": {},
   "source": [
    "Local cbd bus routes. This sytem of routes stretches all over LA County. I thought it would be more condensed in the downtown area. Curious how neighborhood populations will overlay on this."
   ]
  },
  {
   "cell_type": "markdown",
   "metadata": {
    "scrolled": true
   },
   "source": [
    "local_cbd.plot(\n",
    "            figsize=(20,12),   \n",
    "            column = 'VAR_ROUTE',  \n",
    "            legend = True,             \n",
    "            legend_kwds={\n",
    "               'loc': 'upper right',\n",
    "               'bbox_to_anchor':(1.3,1)\n",
    "            }\n",
    ") "
   ]
  },
  {
   "cell_type": "markdown",
   "metadata": {},
   "source": [
    "<h2> Local Non CBD Bus Lines"
   ]
  },
  {
   "cell_type": "markdown",
   "metadata": {},
   "source": [
    "Creating and defining local non cbd variable by pulling a subset of data from the mbus_lines gdf. "
   ]
  },
  {
   "cell_type": "markdown",
   "metadata": {},
   "source": [
    "#pulling subset of data from mbus_lines-- the local non CBD routes and creating a variable\n",
    "local_n_cbd = mbus_lines[mbus_lines.MetroCateg == 'LocalNonCBD']\n",
    "#testing new variable\n",
    "local_n_cbd"
   ]
  },
  {
   "cell_type": "markdown",
   "metadata": {},
   "source": [
    "Success, have my local non cbd buses. Will want to do a quick few steps to check out this subset."
   ]
  },
  {
   "cell_type": "markdown",
   "metadata": {},
   "source": [
    "local_n_cbd['VAR_ROUTE'].value_counts()"
   ]
  },
  {
   "cell_type": "markdown",
   "metadata": {
    "scrolled": true
   },
   "source": [
    "local_n_cbd['RouteNumbe'].value_counts()"
   ]
  },
  {
   "cell_type": "markdown",
   "metadata": {},
   "source": [
    "Have a list of buses on this route, with the note of checking out the differences between the two above columns. "
   ]
  },
  {
   "cell_type": "markdown",
   "metadata": {},
   "source": [
    "local_n_cbd.plot(\n",
    "            figsize=(20,12),   \n",
    "            column = 'VAR_ROUTE',  \n",
    "            legend = True,             \n",
    "            legend_kwds={\n",
    "               'loc': 'upper right',\n",
    "               'bbox_to_anchor':(1.3,1)\n",
    "            }\n",
    ") "
   ]
  },
  {
   "cell_type": "markdown",
   "metadata": {},
   "source": [
    "Map of local non cbd buses. **Note that several buses have the same color, will need to figure out how to seperate those bus line.**"
   ]
  },
  {
   "cell_type": "markdown",
   "metadata": {},
   "source": [
    "<h2> Metro Limited or Express Lines (Lines 344 through 577 and 788"
   ]
  },
  {
   "cell_type": "markdown",
   "metadata": {},
   "source": [
    "Reminder of bus nomenclature."
   ]
  },
  {
   "cell_type": "markdown",
   "metadata": {},
   "source": [
    "mbus_lines['MetroCateg'].value_counts()"
   ]
  },
  {
   "cell_type": "markdown",
   "metadata": {},
   "source": [
    "Will be using LimExp for this dataset. "
   ]
  },
  {
   "cell_type": "markdown",
   "metadata": {
    "scrolled": false
   },
   "source": [
    "#pulling subset of data from mbus_lines-- the metro limited/expressway lines and creating a variable\n",
    "lim_exp = mbus_lines[mbus_lines.MetroCateg == 'LimExp']\n",
    "#testing new variable\n",
    "lim_exp"
   ]
  },
  {
   "cell_type": "markdown",
   "metadata": {},
   "source": [
    "Much shorter list compated to the other subsets, but makes sense given I don't limited and expressway buses to be in great quantity."
   ]
  },
  {
   "cell_type": "markdown",
   "metadata": {},
   "source": [
    "I want to check out the bus lines on this bus system."
   ]
  },
  {
   "cell_type": "markdown",
   "metadata": {},
   "source": [
    "lim_exp['VAR_ROUTE'].value_counts()"
   ]
  },
  {
   "cell_type": "markdown",
   "metadata": {},
   "source": [
    "Have my list of var counts. "
   ]
  },
  {
   "cell_type": "markdown",
   "metadata": {},
   "source": [
    "Mapping my list of var counts."
   ]
  },
  {
   "cell_type": "markdown",
   "metadata": {},
   "source": [
    "lim_exp.plot(\n",
    "            figsize=(20,15),   \n",
    "            column = 'VAR_ROUTE',  \n",
    "            legend = True,             \n",
    "            legend_kwds={\n",
    "               'loc': 'upper right',\n",
    "               'bbox_to_anchor':(1.3,1)\n",
    "            }\n",
    ") "
   ]
  },
  {
   "cell_type": "markdown",
   "metadata": {},
   "source": [
    "Bus routes for lim_exp. I would like to plot rapid brt along these to see coverage area."
   ]
  },
  {
   "cell_type": "markdown",
   "metadata": {},
   "source": [
    "<h2>Metro Community Circulator Lines (Lines 603 through 687)"
   ]
  },
  {
   "cell_type": "markdown",
   "metadata": {
    "scrolled": false
   },
   "source": [
    "#pulling subset of data from mbus_lines-- the metro comm cir routes and creating a variable\n",
    "com_cir = mbus_lines[mbus_lines.MetroCateg == 'ComCirc']\n",
    "#testing new variable\n",
    "com_cir"
   ]
  },
  {
   "cell_type": "markdown",
   "metadata": {},
   "source": [
    "Vairbale created and nothing looks out of the ordinary."
   ]
  },
  {
   "cell_type": "markdown",
   "metadata": {},
   "source": [
    "Trying an alternative to list VAR_ROUTES variables. "
   ]
  },
  {
   "cell_type": "markdown",
   "metadata": {},
   "source": [
    "com_cir['VAR_ROUTE']"
   ]
  },
  {
   "cell_type": "markdown",
   "metadata": {},
   "source": [
    "Lists of the different var_routes."
   ]
  },
  {
   "cell_type": "markdown",
   "metadata": {},
   "source": [
    "Given frequency of some of the above numbers, will do a value count."
   ]
  },
  {
   "cell_type": "markdown",
   "metadata": {},
   "source": [
    "com_cir['VAR_ROUTE'].value_counts()"
   ]
  },
  {
   "cell_type": "markdown",
   "metadata": {},
   "source": [
    "Limited subset of routes, will not run into issues with map plotting. "
   ]
  },
  {
   "cell_type": "markdown",
   "metadata": {
    "scrolled": true
   },
   "source": [
    "com_cir.plot(\n",
    "            figsize=(20,15),   \n",
    "            column = 'VAR_ROUTE',  \n",
    "            legend = True,             \n",
    "            legend_kwds={\n",
    "               'loc': 'upper right',\n",
    "               'bbox_to_anchor':(1.3,1)\n",
    "            }\n",
    ") "
   ]
  },
  {
   "cell_type": "markdown",
   "metadata": {},
   "source": [
    "Neighborhood/sub-regional focus. I would like to plot several of these bus maps together to see connectivity. "
   ]
  },
  {
   "cell_type": "markdown",
   "metadata": {},
   "source": [
    "<h2> Rapid BRT"
   ]
  },
  {
   "cell_type": "markdown",
   "metadata": {},
   "source": [
    "#pulling subset of data from mbus_lines-- the rapid brt routes and creating a variable\n",
    "rapid_brt = mbus_lines[mbus_lines.MetroCateg == 'RapidBRT']\n",
    "#testing new variable\n",
    "rapid_brt.sample(10)"
   ]
  },
  {
   "cell_type": "markdown",
   "metadata": {},
   "source": [
    "Checking out routes for rapid brt. "
   ]
  },
  {
   "cell_type": "markdown",
   "metadata": {},
   "source": [
    "rapid_brt['VAR_ROUTE'].value_counts()"
   ]
  },
  {
   "cell_type": "markdown",
   "metadata": {},
   "source": [
    "Output shows counts of var_routes. Wondering how to plot a single bus line without creating a new subset or new variable. "
   ]
  },
  {
   "cell_type": "markdown",
   "metadata": {},
   "source": [
    "gdf_web_mercator = rapid_brt.to_crs(epsg=3857)"
   ]
  },
  {
   "cell_type": "markdown",
   "metadata": {},
   "source": [
    "Plotting rapid brt. "
   ]
  },
  {
   "cell_type": "markdown",
   "metadata": {},
   "source": [
    "rapid_brt.plot(\n",
    "            figsize=(20,15),   \n",
    "            column = 'VAR_ROUTE',  \n",
    "            legend = True,             \n",
    "            legend_kwds={\n",
    "               'loc': 'upper right',\n",
    "               'bbox_to_anchor':(1.3,1)\n",
    "            }\n",
    ")"
   ]
  },
  {
   "cell_type": "markdown",
   "metadata": {},
   "source": [
    "Rapid brt of LA."
   ]
  },
  {
   "cell_type": "raw",
   "metadata": {},
   "source": [
    "I'm going to plot two bus maps by each other to compare their reach."
   ]
  },
  {
   "cell_type": "markdown",
   "metadata": {},
   "source": [
    "fig, axs = plt.subplots(1, 2, figsize=(25, 20))\n",
    "\n",
    "# name each subplot\n",
    "ax3, ax4 = axs\n",
    "\n",
    "# regular count map on the left\n",
    "rapid_brt.plot(column='VAR_ROUTE',         \n",
    "            edgecolor='white', \n",
    "            linewidth=2., \n",
    "            alpha=.75, \n",
    "            ax=ax3,\n",
    "            legend=True\n",
    "           )\n",
    "\n",
    "ax3.axis(\"off\")\n",
    "ax3.set_title(\"Rapid BRT\")\n",
    "\n",
    "# spatial lag map on the right\n",
    "lim_exp.plot(column='VAR_ROUTE', \n",
    "            edgecolor='white', \n",
    "            linewidth=2., \n",
    "            alpha=.75, \n",
    "            ax=ax4, \n",
    "            legend=True\n",
    "           )\n",
    "\n",
    "ax4.axis(\"off\")\n",
    "ax4.set_title(\"Metro Limted and Expressway\")"
   ]
  },
  {
   "cell_type": "code",
   "execution_count": null,
   "metadata": {},
   "outputs": [],
   "source": []
  },
  {
   "cell_type": "markdown",
   "metadata": {},
   "source": [
    "<h2> Rail Line Stations "
   ]
  },
  {
   "cell_type": "markdown",
   "metadata": {},
   "source": [
    "rail_lines"
   ]
  },
  {
   "cell_type": "markdown",
   "metadata": {},
   "source": [
    "type(rail_lines)"
   ]
  },
  {
   "cell_type": "markdown",
   "metadata": {},
   "source": [
    "rail_lines.sample(10)"
   ]
  },
  {
   "cell_type": "markdown",
   "metadata": {},
   "source": [
    "Going to map rail line stations."
   ]
  },
  {
   "cell_type": "markdown",
   "metadata": {},
   "source": [
    "#rail_lines.plot(\n",
    "            figsize=(20,15),   \n",
    "            column = 'LINE',  \n",
    "            legend = True,             \n",
    "            legend_kwds={\n",
    "               'loc': 'upper right',\n",
    "               'bbox_to_anchor':(1.3,1)\n",
    "            }\n",
    ")"
   ]
  },
  {
   "cell_type": "markdown",
   "metadata": {},
   "source": [
    "This gives me an rail stations looks like. However, I wonder how rail lines would allow for a different persepctive. Rail lines come in indvidual shape files. Alternatively, could look at Bus stops, but have had problems downloading those shape files. Will need to address with my partner and during office hours. "
   ]
  },
  {
   "cell_type": "markdown",
   "metadata": {},
   "source": [
    "<h1> Deeper Analysis"
   ]
  },
  {
   "cell_type": "markdown",
   "metadata": {},
   "source": [
    "<h2> Charts"
   ]
  },
  {
   "cell_type": "code",
   "execution_count": null,
   "metadata": {},
   "outputs": [],
   "source": []
  },
  {
   "cell_type": "code",
   "execution_count": null,
   "metadata": {},
   "outputs": [],
   "source": []
  },
  {
   "cell_type": "code",
   "execution_count": null,
   "metadata": {},
   "outputs": [],
   "source": []
  },
  {
   "cell_type": "code",
   "execution_count": null,
   "metadata": {},
   "outputs": [],
   "source": []
  },
  {
   "cell_type": "code",
   "execution_count": null,
   "metadata": {},
   "outputs": [],
   "source": []
  },
  {
   "cell_type": "code",
   "execution_count": null,
   "metadata": {},
   "outputs": [],
   "source": []
  },
  {
   "cell_type": "markdown",
   "metadata": {},
   "source": [
    "<h2> Maps"
   ]
  },
  {
   "cell_type": "markdown",
   "metadata": {},
   "source": [
    "Map related libraries. Uploading later to save for room and speed."
   ]
  },
  {
   "cell_type": "code",
   "execution_count": null,
   "metadata": {},
   "outputs": [],
   "source": [
    "import folium\n",
    "import contextily as ctx"
   ]
  },
  {
   "cell_type": "markdown",
   "metadata": {},
   "source": [
    "<h3>Transportation Means to Work"
   ]
  },
  {
   "cell_type": "markdown",
   "metadata": {},
   "source": [
    "Basic Plot"
   ]
  },
  {
   "cell_type": "code",
   "execution_count": null,
   "metadata": {},
   "outputs": [],
   "source": [
    "means2work.plot(figsize=(20,15))"
   ]
  },
  {
   "cell_type": "markdown",
   "metadata": {},
   "source": [
    "Choropleth Maps"
   ]
  },
  {
   "cell_type": "code",
   "execution_count": null,
   "metadata": {},
   "outputs": [],
   "source": [
    "means2work.plot(figsize=(20,15),\n",
    "                 column='Percent Drove alone',\n",
    "                 legend=True, \n",
    "                 scheme='NaturalBreaks')\n"
   ]
  },
  {
   "cell_type": "code",
   "execution_count": null,
   "metadata": {},
   "outputs": [],
   "source": [
    "# create the 1x2 subplots\n",
    "fig, axs = plt.subplots(1, 2, figsize=(15, 15))\n",
    "\n",
    "# name each subplot\n",
    "ax1, ax2 = axs\n",
    "\n",
    "# regular count map on the left\n",
    "means2work.plot(column='Percent Car, truck, or van', \n",
    "            scheme='Quantiles',\n",
    "            k=5, \n",
    "            edgecolor='white', \n",
    "            linewidth=0., \n",
    "            alpha=0.75, \n",
    "            ax=ax1, # this assigns the map to the subplot,\n",
    "            legend=True\n",
    "           )\n",
    "\n",
    "ax1.axis(\"off\")\n",
    "ax1.set_title(\"Percent Car, truck, or van\")\n",
    "\n",
    "# spatial lag map on the right\n",
    "means2work.plot(column='Percent Public transportation', \n",
    "            scheme='Quantiles',\n",
    "            k=5, \n",
    "            edgecolor='white', \n",
    "            linewidth=0., \n",
    "            alpha=0.75, \n",
    "            ax=ax2, # this assigns the map to the subplot\n",
    "            legend=True\n",
    "           )\n",
    "\n",
    "ax2.axis(\"off\")\n",
    "ax2.set_title(\"Percent Public transportation\")"
   ]
  },
  {
   "cell_type": "markdown",
   "metadata": {},
   "source": [
    "Plotting w/ contextuality "
   ]
  },
  {
   "cell_type": "code",
   "execution_count": null,
   "metadata": {},
   "outputs": [],
   "source": [
    "ax=means2work.plot(figsize=(20,15),\n",
    "                 column='Percent Bus',\n",
    "                 cmap='cividis',\n",
    "                   legend=True, \n",
    "                 scheme='NaturalBreaks')\n",
    "\n",
    "ctx.add_basemap(ax, crs=means2work.crs.to_string())"
   ]
  },
  {
   "cell_type": "code",
   "execution_count": null,
   "metadata": {},
   "outputs": [],
   "source": [
    "# create the 1x2 subplots\n",
    "fig, axs = plt.subplots(1, 2, figsize=(35, 35))\n",
    "\n",
    "# name each subplot\n",
    "ax1, ax2 = axs\n",
    "\n",
    "# regular count map on the left\n",
    "means2work.plot(column='Percent Car, truck, or van', \n",
    "            scheme='NaturalBreaks',\n",
    "            k=5, \n",
    "            edgecolor='white', \n",
    "            linewidth=0., \n",
    "            alpha=0.75, \n",
    "            ax=ax1, # this assigns the map to the subplot,\n",
    "            legend=True\n",
    "           )\n",
    "\n",
    "ax1.axis(\"off\")\n",
    "ax1.set_title(\"Percent Car, Truck, or Van\")\n",
    "\n",
    "# spatial lag map on the right\n",
    "means2work.plot(column='Percent Public transportation', \n",
    "            scheme='NaturalBreaks',\n",
    "            k=5,  \n",
    "            edgecolor='white', \n",
    "            linewidth=0., \n",
    "            alpha=0.75, \n",
    "            ax=ax2, # this assigns the map to the subplot\n",
    "            legend=True\n",
    "           )\n",
    "\n",
    "ax2.axis(\"off\")\n",
    "ax2.set_title(\"Percent Public transportation\")\n",
    "\n",
    "ctx.add_basemap(ax1, crs=means2work.crs.to_string())\n",
    "ctx.add_basemap(ax2, crs=means2work.crs.to_string())"
   ]
  },
  {
   "cell_type": "markdown",
   "metadata": {},
   "source": [
    "Plotting with Folium (in process)"
   ]
  },
  {
   "cell_type": "code",
   "execution_count": null,
   "metadata": {},
   "outputs": [],
   "source": [
    "latitude = 34.00158291566265"
   ]
  },
  {
   "cell_type": "code",
   "execution_count": null,
   "metadata": {},
   "outputs": [],
   "source": [
    "longitude = -118.251045313253"
   ]
  },
  {
   "cell_type": "code",
   "execution_count": null,
   "metadata": {},
   "outputs": [],
   "source": [
    "\n",
    "\n",
    "#not working yet\n",
    "m_m2w = folium.Map()\n",
    "m_m2w = folium.Map(location=[latitude,longitude], zoom_start=10)\n",
    "\n",
    "m_m2w.choropleth(geo_data= 'means2work', data='means2work', key_on='means2work',\n",
    "             columns=['Percent Public transportation'], fill_color='BuPu')\n",
    "\n"
   ]
  },
  {
   "cell_type": "code",
   "execution_count": null,
   "metadata": {},
   "outputs": [],
   "source": [
    "#not working yet\n",
    "\n",
    "m_m2w = folium.Map()\n",
    "m_m2w = folium.Map(location=[latitude,longitude], zoom_start=10)\n",
    "m_m2w\n",
    "\n",
    "folium.Choropleth(\n",
    "                  geo_data=means2work,\n",
    "                  data=means2work,           \n",
    "                  column=['Percent Public transportation'],\n",
    "                  fill_color='BuPu',\n",
    "                  line_weight=0.1, \n",
    "                  fill_opacity=0.8,\n",
    "                  line_opacity=0.2, \n",
    "                  legend_name='Test)').add_to(m_m2w)    \n",
    "m_m2w"
   ]
  },
  {
   "cell_type": "markdown",
   "metadata": {},
   "source": [
    "<h3> Income"
   ]
  },
  {
   "cell_type": "code",
   "execution_count": null,
   "metadata": {},
   "outputs": [],
   "source": [
    "gdf_income.head(100).plot(figsize=(10,10),column='Median Income',legend=True)"
   ]
  },
  {
   "cell_type": "code",
   "execution_count": null,
   "metadata": {},
   "outputs": [],
   "source": [
    "gdf_income.plot(figsize=(12,10),\n",
    "                 column='Median Income',\n",
    "                 legend=True, \n",
    "                 scheme='NaturalBreaks')"
   ]
  },
  {
   "cell_type": "code",
   "execution_count": null,
   "metadata": {},
   "outputs": [],
   "source": [
    "gdf_income.plot(figsize=(12,10),\n",
    "                 column='Median Income',\n",
    "                 legend=True, \n",
    "                 scheme='equal_interval')"
   ]
  },
  {
   "cell_type": "code",
   "execution_count": null,
   "metadata": {},
   "outputs": [],
   "source": [
    "gdf_income.plot(figsize=(12,10),\n",
    "                 column='Median Income',\n",
    "                 legend=True, \n",
    "                 scheme='quantiles')"
   ]
  },
  {
   "cell_type": "code",
   "execution_count": null,
   "metadata": {},
   "outputs": [],
   "source": [
    "# create the 1x2 subplots\n",
    "fig, axs = plt.subplots(1, 2, figsize=(15, 12))\n",
    "\n",
    "# name each subplot\n",
    "ax1, ax2 = axs\n",
    "\n",
    "# regular count map on the left\n",
    "gdf_income.plot(column='Median Income', \n",
    "            cmap='RdYlGn_r', \n",
    "            scheme='quantiles',\n",
    "            k=5, \n",
    "            edgecolor='white', \n",
    "            linewidth=0., \n",
    "            alpha=0.75, \n",
    "            ax=ax1, # this assigns the map to the subplot,\n",
    "            legend=True\n",
    "           )\n",
    "\n",
    "ax1.axis(\"off\")\n",
    "ax1.set_title(\"Median Income\")\n",
    "\n",
    "# spatial lag map on the right\n",
    "gdf_income.plot(column='Median Income', \n",
    "            cmap='RdYlGn_r', \n",
    "            scheme='quantiles',\n",
    "            k=5, \n",
    "            edgecolor='white', \n",
    "            linewidth=0., \n",
    "            alpha=0.75, \n",
    "            ax=ax2, # this assigns the map to the subplot\n",
    "            legend=True\n",
    "           )\n",
    "ax2.axis(\"off\")\n",
    "ax2.set_title(\"Median Income\")"
   ]
  },
  {
   "cell_type": "markdown",
   "metadata": {},
   "source": [
    "<h3> Race and Ethnicity"
   ]
  },
  {
   "cell_type": "code",
   "execution_count": null,
   "metadata": {},
   "outputs": [],
   "source": [
    "gdf_race.head(100).plot(figsize=(10,10),column='N_White',legend=True)\n"
   ]
  },
  {
   "cell_type": "code",
   "execution_count": null,
   "metadata": {},
   "outputs": [],
   "source": [
    "gdf_race.plot(figsize=(12,10),\n",
    "                 column='N_Black',\n",
    "                 legend=True, \n",
    "                 scheme='NaturalBreaks')"
   ]
  },
  {
   "cell_type": "code",
   "execution_count": null,
   "metadata": {},
   "outputs": [],
   "source": [
    "gdf_race.plot(figsize=(12,10),\n",
    "                 column='N_Black',\n",
    "                 legend=True, \n",
    "                 scheme='equal_interval')"
   ]
  },
  {
   "cell_type": "code",
   "execution_count": null,
   "metadata": {},
   "outputs": [],
   "source": [
    "gdf_race.plot(figsize=(12,10),\n",
    "                 column='N_Black',\n",
    "                 legend=True, \n",
    "                 scheme='quantiles')\n"
   ]
  },
  {
   "cell_type": "code",
   "execution_count": null,
   "metadata": {},
   "outputs": [],
   "source": [
    "# create the 1x2 subplots\n",
    "fig, axs = plt.subplots(1, 2, figsize=(15, 12))\n",
    "\n",
    "# name each subplot\n",
    "ax1, ax2 = axs\n",
    "\n",
    "# regular count map on the left\n",
    "gdf_race.plot(column='N_Black', \n",
    "            cmap='RdYlGn_r', \n",
    "            scheme='quantiles',\n",
    "            k=5, \n",
    "            edgecolor='white', \n",
    "            linewidth=0., \n",
    "            alpha=0.75, \n",
    "            ax=ax1, # this assigns the map to the subplot,\n",
    "            legend=True\n",
    "           )\n",
    "\n",
    "ax1.axis(\"off\")\n",
    "ax1.set_title(\"N_Black\")\n",
    "\n",
    "# spatial lag map on the right\n",
    "gdf_race.plot(column='N_White', \n",
    "            cmap='RdYlGn_r', \n",
    "            scheme='quantiles',\n",
    "            k=5, \n",
    "            edgecolor='white', \n",
    "            linewidth=0., \n",
    "            alpha=0.75, \n",
    "            ax=ax2, # this assigns the map to the subplot\n",
    "            legend=True\n",
    "           )\n",
    "\n",
    "ax2.axis(\"off\")\n",
    "ax2.set_title(\"N_White\")"
   ]
  },
  {
   "cell_type": "markdown",
   "metadata": {},
   "source": [
    "Links for other maps to check out"
   ]
  },
  {
   "cell_type": "markdown",
   "metadata": {},
   "source": [
    "1. https://www.analyticsvidhya.com/blog/2020/06/guide-geospatial-analysis-folium-python/\n",
    "2. [How to plot several layers using GeoPandas](https://stackoverflow.com/questions/57773092/how-to-plot-several-layers-using-geopandas)\n",
    "3. [How do I add two choropleth layers in folium and have them act like a feature group?](https://stackoverflow.com/questions/55196978/how-do-i-add-two-choropleth-layers-in-folium-and-have-them-act-like-a-feature-gr)\n"
   ]
  },
  {
   "cell_type": "code",
   "execution_count": null,
   "metadata": {},
   "outputs": [],
   "source": []
  }
 ],
 "metadata": {
  "celltoolbar": "Raw Cell Format",
  "kernelspec": {
   "display_name": "Python 3",
   "language": "python",
   "name": "python3"
  },
  "language_info": {
   "codemirror_mode": {
    "name": "ipython",
    "version": 3
   },
   "file_extension": ".py",
   "mimetype": "text/x-python",
   "name": "python",
   "nbconvert_exporter": "python",
   "pygments_lexer": "ipython3",
   "version": "3.8.5"
  },
  "toc": {
   "base_numbering": 1,
   "nav_menu": {},
   "number_sections": true,
   "sideBar": true,
   "skip_h1_title": false,
   "title_cell": "Table of Contents",
   "title_sidebar": "Contents",
   "toc_cell": false,
   "toc_position": {},
   "toc_section_display": true,
   "toc_window_display": false
  }
 },
 "nbformat": 4,
 "nbformat_minor": 4
}
