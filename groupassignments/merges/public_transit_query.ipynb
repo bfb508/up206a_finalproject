{
 "cells": [
  {
   "cell_type": "markdown",
   "metadata": {},
   "source": [
    "<h1> Public Transit Query"
   ]
  },
  {
   "cell_type": "markdown",
   "metadata": {},
   "source": [
    "**By:** Andrew Williams \n",
    "\n",
    "**Partner:** Ben Brassette\n",
    "    \n",
    "**Description:** Further needed research on public transit neighborhoods. Primary objective is to query and locate high use census tracts for comparison to other variables. I will be tackling numbers 5, 6, and 7 in this noteboob.\n",
    "\n",
    "**Notes for self to advance project:**\n",
    "1. Biggest step forward, intergrating our notebooks in the remaining few weeks in a targeted fashion\n",
    "2.  Overlay heavy rail and light rail stops\n",
    "3.  Provide more accurate description of the areas through a spatial join\n",
    "4. Compare with race/ethnicity and income data; we should create some side by side comparisons of transit use and race/eth and income\n",
    "5. Query \"high\" transit tracts, cross reference with income and race/eth, potential to add spatial dimension of LA neighborhoods\n",
    "6. Availability of cars in households\n",
    "7. Bring a shaprer focus to Central LA and the San Fernando Valley"
   ]
  },
  {
   "cell_type": "markdown",
   "metadata": {},
   "source": [
    "**After completing this notebook query, I have a serious of decisions I need to make**\n",
    "1. How many tracts should we include? Cut off at 20% for for all public transit?\n",
    "2. Look at variety of forms of public transit around high concentration areas?\n",
    "3. Focal point on just Central LA and SF Valley?\n",
    "4. Need to define rail systems in LA"
   ]
  },
  {
   "cell_type": "markdown",
   "metadata": {},
   "source": [
    "# Library Import \n"
   ]
  },
  {
   "cell_type": "markdown",
   "metadata": {},
   "source": [
    "Importing various libaries"
   ]
  },
  {
   "cell_type": "code",
   "execution_count": 1,
   "metadata": {},
   "outputs": [],
   "source": [
    "import urllib.request, json \n",
    "import geopandas as gpd\n",
    "import pandas as pd\n",
    "import matplotlib.pyplot as plt\n",
    "import numpy as np\n",
    "import seaborn as sns "
   ]
  },
  {
   "cell_type": "markdown",
   "metadata": {},
   "source": [
    "Libraries good to go. "
   ]
  },
  {
   "cell_type": "markdown",
   "metadata": {},
   "source": [
    "# Mode of Travel"
   ]
  },
  {
   "cell_type": "markdown",
   "metadata": {},
   "source": [
    "Import data and run quick analysis of data."
   ]
  },
  {
   "cell_type": "code",
   "execution_count": 2,
   "metadata": {},
   "outputs": [],
   "source": [
    "#transporation means to work\n",
    "means2work = gpd.read_file('Data/Means_Transpo_Work_Tract/acs2019_5yr_B08301_14000US06037185320.geojson')"
   ]
  },
  {
   "cell_type": "code",
   "execution_count": 3,
   "metadata": {
    "scrolled": false
   },
   "outputs": [
    {
     "data": {
      "text/plain": [
       "geopandas.geodataframe.GeoDataFrame"
      ]
     },
     "execution_count": 3,
     "metadata": {},
     "output_type": "execute_result"
    }
   ],
   "source": [
    "type(means2work)"
   ]
  },
  {
   "cell_type": "code",
   "execution_count": 4,
   "metadata": {
    "scrolled": true
   },
   "outputs": [
    {
     "data": {
      "text/plain": [
       "['geoid',\n",
       " 'name',\n",
       " 'B08301001',\n",
       " 'B08301001, Error',\n",
       " 'B08301002',\n",
       " 'B08301002, Error',\n",
       " 'B08301003',\n",
       " 'B08301003, Error',\n",
       " 'B08301004',\n",
       " 'B08301004, Error',\n",
       " 'B08301005',\n",
       " 'B08301005, Error',\n",
       " 'B08301006',\n",
       " 'B08301006, Error',\n",
       " 'B08301007',\n",
       " 'B08301007, Error',\n",
       " 'B08301008',\n",
       " 'B08301008, Error',\n",
       " 'B08301009',\n",
       " 'B08301009, Error',\n",
       " 'B08301010',\n",
       " 'B08301010, Error',\n",
       " 'B08301011',\n",
       " 'B08301011, Error',\n",
       " 'B08301012',\n",
       " 'B08301012, Error',\n",
       " 'B08301013',\n",
       " 'B08301013, Error',\n",
       " 'B08301014',\n",
       " 'B08301014, Error',\n",
       " 'B08301015',\n",
       " 'B08301015, Error',\n",
       " 'B08301016',\n",
       " 'B08301016, Error',\n",
       " 'B08301017',\n",
       " 'B08301017, Error',\n",
       " 'B08301018',\n",
       " 'B08301018, Error',\n",
       " 'B08301019',\n",
       " 'B08301019, Error',\n",
       " 'B08301020',\n",
       " 'B08301020, Error',\n",
       " 'B08301021',\n",
       " 'B08301021, Error',\n",
       " 'geometry']"
      ]
     },
     "execution_count": 4,
     "metadata": {},
     "output_type": "execute_result"
    }
   ],
   "source": [
    "list(means2work)"
   ]
  },
  {
   "cell_type": "code",
   "execution_count": 5,
   "metadata": {
    "scrolled": true
   },
   "outputs": [
    {
     "data": {
      "text/plain": [
       "(1005, 45)"
      ]
     },
     "execution_count": 5,
     "metadata": {},
     "output_type": "execute_result"
    }
   ],
   "source": [
    "means2work.shape"
   ]
  },
  {
   "cell_type": "code",
   "execution_count": 6,
   "metadata": {
    "scrolled": true
   },
   "outputs": [
    {
     "data": {
      "text/html": [
       "<div>\n",
       "<style scoped>\n",
       "    .dataframe tbody tr th:only-of-type {\n",
       "        vertical-align: middle;\n",
       "    }\n",
       "\n",
       "    .dataframe tbody tr th {\n",
       "        vertical-align: top;\n",
       "    }\n",
       "\n",
       "    .dataframe thead th {\n",
       "        text-align: right;\n",
       "    }\n",
       "</style>\n",
       "<table border=\"1\" class=\"dataframe\">\n",
       "  <thead>\n",
       "    <tr style=\"text-align: right;\">\n",
       "      <th></th>\n",
       "      <th>geoid</th>\n",
       "      <th>name</th>\n",
       "      <th>B08301001</th>\n",
       "      <th>B08301001, Error</th>\n",
       "      <th>B08301002</th>\n",
       "      <th>B08301002, Error</th>\n",
       "      <th>B08301003</th>\n",
       "      <th>B08301003, Error</th>\n",
       "      <th>B08301004</th>\n",
       "      <th>B08301004, Error</th>\n",
       "      <th>...</th>\n",
       "      <th>B08301017, Error</th>\n",
       "      <th>B08301018</th>\n",
       "      <th>B08301018, Error</th>\n",
       "      <th>B08301019</th>\n",
       "      <th>B08301019, Error</th>\n",
       "      <th>B08301020</th>\n",
       "      <th>B08301020, Error</th>\n",
       "      <th>B08301021</th>\n",
       "      <th>B08301021, Error</th>\n",
       "      <th>geometry</th>\n",
       "    </tr>\n",
       "  </thead>\n",
       "  <tbody>\n",
       "    <tr>\n",
       "      <th>0</th>\n",
       "      <td>14000US06037101110</td>\n",
       "      <td>Census Tract 1011.10, Los Angeles, CA</td>\n",
       "      <td>2027.0</td>\n",
       "      <td>253.0</td>\n",
       "      <td>1860.0</td>\n",
       "      <td>265.0</td>\n",
       "      <td>1656.0</td>\n",
       "      <td>270.0</td>\n",
       "      <td>204.0</td>\n",
       "      <td>80.0</td>\n",
       "      <td>...</td>\n",
       "      <td>12.0</td>\n",
       "      <td>0.0</td>\n",
       "      <td>12.0</td>\n",
       "      <td>0.0</td>\n",
       "      <td>12.0</td>\n",
       "      <td>26.0</td>\n",
       "      <td>36.0</td>\n",
       "      <td>82.0</td>\n",
       "      <td>52.0</td>\n",
       "      <td>MULTIPOLYGON (((-118.30229 34.25870, -118.3009...</td>\n",
       "    </tr>\n",
       "    <tr>\n",
       "      <th>1</th>\n",
       "      <td>14000US06037101122</td>\n",
       "      <td>Census Tract 1011.22, Los Angeles, CA</td>\n",
       "      <td>1834.0</td>\n",
       "      <td>175.0</td>\n",
       "      <td>1730.0</td>\n",
       "      <td>178.0</td>\n",
       "      <td>1617.0</td>\n",
       "      <td>186.0</td>\n",
       "      <td>113.0</td>\n",
       "      <td>91.0</td>\n",
       "      <td>...</td>\n",
       "      <td>12.0</td>\n",
       "      <td>0.0</td>\n",
       "      <td>12.0</td>\n",
       "      <td>10.0</td>\n",
       "      <td>16.0</td>\n",
       "      <td>0.0</td>\n",
       "      <td>12.0</td>\n",
       "      <td>77.0</td>\n",
       "      <td>46.0</td>\n",
       "      <td>MULTIPOLYGON (((-118.30334 34.27371, -118.3033...</td>\n",
       "    </tr>\n",
       "    <tr>\n",
       "      <th>2</th>\n",
       "      <td>14000US06037101210</td>\n",
       "      <td>Census Tract 1012.10, Los Angeles, CA</td>\n",
       "      <td>3057.0</td>\n",
       "      <td>438.0</td>\n",
       "      <td>2699.0</td>\n",
       "      <td>411.0</td>\n",
       "      <td>2430.0</td>\n",
       "      <td>356.0</td>\n",
       "      <td>269.0</td>\n",
       "      <td>197.0</td>\n",
       "      <td>...</td>\n",
       "      <td>17.0</td>\n",
       "      <td>0.0</td>\n",
       "      <td>17.0</td>\n",
       "      <td>74.0</td>\n",
       "      <td>65.0</td>\n",
       "      <td>72.0</td>\n",
       "      <td>63.0</td>\n",
       "      <td>129.0</td>\n",
       "      <td>95.0</td>\n",
       "      <td>MULTIPOLYGON (((-118.29945 34.25598, -118.2979...</td>\n",
       "    </tr>\n",
       "    <tr>\n",
       "      <th>3</th>\n",
       "      <td>14000US06037101220</td>\n",
       "      <td>Census Tract 1012.20, Los Angeles, CA</td>\n",
       "      <td>1593.0</td>\n",
       "      <td>202.0</td>\n",
       "      <td>1439.0</td>\n",
       "      <td>200.0</td>\n",
       "      <td>1323.0</td>\n",
       "      <td>201.0</td>\n",
       "      <td>116.0</td>\n",
       "      <td>67.0</td>\n",
       "      <td>...</td>\n",
       "      <td>12.0</td>\n",
       "      <td>0.0</td>\n",
       "      <td>12.0</td>\n",
       "      <td>8.0</td>\n",
       "      <td>13.0</td>\n",
       "      <td>30.0</td>\n",
       "      <td>42.0</td>\n",
       "      <td>68.0</td>\n",
       "      <td>52.0</td>\n",
       "      <td>MULTIPOLYGON (((-118.28593 34.25227, -118.2859...</td>\n",
       "    </tr>\n",
       "  </tbody>\n",
       "</table>\n",
       "<p>4 rows × 45 columns</p>\n",
       "</div>"
      ],
      "text/plain": [
       "                geoid                                   name  B08301001  \\\n",
       "0  14000US06037101110  Census Tract 1011.10, Los Angeles, CA     2027.0   \n",
       "1  14000US06037101122  Census Tract 1011.22, Los Angeles, CA     1834.0   \n",
       "2  14000US06037101210  Census Tract 1012.10, Los Angeles, CA     3057.0   \n",
       "3  14000US06037101220  Census Tract 1012.20, Los Angeles, CA     1593.0   \n",
       "\n",
       "   B08301001, Error  B08301002  B08301002, Error  B08301003  B08301003, Error  \\\n",
       "0             253.0     1860.0             265.0     1656.0             270.0   \n",
       "1             175.0     1730.0             178.0     1617.0             186.0   \n",
       "2             438.0     2699.0             411.0     2430.0             356.0   \n",
       "3             202.0     1439.0             200.0     1323.0             201.0   \n",
       "\n",
       "   B08301004  B08301004, Error  ...  B08301017, Error  B08301018  \\\n",
       "0      204.0              80.0  ...              12.0        0.0   \n",
       "1      113.0              91.0  ...              12.0        0.0   \n",
       "2      269.0             197.0  ...              17.0        0.0   \n",
       "3      116.0              67.0  ...              12.0        0.0   \n",
       "\n",
       "   B08301018, Error  B08301019  B08301019, Error  B08301020  B08301020, Error  \\\n",
       "0              12.0        0.0              12.0       26.0              36.0   \n",
       "1              12.0       10.0              16.0        0.0              12.0   \n",
       "2              17.0       74.0              65.0       72.0              63.0   \n",
       "3              12.0        8.0              13.0       30.0              42.0   \n",
       "\n",
       "   B08301021  B08301021, Error  \\\n",
       "0       82.0              52.0   \n",
       "1       77.0              46.0   \n",
       "2      129.0              95.0   \n",
       "3       68.0              52.0   \n",
       "\n",
       "                                            geometry  \n",
       "0  MULTIPOLYGON (((-118.30229 34.25870, -118.3009...  \n",
       "1  MULTIPOLYGON (((-118.30334 34.27371, -118.3033...  \n",
       "2  MULTIPOLYGON (((-118.29945 34.25598, -118.2979...  \n",
       "3  MULTIPOLYGON (((-118.28593 34.25227, -118.2859...  \n",
       "\n",
       "[4 rows x 45 columns]"
      ]
     },
     "execution_count": 6,
     "metadata": {},
     "output_type": "execute_result"
    }
   ],
   "source": [
    "means2work.head(4)"
   ]
  },
  {
   "cell_type": "code",
   "execution_count": 7,
   "metadata": {},
   "outputs": [
    {
     "data": {
      "text/html": [
       "<div>\n",
       "<style scoped>\n",
       "    .dataframe tbody tr th:only-of-type {\n",
       "        vertical-align: middle;\n",
       "    }\n",
       "\n",
       "    .dataframe tbody tr th {\n",
       "        vertical-align: top;\n",
       "    }\n",
       "\n",
       "    .dataframe thead th {\n",
       "        text-align: right;\n",
       "    }\n",
       "</style>\n",
       "<table border=\"1\" class=\"dataframe\">\n",
       "  <thead>\n",
       "    <tr style=\"text-align: right;\">\n",
       "      <th></th>\n",
       "      <th>geoid</th>\n",
       "      <th>name</th>\n",
       "      <th>B08301001</th>\n",
       "      <th>B08301001, Error</th>\n",
       "      <th>B08301002</th>\n",
       "      <th>B08301002, Error</th>\n",
       "      <th>B08301003</th>\n",
       "      <th>B08301003, Error</th>\n",
       "      <th>B08301004</th>\n",
       "      <th>B08301004, Error</th>\n",
       "      <th>...</th>\n",
       "      <th>B08301017, Error</th>\n",
       "      <th>B08301018</th>\n",
       "      <th>B08301018, Error</th>\n",
       "      <th>B08301019</th>\n",
       "      <th>B08301019, Error</th>\n",
       "      <th>B08301020</th>\n",
       "      <th>B08301020, Error</th>\n",
       "      <th>B08301021</th>\n",
       "      <th>B08301021, Error</th>\n",
       "      <th>geometry</th>\n",
       "    </tr>\n",
       "  </thead>\n",
       "  <tbody>\n",
       "    <tr>\n",
       "      <th>1001</th>\n",
       "      <td>14000US06037980028</td>\n",
       "      <td>Census Tract 9800.28, Los Angeles, CA</td>\n",
       "      <td>0.0</td>\n",
       "      <td>12.0</td>\n",
       "      <td>0.0</td>\n",
       "      <td>12.0</td>\n",
       "      <td>0.0</td>\n",
       "      <td>12.0</td>\n",
       "      <td>0.0</td>\n",
       "      <td>12.0</td>\n",
       "      <td>...</td>\n",
       "      <td>12.0</td>\n",
       "      <td>0.0</td>\n",
       "      <td>12.0</td>\n",
       "      <td>0.0</td>\n",
       "      <td>12.0</td>\n",
       "      <td>0.0</td>\n",
       "      <td>12.0</td>\n",
       "      <td>0.0</td>\n",
       "      <td>12.0</td>\n",
       "      <td>MULTIPOLYGON (((-118.45246 33.94315, -118.4464...</td>\n",
       "    </tr>\n",
       "    <tr>\n",
       "      <th>1002</th>\n",
       "      <td>14000US06037980031</td>\n",
       "      <td>Census Tract 9800.31, Los Angeles, CA</td>\n",
       "      <td>24.0</td>\n",
       "      <td>27.0</td>\n",
       "      <td>15.0</td>\n",
       "      <td>26.0</td>\n",
       "      <td>15.0</td>\n",
       "      <td>26.0</td>\n",
       "      <td>0.0</td>\n",
       "      <td>12.0</td>\n",
       "      <td>...</td>\n",
       "      <td>12.0</td>\n",
       "      <td>5.0</td>\n",
       "      <td>7.0</td>\n",
       "      <td>0.0</td>\n",
       "      <td>12.0</td>\n",
       "      <td>4.0</td>\n",
       "      <td>6.0</td>\n",
       "      <td>0.0</td>\n",
       "      <td>12.0</td>\n",
       "      <td>MULTIPOLYGON (((-118.29105 33.75378, -118.2905...</td>\n",
       "    </tr>\n",
       "    <tr>\n",
       "      <th>1003</th>\n",
       "      <td>14000US06037990200</td>\n",
       "      <td>Census Tract 9902, Los Angeles, CA</td>\n",
       "      <td>0.0</td>\n",
       "      <td>12.0</td>\n",
       "      <td>0.0</td>\n",
       "      <td>12.0</td>\n",
       "      <td>0.0</td>\n",
       "      <td>12.0</td>\n",
       "      <td>0.0</td>\n",
       "      <td>12.0</td>\n",
       "      <td>...</td>\n",
       "      <td>12.0</td>\n",
       "      <td>0.0</td>\n",
       "      <td>12.0</td>\n",
       "      <td>0.0</td>\n",
       "      <td>12.0</td>\n",
       "      <td>0.0</td>\n",
       "      <td>12.0</td>\n",
       "      <td>0.0</td>\n",
       "      <td>12.0</td>\n",
       "      <td>MULTIPOLYGON (((-118.63598 34.03255, -118.6325...</td>\n",
       "    </tr>\n",
       "    <tr>\n",
       "      <th>1004</th>\n",
       "      <td>16000US0644000</td>\n",
       "      <td>Los Angeles, CA</td>\n",
       "      <td>1964868.0</td>\n",
       "      <td>5629.0</td>\n",
       "      <td>1541762.0</td>\n",
       "      <td>6099.0</td>\n",
       "      <td>1368251.0</td>\n",
       "      <td>6262.0</td>\n",
       "      <td>173511.0</td>\n",
       "      <td>3251.0</td>\n",
       "      <td>...</td>\n",
       "      <td>495.0</td>\n",
       "      <td>18897.0</td>\n",
       "      <td>930.0</td>\n",
       "      <td>67341.0</td>\n",
       "      <td>1930.0</td>\n",
       "      <td>25181.0</td>\n",
       "      <td>1195.0</td>\n",
       "      <td>123270.0</td>\n",
       "      <td>2531.0</td>\n",
       "      <td>MULTIPOLYGON (((-118.66818 34.18987, -118.6681...</td>\n",
       "    </tr>\n",
       "  </tbody>\n",
       "</table>\n",
       "<p>4 rows × 45 columns</p>\n",
       "</div>"
      ],
      "text/plain": [
       "                   geoid                                   name  B08301001  \\\n",
       "1001  14000US06037980028  Census Tract 9800.28, Los Angeles, CA        0.0   \n",
       "1002  14000US06037980031  Census Tract 9800.31, Los Angeles, CA       24.0   \n",
       "1003  14000US06037990200     Census Tract 9902, Los Angeles, CA        0.0   \n",
       "1004      16000US0644000                        Los Angeles, CA  1964868.0   \n",
       "\n",
       "      B08301001, Error  B08301002  B08301002, Error  B08301003  \\\n",
       "1001              12.0        0.0              12.0        0.0   \n",
       "1002              27.0       15.0              26.0       15.0   \n",
       "1003              12.0        0.0              12.0        0.0   \n",
       "1004            5629.0  1541762.0            6099.0  1368251.0   \n",
       "\n",
       "      B08301003, Error  B08301004  B08301004, Error  ...  B08301017, Error  \\\n",
       "1001              12.0        0.0              12.0  ...              12.0   \n",
       "1002              26.0        0.0              12.0  ...              12.0   \n",
       "1003              12.0        0.0              12.0  ...              12.0   \n",
       "1004            6262.0   173511.0            3251.0  ...             495.0   \n",
       "\n",
       "      B08301018  B08301018, Error  B08301019  B08301019, Error  B08301020  \\\n",
       "1001        0.0              12.0        0.0              12.0        0.0   \n",
       "1002        5.0               7.0        0.0              12.0        4.0   \n",
       "1003        0.0              12.0        0.0              12.0        0.0   \n",
       "1004    18897.0             930.0    67341.0            1930.0    25181.0   \n",
       "\n",
       "      B08301020, Error  B08301021  B08301021, Error  \\\n",
       "1001              12.0        0.0              12.0   \n",
       "1002               6.0        0.0              12.0   \n",
       "1003              12.0        0.0              12.0   \n",
       "1004            1195.0   123270.0            2531.0   \n",
       "\n",
       "                                               geometry  \n",
       "1001  MULTIPOLYGON (((-118.45246 33.94315, -118.4464...  \n",
       "1002  MULTIPOLYGON (((-118.29105 33.75378, -118.2905...  \n",
       "1003  MULTIPOLYGON (((-118.63598 34.03255, -118.6325...  \n",
       "1004  MULTIPOLYGON (((-118.66818 34.18987, -118.6681...  \n",
       "\n",
       "[4 rows x 45 columns]"
      ]
     },
     "execution_count": 7,
     "metadata": {},
     "output_type": "execute_result"
    }
   ],
   "source": [
    "means2work.tail(4)"
   ]
  },
  {
   "cell_type": "markdown",
   "metadata": {},
   "source": [
    "Data look normal and as expexted for a gpd. I will delete the last row as it represents the combined city total."
   ]
  },
  {
   "cell_type": "code",
   "execution_count": 8,
   "metadata": {},
   "outputs": [],
   "source": [
    "#dropped la city total\n",
    "means2work = means2work.drop([1004])"
   ]
  },
  {
   "cell_type": "code",
   "execution_count": 9,
   "metadata": {},
   "outputs": [
    {
     "data": {
      "text/html": [
       "<div>\n",
       "<style scoped>\n",
       "    .dataframe tbody tr th:only-of-type {\n",
       "        vertical-align: middle;\n",
       "    }\n",
       "\n",
       "    .dataframe tbody tr th {\n",
       "        vertical-align: top;\n",
       "    }\n",
       "\n",
       "    .dataframe thead th {\n",
       "        text-align: right;\n",
       "    }\n",
       "</style>\n",
       "<table border=\"1\" class=\"dataframe\">\n",
       "  <thead>\n",
       "    <tr style=\"text-align: right;\">\n",
       "      <th></th>\n",
       "      <th>geoid</th>\n",
       "      <th>name</th>\n",
       "      <th>B08301001</th>\n",
       "      <th>B08301001, Error</th>\n",
       "      <th>B08301002</th>\n",
       "      <th>B08301002, Error</th>\n",
       "      <th>B08301003</th>\n",
       "      <th>B08301003, Error</th>\n",
       "      <th>B08301004</th>\n",
       "      <th>B08301004, Error</th>\n",
       "      <th>...</th>\n",
       "      <th>B08301017, Error</th>\n",
       "      <th>B08301018</th>\n",
       "      <th>B08301018, Error</th>\n",
       "      <th>B08301019</th>\n",
       "      <th>B08301019, Error</th>\n",
       "      <th>B08301020</th>\n",
       "      <th>B08301020, Error</th>\n",
       "      <th>B08301021</th>\n",
       "      <th>B08301021, Error</th>\n",
       "      <th>geometry</th>\n",
       "    </tr>\n",
       "  </thead>\n",
       "  <tbody>\n",
       "    <tr>\n",
       "      <th>1001</th>\n",
       "      <td>14000US06037980028</td>\n",
       "      <td>Census Tract 9800.28, Los Angeles, CA</td>\n",
       "      <td>0.0</td>\n",
       "      <td>12.0</td>\n",
       "      <td>0.0</td>\n",
       "      <td>12.0</td>\n",
       "      <td>0.0</td>\n",
       "      <td>12.0</td>\n",
       "      <td>0.0</td>\n",
       "      <td>12.0</td>\n",
       "      <td>...</td>\n",
       "      <td>12.0</td>\n",
       "      <td>0.0</td>\n",
       "      <td>12.0</td>\n",
       "      <td>0.0</td>\n",
       "      <td>12.0</td>\n",
       "      <td>0.0</td>\n",
       "      <td>12.0</td>\n",
       "      <td>0.0</td>\n",
       "      <td>12.0</td>\n",
       "      <td>MULTIPOLYGON (((-118.45246 33.94315, -118.4464...</td>\n",
       "    </tr>\n",
       "    <tr>\n",
       "      <th>1002</th>\n",
       "      <td>14000US06037980031</td>\n",
       "      <td>Census Tract 9800.31, Los Angeles, CA</td>\n",
       "      <td>24.0</td>\n",
       "      <td>27.0</td>\n",
       "      <td>15.0</td>\n",
       "      <td>26.0</td>\n",
       "      <td>15.0</td>\n",
       "      <td>26.0</td>\n",
       "      <td>0.0</td>\n",
       "      <td>12.0</td>\n",
       "      <td>...</td>\n",
       "      <td>12.0</td>\n",
       "      <td>5.0</td>\n",
       "      <td>7.0</td>\n",
       "      <td>0.0</td>\n",
       "      <td>12.0</td>\n",
       "      <td>4.0</td>\n",
       "      <td>6.0</td>\n",
       "      <td>0.0</td>\n",
       "      <td>12.0</td>\n",
       "      <td>MULTIPOLYGON (((-118.29105 33.75378, -118.2905...</td>\n",
       "    </tr>\n",
       "    <tr>\n",
       "      <th>1003</th>\n",
       "      <td>14000US06037990200</td>\n",
       "      <td>Census Tract 9902, Los Angeles, CA</td>\n",
       "      <td>0.0</td>\n",
       "      <td>12.0</td>\n",
       "      <td>0.0</td>\n",
       "      <td>12.0</td>\n",
       "      <td>0.0</td>\n",
       "      <td>12.0</td>\n",
       "      <td>0.0</td>\n",
       "      <td>12.0</td>\n",
       "      <td>...</td>\n",
       "      <td>12.0</td>\n",
       "      <td>0.0</td>\n",
       "      <td>12.0</td>\n",
       "      <td>0.0</td>\n",
       "      <td>12.0</td>\n",
       "      <td>0.0</td>\n",
       "      <td>12.0</td>\n",
       "      <td>0.0</td>\n",
       "      <td>12.0</td>\n",
       "      <td>MULTIPOLYGON (((-118.63598 34.03255, -118.6325...</td>\n",
       "    </tr>\n",
       "  </tbody>\n",
       "</table>\n",
       "<p>3 rows × 45 columns</p>\n",
       "</div>"
      ],
      "text/plain": [
       "                   geoid                                   name  B08301001  \\\n",
       "1001  14000US06037980028  Census Tract 9800.28, Los Angeles, CA        0.0   \n",
       "1002  14000US06037980031  Census Tract 9800.31, Los Angeles, CA       24.0   \n",
       "1003  14000US06037990200     Census Tract 9902, Los Angeles, CA        0.0   \n",
       "\n",
       "      B08301001, Error  B08301002  B08301002, Error  B08301003  \\\n",
       "1001              12.0        0.0              12.0        0.0   \n",
       "1002              27.0       15.0              26.0       15.0   \n",
       "1003              12.0        0.0              12.0        0.0   \n",
       "\n",
       "      B08301003, Error  B08301004  B08301004, Error  ...  B08301017, Error  \\\n",
       "1001              12.0        0.0              12.0  ...              12.0   \n",
       "1002              26.0        0.0              12.0  ...              12.0   \n",
       "1003              12.0        0.0              12.0  ...              12.0   \n",
       "\n",
       "      B08301018  B08301018, Error  B08301019  B08301019, Error  B08301020  \\\n",
       "1001        0.0              12.0        0.0              12.0        0.0   \n",
       "1002        5.0               7.0        0.0              12.0        4.0   \n",
       "1003        0.0              12.0        0.0              12.0        0.0   \n",
       "\n",
       "      B08301020, Error  B08301021  B08301021, Error  \\\n",
       "1001              12.0        0.0              12.0   \n",
       "1002               6.0        0.0              12.0   \n",
       "1003              12.0        0.0              12.0   \n",
       "\n",
       "                                               geometry  \n",
       "1001  MULTIPOLYGON (((-118.45246 33.94315, -118.4464...  \n",
       "1002  MULTIPOLYGON (((-118.29105 33.75378, -118.2905...  \n",
       "1003  MULTIPOLYGON (((-118.63598 34.03255, -118.6325...  \n",
       "\n",
       "[3 rows x 45 columns]"
      ]
     },
     "execution_count": 9,
     "metadata": {},
     "output_type": "execute_result"
    }
   ],
   "source": [
    "means2work.tail(3)"
   ]
  },
  {
   "cell_type": "markdown",
   "metadata": {},
   "source": [
    "Last data point is dropped. "
   ]
  },
  {
   "cell_type": "markdown",
   "metadata": {},
   "source": [
    "I'm deleting my standard deviation or \"error\" rows and dropping the breakdown of carpooling. Will re-define my variable and test it out. "
   ]
  },
  {
   "cell_type": "code",
   "execution_count": 10,
   "metadata": {},
   "outputs": [],
   "source": [
    "columns_to_keep = ['geoid',\n",
    " 'name',\n",
    " 'B08301001',\n",
    " 'B08301002',\n",
    " 'B08301003',\n",
    " 'B08301004',\n",
    " 'B08301010',\n",
    " 'B08301011',\n",
    " 'B08301012',\n",
    " 'B08301013',\n",
    " 'B08301014',\n",
    " 'B08301016',\n",
    " 'B08301017',\n",
    " 'B08301018',\n",
    " 'B08301019',\n",
    " 'B08301020',\n",
    " 'B08301021',\n",
    " 'geometry']"
   ]
  },
  {
   "cell_type": "code",
   "execution_count": 11,
   "metadata": {},
   "outputs": [],
   "source": [
    "means2work = means2work [columns_to_keep]"
   ]
  },
  {
   "cell_type": "code",
   "execution_count": 12,
   "metadata": {},
   "outputs": [
    {
     "data": {
      "text/html": [
       "<div>\n",
       "<style scoped>\n",
       "    .dataframe tbody tr th:only-of-type {\n",
       "        vertical-align: middle;\n",
       "    }\n",
       "\n",
       "    .dataframe tbody tr th {\n",
       "        vertical-align: top;\n",
       "    }\n",
       "\n",
       "    .dataframe thead th {\n",
       "        text-align: right;\n",
       "    }\n",
       "</style>\n",
       "<table border=\"1\" class=\"dataframe\">\n",
       "  <thead>\n",
       "    <tr style=\"text-align: right;\">\n",
       "      <th></th>\n",
       "      <th>geoid</th>\n",
       "      <th>name</th>\n",
       "      <th>B08301001</th>\n",
       "      <th>B08301002</th>\n",
       "      <th>B08301003</th>\n",
       "      <th>B08301004</th>\n",
       "      <th>B08301010</th>\n",
       "      <th>B08301011</th>\n",
       "      <th>B08301012</th>\n",
       "      <th>B08301013</th>\n",
       "      <th>B08301014</th>\n",
       "      <th>B08301016</th>\n",
       "      <th>B08301017</th>\n",
       "      <th>B08301018</th>\n",
       "      <th>B08301019</th>\n",
       "      <th>B08301020</th>\n",
       "      <th>B08301021</th>\n",
       "      <th>geometry</th>\n",
       "    </tr>\n",
       "  </thead>\n",
       "  <tbody>\n",
       "    <tr>\n",
       "      <th>42</th>\n",
       "      <td>14000US06037106403</td>\n",
       "      <td>Census Tract 1064.03, Los Angeles, CA</td>\n",
       "      <td>1566.0</td>\n",
       "      <td>1464.0</td>\n",
       "      <td>1212.0</td>\n",
       "      <td>252.0</td>\n",
       "      <td>21.0</td>\n",
       "      <td>4.0</td>\n",
       "      <td>0.0</td>\n",
       "      <td>17.0</td>\n",
       "      <td>0.0</td>\n",
       "      <td>0.0</td>\n",
       "      <td>0.0</td>\n",
       "      <td>0.0</td>\n",
       "      <td>16.0</td>\n",
       "      <td>0.0</td>\n",
       "      <td>65.0</td>\n",
       "      <td>MULTIPOLYGON (((-118.44971 34.30759, -118.4481...</td>\n",
       "    </tr>\n",
       "  </tbody>\n",
       "</table>\n",
       "</div>"
      ],
      "text/plain": [
       "                 geoid                                   name  B08301001  \\\n",
       "42  14000US06037106403  Census Tract 1064.03, Los Angeles, CA     1566.0   \n",
       "\n",
       "    B08301002  B08301003  B08301004  B08301010  B08301011  B08301012  \\\n",
       "42     1464.0     1212.0      252.0       21.0        4.0        0.0   \n",
       "\n",
       "    B08301013  B08301014  B08301016  B08301017  B08301018  B08301019  \\\n",
       "42       17.0        0.0        0.0        0.0        0.0       16.0   \n",
       "\n",
       "    B08301020  B08301021                                           geometry  \n",
       "42        0.0       65.0  MULTIPOLYGON (((-118.44971 34.30759, -118.4481...  "
      ]
     },
     "execution_count": 12,
     "metadata": {},
     "output_type": "execute_result"
    }
   ],
   "source": [
    "means2work.sample()"
   ]
  },
  {
   "cell_type": "markdown",
   "metadata": {},
   "source": [
    "Great, columns have been dropped, but now will relabel them appropriately. "
   ]
  },
  {
   "cell_type": "code",
   "execution_count": 13,
   "metadata": {},
   "outputs": [],
   "source": [
    "#renaming columns\n",
    "means2work.columns = ['geoid',\n",
    " 'name',\n",
    " 'Total',\n",
    " 'Car, truck, or van',\n",
    " 'Drove alone',\n",
    " 'Carpooled',\n",
    " 'Public transportation',\n",
    " 'Bus',\n",
    " 'Subway or elevated il',\n",
    " 'Long-distance train or commuter rail',\n",
    " 'Light rail, streetcar or trolley',\n",
    " 'Taxicab',\n",
    " 'Motorcycle',\n",
    " 'Bicycle',\n",
    " 'Walked',\n",
    " 'Other means',\n",
    " 'Worked from home',\n",
    " 'geometry']"
   ]
  },
  {
   "cell_type": "code",
   "execution_count": 14,
   "metadata": {},
   "outputs": [
    {
     "data": {
      "text/html": [
       "<div>\n",
       "<style scoped>\n",
       "    .dataframe tbody tr th:only-of-type {\n",
       "        vertical-align: middle;\n",
       "    }\n",
       "\n",
       "    .dataframe tbody tr th {\n",
       "        vertical-align: top;\n",
       "    }\n",
       "\n",
       "    .dataframe thead th {\n",
       "        text-align: right;\n",
       "    }\n",
       "</style>\n",
       "<table border=\"1\" class=\"dataframe\">\n",
       "  <thead>\n",
       "    <tr style=\"text-align: right;\">\n",
       "      <th></th>\n",
       "      <th>geoid</th>\n",
       "      <th>name</th>\n",
       "      <th>Total</th>\n",
       "      <th>Car, truck, or van</th>\n",
       "      <th>Drove alone</th>\n",
       "      <th>Carpooled</th>\n",
       "      <th>Public transportation</th>\n",
       "      <th>Bus</th>\n",
       "      <th>Subway or elevated il</th>\n",
       "      <th>Long-distance train or commuter rail</th>\n",
       "      <th>Light rail, streetcar or trolley</th>\n",
       "      <th>Taxicab</th>\n",
       "      <th>Motorcycle</th>\n",
       "      <th>Bicycle</th>\n",
       "      <th>Walked</th>\n",
       "      <th>Other means</th>\n",
       "      <th>Worked from home</th>\n",
       "      <th>geometry</th>\n",
       "    </tr>\n",
       "  </thead>\n",
       "  <tbody>\n",
       "    <tr>\n",
       "      <th>846</th>\n",
       "      <td>14000US06037265202</td>\n",
       "      <td>Census Tract 2652.02, Los Angeles, CA</td>\n",
       "      <td>1719.0</td>\n",
       "      <td>999.0</td>\n",
       "      <td>972.0</td>\n",
       "      <td>27.0</td>\n",
       "      <td>50.0</td>\n",
       "      <td>50.0</td>\n",
       "      <td>0.0</td>\n",
       "      <td>0.0</td>\n",
       "      <td>0.0</td>\n",
       "      <td>0.0</td>\n",
       "      <td>0.0</td>\n",
       "      <td>15.0</td>\n",
       "      <td>383.0</td>\n",
       "      <td>97.0</td>\n",
       "      <td>175.0</td>\n",
       "      <td>MULTIPOLYGON (((-118.44822 34.06364, -118.4470...</td>\n",
       "    </tr>\n",
       "  </tbody>\n",
       "</table>\n",
       "</div>"
      ],
      "text/plain": [
       "                  geoid                                   name   Total  \\\n",
       "846  14000US06037265202  Census Tract 2652.02, Los Angeles, CA  1719.0   \n",
       "\n",
       "     Car, truck, or van  Drove alone  Carpooled  Public transportation   Bus  \\\n",
       "846               999.0        972.0       27.0                   50.0  50.0   \n",
       "\n",
       "     Subway or elevated il  Long-distance train or commuter rail  \\\n",
       "846                    0.0                                   0.0   \n",
       "\n",
       "     Light rail, streetcar or trolley  Taxicab  Motorcycle  Bicycle  Walked  \\\n",
       "846                               0.0      0.0         0.0     15.0   383.0   \n",
       "\n",
       "     Other means  Worked from home  \\\n",
       "846         97.0             175.0   \n",
       "\n",
       "                                              geometry  \n",
       "846  MULTIPOLYGON (((-118.44822 34.06364, -118.4470...  "
      ]
     },
     "execution_count": 14,
     "metadata": {},
     "output_type": "execute_result"
    }
   ],
   "source": [
    "means2work.sample()"
   ]
  },
  {
   "cell_type": "markdown",
   "metadata": {},
   "source": [
    "Fantastic, columns have been re-named as seen in the sample above."
   ]
  },
  {
   "cell_type": "markdown",
   "metadata": {},
   "source": [
    "To make appropriate comparisons, will create percenates for each category."
   ]
  },
  {
   "cell_type": "code",
   "execution_count": 15,
   "metadata": {},
   "outputs": [],
   "source": [
    "means2work['Percent Car, truck, or van'] = means2work['Car, truck, or van']/means2work['Total']*100\n",
    "means2work['Percent Drove alone'] = means2work['Drove alone']/means2work['Total']*100\n",
    "means2work['Percent Carpooled'] = means2work['Carpooled']/means2work['Total']*100\n",
    "means2work['Percent Public transportation'] = means2work['Public transportation']/means2work['Total']*100\n",
    "means2work['Percent Bus'] = means2work['Bus']/means2work['Total']*100\n",
    "means2work['Percent Subway or elevated il'] = means2work['Subway or elevated il']/means2work['Total']*100\n",
    "means2work['Percent Long-distance train or commuter rail'] = means2work['Long-distance train or commuter rail']/means2work['Total']*100\n",
    "means2work['Percent Light rail, streetcar or trolley'] = means2work['Light rail, streetcar or trolley']/means2work['Total']*100\n",
    "means2work['Percent Taxicab'] = means2work['Taxicab']/means2work['Total']*100\n",
    "means2work['Percent Motorcycle'] = means2work['Motorcycle']/means2work['Total']*100\n",
    "means2work['Percent Bicycle'] = means2work['Bicycle']/means2work['Total']*100\n",
    "means2work['Percent Walked'] = means2work['Walked']/means2work['Total']*100\n",
    "means2work['Percent Other means'] = means2work['Other means']/means2work['Total']*100\n",
    "means2work['Percent Worked from home'] = means2work['Worked from home']/means2work['Total']*100"
   ]
  },
  {
   "cell_type": "code",
   "execution_count": 16,
   "metadata": {
    "scrolled": true
   },
   "outputs": [
    {
     "data": {
      "text/html": [
       "<div>\n",
       "<style scoped>\n",
       "    .dataframe tbody tr th:only-of-type {\n",
       "        vertical-align: middle;\n",
       "    }\n",
       "\n",
       "    .dataframe tbody tr th {\n",
       "        vertical-align: top;\n",
       "    }\n",
       "\n",
       "    .dataframe thead th {\n",
       "        text-align: right;\n",
       "    }\n",
       "</style>\n",
       "<table border=\"1\" class=\"dataframe\">\n",
       "  <thead>\n",
       "    <tr style=\"text-align: right;\">\n",
       "      <th></th>\n",
       "      <th>geoid</th>\n",
       "      <th>name</th>\n",
       "      <th>Total</th>\n",
       "      <th>Car, truck, or van</th>\n",
       "      <th>Drove alone</th>\n",
       "      <th>Carpooled</th>\n",
       "      <th>Public transportation</th>\n",
       "      <th>Bus</th>\n",
       "      <th>Subway or elevated il</th>\n",
       "      <th>Long-distance train or commuter rail</th>\n",
       "      <th>...</th>\n",
       "      <th>Percent Bus</th>\n",
       "      <th>Percent Subway or elevated il</th>\n",
       "      <th>Percent Long-distance train or commuter rail</th>\n",
       "      <th>Percent Light rail, streetcar or trolley</th>\n",
       "      <th>Percent Taxicab</th>\n",
       "      <th>Percent Motorcycle</th>\n",
       "      <th>Percent Bicycle</th>\n",
       "      <th>Percent Walked</th>\n",
       "      <th>Percent Other means</th>\n",
       "      <th>Percent Worked from home</th>\n",
       "    </tr>\n",
       "  </thead>\n",
       "  <tbody>\n",
       "    <tr>\n",
       "      <th>399</th>\n",
       "      <td>14000US06037189102</td>\n",
       "      <td>Census Tract 1891.02, Los Angeles, CA</td>\n",
       "      <td>2343.0</td>\n",
       "      <td>1818.0</td>\n",
       "      <td>1775.0</td>\n",
       "      <td>43.0</td>\n",
       "      <td>109.0</td>\n",
       "      <td>17.0</td>\n",
       "      <td>92.0</td>\n",
       "      <td>0.0</td>\n",
       "      <td>...</td>\n",
       "      <td>0.725566</td>\n",
       "      <td>3.92659</td>\n",
       "      <td>0.0</td>\n",
       "      <td>0.0</td>\n",
       "      <td>0.0</td>\n",
       "      <td>0.512164</td>\n",
       "      <td>0.0</td>\n",
       "      <td>0.512164</td>\n",
       "      <td>0.554844</td>\n",
       "      <td>16.175843</td>\n",
       "    </tr>\n",
       "  </tbody>\n",
       "</table>\n",
       "<p>1 rows × 32 columns</p>\n",
       "</div>"
      ],
      "text/plain": [
       "                  geoid                                   name   Total  \\\n",
       "399  14000US06037189102  Census Tract 1891.02, Los Angeles, CA  2343.0   \n",
       "\n",
       "     Car, truck, or van  Drove alone  Carpooled  Public transportation   Bus  \\\n",
       "399              1818.0       1775.0       43.0                  109.0  17.0   \n",
       "\n",
       "     Subway or elevated il  Long-distance train or commuter rail  ...  \\\n",
       "399                   92.0                                   0.0  ...   \n",
       "\n",
       "     Percent Bus  Percent Subway or elevated il  \\\n",
       "399     0.725566                        3.92659   \n",
       "\n",
       "     Percent Long-distance train or commuter rail  \\\n",
       "399                                           0.0   \n",
       "\n",
       "     Percent Light rail, streetcar or trolley  Percent Taxicab  \\\n",
       "399                                       0.0              0.0   \n",
       "\n",
       "     Percent Motorcycle  Percent Bicycle Percent Walked  Percent Other means  \\\n",
       "399            0.512164              0.0       0.512164             0.554844   \n",
       "\n",
       "     Percent Worked from home  \n",
       "399                 16.175843  \n",
       "\n",
       "[1 rows x 32 columns]"
      ]
     },
     "execution_count": 16,
     "metadata": {},
     "output_type": "execute_result"
    }
   ],
   "source": [
    "means2work.sample()"
   ]
  },
  {
   "cell_type": "markdown",
   "metadata": {},
   "source": [
    "Lovely, percent columns have been added to my dataset."
   ]
  },
  {
   "cell_type": "markdown",
   "metadata": {},
   "source": [
    "Creating a new file so I can skip the above steps next time I use this data."
   ]
  },
  {
   "cell_type": "markdown",
   "metadata": {},
   "source": [
    "Creating a file"
   ]
  },
  {
   "cell_type": "code",
   "execution_count": 17,
   "metadata": {
    "scrolled": true
   },
   "outputs": [],
   "source": [
    "means2work.to_file('means2work.geojson')"
   ]
  },
  {
   "cell_type": "markdown",
   "metadata": {},
   "source": [
    "That actually worked, great. "
   ]
  },
  {
   "cell_type": "markdown",
   "metadata": {},
   "source": [
    "Redownload file"
   ]
  },
  {
   "cell_type": "code",
   "execution_count": 18,
   "metadata": {},
   "outputs": [],
   "source": [
    "means2work2 = gpd.read_file('means2work.geojson')"
   ]
  },
  {
   "cell_type": "markdown",
   "metadata": {},
   "source": [
    "Test File"
   ]
  },
  {
   "cell_type": "code",
   "execution_count": 19,
   "metadata": {
    "scrolled": true
   },
   "outputs": [
    {
     "data": {
      "text/html": [
       "<div>\n",
       "<style scoped>\n",
       "    .dataframe tbody tr th:only-of-type {\n",
       "        vertical-align: middle;\n",
       "    }\n",
       "\n",
       "    .dataframe tbody tr th {\n",
       "        vertical-align: top;\n",
       "    }\n",
       "\n",
       "    .dataframe thead th {\n",
       "        text-align: right;\n",
       "    }\n",
       "</style>\n",
       "<table border=\"1\" class=\"dataframe\">\n",
       "  <thead>\n",
       "    <tr style=\"text-align: right;\">\n",
       "      <th></th>\n",
       "      <th>geoid</th>\n",
       "      <th>name</th>\n",
       "      <th>Total</th>\n",
       "      <th>Car, truck, or van</th>\n",
       "      <th>Drove alone</th>\n",
       "      <th>Carpooled</th>\n",
       "      <th>Public transportation</th>\n",
       "      <th>Bus</th>\n",
       "      <th>Subway or elevated il</th>\n",
       "      <th>Long-distance train or commuter rail</th>\n",
       "      <th>...</th>\n",
       "      <th>Percent Bus</th>\n",
       "      <th>Percent Subway or elevated il</th>\n",
       "      <th>Percent Long-distance train or commuter rail</th>\n",
       "      <th>Percent Light rail, streetcar or trolley</th>\n",
       "      <th>Percent Taxicab</th>\n",
       "      <th>Percent Motorcycle</th>\n",
       "      <th>Percent Bicycle</th>\n",
       "      <th>Percent Walked</th>\n",
       "      <th>Percent Other means</th>\n",
       "      <th>Percent Worked from home</th>\n",
       "    </tr>\n",
       "  </thead>\n",
       "  <tbody>\n",
       "    <tr>\n",
       "      <th>318</th>\n",
       "      <td>14000US06037139303</td>\n",
       "      <td>Census Tract 1393.03, Los Angeles, CA</td>\n",
       "      <td>2264.0</td>\n",
       "      <td>1803.0</td>\n",
       "      <td>1646.0</td>\n",
       "      <td>157.0</td>\n",
       "      <td>155.0</td>\n",
       "      <td>126.0</td>\n",
       "      <td>29.0</td>\n",
       "      <td>0.0</td>\n",
       "      <td>...</td>\n",
       "      <td>5.565371</td>\n",
       "      <td>1.280919</td>\n",
       "      <td>0.000000</td>\n",
       "      <td>0.000000</td>\n",
       "      <td>2.120141</td>\n",
       "      <td>0.000000</td>\n",
       "      <td>0.309187</td>\n",
       "      <td>1.722615</td>\n",
       "      <td>1.722615</td>\n",
       "      <td>7.641343</td>\n",
       "    </tr>\n",
       "    <tr>\n",
       "      <th>309</th>\n",
       "      <td>14000US06037137402</td>\n",
       "      <td>Census Tract 1374.02, Los Angeles, CA</td>\n",
       "      <td>2372.0</td>\n",
       "      <td>2110.0</td>\n",
       "      <td>1873.0</td>\n",
       "      <td>237.0</td>\n",
       "      <td>4.0</td>\n",
       "      <td>4.0</td>\n",
       "      <td>0.0</td>\n",
       "      <td>0.0</td>\n",
       "      <td>...</td>\n",
       "      <td>0.168634</td>\n",
       "      <td>0.000000</td>\n",
       "      <td>0.000000</td>\n",
       "      <td>0.000000</td>\n",
       "      <td>0.000000</td>\n",
       "      <td>0.000000</td>\n",
       "      <td>0.000000</td>\n",
       "      <td>0.000000</td>\n",
       "      <td>0.000000</td>\n",
       "      <td>10.876897</td>\n",
       "    </tr>\n",
       "    <tr>\n",
       "      <th>984</th>\n",
       "      <td>14000US06037297500</td>\n",
       "      <td>Census Tract 2975, Los Angeles, CA</td>\n",
       "      <td>2276.0</td>\n",
       "      <td>1983.0</td>\n",
       "      <td>1893.0</td>\n",
       "      <td>90.0</td>\n",
       "      <td>90.0</td>\n",
       "      <td>62.0</td>\n",
       "      <td>0.0</td>\n",
       "      <td>13.0</td>\n",
       "      <td>...</td>\n",
       "      <td>2.724077</td>\n",
       "      <td>0.000000</td>\n",
       "      <td>0.571178</td>\n",
       "      <td>0.659051</td>\n",
       "      <td>0.000000</td>\n",
       "      <td>0.746924</td>\n",
       "      <td>0.000000</td>\n",
       "      <td>0.966608</td>\n",
       "      <td>0.307557</td>\n",
       "      <td>6.898067</td>\n",
       "    </tr>\n",
       "    <tr>\n",
       "      <th>695</th>\n",
       "      <td>14000US06037224310</td>\n",
       "      <td>Census Tract 2243.10, Los Angeles, CA</td>\n",
       "      <td>1147.0</td>\n",
       "      <td>683.0</td>\n",
       "      <td>595.0</td>\n",
       "      <td>88.0</td>\n",
       "      <td>285.0</td>\n",
       "      <td>270.0</td>\n",
       "      <td>15.0</td>\n",
       "      <td>0.0</td>\n",
       "      <td>...</td>\n",
       "      <td>23.539669</td>\n",
       "      <td>1.307759</td>\n",
       "      <td>0.000000</td>\n",
       "      <td>0.000000</td>\n",
       "      <td>0.000000</td>\n",
       "      <td>0.000000</td>\n",
       "      <td>4.359198</td>\n",
       "      <td>8.544028</td>\n",
       "      <td>0.000000</td>\n",
       "      <td>2.702703</td>\n",
       "    </tr>\n",
       "    <tr>\n",
       "      <th>971</th>\n",
       "      <td>14000US06037296401</td>\n",
       "      <td>Census Tract 2964.01, Los Angeles, CA</td>\n",
       "      <td>1440.0</td>\n",
       "      <td>1366.0</td>\n",
       "      <td>1280.0</td>\n",
       "      <td>86.0</td>\n",
       "      <td>20.0</td>\n",
       "      <td>20.0</td>\n",
       "      <td>0.0</td>\n",
       "      <td>0.0</td>\n",
       "      <td>...</td>\n",
       "      <td>1.388889</td>\n",
       "      <td>0.000000</td>\n",
       "      <td>0.000000</td>\n",
       "      <td>0.000000</td>\n",
       "      <td>0.000000</td>\n",
       "      <td>0.000000</td>\n",
       "      <td>0.000000</td>\n",
       "      <td>0.833333</td>\n",
       "      <td>0.000000</td>\n",
       "      <td>2.916667</td>\n",
       "    </tr>\n",
       "  </tbody>\n",
       "</table>\n",
       "<p>5 rows × 32 columns</p>\n",
       "</div>"
      ],
      "text/plain": [
       "                  geoid                                   name   Total  \\\n",
       "318  14000US06037139303  Census Tract 1393.03, Los Angeles, CA  2264.0   \n",
       "309  14000US06037137402  Census Tract 1374.02, Los Angeles, CA  2372.0   \n",
       "984  14000US06037297500     Census Tract 2975, Los Angeles, CA  2276.0   \n",
       "695  14000US06037224310  Census Tract 2243.10, Los Angeles, CA  1147.0   \n",
       "971  14000US06037296401  Census Tract 2964.01, Los Angeles, CA  1440.0   \n",
       "\n",
       "     Car, truck, or van  Drove alone  Carpooled  Public transportation    Bus  \\\n",
       "318              1803.0       1646.0      157.0                  155.0  126.0   \n",
       "309              2110.0       1873.0      237.0                    4.0    4.0   \n",
       "984              1983.0       1893.0       90.0                   90.0   62.0   \n",
       "695               683.0        595.0       88.0                  285.0  270.0   \n",
       "971              1366.0       1280.0       86.0                   20.0   20.0   \n",
       "\n",
       "     Subway or elevated il  Long-distance train or commuter rail  ...  \\\n",
       "318                   29.0                                   0.0  ...   \n",
       "309                    0.0                                   0.0  ...   \n",
       "984                    0.0                                  13.0  ...   \n",
       "695                   15.0                                   0.0  ...   \n",
       "971                    0.0                                   0.0  ...   \n",
       "\n",
       "     Percent Bus  Percent Subway or elevated il  \\\n",
       "318     5.565371                       1.280919   \n",
       "309     0.168634                       0.000000   \n",
       "984     2.724077                       0.000000   \n",
       "695    23.539669                       1.307759   \n",
       "971     1.388889                       0.000000   \n",
       "\n",
       "     Percent Long-distance train or commuter rail  \\\n",
       "318                                      0.000000   \n",
       "309                                      0.000000   \n",
       "984                                      0.571178   \n",
       "695                                      0.000000   \n",
       "971                                      0.000000   \n",
       "\n",
       "     Percent Light rail, streetcar or trolley  Percent Taxicab  \\\n",
       "318                                  0.000000         2.120141   \n",
       "309                                  0.000000         0.000000   \n",
       "984                                  0.659051         0.000000   \n",
       "695                                  0.000000         0.000000   \n",
       "971                                  0.000000         0.000000   \n",
       "\n",
       "     Percent Motorcycle  Percent Bicycle Percent Walked  Percent Other means  \\\n",
       "318            0.000000         0.309187       1.722615             1.722615   \n",
       "309            0.000000         0.000000       0.000000             0.000000   \n",
       "984            0.746924         0.000000       0.966608             0.307557   \n",
       "695            0.000000         4.359198       8.544028             0.000000   \n",
       "971            0.000000         0.000000       0.833333             0.000000   \n",
       "\n",
       "     Percent Worked from home  \n",
       "318                  7.641343  \n",
       "309                 10.876897  \n",
       "984                  6.898067  \n",
       "695                  2.702703  \n",
       "971                  2.916667  \n",
       "\n",
       "[5 rows x 32 columns]"
      ]
     },
     "execution_count": 19,
     "metadata": {},
     "output_type": "execute_result"
    }
   ],
   "source": [
    "means2work.sample(5)"
   ]
  },
  {
   "cell_type": "code",
   "execution_count": 20,
   "metadata": {
    "scrolled": false
   },
   "outputs": [
    {
     "data": {
      "text/plain": [
       "['geoid',\n",
       " 'name',\n",
       " 'Total',\n",
       " 'Car, truck, or van',\n",
       " 'Drove alone',\n",
       " 'Carpooled',\n",
       " 'Public transportation',\n",
       " 'Bus',\n",
       " 'Subway or elevated il',\n",
       " 'Long-distance train or commuter rail',\n",
       " 'Light rail, streetcar or trolley',\n",
       " 'Taxicab',\n",
       " 'Motorcycle',\n",
       " 'Bicycle',\n",
       " 'Walked',\n",
       " 'Other means',\n",
       " 'Worked from home',\n",
       " 'geometry',\n",
       " 'Percent Car, truck, or van',\n",
       " 'Percent Drove alone',\n",
       " 'Percent Carpooled',\n",
       " 'Percent Public transportation',\n",
       " 'Percent Bus',\n",
       " 'Percent Subway or elevated il',\n",
       " 'Percent Long-distance train or commuter rail',\n",
       " 'Percent Light rail, streetcar or trolley',\n",
       " 'Percent Taxicab',\n",
       " 'Percent Motorcycle',\n",
       " 'Percent Bicycle',\n",
       " 'Percent Walked',\n",
       " 'Percent Other means',\n",
       " 'Percent Worked from home']"
      ]
     },
     "execution_count": 20,
     "metadata": {},
     "output_type": "execute_result"
    }
   ],
   "source": [
    "means2work.columns.to_list()"
   ]
  },
  {
   "cell_type": "markdown",
   "metadata": {},
   "source": []
  },
  {
   "cell_type": "markdown",
   "metadata": {},
   "source": [
    "Beautiful, lets repeat for neighborhood data below. "
   ]
  },
  {
   "cell_type": "markdown",
   "metadata": {},
   "source": [
    "# Query for Relative High Transit Areas"
   ]
  },
  {
   "cell_type": "markdown",
   "metadata": {},
   "source": [
    "## Quick Survey of High Use Transit Areas"
   ]
  },
  {
   "cell_type": "code",
   "execution_count": 21,
   "metadata": {},
   "outputs": [],
   "source": [
    "transit_indicators = ['Percent Public transportation',\n",
    "'Percent Bus',\n",
    "'Percent Subway or elevated il',\n",
    "'Percent Long-distance train or commuter rail',\n",
    "'Percent Light rail, streetcar or trolley',]"
   ]
  },
  {
   "cell_type": "code",
   "execution_count": 22,
   "metadata": {},
   "outputs": [
    {
     "name": "stdout",
     "output_type": "stream",
     "text": [
      "Percent Public transportation\n",
      "569    69.580892\n",
      "560    58.119080\n",
      "562    56.913828\n",
      "536    52.588235\n",
      "563    51.786311\n",
      "599    49.544863\n",
      "570    49.211356\n",
      "561    48.280310\n",
      "564    47.912773\n",
      "548    45.732255\n",
      "Name: Percent Public transportation, dtype: float64\n",
      "Percent Bus\n",
      "569    68.048671\n",
      "560    56.562923\n",
      "562    56.362725\n",
      "536    52.588235\n",
      "563    49.682805\n",
      "564    47.663551\n",
      "599    47.074122\n",
      "570    46.161935\n",
      "548    45.732255\n",
      "557    42.293465\n",
      "Name: Percent Bus, dtype: float64\n",
      "Percent Subway or elevated il\n",
      "531    20.088300\n",
      "418    10.240113\n",
      "489     8.043876\n",
      "453     7.094972\n",
      "605     7.062476\n",
      "369     6.644951\n",
      "535     6.615925\n",
      "203     6.456572\n",
      "540     6.451613\n",
      "359     6.376689\n",
      "Name: Percent Subway or elevated il, dtype: float64\n",
      "Percent Long-distance train or commuter rail\n",
      "762    9.416725\n",
      "729    4.793171\n",
      "763    4.505170\n",
      "597    3.832117\n",
      "18     3.149100\n",
      "661    3.076923\n",
      "535    2.810304\n",
      "817    2.404526\n",
      "44     2.235846\n",
      "81     2.209705\n",
      "Name: Percent Long-distance train or commuter rail, dtype: float64\n",
      "Percent Light rail, streetcar or trolley\n",
      "371    8.559964\n",
      "372    4.969778\n",
      "820    2.679275\n",
      "759    2.613790\n",
      "561    2.450559\n",
      "795    2.154882\n",
      "819    2.149837\n",
      "735    2.038320\n",
      "882    2.008547\n",
      "717    1.996008\n",
      "Name: Percent Light rail, streetcar or trolley, dtype: float64\n"
     ]
    }
   ],
   "source": [
    "for indicator in transit_indicators:\n",
    "    print(indicator)\n",
    "    print (means2work.sort_values(by = indicator, ascending=False)[indicator].head(10))"
   ]
  },
  {
   "cell_type": "markdown",
   "metadata": {},
   "source": [
    "I don't know how to call two variables at the same time in my search-- I also want corresponding GEOIDs for my tracts. Will just query below to get the results I need, even if inefficently."
   ]
  },
  {
   "cell_type": "markdown",
   "metadata": {},
   "source": [
    "## Digging deeper into Public Transportation"
   ]
  },
  {
   "cell_type": "code",
   "execution_count": 23,
   "metadata": {},
   "outputs": [],
   "source": [
    "means2work_sorted_pt = means2work.sort_values(by='Percent Public transportation',ascending = False)"
   ]
  },
  {
   "cell_type": "code",
   "execution_count": 24,
   "metadata": {
    "scrolled": true
   },
   "outputs": [
    {
     "data": {
      "text/html": [
       "<div>\n",
       "<style scoped>\n",
       "    .dataframe tbody tr th:only-of-type {\n",
       "        vertical-align: middle;\n",
       "    }\n",
       "\n",
       "    .dataframe tbody tr th {\n",
       "        vertical-align: top;\n",
       "    }\n",
       "\n",
       "    .dataframe thead th {\n",
       "        text-align: right;\n",
       "    }\n",
       "</style>\n",
       "<table border=\"1\" class=\"dataframe\">\n",
       "  <thead>\n",
       "    <tr style=\"text-align: right;\">\n",
       "      <th></th>\n",
       "      <th>geoid</th>\n",
       "      <th>Percent Public transportation</th>\n",
       "    </tr>\n",
       "  </thead>\n",
       "  <tbody>\n",
       "    <tr>\n",
       "      <th>569</th>\n",
       "      <td>14000US06037209402</td>\n",
       "      <td>69.580892</td>\n",
       "    </tr>\n",
       "    <tr>\n",
       "      <th>560</th>\n",
       "      <td>14000US06037208902</td>\n",
       "      <td>58.119080</td>\n",
       "    </tr>\n",
       "    <tr>\n",
       "      <th>562</th>\n",
       "      <td>14000US06037208904</td>\n",
       "      <td>56.913828</td>\n",
       "    </tr>\n",
       "    <tr>\n",
       "      <th>536</th>\n",
       "      <td>14000US06037206300</td>\n",
       "      <td>52.588235</td>\n",
       "    </tr>\n",
       "    <tr>\n",
       "      <th>563</th>\n",
       "      <td>14000US06037209102</td>\n",
       "      <td>51.786311</td>\n",
       "    </tr>\n",
       "    <tr>\n",
       "      <th>...</th>\n",
       "      <td>...</td>\n",
       "      <td>...</td>\n",
       "    </tr>\n",
       "    <tr>\n",
       "      <th>133</th>\n",
       "      <td>14000US06037119340</td>\n",
       "      <td>20.554017</td>\n",
       "    </tr>\n",
       "    <tr>\n",
       "      <th>146</th>\n",
       "      <td>14000US06037120106</td>\n",
       "      <td>20.306691</td>\n",
       "    </tr>\n",
       "    <tr>\n",
       "      <th>552</th>\n",
       "      <td>14000US06037208501</td>\n",
       "      <td>20.047923</td>\n",
       "    </tr>\n",
       "    <tr>\n",
       "      <th>422</th>\n",
       "      <td>14000US06037190801</td>\n",
       "      <td>20.032841</td>\n",
       "    </tr>\n",
       "    <tr>\n",
       "      <th>728</th>\n",
       "      <td>14000US06037231220</td>\n",
       "      <td>20.000000</td>\n",
       "    </tr>\n",
       "  </tbody>\n",
       "</table>\n",
       "<p>106 rows × 2 columns</p>\n",
       "</div>"
      ],
      "text/plain": [
       "                  geoid  Percent Public transportation\n",
       "569  14000US06037209402                      69.580892\n",
       "560  14000US06037208902                      58.119080\n",
       "562  14000US06037208904                      56.913828\n",
       "536  14000US06037206300                      52.588235\n",
       "563  14000US06037209102                      51.786311\n",
       "..                  ...                            ...\n",
       "133  14000US06037119340                      20.554017\n",
       "146  14000US06037120106                      20.306691\n",
       "552  14000US06037208501                      20.047923\n",
       "422  14000US06037190801                      20.032841\n",
       "728  14000US06037231220                      20.000000\n",
       "\n",
       "[106 rows x 2 columns]"
      ]
     },
     "execution_count": 24,
     "metadata": {},
     "output_type": "execute_result"
    }
   ],
   "source": [
    "means2work_sorted_pt[['geoid','Percent Public transportation']].head(106)"
   ]
  },
  {
   "cell_type": "code",
   "execution_count": 25,
   "metadata": {
    "scrolled": true
   },
   "outputs": [
    {
     "data": {
      "text/html": [
       "<div>\n",
       "<style scoped>\n",
       "    .dataframe tbody tr th:only-of-type {\n",
       "        vertical-align: middle;\n",
       "    }\n",
       "\n",
       "    .dataframe tbody tr th {\n",
       "        vertical-align: top;\n",
       "    }\n",
       "\n",
       "    .dataframe thead th {\n",
       "        text-align: right;\n",
       "    }\n",
       "</style>\n",
       "<table border=\"1\" class=\"dataframe\">\n",
       "  <thead>\n",
       "    <tr style=\"text-align: right;\">\n",
       "      <th></th>\n",
       "      <th>geoid</th>\n",
       "      <th>name</th>\n",
       "      <th>Total</th>\n",
       "      <th>Car, truck, or van</th>\n",
       "      <th>Drove alone</th>\n",
       "      <th>Carpooled</th>\n",
       "      <th>Public transportation</th>\n",
       "      <th>Bus</th>\n",
       "      <th>Subway or elevated il</th>\n",
       "      <th>Long-distance train or commuter rail</th>\n",
       "      <th>...</th>\n",
       "      <th>Percent Bus</th>\n",
       "      <th>Percent Subway or elevated il</th>\n",
       "      <th>Percent Long-distance train or commuter rail</th>\n",
       "      <th>Percent Light rail, streetcar or trolley</th>\n",
       "      <th>Percent Taxicab</th>\n",
       "      <th>Percent Motorcycle</th>\n",
       "      <th>Percent Bicycle</th>\n",
       "      <th>Percent Walked</th>\n",
       "      <th>Percent Other means</th>\n",
       "      <th>Percent Worked from home</th>\n",
       "    </tr>\n",
       "  </thead>\n",
       "  <tbody>\n",
       "    <tr>\n",
       "      <th>569</th>\n",
       "      <td>14000US06037209402</td>\n",
       "      <td>Census Tract 2094.02, Los Angeles, CA</td>\n",
       "      <td>2219.0</td>\n",
       "      <td>453.0</td>\n",
       "      <td>226.0</td>\n",
       "      <td>227.0</td>\n",
       "      <td>1544.0</td>\n",
       "      <td>1510.0</td>\n",
       "      <td>0.0</td>\n",
       "      <td>0.0</td>\n",
       "      <td>...</td>\n",
       "      <td>68.048671</td>\n",
       "      <td>0.000000</td>\n",
       "      <td>0.000000</td>\n",
       "      <td>1.532222</td>\n",
       "      <td>0.000000</td>\n",
       "      <td>0.000000</td>\n",
       "      <td>1.261830</td>\n",
       "      <td>5.543037</td>\n",
       "      <td>1.622352</td>\n",
       "      <td>1.577287</td>\n",
       "    </tr>\n",
       "    <tr>\n",
       "      <th>560</th>\n",
       "      <td>14000US06037208902</td>\n",
       "      <td>Census Tract 2089.02, Los Angeles, CA</td>\n",
       "      <td>1478.0</td>\n",
       "      <td>379.0</td>\n",
       "      <td>243.0</td>\n",
       "      <td>136.0</td>\n",
       "      <td>859.0</td>\n",
       "      <td>836.0</td>\n",
       "      <td>23.0</td>\n",
       "      <td>0.0</td>\n",
       "      <td>...</td>\n",
       "      <td>56.562923</td>\n",
       "      <td>1.556157</td>\n",
       "      <td>0.000000</td>\n",
       "      <td>0.000000</td>\n",
       "      <td>0.000000</td>\n",
       "      <td>0.000000</td>\n",
       "      <td>3.179973</td>\n",
       "      <td>11.231394</td>\n",
       "      <td>0.270636</td>\n",
       "      <td>1.556157</td>\n",
       "    </tr>\n",
       "    <tr>\n",
       "      <th>562</th>\n",
       "      <td>14000US06037208904</td>\n",
       "      <td>Census Tract 2089.04, Los Angeles, CA</td>\n",
       "      <td>1996.0</td>\n",
       "      <td>467.0</td>\n",
       "      <td>363.0</td>\n",
       "      <td>104.0</td>\n",
       "      <td>1136.0</td>\n",
       "      <td>1125.0</td>\n",
       "      <td>0.0</td>\n",
       "      <td>11.0</td>\n",
       "      <td>...</td>\n",
       "      <td>56.362725</td>\n",
       "      <td>0.000000</td>\n",
       "      <td>0.551102</td>\n",
       "      <td>0.000000</td>\n",
       "      <td>0.000000</td>\n",
       "      <td>0.000000</td>\n",
       "      <td>7.014028</td>\n",
       "      <td>6.963928</td>\n",
       "      <td>2.254509</td>\n",
       "      <td>3.456914</td>\n",
       "    </tr>\n",
       "    <tr>\n",
       "      <th>536</th>\n",
       "      <td>14000US06037206300</td>\n",
       "      <td>Census Tract 2063, Los Angeles, CA</td>\n",
       "      <td>850.0</td>\n",
       "      <td>131.0</td>\n",
       "      <td>100.0</td>\n",
       "      <td>31.0</td>\n",
       "      <td>447.0</td>\n",
       "      <td>447.0</td>\n",
       "      <td>0.0</td>\n",
       "      <td>0.0</td>\n",
       "      <td>...</td>\n",
       "      <td>52.588235</td>\n",
       "      <td>0.000000</td>\n",
       "      <td>0.000000</td>\n",
       "      <td>0.000000</td>\n",
       "      <td>0.000000</td>\n",
       "      <td>0.000000</td>\n",
       "      <td>0.000000</td>\n",
       "      <td>25.411765</td>\n",
       "      <td>0.117647</td>\n",
       "      <td>6.470588</td>\n",
       "    </tr>\n",
       "    <tr>\n",
       "      <th>563</th>\n",
       "      <td>14000US06037209102</td>\n",
       "      <td>Census Tract 2091.02, Los Angeles, CA</td>\n",
       "      <td>2995.0</td>\n",
       "      <td>1148.0</td>\n",
       "      <td>1071.0</td>\n",
       "      <td>77.0</td>\n",
       "      <td>1551.0</td>\n",
       "      <td>1488.0</td>\n",
       "      <td>58.0</td>\n",
       "      <td>5.0</td>\n",
       "      <td>...</td>\n",
       "      <td>49.682805</td>\n",
       "      <td>1.936561</td>\n",
       "      <td>0.166945</td>\n",
       "      <td>0.000000</td>\n",
       "      <td>0.000000</td>\n",
       "      <td>0.000000</td>\n",
       "      <td>1.368948</td>\n",
       "      <td>5.843072</td>\n",
       "      <td>0.467446</td>\n",
       "      <td>2.203673</td>\n",
       "    </tr>\n",
       "    <tr>\n",
       "      <th>...</th>\n",
       "      <td>...</td>\n",
       "      <td>...</td>\n",
       "      <td>...</td>\n",
       "      <td>...</td>\n",
       "      <td>...</td>\n",
       "      <td>...</td>\n",
       "      <td>...</td>\n",
       "      <td>...</td>\n",
       "      <td>...</td>\n",
       "      <td>...</td>\n",
       "      <td>...</td>\n",
       "      <td>...</td>\n",
       "      <td>...</td>\n",
       "      <td>...</td>\n",
       "      <td>...</td>\n",
       "      <td>...</td>\n",
       "      <td>...</td>\n",
       "      <td>...</td>\n",
       "      <td>...</td>\n",
       "      <td>...</td>\n",
       "      <td>...</td>\n",
       "    </tr>\n",
       "    <tr>\n",
       "      <th>535</th>\n",
       "      <td>14000US06037206200</td>\n",
       "      <td>Census Tract 2062, Los Angeles, CA</td>\n",
       "      <td>1708.0</td>\n",
       "      <td>947.0</td>\n",
       "      <td>898.0</td>\n",
       "      <td>49.0</td>\n",
       "      <td>352.0</td>\n",
       "      <td>177.0</td>\n",
       "      <td>113.0</td>\n",
       "      <td>48.0</td>\n",
       "      <td>...</td>\n",
       "      <td>10.362998</td>\n",
       "      <td>6.615925</td>\n",
       "      <td>2.810304</td>\n",
       "      <td>0.819672</td>\n",
       "      <td>0.000000</td>\n",
       "      <td>0.000000</td>\n",
       "      <td>0.000000</td>\n",
       "      <td>14.637002</td>\n",
       "      <td>1.229508</td>\n",
       "      <td>8.079625</td>\n",
       "    </tr>\n",
       "    <tr>\n",
       "      <th>133</th>\n",
       "      <td>14000US06037119340</td>\n",
       "      <td>Census Tract 1193.40, Los Angeles, CA</td>\n",
       "      <td>1805.0</td>\n",
       "      <td>1203.0</td>\n",
       "      <td>953.0</td>\n",
       "      <td>250.0</td>\n",
       "      <td>371.0</td>\n",
       "      <td>367.0</td>\n",
       "      <td>4.0</td>\n",
       "      <td>0.0</td>\n",
       "      <td>...</td>\n",
       "      <td>20.332410</td>\n",
       "      <td>0.221607</td>\n",
       "      <td>0.000000</td>\n",
       "      <td>0.000000</td>\n",
       "      <td>2.049861</td>\n",
       "      <td>0.720222</td>\n",
       "      <td>0.000000</td>\n",
       "      <td>5.540166</td>\n",
       "      <td>2.603878</td>\n",
       "      <td>1.883657</td>\n",
       "    </tr>\n",
       "    <tr>\n",
       "      <th>146</th>\n",
       "      <td>14000US06037120106</td>\n",
       "      <td>Census Tract 1201.06, Los Angeles, CA</td>\n",
       "      <td>2152.0</td>\n",
       "      <td>1476.0</td>\n",
       "      <td>1231.0</td>\n",
       "      <td>245.0</td>\n",
       "      <td>437.0</td>\n",
       "      <td>437.0</td>\n",
       "      <td>0.0</td>\n",
       "      <td>0.0</td>\n",
       "      <td>...</td>\n",
       "      <td>20.306691</td>\n",
       "      <td>0.000000</td>\n",
       "      <td>0.000000</td>\n",
       "      <td>0.000000</td>\n",
       "      <td>2.648699</td>\n",
       "      <td>0.000000</td>\n",
       "      <td>0.000000</td>\n",
       "      <td>5.669145</td>\n",
       "      <td>0.278810</td>\n",
       "      <td>2.509294</td>\n",
       "    </tr>\n",
       "    <tr>\n",
       "      <th>552</th>\n",
       "      <td>14000US06037208501</td>\n",
       "      <td>Census Tract 2085.01, Los Angeles, CA</td>\n",
       "      <td>1252.0</td>\n",
       "      <td>815.0</td>\n",
       "      <td>719.0</td>\n",
       "      <td>96.0</td>\n",
       "      <td>251.0</td>\n",
       "      <td>251.0</td>\n",
       "      <td>0.0</td>\n",
       "      <td>0.0</td>\n",
       "      <td>...</td>\n",
       "      <td>20.047923</td>\n",
       "      <td>0.000000</td>\n",
       "      <td>0.000000</td>\n",
       "      <td>0.000000</td>\n",
       "      <td>0.000000</td>\n",
       "      <td>0.000000</td>\n",
       "      <td>0.559105</td>\n",
       "      <td>7.987220</td>\n",
       "      <td>1.837061</td>\n",
       "      <td>4.472843</td>\n",
       "    </tr>\n",
       "    <tr>\n",
       "      <th>422</th>\n",
       "      <td>14000US06037190801</td>\n",
       "      <td>Census Tract 1908.01, Los Angeles, CA</td>\n",
       "      <td>1218.0</td>\n",
       "      <td>725.0</td>\n",
       "      <td>689.0</td>\n",
       "      <td>36.0</td>\n",
       "      <td>244.0</td>\n",
       "      <td>209.0</td>\n",
       "      <td>19.0</td>\n",
       "      <td>16.0</td>\n",
       "      <td>...</td>\n",
       "      <td>17.159278</td>\n",
       "      <td>1.559934</td>\n",
       "      <td>1.313629</td>\n",
       "      <td>0.000000</td>\n",
       "      <td>0.738916</td>\n",
       "      <td>0.000000</td>\n",
       "      <td>2.463054</td>\n",
       "      <td>4.105090</td>\n",
       "      <td>0.985222</td>\n",
       "      <td>12.151067</td>\n",
       "    </tr>\n",
       "  </tbody>\n",
       "</table>\n",
       "<p>105 rows × 32 columns</p>\n",
       "</div>"
      ],
      "text/plain": [
       "                  geoid                                   name   Total  \\\n",
       "569  14000US06037209402  Census Tract 2094.02, Los Angeles, CA  2219.0   \n",
       "560  14000US06037208902  Census Tract 2089.02, Los Angeles, CA  1478.0   \n",
       "562  14000US06037208904  Census Tract 2089.04, Los Angeles, CA  1996.0   \n",
       "536  14000US06037206300     Census Tract 2063, Los Angeles, CA   850.0   \n",
       "563  14000US06037209102  Census Tract 2091.02, Los Angeles, CA  2995.0   \n",
       "..                  ...                                    ...     ...   \n",
       "535  14000US06037206200     Census Tract 2062, Los Angeles, CA  1708.0   \n",
       "133  14000US06037119340  Census Tract 1193.40, Los Angeles, CA  1805.0   \n",
       "146  14000US06037120106  Census Tract 1201.06, Los Angeles, CA  2152.0   \n",
       "552  14000US06037208501  Census Tract 2085.01, Los Angeles, CA  1252.0   \n",
       "422  14000US06037190801  Census Tract 1908.01, Los Angeles, CA  1218.0   \n",
       "\n",
       "     Car, truck, or van  Drove alone  Carpooled  Public transportation  \\\n",
       "569               453.0        226.0      227.0                 1544.0   \n",
       "560               379.0        243.0      136.0                  859.0   \n",
       "562               467.0        363.0      104.0                 1136.0   \n",
       "536               131.0        100.0       31.0                  447.0   \n",
       "563              1148.0       1071.0       77.0                 1551.0   \n",
       "..                  ...          ...        ...                    ...   \n",
       "535               947.0        898.0       49.0                  352.0   \n",
       "133              1203.0        953.0      250.0                  371.0   \n",
       "146              1476.0       1231.0      245.0                  437.0   \n",
       "552               815.0        719.0       96.0                  251.0   \n",
       "422               725.0        689.0       36.0                  244.0   \n",
       "\n",
       "        Bus  Subway or elevated il  Long-distance train or commuter rail  ...  \\\n",
       "569  1510.0                    0.0                                   0.0  ...   \n",
       "560   836.0                   23.0                                   0.0  ...   \n",
       "562  1125.0                    0.0                                  11.0  ...   \n",
       "536   447.0                    0.0                                   0.0  ...   \n",
       "563  1488.0                   58.0                                   5.0  ...   \n",
       "..      ...                    ...                                   ...  ...   \n",
       "535   177.0                  113.0                                  48.0  ...   \n",
       "133   367.0                    4.0                                   0.0  ...   \n",
       "146   437.0                    0.0                                   0.0  ...   \n",
       "552   251.0                    0.0                                   0.0  ...   \n",
       "422   209.0                   19.0                                  16.0  ...   \n",
       "\n",
       "     Percent Bus  Percent Subway or elevated il  \\\n",
       "569    68.048671                       0.000000   \n",
       "560    56.562923                       1.556157   \n",
       "562    56.362725                       0.000000   \n",
       "536    52.588235                       0.000000   \n",
       "563    49.682805                       1.936561   \n",
       "..           ...                            ...   \n",
       "535    10.362998                       6.615925   \n",
       "133    20.332410                       0.221607   \n",
       "146    20.306691                       0.000000   \n",
       "552    20.047923                       0.000000   \n",
       "422    17.159278                       1.559934   \n",
       "\n",
       "     Percent Long-distance train or commuter rail  \\\n",
       "569                                      0.000000   \n",
       "560                                      0.000000   \n",
       "562                                      0.551102   \n",
       "536                                      0.000000   \n",
       "563                                      0.166945   \n",
       "..                                            ...   \n",
       "535                                      2.810304   \n",
       "133                                      0.000000   \n",
       "146                                      0.000000   \n",
       "552                                      0.000000   \n",
       "422                                      1.313629   \n",
       "\n",
       "     Percent Light rail, streetcar or trolley  Percent Taxicab  \\\n",
       "569                                  1.532222         0.000000   \n",
       "560                                  0.000000         0.000000   \n",
       "562                                  0.000000         0.000000   \n",
       "536                                  0.000000         0.000000   \n",
       "563                                  0.000000         0.000000   \n",
       "..                                        ...              ...   \n",
       "535                                  0.819672         0.000000   \n",
       "133                                  0.000000         2.049861   \n",
       "146                                  0.000000         2.648699   \n",
       "552                                  0.000000         0.000000   \n",
       "422                                  0.000000         0.738916   \n",
       "\n",
       "     Percent Motorcycle  Percent Bicycle Percent Walked  Percent Other means  \\\n",
       "569            0.000000         1.261830       5.543037             1.622352   \n",
       "560            0.000000         3.179973      11.231394             0.270636   \n",
       "562            0.000000         7.014028       6.963928             2.254509   \n",
       "536            0.000000         0.000000      25.411765             0.117647   \n",
       "563            0.000000         1.368948       5.843072             0.467446   \n",
       "..                  ...              ...            ...                  ...   \n",
       "535            0.000000         0.000000      14.637002             1.229508   \n",
       "133            0.720222         0.000000       5.540166             2.603878   \n",
       "146            0.000000         0.000000       5.669145             0.278810   \n",
       "552            0.000000         0.559105       7.987220             1.837061   \n",
       "422            0.000000         2.463054       4.105090             0.985222   \n",
       "\n",
       "     Percent Worked from home  \n",
       "569                  1.577287  \n",
       "560                  1.556157  \n",
       "562                  3.456914  \n",
       "536                  6.470588  \n",
       "563                  2.203673  \n",
       "..                        ...  \n",
       "535                  8.079625  \n",
       "133                  1.883657  \n",
       "146                  2.509294  \n",
       "552                  4.472843  \n",
       "422                 12.151067  \n",
       "\n",
       "[105 rows x 32 columns]"
      ]
     },
     "execution_count": 25,
     "metadata": {},
     "output_type": "execute_result"
    }
   ],
   "source": [
    "means2work_sorted_pt[means2work_sorted_pt['Percent Public transportation'] > 20]"
   ]
  },
  {
   "cell_type": "markdown",
   "metadata": {},
   "source": [
    "Adding a Map"
   ]
  },
  {
   "cell_type": "code",
   "execution_count": 26,
   "metadata": {
    "scrolled": false
   },
   "outputs": [
    {
     "data": {
      "text/plain": [
       "<matplotlib.axes._subplots.AxesSubplot at 0x7f32d5338fa0>"
      ]
     },
     "execution_count": 26,
     "metadata": {},
     "output_type": "execute_result"
    },
    {
     "data": {
      "image/png": "[encoded data removed]",
      "text/plain": [
       "<Figure size 864x720 with 1 Axes>"
      ]
     },
     "metadata": {
      "needs_background": "light"
     },
     "output_type": "display_data"
    }
   ],
   "source": [
    "means2work_sorted_pt[means2work_sorted_pt['Percent Public transportation'] > 20].plot(figsize=(12,10))"
   ]
  },
  {
   "cell_type": "markdown",
   "metadata": {},
   "source": [
    "## Bus"
   ]
  },
  {
   "cell_type": "code",
   "execution_count": 27,
   "metadata": {},
   "outputs": [],
   "source": [
    "means2work_sorted_bus = means2work.sort_values(by='Percent Bus',ascending = False)"
   ]
  },
  {
   "cell_type": "code",
   "execution_count": 28,
   "metadata": {},
   "outputs": [
    {
     "data": {
      "text/html": [
       "<div>\n",
       "<style scoped>\n",
       "    .dataframe tbody tr th:only-of-type {\n",
       "        vertical-align: middle;\n",
       "    }\n",
       "\n",
       "    .dataframe tbody tr th {\n",
       "        vertical-align: top;\n",
       "    }\n",
       "\n",
       "    .dataframe thead th {\n",
       "        text-align: right;\n",
       "    }\n",
       "</style>\n",
       "<table border=\"1\" class=\"dataframe\">\n",
       "  <thead>\n",
       "    <tr style=\"text-align: right;\">\n",
       "      <th></th>\n",
       "      <th>geoid</th>\n",
       "      <th>Percent Bus</th>\n",
       "    </tr>\n",
       "  </thead>\n",
       "  <tbody>\n",
       "    <tr>\n",
       "      <th>569</th>\n",
       "      <td>14000US06037209402</td>\n",
       "      <td>68.048671</td>\n",
       "    </tr>\n",
       "    <tr>\n",
       "      <th>560</th>\n",
       "      <td>14000US06037208902</td>\n",
       "      <td>56.562923</td>\n",
       "    </tr>\n",
       "    <tr>\n",
       "      <th>562</th>\n",
       "      <td>14000US06037208904</td>\n",
       "      <td>56.362725</td>\n",
       "    </tr>\n",
       "    <tr>\n",
       "      <th>536</th>\n",
       "      <td>14000US06037206300</td>\n",
       "      <td>52.588235</td>\n",
       "    </tr>\n",
       "    <tr>\n",
       "      <th>563</th>\n",
       "      <td>14000US06037209102</td>\n",
       "      <td>49.682805</td>\n",
       "    </tr>\n",
       "    <tr>\n",
       "      <th>564</th>\n",
       "      <td>14000US06037209103</td>\n",
       "      <td>47.663551</td>\n",
       "    </tr>\n",
       "    <tr>\n",
       "      <th>599</th>\n",
       "      <td>14000US06037212203</td>\n",
       "      <td>47.074122</td>\n",
       "    </tr>\n",
       "    <tr>\n",
       "      <th>570</th>\n",
       "      <td>14000US06037209403</td>\n",
       "      <td>46.161935</td>\n",
       "    </tr>\n",
       "    <tr>\n",
       "      <th>548</th>\n",
       "      <td>14000US06037208301</td>\n",
       "      <td>45.732255</td>\n",
       "    </tr>\n",
       "    <tr>\n",
       "      <th>557</th>\n",
       "      <td>14000US06037208720</td>\n",
       "      <td>42.293465</td>\n",
       "    </tr>\n",
       "  </tbody>\n",
       "</table>\n",
       "</div>"
      ],
      "text/plain": [
       "                  geoid  Percent Bus\n",
       "569  14000US06037209402    68.048671\n",
       "560  14000US06037208902    56.562923\n",
       "562  14000US06037208904    56.362725\n",
       "536  14000US06037206300    52.588235\n",
       "563  14000US06037209102    49.682805\n",
       "564  14000US06037209103    47.663551\n",
       "599  14000US06037212203    47.074122\n",
       "570  14000US06037209403    46.161935\n",
       "548  14000US06037208301    45.732255\n",
       "557  14000US06037208720    42.293465"
      ]
     },
     "execution_count": 28,
     "metadata": {},
     "output_type": "execute_result"
    }
   ],
   "source": [
    "means2work_sorted_bus[['geoid','Percent Bus']].head(10)"
   ]
  },
  {
   "cell_type": "markdown",
   "metadata": {},
   "source": [
    "Adding a Map"
   ]
  },
  {
   "cell_type": "code",
   "execution_count": 29,
   "metadata": {},
   "outputs": [
    {
     "name": "stderr",
     "output_type": "stream",
     "text": [
      "/opt/conda/lib/python3.8/site-packages/geopandas/geodataframe.py:828: UserWarning: Boolean Series key will be reindexed to match DataFrame index.\n",
      "  result = super(GeoDataFrame, self).__getitem__(key)\n"
     ]
    },
    {
     "data": {
      "text/plain": [
       "<matplotlib.axes._subplots.AxesSubplot at 0x7f32d0e91250>"
      ]
     },
     "execution_count": 29,
     "metadata": {},
     "output_type": "execute_result"
    },
    {
     "data": {
      "image/png": "[encoded data removed]",
      "text/plain": [
       "<Figure size 864x720 with 1 Axes>"
      ]
     },
     "metadata": {
      "needs_background": "light"
     },
     "output_type": "display_data"
    }
   ],
   "source": [
    "means2work_sorted_bus[means2work_sorted_pt['Percent Bus'] > 20].plot(figsize=(12,10))"
   ]
  },
  {
   "cell_type": "markdown",
   "metadata": {},
   "source": [
    "## Subway"
   ]
  },
  {
   "cell_type": "code",
   "execution_count": 30,
   "metadata": {},
   "outputs": [],
   "source": [
    "means2work_sorted_sub = means2work.sort_values(by='Percent Subway or elevated il',ascending = False)"
   ]
  },
  {
   "cell_type": "code",
   "execution_count": 31,
   "metadata": {},
   "outputs": [
    {
     "data": {
      "text/html": [
       "<div>\n",
       "<style scoped>\n",
       "    .dataframe tbody tr th:only-of-type {\n",
       "        vertical-align: middle;\n",
       "    }\n",
       "\n",
       "    .dataframe tbody tr th {\n",
       "        vertical-align: top;\n",
       "    }\n",
       "\n",
       "    .dataframe thead th {\n",
       "        text-align: right;\n",
       "    }\n",
       "</style>\n",
       "<table border=\"1\" class=\"dataframe\">\n",
       "  <thead>\n",
       "    <tr style=\"text-align: right;\">\n",
       "      <th></th>\n",
       "      <th>geoid</th>\n",
       "      <th>Percent Subway or elevated il</th>\n",
       "    </tr>\n",
       "  </thead>\n",
       "  <tbody>\n",
       "    <tr>\n",
       "      <th>531</th>\n",
       "      <td>14000US06037206020</td>\n",
       "      <td>20.088300</td>\n",
       "    </tr>\n",
       "    <tr>\n",
       "      <th>418</th>\n",
       "      <td>14000US06037190402</td>\n",
       "      <td>10.240113</td>\n",
       "    </tr>\n",
       "    <tr>\n",
       "      <th>489</th>\n",
       "      <td>14000US06037199300</td>\n",
       "      <td>8.043876</td>\n",
       "    </tr>\n",
       "    <tr>\n",
       "      <th>453</th>\n",
       "      <td>14000US06037192620</td>\n",
       "      <td>7.094972</td>\n",
       "    </tr>\n",
       "    <tr>\n",
       "      <th>605</th>\n",
       "      <td>14000US06037212410</td>\n",
       "      <td>7.062476</td>\n",
       "    </tr>\n",
       "    <tr>\n",
       "      <th>369</th>\n",
       "      <td>14000US06037183610</td>\n",
       "      <td>6.644951</td>\n",
       "    </tr>\n",
       "    <tr>\n",
       "      <th>535</th>\n",
       "      <td>14000US06037206200</td>\n",
       "      <td>6.615925</td>\n",
       "    </tr>\n",
       "    <tr>\n",
       "      <th>203</th>\n",
       "      <td>14000US06037124902</td>\n",
       "      <td>6.456572</td>\n",
       "    </tr>\n",
       "    <tr>\n",
       "      <th>540</th>\n",
       "      <td>14000US06037207301</td>\n",
       "      <td>6.451613</td>\n",
       "    </tr>\n",
       "    <tr>\n",
       "      <th>359</th>\n",
       "      <td>14000US06037183103</td>\n",
       "      <td>6.376689</td>\n",
       "    </tr>\n",
       "  </tbody>\n",
       "</table>\n",
       "</div>"
      ],
      "text/plain": [
       "                  geoid  Percent Subway or elevated il\n",
       "531  14000US06037206020                      20.088300\n",
       "418  14000US06037190402                      10.240113\n",
       "489  14000US06037199300                       8.043876\n",
       "453  14000US06037192620                       7.094972\n",
       "605  14000US06037212410                       7.062476\n",
       "369  14000US06037183610                       6.644951\n",
       "535  14000US06037206200                       6.615925\n",
       "203  14000US06037124902                       6.456572\n",
       "540  14000US06037207301                       6.451613\n",
       "359  14000US06037183103                       6.376689"
      ]
     },
     "execution_count": 31,
     "metadata": {},
     "output_type": "execute_result"
    }
   ],
   "source": [
    "means2work_sorted_sub[['geoid','Percent Subway or elevated il']].head(10)"
   ]
  },
  {
   "cell_type": "code",
   "execution_count": 32,
   "metadata": {},
   "outputs": [
    {
     "data": {
      "text/plain": [
       "<matplotlib.axes._subplots.AxesSubplot at 0x7f32d1103550>"
      ]
     },
     "execution_count": 32,
     "metadata": {},
     "output_type": "execute_result"
    },
    {
     "data": {
      "image/png": "[encoded data removed]",
      "text/plain": [
       "<Figure size 864x720 with 1 Axes>"
      ]
     },
     "metadata": {
      "needs_background": "light"
     },
     "output_type": "display_data"
    }
   ],
   "source": [
    "means2work_sorted_sub[means2work_sorted_sub['Percent Subway or elevated il'] > 5].plot(figsize=(12,10))"
   ]
  },
  {
   "cell_type": "markdown",
   "metadata": {},
   "source": [
    "## Distance Rail"
   ]
  },
  {
   "cell_type": "code",
   "execution_count": 33,
   "metadata": {},
   "outputs": [],
   "source": [
    "means2work_sorted_commuter = means2work.sort_values(by='Percent Long-distance train or commuter rail',ascending = False)"
   ]
  },
  {
   "cell_type": "code",
   "execution_count": 34,
   "metadata": {},
   "outputs": [
    {
     "data": {
      "text/html": [
       "<div>\n",
       "<style scoped>\n",
       "    .dataframe tbody tr th:only-of-type {\n",
       "        vertical-align: middle;\n",
       "    }\n",
       "\n",
       "    .dataframe tbody tr th {\n",
       "        vertical-align: top;\n",
       "    }\n",
       "\n",
       "    .dataframe thead th {\n",
       "        text-align: right;\n",
       "    }\n",
       "</style>\n",
       "<table border=\"1\" class=\"dataframe\">\n",
       "  <thead>\n",
       "    <tr style=\"text-align: right;\">\n",
       "      <th></th>\n",
       "      <th>geoid</th>\n",
       "      <th>Percent Long-distance train or commuter rail</th>\n",
       "    </tr>\n",
       "  </thead>\n",
       "  <tbody>\n",
       "    <tr>\n",
       "      <th>762</th>\n",
       "      <td>14000US06037236203</td>\n",
       "      <td>9.416725</td>\n",
       "    </tr>\n",
       "    <tr>\n",
       "      <th>729</th>\n",
       "      <td>14000US06037231300</td>\n",
       "      <td>4.793171</td>\n",
       "    </tr>\n",
       "    <tr>\n",
       "      <th>763</th>\n",
       "      <td>14000US06037236204</td>\n",
       "      <td>4.505170</td>\n",
       "    </tr>\n",
       "    <tr>\n",
       "      <th>597</th>\n",
       "      <td>14000US06037212102</td>\n",
       "      <td>3.832117</td>\n",
       "    </tr>\n",
       "    <tr>\n",
       "      <th>18</th>\n",
       "      <td>14000US06037104124</td>\n",
       "      <td>3.149100</td>\n",
       "    </tr>\n",
       "    <tr>\n",
       "      <th>661</th>\n",
       "      <td>14000US06037219300</td>\n",
       "      <td>3.076923</td>\n",
       "    </tr>\n",
       "    <tr>\n",
       "      <th>535</th>\n",
       "      <td>14000US06037206200</td>\n",
       "      <td>2.810304</td>\n",
       "    </tr>\n",
       "    <tr>\n",
       "      <th>817</th>\n",
       "      <td>14000US06037242100</td>\n",
       "      <td>2.404526</td>\n",
       "    </tr>\n",
       "    <tr>\n",
       "      <th>44</th>\n",
       "      <td>14000US06037106406</td>\n",
       "      <td>2.235846</td>\n",
       "    </tr>\n",
       "    <tr>\n",
       "      <th>81</th>\n",
       "      <td>14000US06037111206</td>\n",
       "      <td>2.209705</td>\n",
       "    </tr>\n",
       "  </tbody>\n",
       "</table>\n",
       "</div>"
      ],
      "text/plain": [
       "                  geoid  Percent Long-distance train or commuter rail\n",
       "762  14000US06037236203                                      9.416725\n",
       "729  14000US06037231300                                      4.793171\n",
       "763  14000US06037236204                                      4.505170\n",
       "597  14000US06037212102                                      3.832117\n",
       "18   14000US06037104124                                      3.149100\n",
       "661  14000US06037219300                                      3.076923\n",
       "535  14000US06037206200                                      2.810304\n",
       "817  14000US06037242100                                      2.404526\n",
       "44   14000US06037106406                                      2.235846\n",
       "81   14000US06037111206                                      2.209705"
      ]
     },
     "execution_count": 34,
     "metadata": {},
     "output_type": "execute_result"
    }
   ],
   "source": [
    "means2work_sorted_commuter[['geoid','Percent Long-distance train or commuter rail']].head(10)"
   ]
  },
  {
   "cell_type": "code",
   "execution_count": 35,
   "metadata": {},
   "outputs": [
    {
     "data": {
      "text/plain": [
       "<matplotlib.axes._subplots.AxesSubplot at 0x7f32d1123f70>"
      ]
     },
     "execution_count": 35,
     "metadata": {},
     "output_type": "execute_result"
    },
    {
     "data": {
      "image/png": "[encoded data removed]",
      "text/plain": [
       "<Figure size 864x720 with 1 Axes>"
      ]
     },
     "metadata": {
      "needs_background": "light"
     },
     "output_type": "display_data"
    }
   ],
   "source": [
    "means2work_sorted_commuter[means2work_sorted_commuter['Percent Long-distance train or commuter rail'] > 3].plot(figsize=(12,10))"
   ]
  },
  {
   "cell_type": "markdown",
   "metadata": {},
   "source": [
    "## Light Rail"
   ]
  },
  {
   "cell_type": "code",
   "execution_count": 36,
   "metadata": {},
   "outputs": [],
   "source": [
    "means2work_sorted_lr = means2work.sort_values(by='Percent Light rail, streetcar or trolley',ascending = False)"
   ]
  },
  {
   "cell_type": "code",
   "execution_count": 37,
   "metadata": {},
   "outputs": [
    {
     "data": {
      "text/html": [
       "<div>\n",
       "<style scoped>\n",
       "    .dataframe tbody tr th:only-of-type {\n",
       "        vertical-align: middle;\n",
       "    }\n",
       "\n",
       "    .dataframe tbody tr th {\n",
       "        vertical-align: top;\n",
       "    }\n",
       "\n",
       "    .dataframe thead th {\n",
       "        text-align: right;\n",
       "    }\n",
       "</style>\n",
       "<table border=\"1\" class=\"dataframe\">\n",
       "  <thead>\n",
       "    <tr style=\"text-align: right;\">\n",
       "      <th></th>\n",
       "      <th>geoid</th>\n",
       "      <th>Percent Light rail, streetcar or trolley</th>\n",
       "    </tr>\n",
       "  </thead>\n",
       "  <tbody>\n",
       "    <tr>\n",
       "      <th>371</th>\n",
       "      <td>14000US06037183701</td>\n",
       "      <td>8.559964</td>\n",
       "    </tr>\n",
       "    <tr>\n",
       "      <th>372</th>\n",
       "      <td>14000US06037183702</td>\n",
       "      <td>4.969778</td>\n",
       "    </tr>\n",
       "    <tr>\n",
       "      <th>820</th>\n",
       "      <td>14000US06037242600</td>\n",
       "      <td>2.679275</td>\n",
       "    </tr>\n",
       "    <tr>\n",
       "      <th>759</th>\n",
       "      <td>14000US06037236000</td>\n",
       "      <td>2.613790</td>\n",
       "    </tr>\n",
       "    <tr>\n",
       "      <th>561</th>\n",
       "      <td>14000US06037208903</td>\n",
       "      <td>2.450559</td>\n",
       "    </tr>\n",
       "    <tr>\n",
       "      <th>795</th>\n",
       "      <td>14000US06037239801</td>\n",
       "      <td>2.154882</td>\n",
       "    </tr>\n",
       "    <tr>\n",
       "      <th>819</th>\n",
       "      <td>14000US06037242300</td>\n",
       "      <td>2.149837</td>\n",
       "    </tr>\n",
       "    <tr>\n",
       "      <th>735</th>\n",
       "      <td>14000US06037231800</td>\n",
       "      <td>2.038320</td>\n",
       "    </tr>\n",
       "    <tr>\n",
       "      <th>882</th>\n",
       "      <td>14000US06037269906</td>\n",
       "      <td>2.008547</td>\n",
       "    </tr>\n",
       "    <tr>\n",
       "      <th>717</th>\n",
       "      <td>14000US06037228710</td>\n",
       "      <td>1.996008</td>\n",
       "    </tr>\n",
       "  </tbody>\n",
       "</table>\n",
       "</div>"
      ],
      "text/plain": [
       "                  geoid  Percent Light rail, streetcar or trolley\n",
       "371  14000US06037183701                                  8.559964\n",
       "372  14000US06037183702                                  4.969778\n",
       "820  14000US06037242600                                  2.679275\n",
       "759  14000US06037236000                                  2.613790\n",
       "561  14000US06037208903                                  2.450559\n",
       "795  14000US06037239801                                  2.154882\n",
       "819  14000US06037242300                                  2.149837\n",
       "735  14000US06037231800                                  2.038320\n",
       "882  14000US06037269906                                  2.008547\n",
       "717  14000US06037228710                                  1.996008"
      ]
     },
     "execution_count": 37,
     "metadata": {},
     "output_type": "execute_result"
    }
   ],
   "source": [
    "means2work_sorted_lr[['geoid','Percent Light rail, streetcar or trolley']].head(10)"
   ]
  },
  {
   "cell_type": "code",
   "execution_count": 38,
   "metadata": {},
   "outputs": [
    {
     "data": {
      "text/plain": [
       "<matplotlib.axes._subplots.AxesSubplot at 0x7f32d10c3130>"
      ]
     },
     "execution_count": 38,
     "metadata": {},
     "output_type": "execute_result"
    },
    {
     "data": {
      "image/png": "[encoded data removed]",
      "text/plain": [
       "<Figure size 864x720 with 1 Axes>"
      ]
     },
     "metadata": {
      "needs_background": "light"
     },
     "output_type": "display_data"
    }
   ],
   "source": [
    "means2work_sorted_lr[means2work_sorted_lr['Percent Light rail, streetcar or trolley'] > 2].plot(figsize=(12,10))"
   ]
  },
  {
   "cell_type": "markdown",
   "metadata": {},
   "source": [
    "## Mapping"
   ]
  },
  {
   "cell_type": "code",
   "execution_count": 39,
   "metadata": {},
   "outputs": [],
   "source": [
    "# to provide basemaps \n",
    "import contextily as ctx"
   ]
  },
  {
   "cell_type": "code",
   "execution_count": 40,
   "metadata": {},
   "outputs": [],
   "source": [
    "means2work_web_mercator = means2work.to_crs(epsg=3857)"
   ]
  },
  {
   "cell_type": "markdown",
   "metadata": {},
   "source": [
    "### Public Transit"
   ]
  },
  {
   "cell_type": "code",
   "execution_count": null,
   "metadata": {},
   "outputs": [],
   "source": [
    "# use subplots that make it easier to create multiple layered maps\n",
    "fig, ax = plt.subplots(figsize=(15, 15))\n",
    "\n",
    "# add the layer with ax=ax in the argument \n",
    "means2work_web_mercator[means2work_web_mercator['Percent Public transportation'] > 10].plot(ax=ax,color= 'teal',alpha=0.8)\n",
    "\n",
    "# turn the axis off\n",
    "ax.axis('off')\n",
    "\n",
    "# set a title\n",
    "ax.set_title('Census Tracts with more than 10% Percent Public transportationn',fontsize=16)\n",
    "\n",
    "# add a basemap\n",
    "ctx.add_basemap(ax)"
   ]
  },
  {
   "cell_type": "code",
   "execution_count": null,
   "metadata": {
    "scrolled": false
   },
   "outputs": [],
   "source": [
    "# use subplots that make it easier to create multiple layered maps\n",
    "fig, ax = plt.subplots(figsize=(15, 15))\n",
    "\n",
    "# add the layer with ax=ax in the argument \n",
    "means2work_web_mercator[means2work_web_mercator['Percent Bus'] > 20].plot(ax=ax, alpha=0.8)\n",
    "\n",
    "# turn the axis off\n",
    "ax.axis('off')\n",
    "\n",
    "# set a title\n",
    "ax.set_title('Census Tracts with more than 20% Percent Bus',fontsize=16)\n",
    "\n",
    "# add a basemap\n",
    "ctx.add_basemap(ax)"
   ]
  },
  {
   "cell_type": "code",
   "execution_count": null,
   "metadata": {},
   "outputs": [],
   "source": [
    "# use subplots that make it easier to create multiple layered maps\n",
    "fig, ax = plt.subplots(figsize=(15, 15))\n",
    "\n",
    "# add the layer with ax=ax in the argument \n",
    "means2work_web_mercator[means2work_web_mercator['Percent Subway or elevated il'] > 7].plot(ax=ax, alpha=0.8)\n",
    "\n",
    "# turn the axis off\n",
    "ax.axis('off')\n",
    "\n",
    "# set a title\n",
    "ax.set_title('Census Tracts with more than 7% Percent Subway or elevated il',fontsize=16)\n",
    "\n",
    "# add a basemap\n",
    "ctx.add_basemap(ax)"
   ]
  },
  {
   "cell_type": "code",
   "execution_count": null,
   "metadata": {},
   "outputs": [],
   "source": [
    "# use subplots that make it easier to create multiple layered maps\n",
    "fig, ax = plt.subplots(figsize=(15, 15))\n",
    "\n",
    "# add the layer with ax=ax in the argument \n",
    "means2work_web_mercator[means2work_web_mercator['Percent Long-distance train or commuter rail'] > 3.5].plot(ax=ax, alpha=0.8)\n",
    "\n",
    "# turn the axis off\n",
    "ax.axis('off')\n",
    "\n",
    "# set a title\n",
    "ax.set_title('Census Tracts with more than 3% Percent Commuter Rail',fontsize=16)\n",
    "\n",
    "# add a basemap\n",
    "ctx.add_basemap(ax)"
   ]
  },
  {
   "cell_type": "code",
   "execution_count": null,
   "metadata": {},
   "outputs": [],
   "source": [
    "# use subplots that make it easier to create multiple layered maps\n",
    "fig, ax = plt.subplots(figsize=(15, 15))\n",
    "\n",
    "# add the layer with ax=ax in the argument \n",
    "means2work_web_mercator[means2work_web_mercator['Percent Light rail, streetcar or trolley'] > 2].plot(ax=ax, alpha=0.8)\n",
    "\n",
    "# turn the axis off\n",
    "ax.axis('off')\n",
    "\n",
    "# set a title\n",
    "ax.set_title('Census Tracts with more than 3% Light Rail',fontsize=16)\n",
    "\n",
    "# add a basemap\n",
    "ctx.add_basemap(ax)"
   ]
  },
  {
   "cell_type": "markdown",
   "metadata": {},
   "source": [
    "# Attribute Merge"
   ]
  },
  {
   "cell_type": "markdown",
   "metadata": {},
   "source": [
    "Importing My previous file with geoids and neigborhoods names and data background check"
   ]
  },
  {
   "cell_type": "code",
   "execution_count": null,
   "metadata": {},
   "outputs": [],
   "source": [
    "df_slim = pd.read_csv('slim.csv')"
   ]
  },
  {
   "cell_type": "code",
   "execution_count": null,
   "metadata": {},
   "outputs": [],
   "source": [
    "type(df_slim)"
   ]
  },
  {
   "cell_type": "code",
   "execution_count": null,
   "metadata": {},
   "outputs": [],
   "source": [
    "df_slim.head(4)"
   ]
  },
  {
   "cell_type": "code",
   "execution_count": null,
   "metadata": {},
   "outputs": [],
   "source": [
    "df_slim['Name_1'].value_counts()"
   ]
  },
  {
   "cell_type": "code",
   "execution_count": null,
   "metadata": {},
   "outputs": [],
   "source": [
    "df_slim.shape"
   ]
  },
  {
   "cell_type": "markdown",
   "metadata": {},
   "source": [
    "Info is good to go"
   ]
  },
  {
   "cell_type": "markdown",
   "metadata": {},
   "source": [
    "Starting process of merge, but quick sample of means2work data"
   ]
  },
  {
   "cell_type": "code",
   "execution_count": null,
   "metadata": {
    "scrolled": true
   },
   "outputs": [],
   "source": [
    "means2work.head(2)"
   ]
  },
  {
   "cell_type": "code",
   "execution_count": null,
   "metadata": {},
   "outputs": [],
   "source": [
    "m2w_nbh=means2work.merge(df_slim, on='geoid')"
   ]
  },
  {
   "cell_type": "code",
   "execution_count": null,
   "metadata": {
    "scrolled": true
   },
   "outputs": [],
   "source": [
    "m2w_nbh.head()"
   ]
  },
  {
   "cell_type": "code",
   "execution_count": null,
   "metadata": {
    "scrolled": true
   },
   "outputs": [],
   "source": [
    "type(m2w_nbh)"
   ]
  },
  {
   "cell_type": "code",
   "execution_count": null,
   "metadata": {},
   "outputs": [],
   "source": [
    "m2w_nbh.shape"
   ]
  },
  {
   "cell_type": "code",
   "execution_count": null,
   "metadata": {
    "scrolled": true
   },
   "outputs": [],
   "source": [
    "m2w_nbh.dtypes"
   ]
  },
  {
   "cell_type": "code",
   "execution_count": null,
   "metadata": {
    "scrolled": true
   },
   "outputs": [],
   "source": [
    "m2w_nbh.info()"
   ]
  },
  {
   "cell_type": "code",
   "execution_count": null,
   "metadata": {},
   "outputs": [],
   "source": [
    "m2w_nbh.columns.to_list()"
   ]
  },
  {
   "cell_type": "markdown",
   "metadata": {},
   "source": [
    "Success! I do want to cut a couple columns. "
   ]
  },
  {
   "cell_type": "code",
   "execution_count": null,
   "metadata": {},
   "outputs": [],
   "source": [
    "col_to_keep = ['geoid',\n",
    " 'name',\n",
    " 'Total',\n",
    " 'Car, truck, or van',\n",
    " 'Drove alone',\n",
    " 'Carpooled',\n",
    " 'Public transportation',\n",
    " 'Bus',\n",
    " 'Subway or elevated il',\n",
    " 'Long-distance train or commuter rail',\n",
    " 'Light rail, streetcar or trolley',\n",
    " 'Bicycle',\n",
    " 'Walked',\n",
    " 'Other means',\n",
    " 'Worked from home',\n",
    " 'geometry',\n",
    " 'Percent Car, truck, or van',\n",
    " 'Percent Drove alone',\n",
    " 'Percent Carpooled',\n",
    " 'Percent Public transportation',\n",
    " 'Percent Bus',\n",
    " 'Percent Subway or elevated il',\n",
    " 'Percent Long-distance train or commuter rail',\n",
    " 'Percent Light rail, streetcar or trolley',\n",
    " 'Percent Bicycle',\n",
    " 'Percent Walked',\n",
    " 'Percent Other means',\n",
    " 'Percent Worked from home',\n",
    " 'Name_1'\n",
    "]"
   ]
  },
  {
   "cell_type": "code",
   "execution_count": null,
   "metadata": {},
   "outputs": [],
   "source": [
    "m2w_nbh = m2w_nbh [col_to_keep]"
   ]
  },
  {
   "cell_type": "code",
   "execution_count": null,
   "metadata": {
    "scrolled": false
   },
   "outputs": [],
   "source": [
    "m2w_nbh.sample(7)"
   ]
  },
  {
   "cell_type": "markdown",
   "metadata": {},
   "source": [
    "Rename Columns"
   ]
  },
  {
   "cell_type": "code",
   "execution_count": null,
   "metadata": {},
   "outputs": [],
   "source": [
    "#renaming columns\n",
    "m2w_nbh.columns = ['geoid',\n",
    " 'name',\n",
    " 'Total',\n",
    " 'Car Total',\n",
    " 'Drove alone',\n",
    " 'Carpooled',\n",
    " 'Public transportation',\n",
    " 'Bus',\n",
    " 'Subway or elevated il',\n",
    " 'Long-distance train or commuter rail',\n",
    " 'Light rail',\n",
    " 'Bicycle',\n",
    " 'Walked',\n",
    " 'Other means',\n",
    " 'Worked from home',\n",
    " 'geometry',\n",
    " 'Percent Car Total',\n",
    " 'Percent Drove alone',\n",
    " 'Percent Carpooled',\n",
    " 'Percent Public transportation',\n",
    " 'Percent Bus',\n",
    " 'Percent Subway or elevated il',\n",
    " 'Percent Long-distance train or commuter rail',\n",
    " 'Percent Light rail',\n",
    " 'Percent Bicycle',\n",
    " 'Percent Walked',\n",
    " 'Percent Other means',\n",
    " 'Percent Worked from home',\n",
    " 'Neighborhood'\n",
    "]"
   ]
  },
  {
   "cell_type": "code",
   "execution_count": null,
   "metadata": {
    "scrolled": false
   },
   "outputs": [],
   "source": [
    "m2w_nbh.sample(2)"
   ]
  },
  {
   "cell_type": "markdown",
   "metadata": {},
   "source": [
    "I'm going to take a moment here to celebrate. I still need to some more work with this, like see which nieghborhoods are missing values and also create more variables to call data for each neighborhood, THAT BEING SAID, I've been workin on in some form for about 4-5 weeks. I'm very please with this initial result. "
   ]
  },
  {
   "cell_type": "code",
   "execution_count": null,
   "metadata": {
    "scrolled": false
   },
   "outputs": [],
   "source": [
    "# create the 1x2 subplots\n",
    "fig, axs = plt.subplots(1, 2, figsize=(15, 12))\n",
    "\n",
    "# name each subplot\n",
    "ax1, ax2 = axs\n",
    "\n",
    "# regular count map on the left\n",
    "m2w_nbh.plot(column='Percent Public transportation', \n",
    "            ax=ax1, # this assigns the map to the subplot,\n",
    "            legend=True\n",
    "           )\n",
    "\n",
    "ax1.axis(\"off\")\n",
    "ax1.set_title(\"Percent Public transportation\")\n",
    "\n",
    "# spatial lag map on the right\n",
    "means2work.plot(column='Percent Public transportation', \n",
    "            ax=ax2, # this assigns the map to the subplot\n",
    "            legend=True\n",
    "           )\n",
    "\n",
    "ax2.axis(\"off\")\n",
    "ax2.set_title(\"Percent Public transportation\")"
   ]
  },
  {
   "cell_type": "markdown",
   "metadata": {},
   "source": [
    "This is like Where's Waldo, but I can pretty easily three of my missing tracts on the furtherest north census tract, a tract by UCLA's campus, and a tract (or two) on the southern most tip. Will need to think creatively on how to find an efficent way to grab these."
   ]
  },
  {
   "cell_type": "markdown",
   "metadata": {},
   "source": [
    "# Exploring Neighborhoods"
   ]
  },
  {
   "cell_type": "markdown",
   "metadata": {},
   "source": [
    "Purpose is to query nbhoods, define new variables, find missing tracts"
   ]
  },
  {
   "cell_type": "markdown",
   "metadata": {},
   "source": [
    "## Lay of the Land: Missing Tracts"
   ]
  },
  {
   "cell_type": "code",
   "execution_count": null,
   "metadata": {
    "scrolled": true
   },
   "outputs": [],
   "source": [
    "m2w_nbh[m2w_nbh['Percent Public transportation']>20]"
   ]
  },
  {
   "cell_type": "markdown",
   "metadata": {},
   "source": [
    "Of the 9 I'm missing, 3 of those missing have 20% or higher"
   ]
  },
  {
   "cell_type": "code",
   "execution_count": null,
   "metadata": {
    "scrolled": true
   },
   "outputs": [],
   "source": [
    "m2w_nbh[m2w_nbh['Percent Bus']>20]"
   ]
  },
  {
   "cell_type": "code",
   "execution_count": null,
   "metadata": {
    "scrolled": true
   },
   "outputs": [],
   "source": [
    "m2w_nbh[m2w_nbh['Subway or elevated il']>5]"
   ]
  },
  {
   "cell_type": "markdown",
   "metadata": {},
   "source": [
    "."
   ]
  },
  {
   "cell_type": "code",
   "execution_count": null,
   "metadata": {},
   "outputs": [],
   "source": [
    "m2w_nbh[m2w_nbh['Long-distance train or commuter rail']>3]"
   ]
  },
  {
   "cell_type": "markdown",
   "metadata": {},
   "source": [
    "Adding biking and walking, as there may be a correlation to transit friendly areas."
   ]
  },
  {
   "cell_type": "code",
   "execution_count": null,
   "metadata": {
    "scrolled": true
   },
   "outputs": [],
   "source": [
    "m2w_nbh[m2w_nbh['Light rail']>4]"
   ]
  },
  {
   "cell_type": "code",
   "execution_count": null,
   "metadata": {
    "scrolled": true
   },
   "outputs": [],
   "source": [
    "m2w_nbh[m2w_nbh['Bicycle']>20]"
   ]
  },
  {
   "cell_type": "code",
   "execution_count": null,
   "metadata": {
    "scrolled": true
   },
   "outputs": [],
   "source": [
    "m2w_nbh[m2w_nbh['Walked']>20]"
   ]
  },
  {
   "cell_type": "markdown",
   "metadata": {},
   "source": [
    "## Digging a little deeper into each higher transit neighborhoods"
   ]
  },
  {
   "cell_type": "markdown",
   "metadata": {},
   "source": [
    "A little trimming to identify neighborhoods"
   ]
  },
  {
   "cell_type": "markdown",
   "metadata": {},
   "source": [
    "### Public Transit"
   ]
  },
  {
   "cell_type": "code",
   "execution_count": null,
   "metadata": {},
   "outputs": [],
   "source": [
    "nbh_pt20 = m2w_nbh[m2w_nbh['Percent Public transportation']>20]"
   ]
  },
  {
   "cell_type": "code",
   "execution_count": null,
   "metadata": {
    "scrolled": true
   },
   "outputs": [],
   "source": [
    "nbh_pt20.tail()"
   ]
  },
  {
   "cell_type": "code",
   "execution_count": null,
   "metadata": {},
   "outputs": [],
   "source": [
    "nbh_pt20['Neighborhood'].value_counts()"
   ]
  },
  {
   "cell_type": "code",
   "execution_count": null,
   "metadata": {},
   "outputs": [],
   "source": [
    "nbh_pt20.plot(figsize=(12,10),\n",
    "                 column='Percent Public transportation',\n",
    "                 legend=True, \n",
    "                 scheme='quantiles')"
   ]
  },
  {
   "cell_type": "markdown",
   "metadata": {},
   "source": [
    "### Bus"
   ]
  },
  {
   "cell_type": "code",
   "execution_count": null,
   "metadata": {},
   "outputs": [],
   "source": [
    "nbh_bus20 = m2w_nbh[m2w_nbh['Percent Bus']>20]"
   ]
  },
  {
   "cell_type": "code",
   "execution_count": null,
   "metadata": {},
   "outputs": [],
   "source": [
    "nbh_bus20.sample(5)"
   ]
  },
  {
   "cell_type": "code",
   "execution_count": null,
   "metadata": {},
   "outputs": [],
   "source": [
    "nbh_bus20['Neighborhood'].value_counts()"
   ]
  },
  {
   "cell_type": "markdown",
   "metadata": {},
   "source": [
    "### Subway"
   ]
  },
  {
   "cell_type": "code",
   "execution_count": null,
   "metadata": {},
   "outputs": [],
   "source": [
    "nbh_sub5 = m2w_nbh[m2w_nbh['Percent Subway or elevated il']>5]"
   ]
  },
  {
   "cell_type": "code",
   "execution_count": null,
   "metadata": {},
   "outputs": [],
   "source": [
    "nbh_sub5"
   ]
  },
  {
   "cell_type": "code",
   "execution_count": null,
   "metadata": {},
   "outputs": [],
   "source": [
    "nbh_sub5['Neighborhood'].value_counts()"
   ]
  },
  {
   "cell_type": "markdown",
   "metadata": {},
   "source": [
    "### Commuter"
   ]
  },
  {
   "cell_type": "code",
   "execution_count": null,
   "metadata": {},
   "outputs": [],
   "source": [
    "nbh_commute3 = m2w_nbh[m2w_nbh['Percent Long-distance train or commuter rail']>3]"
   ]
  },
  {
   "cell_type": "code",
   "execution_count": null,
   "metadata": {
    "scrolled": true
   },
   "outputs": [],
   "source": [
    "nbh_commute3"
   ]
  },
  {
   "cell_type": "code",
   "execution_count": null,
   "metadata": {},
   "outputs": [],
   "source": [
    "nbh_commute3['Neighborhood'].value_counts()"
   ]
  },
  {
   "cell_type": "markdown",
   "metadata": {},
   "source": [
    "### Light Rail"
   ]
  },
  {
   "cell_type": "code",
   "execution_count": null,
   "metadata": {},
   "outputs": [],
   "source": [
    "nbh_lr4 = m2w_nbh[m2w_nbh['Percent Light rail']>4]"
   ]
  },
  {
   "cell_type": "code",
   "execution_count": null,
   "metadata": {},
   "outputs": [],
   "source": [
    "nbh_lr4"
   ]
  },
  {
   "cell_type": "markdown",
   "metadata": {},
   "source": [
    "### Scoping Out One Neighborhood"
   ]
  },
  {
   "cell_type": "code",
   "execution_count": null,
   "metadata": {},
   "outputs": [],
   "source": [
    "jefferson_park=m2w_nbh.query(\"Neighborhood == 'Jefferson Park'\")"
   ]
  },
  {
   "cell_type": "code",
   "execution_count": null,
   "metadata": {},
   "outputs": [],
   "source": [
    "jefferson_park"
   ]
  },
  {
   "cell_type": "code",
   "execution_count": null,
   "metadata": {},
   "outputs": [],
   "source": [
    "jefferson_park.plot(\n",
    "            figsize=(20,12),\n",
    "            column = 'Percent Public transportation',  \n",
    "            legend = True,) "
   ]
  }
 ],
 "metadata": {
  "celltoolbar": "Raw Cell Format",
  "kernelspec": {
   "display_name": "Python 3",
   "language": "python",
   "name": "python3"
  },
  "language_info": {
   "codemirror_mode": {
    "name": "ipython",
    "version": 3
   },
   "file_extension": ".py",
   "mimetype": "text/x-python",
   "name": "python",
   "nbconvert_exporter": "python",
   "pygments_lexer": "ipython3",
   "version": "3.8.5"
  },
  "toc": {
   "base_numbering": 1,
   "nav_menu": {},
   "number_sections": true,
   "sideBar": true,
   "skip_h1_title": false,
   "title_cell": "Table of Contents",
   "title_sidebar": "Contents",
   "toc_cell": false,
   "toc_position": {},
   "toc_section_display": true,
   "toc_window_display": false
  }
 },
 "nbformat": 4,
 "nbformat_minor": 4
}
