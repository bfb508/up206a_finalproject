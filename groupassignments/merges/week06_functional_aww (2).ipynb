{
 "cells": [
  {
   "cell_type": "markdown",
   "metadata": {},
   "source": [
    "<h1> Week 06 Functional Notebook"
   ]
  },
  {
   "cell_type": "markdown",
   "metadata": {},
   "source": [
    "**By:** Andrew Williams \n",
    "\n",
    "**Partner:** Ben Brassette\n",
    "    \n",
    "**Description:** Purpose of this notebook is to create a \"functional\" notebook using commute mode of travel to work and commute time while demonstrating use of using a function and a loop. After seeing others midterm projects and some brutal feedback, I'm going to try and better intergrate our data and give a fuller picute of public transit in LA.\n",
    "\n",
    "**Notes for self to advance project:**\n",
    "* Overlay heavy rail and light rail stops\n",
    "* Provide more accurate description of the areas through a spatial join\n",
    "* Compare with race/ethnicity and income data; we should create some side by side comparisons of transit use and race/eth and income\n",
    "* Query \"high\" trasnit tracts, cross reference with income and race/eth, potential to add spatial dimension of LA neighborhoods\n",
    "* Availability of cars in households\n",
    "* Bring a shaprer focus to Central LA and the San Fernando Valley"
   ]
  },
  {
   "cell_type": "markdown",
   "metadata": {},
   "source": [
    "# Library Import \n"
   ]
  },
  {
   "cell_type": "markdown",
   "metadata": {},
   "source": [
    "Importing various libaries"
   ]
  },
  {
   "cell_type": "code",
   "execution_count": null,
   "metadata": {},
   "outputs": [],
   "source": [
    "import urllib.request, json \n",
    "import geopandas as gpd\n",
    "import pandas as pd\n",
    "import matplotlib.pyplot as plt\n",
    "import numpy as np\n",
    "import seaborn as sns "
   ]
  },
  {
   "cell_type": "markdown",
   "metadata": {},
   "source": [
    "Libraries good to go. "
   ]
  },
  {
   "cell_type": "markdown",
   "metadata": {},
   "source": [
    "# Mode of Travel"
   ]
  },
  {
   "cell_type": "markdown",
   "metadata": {},
   "source": [
    "Import data and run quick analysis of data."
   ]
  },
  {
   "cell_type": "code",
   "execution_count": null,
   "metadata": {},
   "outputs": [],
   "source": [
    "#transporation means to work\n",
    "means2work = gpd.read_file('Data/Means_Transpo_Work_Tract/acs2019_5yr_B08301_14000US06037185320.geojson')"
   ]
  },
  {
   "cell_type": "code",
   "execution_count": null,
   "metadata": {
    "scrolled": false
   },
   "outputs": [],
   "source": [
    "type(means2work)"
   ]
  },
  {
   "cell_type": "code",
   "execution_count": null,
   "metadata": {
    "scrolled": true
   },
   "outputs": [],
   "source": [
    "list(means2work)"
   ]
  },
  {
   "cell_type": "code",
   "execution_count": null,
   "metadata": {
    "scrolled": true
   },
   "outputs": [],
   "source": [
    "means2work.shape"
   ]
  },
  {
   "cell_type": "code",
   "execution_count": null,
   "metadata": {
    "scrolled": true
   },
   "outputs": [],
   "source": [
    "means2work.head(4)"
   ]
  },
  {
   "cell_type": "code",
   "execution_count": null,
   "metadata": {},
   "outputs": [],
   "source": [
    "means2work.tail(4)"
   ]
  },
  {
   "cell_type": "markdown",
   "metadata": {},
   "source": [
    "Data look normal and as expexted for a gpd. I will delete the last row as it represents the combined city total."
   ]
  },
  {
   "cell_type": "code",
   "execution_count": null,
   "metadata": {},
   "outputs": [],
   "source": [
    "#dropped la city total\n",
    "means2work = means2work.drop([1004])"
   ]
  },
  {
   "cell_type": "code",
   "execution_count": null,
   "metadata": {},
   "outputs": [],
   "source": [
    "means2work.tail(3)"
   ]
  },
  {
   "cell_type": "markdown",
   "metadata": {},
   "source": [
    "Last data point is dropped. "
   ]
  },
  {
   "cell_type": "markdown",
   "metadata": {},
   "source": [
    "I'm deleting my standard deviation or \"error\" rows and dropping the breakdown of carpooling. Will re-define my variable and test it out. "
   ]
  },
  {
   "cell_type": "code",
   "execution_count": null,
   "metadata": {},
   "outputs": [],
   "source": [
    "columns_to_keep = ['geoid',\n",
    " 'name',\n",
    " 'B08301001',\n",
    " 'B08301002',\n",
    " 'B08301003',\n",
    " 'B08301004',\n",
    " 'B08301010',\n",
    " 'B08301011',\n",
    " 'B08301012',\n",
    " 'B08301013',\n",
    " 'B08301014',\n",
    " 'B08301016',\n",
    " 'B08301017',\n",
    " 'B08301018',\n",
    " 'B08301019',\n",
    " 'B08301020',\n",
    " 'B08301021',\n",
    " 'geometry']"
   ]
  },
  {
   "cell_type": "code",
   "execution_count": null,
   "metadata": {},
   "outputs": [],
   "source": [
    "means2work = means2work [columns_to_keep]"
   ]
  },
  {
   "cell_type": "code",
   "execution_count": null,
   "metadata": {},
   "outputs": [],
   "source": [
    "means2work.sample()"
   ]
  },
  {
   "cell_type": "markdown",
   "metadata": {},
   "source": [
    "Great, columns have been dropped, but now will relabel them appropriately. "
   ]
  },
  {
   "cell_type": "code",
   "execution_count": null,
   "metadata": {},
   "outputs": [],
   "source": [
    "#renaming columns\n",
    "means2work.columns = ['geoid',\n",
    " 'name',\n",
    " 'Total',\n",
    " 'Car, truck, or van',\n",
    " 'Drove alone',\n",
    " 'Carpooled',\n",
    " 'Public transportation',\n",
    " 'Bus',\n",
    " 'Subway or elevated il',\n",
    " 'Long-distance train or commuter rail',\n",
    " 'Light rail, streetcar or trolley',\n",
    " 'Taxicab',\n",
    " 'Motorcycle',\n",
    " 'Bicycle',\n",
    " 'Walked',\n",
    " 'Other means',\n",
    " 'Worked from home',\n",
    " 'geometry']"
   ]
  },
  {
   "cell_type": "code",
   "execution_count": null,
   "metadata": {},
   "outputs": [],
   "source": [
    "means2work.sample()"
   ]
  },
  {
   "cell_type": "markdown",
   "metadata": {},
   "source": [
    "Fantastic, columns have been re-named as seen in the sample above."
   ]
  },
  {
   "cell_type": "markdown",
   "metadata": {},
   "source": [
    "To make appropriate comparisons, will create percenates for each category."
   ]
  },
  {
   "cell_type": "code",
   "execution_count": null,
   "metadata": {},
   "outputs": [],
   "source": [
    "means2work['Percent Car, truck, or van'] = means2work['Car, truck, or van']/means2work['Total']*100\n",
    "means2work['Percent Drove alone'] = means2work['Drove alone']/means2work['Total']*100\n",
    "means2work['Percent Carpooled'] = means2work['Carpooled']/means2work['Total']*100\n",
    "means2work['Percent Public transportation'] = means2work['Public transportation']/means2work['Total']*100\n",
    "means2work['Percent Bus'] = means2work['Bus']/means2work['Total']*100\n",
    "means2work['Percent Subway or elevated il'] = means2work['Subway or elevated il']/means2work['Total']*100\n",
    "means2work['Percent Long-distance train or commuter rail'] = means2work['Long-distance train or commuter rail']/means2work['Total']*100\n",
    "means2work['Percent Light rail, streetcar or trolley'] = means2work['Light rail, streetcar or trolley']/means2work['Total']*100\n",
    "means2work['Percent Taxicab'] = means2work['Taxicab']/means2work['Total']*100\n",
    "means2work['Percent Motorcycle'] = means2work['Motorcycle']/means2work['Total']*100\n",
    "means2work['Percent Bicycle'] = means2work['Bicycle']/means2work['Total']*100\n",
    "means2work['Percent Walked'] = means2work['Walked']/means2work['Total']*100\n",
    "means2work['Percent Other means'] = means2work['Other means']/means2work['Total']*100\n",
    "means2work['Percent Worked from home'] = means2work['Worked from home']/means2work['Total']*100"
   ]
  },
  {
   "cell_type": "code",
   "execution_count": null,
   "metadata": {
    "scrolled": true
   },
   "outputs": [],
   "source": [
    "means2work.sample()"
   ]
  },
  {
   "cell_type": "markdown",
   "metadata": {},
   "source": [
    "Lovely, percent columns have been added to my dataset."
   ]
  },
  {
   "cell_type": "markdown",
   "metadata": {},
   "source": [
    "# Commute Time"
   ]
  },
  {
   "cell_type": "markdown",
   "metadata": {},
   "source": [
    "Import data and run quick analysis of data."
   ]
  },
  {
   "cell_type": "code",
   "execution_count": null,
   "metadata": {},
   "outputs": [],
   "source": [
    "time_m2w = gpd.read_file('Data/time_means2work/acs2019_5yr_B08134_14000US06037185320.geojson')"
   ]
  },
  {
   "cell_type": "code",
   "execution_count": null,
   "metadata": {},
   "outputs": [],
   "source": [
    "type(time_m2w)"
   ]
  },
  {
   "cell_type": "code",
   "execution_count": null,
   "metadata": {},
   "outputs": [],
   "source": [
    "time_m2w.shape"
   ]
  },
  {
   "cell_type": "code",
   "execution_count": null,
   "metadata": {},
   "outputs": [],
   "source": [
    "time_m2w.head(3)"
   ]
  },
  {
   "cell_type": "code",
   "execution_count": null,
   "metadata": {},
   "outputs": [],
   "source": [
    "time_m2w.tail(3)"
   ]
  },
  {
   "cell_type": "markdown",
   "metadata": {},
   "source": [
    "Overall, data looks pretty straight forward. I would like to drop the LA City geoid, remove the standard deviation columns, and trim the columns I want use by looking at the metafile. "
   ]
  },
  {
   "cell_type": "markdown",
   "metadata": {},
   "source": [
    "Dropping LA City."
   ]
  },
  {
   "cell_type": "code",
   "execution_count": null,
   "metadata": {},
   "outputs": [],
   "source": [
    "time_m2w = time_m2w.drop([1004])\n",
    "time_m2w.tail(3)"
   ]
  },
  {
   "cell_type": "markdown",
   "metadata": {},
   "source": [
    "LA City dropped."
   ]
  },
  {
   "cell_type": "markdown",
   "metadata": {},
   "source": [
    "Deciding columns to keep and then renaming them."
   ]
  },
  {
   "cell_type": "code",
   "execution_count": null,
   "metadata": {},
   "outputs": [],
   "source": [
    "columns_to_keep = ['geoid',\n",
    " 'name',\n",
    " 'B08134001',\n",
    " 'B08134002',\n",
    " 'B08134003',\n",
    " 'B08134004',\n",
    " 'B08134005',\n",
    " 'B08134006',\n",
    " 'B08134007',\n",
    " 'B08134008',\n",
    " 'B08134009',\n",
    " 'B08134010',\n",
    " 'B08134011',\n",
    " 'B08134012',\n",
    " 'B08134013',\n",
    " 'B08134014',\n",
    " 'B08134015',\n",
    " 'B08134016',\n",
    " 'B08134017',\n",
    " 'B08134018',\n",
    " 'B08134019',\n",
    " 'B08134020',\n",
    " 'B08134021',\n",
    " 'B08134022',\n",
    " 'B08134023',\n",
    " 'B08134024',\n",
    " 'B08134025',\n",
    " 'B08134026',\n",
    " 'B08134027',\n",
    " 'B08134028',\n",
    " 'B08134029',\n",
    " 'B08134030',\n",
    " 'B08134031',\n",
    " 'B08134032',\n",
    " 'B08134033',\n",
    " 'B08134034',\n",
    " 'B08134035',\n",
    " 'B08134036',\n",
    " 'B08134037',\n",
    " 'B08134038',\n",
    " 'B08134039',\n",
    " 'B08134040',\n",
    " 'B08134061',\n",
    " 'B08134062',\n",
    " 'B08134063',\n",
    " 'B08134064',\n",
    " 'B08134065',\n",
    " 'B08134066',\n",
    " 'B08134067',\n",
    " 'B08134068',\n",
    " 'B08134069',\n",
    " 'B08134070',\n",
    " 'B08134071',\n",
    " 'B08134072',\n",
    " 'B08134073',\n",
    " 'B08134074',\n",
    " 'B08134075',\n",
    " 'B08134076',\n",
    " 'B08134077',\n",
    " 'B08134078',\n",
    " 'B08134079',\n",
    " 'B08134080',\n",
    " 'B08134081',\n",
    " 'B08134082',\n",
    " 'B08134083',\n",
    " 'B08134084',\n",
    " 'B08134085',\n",
    " 'B08134086',\n",
    " 'B08134087',\n",
    " 'B08134088',\n",
    " 'B08134089',\n",
    " 'B08134090',\n",
    " 'B08134091',\n",
    " 'B08134092',\n",
    " 'B08134093', \n",
    " 'B08134094',\n",
    " 'B08134095',\n",
    " 'B08134096',\n",
    " 'B08134097',\n",
    " 'B08134098',\n",
    " 'B08134099',\n",
    " 'B08134100',\n",
    " 'B08134101',\n",
    " 'B08134102',\n",
    " 'B08134103',\n",
    " 'B08134104',\n",
    " 'B08134105',\n",
    " 'B08134106',\n",
    " 'B08134107',\n",
    " 'B08134108',\n",
    " 'B08134109',\n",
    " 'B08134110',\n",
    " 'geometry']"
   ]
  },
  {
   "cell_type": "code",
   "execution_count": null,
   "metadata": {},
   "outputs": [],
   "source": [
    "time_m2w = time_m2w[columns_to_keep]"
   ]
  },
  {
   "cell_type": "code",
   "execution_count": null,
   "metadata": {},
   "outputs": [],
   "source": [
    "time_m2w.sample(3)"
   ]
  },
  {
   "cell_type": "code",
   "execution_count": null,
   "metadata": {},
   "outputs": [],
   "source": [
    "time_m2w.columns = ['geoid',\n",
    "'name',\n",
    "'Total',   \n",
    "\"t_Less than 10 minutes\",\n",
    "\"t_10 to 14 minutes\",\n",
    "\"t_15 to 19 minutes\",\n",
    "\"t_20 to 24 minutes\",\n",
    "\"t_25 to 29 minutes\",\n",
    "\"t_30 to 34 minutes\",\n",
    "\"t_35 to 44 minutes\",\n",
    "\"t_45 to 59 minutes\",\n",
    "\"t_60 or more minutes\",\n",
    "\"Car, truck, or van\",\n",
    "\"c_Less than 10 minutes\",\n",
    "\"c_10 to 14 minutes\",\n",
    "\"c_15 to 19 minutes\",\n",
    "\"c_20 to 24 minutes\",\n",
    "\"c_25 to 29 minutes\",\n",
    "\"c_30 to 34 minutes\",\n",
    "\"c_35 to 44 minutes\",\n",
    "\"c_45 to 59 minutes\",\n",
    "\"c_60 or more minutes\",\n",
    "\"Drove alone\",\n",
    "\"da_Less than 10 minutes\",\n",
    "\"da_10 to 14 minutes\",\n",
    "\"da_15 to 19 minutes\",\n",
    "\"da_20 to 24 minutes\",\n",
    "\"da_25 to 29 minutes\",\n",
    "\"da_30 to 34 minutes\",\n",
    "\"da_35 to 44 minutes\",\n",
    "\"da_45 to 59 minutes\",\n",
    "\"da_60 or more minutes\",\n",
    "\"Carpooled\",\n",
    "\"cp_Less than 10 minutes\",\n",
    "\"cp_10 to 14 minutes\",\n",
    "\"cp_15 to 19 minutes\",\n",
    "\"cp_20 to 24 minutes\",\n",
    "\"cp_25 to 29 minutes\",\n",
    "\"cp_30 to 34 minutes\",\n",
    "\"cp_35 to 44 minutes\",\n",
    "\"cp_45 to 59 minutes\",\n",
    "\"cp_60 or more minutes\",\n",
    "\"Public transportation\",\n",
    "\"pt_Less than 10 minutes\",\n",
    "\"pt_10 to 14 minutes\",\n",
    "\"pt_15 to 19 minutes\",\n",
    "\"pt_20 to 24 minutes\",\n",
    "\"pt_25 to 29 minutes\",\n",
    "\"pt_30 to 34 minutes\",\n",
    "\"pt_35 to 44 minutes\",\n",
    "\"pt_45 to 59 minutes\",\n",
    "\"pt_60 or more minutes\",\n",
    "\"Bus\",\n",
    "\"b_Less than 10 minutes\",\n",
    "\"b_10 to 14 minutes\",\n",
    "\"b_15 to 19 minutes\",\n",
    "\"b_20 to 24 minutes\",\n",
    "\"b_25 to 29 minutes\",\n",
    "\"b_30 to 34 minutes\",\n",
    "\"b_35 to 44 minutes\",\n",
    "\"b_45 to 59 minutes\",\n",
    "\"b_60 or more minutes\",\n",
    "\"Subway or elevated rail, Light rail\",\n",
    "\"s_Less than 10 minutes\",\n",
    "\"s_10 to 14 minutes\",\n",
    "\"s_15 to 19 minutes\",\n",
    "\"s_20 to 24 minutes\",\n",
    "\"s_25 to 29 minutes\",\n",
    "\"s_30 to 34 minutes\",\n",
    "\"s_35 to 44 minutes\",\n",
    "\"s_45 to 59 minutes\",\n",
    "\"s_60 or more minutes\",\n",
    "\"Long-distance train or commuter rail or Ferryboat\",\n",
    "\"ldt_Less than 10 minutes\",\n",
    "\"ldt_10 to 14 minutes\",\n",
    "\"ldt_15 to 19 minutes\",\n",
    "\"ldt_20 to 24 minutes\",\n",
    "\"ldt_25 to 29 minutes\",\n",
    "\"ldt_30 to 34 minutes\",\n",
    "\"ldt_35 to 44 minutes\",\n",
    "\"ldt_45 to 59 minutes\",\n",
    "\"ldt_60 or more minutes\",\n",
    "\"Walked\",\n",
    "\"w_Less than 10 minutes\",\n",
    "\"w_10 to 14 minutes\",\n",
    "\"w_15 to 19 minutes\",\n",
    "\"w_20 to 24 minutes\",\n",
    "\"w_25 to 29 minutes\",\n",
    "\"w_30 to 34 minutes\",\n",
    "\"w_35 to 44 minutes\",\n",
    "\"w_45 to 59 minutes\",\n",
    "\"w_60 or more minutes\",\n",
    " 'geometry']"
   ]
  },
  {
   "cell_type": "code",
   "execution_count": null,
   "metadata": {
    "scrolled": true
   },
   "outputs": [],
   "source": [
    "time_m2w.sample(3)"
   ]
  },
  {
   "cell_type": "markdown",
   "metadata": {},
   "source": [
    "Creating percent columns for total, car use, and public transit. Will explore other categories as needed."
   ]
  },
  {
   "cell_type": "code",
   "execution_count": null,
   "metadata": {},
   "outputs": [],
   "source": [
    "time_m2w['Percent t_Less than 10 minutes'] = time_m2w['t_Less than 10 minutes']/time_m2w['Total']*100\n",
    "time_m2w['Percent t_15 to 19 minutes'] = time_m2w['t_15 to 19 minutes']/time_m2w['Total']*100\n",
    "time_m2w['Percent t_20 to 24 minutes'] = time_m2w['t_20 to 24 minutes']/time_m2w['Total']*100\n",
    "time_m2w['Percent t_25 to 29 minutes'] = time_m2w['t_25 to 29 minutes']/time_m2w['Total']*100\n",
    "time_m2w['Percent t_30 to 34 minutes'] = time_m2w['t_30 to 34 minutes']/time_m2w['Total']*100\n",
    "time_m2w['Percent t_35 to 44 minutes'] = time_m2w['t_35 to 44 minutes']/time_m2w['Total']*100\n",
    "time_m2w['Percent t_45 to 59 minutes'] = time_m2w['t_45 to 59 minutes']/time_m2w['Total']*100\n",
    "time_m2w['Percent t_60 or more minutes'] = time_m2w['t_60 or more minutes']/time_m2w['Total']*100\n",
    "time_m2w['Percent c_Less than 10 minutes'] = time_m2w['c_Less than 10 minutes']/time_m2w['Total']*100\n",
    "time_m2w['Percent c_15 to 19 minutes'] = time_m2w['c_15 to 19 minutes']/time_m2w['Total']*100\n",
    "time_m2w['Percent c_20 to 24 minutes'] = time_m2w['c_20 to 24 minutes']/time_m2w['Total']*100\n",
    "time_m2w['Percent c_25 to 29 minutes'] = time_m2w['c_25 to 29 minutes']/time_m2w['Total']*100\n",
    "time_m2w['Percent c_30 to 34 minutes'] = time_m2w['c_30 to 34 minutes']/time_m2w['Total']*100\n",
    "time_m2w['Percent c_35 to 44 minutes'] = time_m2w['c_35 to 44 minutes']/time_m2w['Total']*100\n",
    "time_m2w['Percent c_45 to 59 minutes'] = time_m2w['c_45 to 59 minutes']/time_m2w['Total']*100\n",
    "time_m2w['Percent c_60 or more minutes'] = time_m2w['c_60 or more minutes']/time_m2w['Total']*100\n",
    "time_m2w['Percent pt_Less than 10 minutes'] = time_m2w['pt_Less than 10 minutes']/time_m2w['Public transportation']*100\n",
    "time_m2w['Percent pt_15 to 19 minutes'] = time_m2w['pt_15 to 19 minutes']/time_m2w['Public transportation']*100\n",
    "time_m2w['Percent pt_20 to 24 minutes'] = time_m2w['pt_20 to 24 minutes']/time_m2w['Public transportation']*100\n",
    "time_m2w['Percent pt_25 to 29 minutes'] = time_m2w['pt_25 to 29 minutes']/time_m2w['Public transportation']*100\n",
    "time_m2w['Percent pt_30 to 34 minutes'] = time_m2w['pt_30 to 34 minutes']/time_m2w['Public transportation']*100\n",
    "time_m2w['Percent pt_35 to 44 minutes'] = time_m2w['pt_35 to 44 minutes']/time_m2w['Public transportation']*100\n",
    "time_m2w['Percent pt_45 to 59 minutes'] = time_m2w['pt_45 to 59 minutes']/time_m2w['Public transportation']*100\n",
    "time_m2w['Percent pt_60 or more minutes'] = time_m2w['pt_60 or more minutes']/time_m2w['Public transportation']*100"
   ]
  },
  {
   "cell_type": "markdown",
   "metadata": {},
   "source": [
    "**Note that instead of using total as my demoninator for public transt stops, I used the public transit total number in order to get a more accurate read of transit use relative to the proportion of those actually using transit.**"
   ]
  },
  {
   "cell_type": "code",
   "execution_count": null,
   "metadata": {
    "scrolled": true
   },
   "outputs": [],
   "source": [
    "time_m2w.sample(3)"
   ]
  },
  {
   "cell_type": "markdown",
   "metadata": {},
   "source": [
    "New percentage columns created. "
   ]
  },
  {
   "cell_type": "markdown",
   "metadata": {},
   "source": [
    "# Analysis (with function and loop)"
   ]
  },
  {
   "cell_type": "markdown",
   "metadata": {},
   "source": [
    "## Mode of Travel Indicators"
   ]
  },
  {
   "cell_type": "markdown",
   "metadata": {},
   "source": [
    "Creating an indicator list for chosen variables. Explanation given in charts section for why these variables were chosen."
   ]
  },
  {
   "cell_type": "code",
   "execution_count": null,
   "metadata": {},
   "outputs": [],
   "source": [
    "m2w_indicators = ['Percent Car, truck, or van',\n",
    "'Percent Drove alone',\n",
    "'Percent Carpooled',\n",
    "'Percent Public transportation',\n",
    "'Percent Bus',\n",
    "'Percent Subway or elevated il',\n",
    "'Percent Long-distance train or commuter rail',\n",
    "'Percent Light rail, streetcar or trolley',\n",
    "'Percent Walked',\n",
    "'Percent Worked from home',]"
   ]
  },
  {
   "cell_type": "markdown",
   "metadata": {},
   "source": [
    "New variable created."
   ]
  },
  {
   "cell_type": "markdown",
   "metadata": {},
   "source": [
    "Want to check the type. I've had some problems previously, so I would like to ensure I have a list."
   ]
  },
  {
   "cell_type": "code",
   "execution_count": null,
   "metadata": {
    "scrolled": true
   },
   "outputs": [],
   "source": [
    "type(m2w_indicators)"
   ]
  },
  {
   "cell_type": "markdown",
   "metadata": {},
   "source": [
    "Success."
   ]
  },
  {
   "cell_type": "markdown",
   "metadata": {},
   "source": [
    "I'm going to look at the means for my categories."
   ]
  },
  {
   "cell_type": "code",
   "execution_count": null,
   "metadata": {},
   "outputs": [],
   "source": [
    "for indicator in m2w_indicators:\n",
    "    print ('mean for ' + indicator + ' is ' + str(means2work[m2w_indicators].mean()))"
   ]
  },
  {
   "cell_type": "markdown",
   "metadata": {},
   "source": [
    "Going to look at the top tracts for each category."
   ]
  },
  {
   "cell_type": "code",
   "execution_count": null,
   "metadata": {},
   "outputs": [],
   "source": [
    "for indicator in m2w_indicators:\n",
    "    print(indicator)\n",
    "    print (means2work.sort_values(by = indicator, ascending=False)[indicator].head(10))"
   ]
  },
  {
   "cell_type": "markdown",
   "metadata": {},
   "source": [
    "There are several tracts with high transit ridership. Should plot these areas below."
   ]
  },
  {
   "cell_type": "markdown",
   "metadata": {},
   "source": [
    "I'm going to create a second indicators list for mode of travel to see aboslute totals. Same process as above."
   ]
  },
  {
   "cell_type": "code",
   "execution_count": null,
   "metadata": {},
   "outputs": [],
   "source": [
    "m2w_indicators2 = ['Car, truck, or van',\n",
    "'Drove alone',\n",
    "'Carpooled',\n",
    "'Public transportation',\n",
    "'Bus',\n",
    "'Subway or elevated il',\n",
    "'Long-distance train or commuter rail',\n",
    "'Light rail, streetcar or trolley',\n",
    "'Walked',\n",
    "'Worked from home',]"
   ]
  },
  {
   "cell_type": "code",
   "execution_count": null,
   "metadata": {},
   "outputs": [],
   "source": [
    "type(m2w_indicators2)"
   ]
  },
  {
   "cell_type": "code",
   "execution_count": null,
   "metadata": {},
   "outputs": [],
   "source": [
    "for indicator in m2w_indicators2:\n",
    "    print(indicator)\n",
    "    print (means2work.sort_values(by = indicator, ascending=False)[indicator].head(10))"
   ]
  },
  {
   "cell_type": "markdown",
   "metadata": {},
   "source": [
    "## Commute Time Indicators"
   ]
  },
  {
   "cell_type": "markdown",
   "metadata": {},
   "source": [
    "Creating indicators for total commute and public transit percentages."
   ]
  },
  {
   "cell_type": "code",
   "execution_count": null,
   "metadata": {},
   "outputs": [],
   "source": [
    "commute_indicators_pt= ['Percent t_Less than 10 minutes',\n",
    "'Percent t_15 to 19 minutes',\n",
    "'Percent t_20 to 24 minutes',\n",
    "'Percent t_25 to 29 minutes',\n",
    "'Percent t_30 to 34 minutes',\n",
    "'Percent t_35 to 44 minutes',\n",
    "'Percent t_45 to 59 minutes',\n",
    "'Percent t_60 or more minutes',\n",
    "'Percent pt_Less than 10 minutes',\n",
    "'Percent pt_15 to 19 minutes',\n",
    "'Percent pt_20 to 24 minutes',\n",
    "'Percent pt_25 to 29 minutes',\n",
    "'Percent pt_30 to 34 minutes',\n",
    "'Percent pt_35 to 44 minutes',\n",
    "'Percent pt_45 to 59 minutes',\n",
    "'Percent pt_60 or more minutes',]"
   ]
  },
  {
   "cell_type": "code",
   "execution_count": null,
   "metadata": {},
   "outputs": [],
   "source": [
    "type(commute_indicators_pt)"
   ]
  },
  {
   "cell_type": "markdown",
   "metadata": {},
   "source": [
    "I'm going to look at the top overall commute times (as a control) with the  public transit tracts for each commute time interval. "
   ]
  },
  {
   "cell_type": "code",
   "execution_count": null,
   "metadata": {},
   "outputs": [],
   "source": [
    "for indicator in commute_indicators_pt:\n",
    "    print(indicator)\n",
    "    print (time_m2w.sort_values(by = indicator, ascending=False)[indicator].head(10))"
   ]
  },
  {
   "cell_type": "markdown",
   "metadata": {},
   "source": [
    "This is potentially revelaing. I would like to map these out and see if there is a spatial pattern with commute time and census tract."
   ]
  },
  {
   "cell_type": "markdown",
   "metadata": {},
   "source": [
    "## Charts"
   ]
  },
  {
   "cell_type": "markdown",
   "metadata": {},
   "source": [
    "### Mode of Travel"
   ]
  },
  {
   "cell_type": "markdown",
   "metadata": {},
   "source": [
    "Will define get_histogram and set up histograms for a loop."
   ]
  },
  {
   "cell_type": "code",
   "execution_count": null,
   "metadata": {},
   "outputs": [],
   "source": [
    "def get_histogram(column = 'Percent Long-distance train or commuter rail'):\n",
    "    series_to_plot=means2work[column] #change gpd\n",
    "\n",
    "    plt.figure(figsize=(10,5))\n",
    "\n",
    "    plt.hist(series_to_plot,bins=100,color='lightgreen')\n",
    "\n",
    "    plt.axvline(series_to_plot.mean(), color='k', linestyle='dashed', linewidth=1)\n",
    "    plt.axvline(series_to_plot.median(), color='r', linestyle='dashed', linewidth=1)\n",
    "    min_ylim, max_ylim = plt.ylim()\n",
    "    plt.text(series_to_plot.mean()*1.1, max_ylim*0.9, 'Mean: {:.2f}'.format(series_to_plot.mean()))\n",
    "    plt.text(series_to_plot.median()*1.1, max_ylim*0.8, 'Median: {:.2f}'.format(series_to_plot.median()),color='r')\n",
    "    plt.title(column + ' in the City of Los Angeles')\n"
   ]
  },
  {
   "cell_type": "markdown",
   "metadata": {},
   "source": [
    "Funtion set up for loop"
   ]
  },
  {
   "cell_type": "markdown",
   "metadata": {},
   "source": [
    "Histograms for chosen mode of travel to work indicators by percentage"
   ]
  },
  {
   "cell_type": "code",
   "execution_count": null,
   "metadata": {},
   "outputs": [],
   "source": [
    "for indicator in m2w_indicators:\n",
    "    get_histogram(column=indicator)"
   ]
  },
  {
   "cell_type": "markdown",
   "metadata": {},
   "source": [
    "**What story does it tell?**"
   ]
  },
  {
   "cell_type": "markdown",
   "metadata": {},
   "source": [
    "**Why these variables:** I have chosen a group of indicators that reflect transit use across LA. Additionally, I have added percent driving, walking, and working from home to act as controls that can be further analyzed with income and race. Through this exploration, I might be able to further expound on reasons for transit use in LA."
   ]
  },
  {
   "cell_type": "markdown",
   "metadata": {},
   "source": [
    "**The story (nothing new):** This is a story we have already seen and stated previously, but I seek to further detail these findings on a two-dimensional level as a base line. This represents the first part of my team's research before we dig deeper in specific locations with high transit use. Auto use is the dominant form of travel in LA overwhelmingly.\n",
    "\n",
    "The public transit and car histograms are inverses of one another. I'm interested in where these high transit areas are located and expect some spatial pattern. I've added heavy rail (subway), heavy rail (commuter), and light rail which I had left out previously. Transit rates for each of these categories are shockingly low. I should also look at the absolute totals as well.\n",
    "\n",
    "Those distrubtion of those walking to work is also low, and I wonder what spatial patterns will be represented when plotted on a map. Where there be specific areas where walking is concentrated? Are these dense areas? Within Los Angeles, are of high walking rates to work correlated with high transit areas? In terms of those working from home, I would like to see if those areas are also high income and/or if there is transit use. \n",
    "\n",
    "Again, the overall transit story is nothing new-- LA is an auto-centric city that has low transit use. This transit use is concentrated in METRO's bus system. What needs to be explored now is why transit use is high in certain areas given the car-oriented design of LA. \n",
    "\n",
    "Areas to further explore:\n",
    "* Location of rail use\n",
    "* Location of mixed car and transit use\n",
    "* Availability of cars in households\n",
    "* Compare transit use to areas of income and race/ethnicty"
   ]
  },
  {
   "cell_type": "markdown",
   "metadata": {},
   "source": [
    "**Checking total amounts**"
   ]
  },
  {
   "cell_type": "code",
   "execution_count": null,
   "metadata": {},
   "outputs": [],
   "source": [
    "def get_histogram2(column = 'Long-distance train or commuter rail'):\n",
    "    series_to_plot=means2work[column] #change gpd\n",
    "\n",
    "    plt.figure(figsize=(10,5))\n",
    "\n",
    "    plt.hist(series_to_plot,bins=70,color='lightgreen')\n",
    "\n",
    "    plt.axvline(series_to_plot.mean(), color='k', linestyle='dashed', linewidth=1)\n",
    "    plt.axvline(series_to_plot.median(), color='r', linestyle='dashed', linewidth=1)\n",
    "    min_ylim, max_ylim = plt.ylim()\n",
    "    plt.text(series_to_plot.mean()*1.1, max_ylim*0.9, 'Mean: {:.2f}'.format(series_to_plot.mean()))\n",
    "    plt.text(series_to_plot.median()*1.1, max_ylim*0.8, 'Median: {:.2f}'.format(series_to_plot.median()),color='r')\n",
    "    plt.title(column + ' in the City of Los Angeles')\n"
   ]
  },
  {
   "cell_type": "code",
   "execution_count": null,
   "metadata": {
    "scrolled": true
   },
   "outputs": [],
   "source": [
    "for indicator in m2w_indicators2:\n",
    "    get_histogram2(column=indicator)"
   ]
  },
  {
   "cell_type": "markdown",
   "metadata": {},
   "source": [
    "Census tracts vary widely, that being said, I still wanted to visualize the distribution and the mean and median for LA. I epxected these numbers to be much higher given LA's size. "
   ]
  },
  {
   "cell_type": "markdown",
   "metadata": {},
   "source": [
    "### Commute Time"
   ]
  },
  {
   "cell_type": "markdown",
   "metadata": {},
   "source": [
    "Setting up histograms syntax"
   ]
  },
  {
   "cell_type": "code",
   "execution_count": null,
   "metadata": {},
   "outputs": [],
   "source": [
    "def get_histogram3(column = 'Percent t_Less than 10 minutes'):\n",
    "    series_to_plot=time_m2w[column] #change gpd\n",
    "\n",
    "    plt.figure(figsize=(10,5))\n",
    "\n",
    "    plt.hist(series_to_plot,bins=100,color='lightgreen')\n",
    "\n",
    "    plt.axvline(series_to_plot.mean(), color='k', linestyle='dashed', linewidth=1)\n",
    "    plt.axvline(series_to_plot.median(), color='r', linestyle='dashed', linewidth=1)\n",
    "    min_ylim, max_ylim = plt.ylim()\n",
    "    plt.text(series_to_plot.mean()*1.1, max_ylim*0.9, 'Mean: {:.2f}'.format(series_to_plot.mean()))\n",
    "    plt.text(series_to_plot.median()*1.1, max_ylim*0.8, 'Median: {:.2f}'.format(series_to_plot.median()),color='r')\n",
    "    plt.title(column + ' in the City of Los Angeles')\n"
   ]
  },
  {
   "cell_type": "markdown",
   "metadata": {},
   "source": [
    "I'm also realizing my table titles may look a little funny as they are a function of my labeling earlier, but should be good to go"
   ]
  },
  {
   "cell_type": "code",
   "execution_count": null,
   "metadata": {
    "scrolled": true
   },
   "outputs": [],
   "source": [
    "for indicator in commute_indicators_pt:\n",
    "    get_histogram3(column=indicator)"
   ]
  },
  {
   "cell_type": "markdown",
   "metadata": {},
   "source": []
  },
  {
   "cell_type": "markdown",
   "metadata": {},
   "source": [
    "## Maps"
   ]
  },
  {
   "cell_type": "code",
   "execution_count": null,
   "metadata": {},
   "outputs": [],
   "source": [
    "def get_map(column='Percent Long-distance train or commuter rail'):\n",
    "    ax = means2work.plot(figsize=(10,10),\n",
    "                  column=column,\n",
    "                  legend=True,\n",
    "                 )\n",
    "    ax.set_title(column, fontsize=14)\n",
    "    ax.axis('off');"
   ]
  },
  {
   "cell_type": "code",
   "execution_count": null,
   "metadata": {
    "scrolled": false
   },
   "outputs": [],
   "source": [
    "for indicator in m2w_indicators:\n",
    "    get_map(indicator)"
   ]
  },
  {
   "cell_type": "markdown",
   "metadata": {},
   "source": [
    "**What story does it tell?**"
   ]
  },
  {
   "cell_type": "markdown",
   "metadata": {},
   "source": [
    "**The Story (Restating previous told story to establish firm baseline):** Maps show a concentration of high transit use in Central, Eastside, Northeast, and Southeast \"regions\" of Los Angeles. This is primarily bus ridership. There is some rail, but it remains relatively low proportion of people. There is a \"moderate\" amount of transit users on the Westside and in the San Fernando Valley. These areas will need further exploration in order to explain their higher relative use of transit compared to the rest of LA. Feedback from the midterm suggests to look at the Metro Orange BRT, Metro Red Line, other busways, and Metrolink commuter rails. I will need to compare to race/eth and income to these areas plus the agglomeration of heavy transit use in Central LA. I'm expecting there to be strong correlations with race/eth and income with transit use from what I remember.\n",
    "In terms of the \"controls\" (the non transit variables), a few patterns have emerged. Those walking to work seem to be relegated to the Central LA, and on the Westside between Santa Monica and Beverly Hills (very close to the UCLA campus). Those working from home tend to live heavily in the Valley, though there are pockets on the northern periphery of the Central LA region.\n",
    "Ongoing:\n",
    "* Provide a more accurate description, I will need to complete my spatial join between mode of travel to work and LA neighborhoods from the LA Times.\n",
    "* Zoom in on high transit use areas\n",
    "* Compare with race/eth and income datasets-\n",
    "    1. Bus\n",
    "    2. Rail Light\n",
    "    3. Rail Heavy\n",
    "    4. Commuter\n",
    "* Examine concentration of transit stops in each tract as well as frequency\n",
    "* Compare w/ commute time (roundabout way to check job-housing spatial matching/mismatching)\n",
    "* Commute Time Commute Maps"
   ]
  },
  {
   "cell_type": "markdown",
   "metadata": {},
   "source": [
    "Commute Time Commute Maps"
   ]
  },
  {
   "cell_type": "code",
   "execution_count": null,
   "metadata": {},
   "outputs": [],
   "source": [
    "def get_map2(column='Percent pt_60 or more minutes'):\n",
    "    ax = time_m2w.plot(figsize=(10,10),\n",
    "                  column=column,\n",
    "                  legend=True,\n",
    "                 )\n",
    "    ax.set_title(column, fontsize=14)\n",
    "    ax.axis('off');"
   ]
  },
  {
   "cell_type": "code",
   "execution_count": null,
   "metadata": {},
   "outputs": [],
   "source": [
    "for indicator in commute_indicators_pt:\n",
    "    get_map2(indicator)"
   ]
  },
  {
   "cell_type": "markdown",
   "metadata": {},
   "source": [
    "**What story does it tell?**"
   ]
  },
  {
   "cell_type": "markdown",
   "metadata": {},
   "source": [
    "**The Story:**\n",
    "This is a new perspective for the narrative of transit ridership in LA, even if this information might not extraordinarily new. My purpose of looking at commute time was to try and gain some insights on where people in LA work in hopes to see if there was a component of mismatching between housing and jobs. There are of course a variety of other factors that go into the where people work and live; that being said, it might reveal some preferences in mode of transit. At the very least, it gives a more complete picture of transit ridership patterns in LA.\n",
    "\n",
    "In the above maps, there are essentially two groups: the total time of commute to give an overall pattern of commute time in LA and those only using public transit. The distribution for LA overall seems evenly distributed minus a few exceptions. Without looking at any housing data, this could suggest a jobs rich and housing shortage balance for the region. Housing shortages are not a new issue and it should be cautioned that inferences on solely commute time might not be indicative of the full picture. More research is needed on this scope. In terms of public transit commute times, a couple patterns are emerging:\n",
    "* Public transit that takes 29 minutes or less are a clear minority of workers in LA. That doesn't mean ridership is zero, as there is a significant portion of workers that use transit where it takes 29 minutes or less. \n",
    "* The vast majority is traveling 30 minutes or longer with a significant number of workers traveling 60 minutes or longer. This is present in almost every region. \n",
    "* It's apparent from the transit maps above for the San Fernando Valley that if workers are using transit, most are traveling 45 minutes or longer with the biggest proportion traveling 60 minutes or longer. There are some other census tracts where residents have less travel time, which would suggest access to a more centrally located transit location or a more localized job.  \n",
    "* Questions remain on the distance workers have to travel and the kinds of work. Inquiries into this may be more descriptive in nature, but could still be illuminating. \n",
    "* I would like to produce an isochrone map, though I'm unsure of how effective it will be with transit ridership. It might at the least give an indication of the distance traveled for workers. \n",
    "\n",
    "\n",
    "For further exploration:\n",
    "* Overlay heavy rail and light rail stops\n",
    "* Provide more accurate description of the areas through a spatial join\n",
    "* Compare with race/ethnicity and income data"
   ]
  },
  {
   "cell_type": "markdown",
   "metadata": {},
   "source": [
    "# Querying Transit"
   ]
  },
  {
   "cell_type": "code",
   "execution_count": null,
   "metadata": {},
   "outputs": [],
   "source": []
  },
  {
   "cell_type": "code",
   "execution_count": null,
   "metadata": {},
   "outputs": [],
   "source": []
  },
  {
   "cell_type": "code",
   "execution_count": null,
   "metadata": {},
   "outputs": [],
   "source": []
  },
  {
   "cell_type": "code",
   "execution_count": null,
   "metadata": {},
   "outputs": [],
   "source": []
  },
  {
   "cell_type": "code",
   "execution_count": null,
   "metadata": {},
   "outputs": [],
   "source": []
  },
  {
   "cell_type": "code",
   "execution_count": null,
   "metadata": {},
   "outputs": [],
   "source": []
  },
  {
   "cell_type": "markdown",
   "metadata": {},
   "source": [
    " # Further Exploration: Spatial Joins"
   ]
  },
  {
   "cell_type": "code",
   "execution_count": null,
   "metadata": {},
   "outputs": [],
   "source": [
    "gdf_hoods = gpd.read_file('https://s3-us-west-2.amazonaws.com/mappingla.com/downloads/neighborhoods/la_city.json?_ga=2.19655035.276734209.1613944484-775419131.1602133353')"
   ]
  },
  {
   "cell_type": "code",
   "execution_count": null,
   "metadata": {},
   "outputs": [],
   "source": [
    "gdf_hoods"
   ]
  },
  {
   "cell_type": "code",
   "execution_count": null,
   "metadata": {},
   "outputs": [],
   "source": [
    "gdf_hoods.info()"
   ]
  },
  {
   "cell_type": "code",
   "execution_count": null,
   "metadata": {},
   "outputs": [],
   "source": [
    "# function to create a council district map\n",
    "def hood_map(name = 'Boyle Heights', column = 'Percent Public transportation'):\n",
    "    # this hood\n",
    "    this_hood = gdf_hoods[gdf_hoods['name']==name]\n",
    "    \n",
    "    # spatial join to get tracts\n",
    "    tracts = gpd.sjoin(means2work,this_hood)\n",
    "\n",
    "    # plot it\n",
    "    fig,ax = plt.subplots()\n",
    "\n",
    "    # map\n",
    "    tracts.plot(ax=ax,\n",
    "                column=column, \n",
    "                vmin=0,\n",
    "                vmax=100,\n",
    "                legend=True)\n",
    "\n",
    "    ax.axis('off')\n",
    "    ax.set_title('Neighborhood ' + name + '\\n(' + column + ')', fontsize=14)"
   ]
  },
  {
   "cell_type": "code",
   "execution_count": null,
   "metadata": {},
   "outputs": [],
   "source": [
    "hood_map()"
   ]
  },
  {
   "cell_type": "code",
   "execution_count": null,
   "metadata": {
    "scrolled": true
   },
   "outputs": [],
   "source": [
    "for index, row in gdf_hoods(20):\n",
    "    hood_map(name = row['name'])"
   ]
  },
  {
   "cell_type": "code",
   "execution_count": null,
   "metadata": {},
   "outputs": [],
   "source": []
  }
 ],
 "metadata": {
  "celltoolbar": "Raw Cell Format",
  "kernelspec": {
   "display_name": "Python 3",
   "language": "python",
   "name": "python3"
  },
  "language_info": {
   "codemirror_mode": {
    "name": "ipython",
    "version": 3
   },
   "file_extension": ".py",
   "mimetype": "text/x-python",
   "name": "python",
   "nbconvert_exporter": "python",
   "pygments_lexer": "ipython3",
   "version": "3.8.5"
  },
  "toc": {
   "base_numbering": 1,
   "nav_menu": {},
   "number_sections": true,
   "sideBar": true,
   "skip_h1_title": false,
   "title_cell": "Table of Contents",
   "title_sidebar": "Contents",
   "toc_cell": false,
   "toc_position": {},
   "toc_section_display": true,
   "toc_window_display": false
  }
 },
 "nbformat": 4,
 "nbformat_minor": 4
}
