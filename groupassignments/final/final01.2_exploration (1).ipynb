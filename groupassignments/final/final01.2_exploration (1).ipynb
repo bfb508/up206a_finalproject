{
 "cells": [
  {
   "cell_type": "markdown",
   "metadata": {},
   "source": [
    "# Final Notebook Pt 1: means2work, race/eth, income, nbhooods"
   ]
  },
  {
   "cell_type": "markdown",
   "metadata": {},
   "source": [
    "**By:** Andrew Williams and Ben Brassette\n",
    "    \n",
    "**Description:** This notebook is building on earlier queries of means to work. Purpose is to intergrate and align race/eth and median income data. We are tacking points 1, 3, 4, 5, and 7 in this notebook.\n",
    "\n",
    "**Expected Outputs**\n",
    "* Trimmed data high transit areas--use same tracts for trimmed race/eth and median income data\n",
    "* Descriptive Statistics: Bar graphs of race/eth and income by using high public transit data\n",
    "* Side by side maps\n",
    "\n",
    "**Areas Where We Need More Work**\n",
    "* Spatial Statistics of means2work\n",
    "* Overlay of rail stops and bus lines\n",
    "* Descriptive Statistics of Access to Car\n",
    "* Inclusion of commute time and access to car maps (by high transit query)\n",
    "* Descriptive Statistics of Jobs\n",
    "* Interactive Map using some combination of our datasets\n",
    "\n",
    "**Notes for self to advance project:**\n",
    "1. Biggest step forward, intergrating our notebooks in the remaining few weeks in a targeted fashion\n",
    "2.  Overlay heavy rail and light rail stops\n",
    "3.  Provide more accurate description of the areas through a spatial join\n",
    "4. Compare with race/ethnicity and income data; we should create some side by side comparisons of transit use and race/eth and income\n",
    "5. Query \"high\" transit tracts, cross reference with income and race/eth, potential to add spatial dimension of LA neighborhoods\n",
    "6. Availability of cars in households\n",
    "7. Bring a shaprer focus to Central LA and the San Fernando Valley"
   ]
  },
  {
   "cell_type": "markdown",
   "metadata": {},
   "source": [
    "**TOC**\n",
    "* Section 2: Library Imports\n",
    "* Section 3: Mode of Travel\n",
    "* Section 4: Race/Eth and Income\n",
    "* Section 5: Public Transit Query\n",
    "* Section 6: Attribute Merge\n",
    "* Section 7: Matching Tracts\n",
    "* Section 8: Graphs\n",
    "* Section 9: Maps"
   ]
  },
  {
   "cell_type": "markdown",
   "metadata": {},
   "source": [
    "# Library Import \n"
   ]
  },
  {
   "cell_type": "markdown",
   "metadata": {},
   "source": [
    "Importing various libaries"
   ]
  },
  {
   "cell_type": "code",
   "execution_count": null,
   "metadata": {},
   "outputs": [],
   "source": [
    "import urllib.request, json \n",
    "import geopandas as gpd\n",
    "import pandas as pd\n",
    "import matplotlib.pyplot as plt\n",
    "import numpy as np\n",
    "import seaborn as sns "
   ]
  },
  {
   "cell_type": "markdown",
   "metadata": {},
   "source": [
    "Libraries good to go. "
   ]
  },
  {
   "cell_type": "markdown",
   "metadata": {},
   "source": [
    "# Importing Final 1.1 Data: m2w_income_race"
   ]
  },
  {
   "cell_type": "code",
   "execution_count": null,
   "metadata": {},
   "outputs": [],
   "source": [
    "m2w_income_race= gpd.read_file('m2w_income_race_new.geojson') "
   ]
  },
  {
   "cell_type": "code",
   "execution_count": null,
   "metadata": {},
   "outputs": [],
   "source": [
    "type(m2w_income_race)"
   ]
  },
  {
   "cell_type": "code",
   "execution_count": null,
   "metadata": {},
   "outputs": [],
   "source": [
    "m2w_income_race.shape"
   ]
  },
  {
   "cell_type": "code",
   "execution_count": null,
   "metadata": {
    "scrolled": false
   },
   "outputs": [],
   "source": [
    "m2w_income_race.head(4)"
   ]
  },
  {
   "cell_type": "code",
   "execution_count": null,
   "metadata": {},
   "outputs": [],
   "source": [
    "m2w_income_race.columns.to_list()"
   ]
  },
  {
   "cell_type": "code",
   "execution_count": null,
   "metadata": {},
   "outputs": [],
   "source": [
    "m2w_income_race.columns=['geoid',\n",
    " 'name',\n",
    " 'Neighborhood',\n",
    " 'Median Income',\n",
    " 'Total Workers Commuting',\n",
    " 'Car Total',\n",
    " 'Drove alone',\n",
    " 'Carpooled',\n",
    " 'Public transportation',\n",
    " 'Bus',\n",
    " 'Subway or elevated il',\n",
    " 'Long-distance train or commuter rail',\n",
    " 'Light rail',\n",
    " 'Worked from home',\n",
    " '%Car Total',\n",
    " '%Drove alone',\n",
    " '%Carpooled',\n",
    " '%Public transportation',\n",
    " '%Bus',\n",
    " '%Subway or elevated il',\n",
    " '%Long-distance train or commuter rail',\n",
    " '%Light rail',\n",
    " '%Worked from home',\n",
    " 'Total Pop Race',\n",
    " 'White',\n",
    " 'Black',\n",
    " 'Native',\n",
    " 'Asian',\n",
    " 'Pacific Islander',\n",
    " 'Hispanic or Latino',\n",
    " '%White',\n",
    " '%Black',\n",
    " '%Native',\n",
    " '%Asian',\n",
    " '%Pacific Islander',\n",
    " '%Hispanic or Latino',\n",
    " 'geometry',]"
   ]
  },
  {
   "cell_type": "code",
   "execution_count": null,
   "metadata": {},
   "outputs": [],
   "source": [
    "m2w_income_race.sample(4)"
   ]
  },
  {
   "cell_type": "markdown",
   "metadata": {},
   "source": [
    "# Exploring Neighborhoods"
   ]
  },
  {
   "cell_type": "markdown",
   "metadata": {},
   "source": [
    "Purpose is to query nbhoods, define new variables, find missing tracts"
   ]
  },
  {
   "cell_type": "markdown",
   "metadata": {},
   "source": [
    "## Lay of the Land"
   ]
  },
  {
   "cell_type": "markdown",
   "metadata": {},
   "source": [
    "### Public Transit"
   ]
  },
  {
   "cell_type": "code",
   "execution_count": null,
   "metadata": {},
   "outputs": [],
   "source": [
    "nbh_pt20 = m2w_income_race[m2w_income_race['%Public transportation']>20]\n"
   ]
  },
  {
   "cell_type": "code",
   "execution_count": null,
   "metadata": {
    "scrolled": true
   },
   "outputs": [],
   "source": [
    "#pd.set_option('display.max_columns', None)\n",
    "#pd.set_option('display.max_rows', None)"
   ]
  },
  {
   "cell_type": "code",
   "execution_count": null,
   "metadata": {
    "scrolled": false
   },
   "outputs": [],
   "source": [
    "pt_trim=nbh_pt20.sort_values(by='%Public transportation',ascending = False)\n",
    "pt_trim"
   ]
  },
  {
   "cell_type": "code",
   "execution_count": null,
   "metadata": {
    "scrolled": true
   },
   "outputs": [],
   "source": [
    "pt_trim[['geoid','Neighborhood','%Public transportation']]"
   ]
  },
  {
   "cell_type": "code",
   "execution_count": null,
   "metadata": {
    "scrolled": true
   },
   "outputs": [],
   "source": [
    "pt_trim['Neighborhood'].value_counts()"
   ]
  },
  {
   "cell_type": "markdown",
   "metadata": {},
   "source": [
    "First four neighborhoods easily make up the vast majority. All located in Central LA. Panaroma City snuck in with 4 census tracts. The rest are either South LA or more Central LA tracts."
   ]
  },
  {
   "cell_type": "code",
   "execution_count": null,
   "metadata": {},
   "outputs": [],
   "source": [
    "nbh_pt20_count=nbh_pt20['Neighborhood'].value_counts()"
   ]
  },
  {
   "cell_type": "code",
   "execution_count": null,
   "metadata": {},
   "outputs": [],
   "source": [
    "nbh_pt20_count = nbh_pt20_count.reset_index()\n",
    "nbh_pt20_count"
   ]
  },
  {
   "cell_type": "markdown",
   "metadata": {},
   "source": [
    "### Bus"
   ]
  },
  {
   "cell_type": "code",
   "execution_count": null,
   "metadata": {},
   "outputs": [],
   "source": [
    "nbh_bus20 = m2w_income_race[m2w_income_race['%Bus']>20]"
   ]
  },
  {
   "cell_type": "code",
   "execution_count": null,
   "metadata": {
    "scrolled": false
   },
   "outputs": [],
   "source": [
    "nbh_bus20.sample(5)"
   ]
  },
  {
   "cell_type": "code",
   "execution_count": null,
   "metadata": {
    "scrolled": true
   },
   "outputs": [],
   "source": [
    "nbh_bus20['Neighborhood'].value_counts()"
   ]
  },
  {
   "cell_type": "markdown",
   "metadata": {},
   "source": [
    "### Subway"
   ]
  },
  {
   "cell_type": "code",
   "execution_count": null,
   "metadata": {},
   "outputs": [],
   "source": [
    "nbh_sub5 = m2w_income_race[m2w_income_race['%Subway or elevated il']>5]"
   ]
  },
  {
   "cell_type": "code",
   "execution_count": null,
   "metadata": {},
   "outputs": [],
   "source": [
    "nbh_sub5"
   ]
  },
  {
   "cell_type": "code",
   "execution_count": null,
   "metadata": {},
   "outputs": [],
   "source": [
    "nbh_sub5['Neighborhood'].value_counts()"
   ]
  },
  {
   "cell_type": "markdown",
   "metadata": {},
   "source": [
    "### Commuter"
   ]
  },
  {
   "cell_type": "code",
   "execution_count": null,
   "metadata": {},
   "outputs": [],
   "source": [
    "nbh_commute3 = m2w_income_race[m2w_income_race['%Long-distance train or commuter rail']>3]"
   ]
  },
  {
   "cell_type": "code",
   "execution_count": null,
   "metadata": {
    "scrolled": true
   },
   "outputs": [],
   "source": [
    "nbh_commute3"
   ]
  },
  {
   "cell_type": "code",
   "execution_count": null,
   "metadata": {},
   "outputs": [],
   "source": [
    "nbh_commute3['Neighborhood'].value_counts()"
   ]
  },
  {
   "cell_type": "markdown",
   "metadata": {},
   "source": [
    "### Light Rail"
   ]
  },
  {
   "cell_type": "code",
   "execution_count": null,
   "metadata": {},
   "outputs": [],
   "source": [
    "nbh_lr4 = m2w_income_race[m2w_income_race['%Light rail']>4]"
   ]
  },
  {
   "cell_type": "code",
   "execution_count": null,
   "metadata": {
    "scrolled": true
   },
   "outputs": [],
   "source": [
    "nbh_lr4"
   ]
  },
  {
   "cell_type": "markdown",
   "metadata": {},
   "source": [
    "**Taken from the above value counts**\n",
    "\n",
    "**Most Frequenct users of Public Transit:**\n",
    "* Westlake                  23x\n",
    "* Koreatown                 18x\n",
    "* Pico-Union                13x\n",
    "* East Hollywood             9x\n",
    "* Historic South-Central     6x\n",
    "* Downtown                   5x\n",
    "* Hollywood                  5x\n",
    "* Panorama City              4x\n",
    "* Harvard Heights            3x\n",
    "* Vermont Square             2x\n",
    "* Boyle Heights              2x\n",
    "* Central-Alameda            2x\n",
    "* Exposition Park            2x\n",
    "* Vermont Knolls             1x\n",
    "* South Park                 1x\n",
    "* Florence                   1x\n",
    "* Echo Park                  1x\n",
    "* University Park            1x\n",
    "* Chinatown                  1x\n",
    "* Adams-Normandie            1x\n",
    "* Highland Park              1x\n",
    "* Los Feliz                  1x\n",
    "\n",
    "\n",
    "**Other Neighborhoods to conisder:**\n",
    "* North Hollywood (sub)     4x\n",
    "* East Hollywood (sub)      3x\n",
    "* Mount Washington (sub)    1x\n",
    "* Chinatown (sub)           1x\n",
    "* Studio City  (sub)        1x\n",
    "* Montecito Heights (sub)   1x\n",
    "* Palms (sub)               1x\n",
    "* Valley Village (sub)      1x\n",
    "* Baldwin Hills/Crenshaw (distance rail)    2x\n",
    "* Jefferson Park (distance rail)            1x\n",
    "* Exposition Park   (distance rail)         1"
   ]
  },
  {
   "cell_type": "markdown",
   "metadata": {},
   "source": [
    "A breakdown by region"
   ]
  },
  {
   "cell_type": "markdown",
   "metadata": {},
   "source": [
    "**SF Valley**\n",
    "* Studio City\n",
    "* North Hollywood\n",
    "* Panorama City \n",
    "* Valley Village \n",
    "\n",
    " \n",
    "**Westside**\n",
    "* Palms\n",
    "\n",
    "**Central LA**\n",
    "* Hollywood\n",
    "* East Hollywood \n",
    "* Koreatown   \n",
    "* Westlake  \n",
    "* Downtown\n",
    "* Echo Park\n",
    "* Chinatown\n",
    "* Harvard Heights\n",
    "* Pico-Union  \n",
    "* Los Feliz  \n",
    "\n",
    "**South LA**\n",
    "* Historic South-Central\n",
    "* Vermont Square  \n",
    "* Vermont Knolls \n",
    "* Central-Alameda \n",
    "* Exposition Park\n",
    "* South Park\n",
    "* Florence   \n",
    "* University Park\n",
    "* Adams-Normandie\n",
    "* Baldwin Hills/Crenshaw\n",
    "* Jefferson Park\n",
    "* Exposition Park\n",
    "\n",
    "**Eastside**\n",
    "* Boyle Heights  \n",
    "\n",
    "**Northeast LA**\n",
    "* Highland Park \n",
    "* Mount Washington \n",
    "* Montecito Heights "
   ]
  },
  {
   "cell_type": "markdown",
   "metadata": {},
   "source": [
    "# Visual Displays"
   ]
  },
  {
   "cell_type": "markdown",
   "metadata": {},
   "source": [
    "## Prepping Data"
   ]
  },
  {
   "cell_type": "markdown",
   "metadata": {},
   "source": [
    "Bring in more libraries!"
   ]
  },
  {
   "cell_type": "code",
   "execution_count": null,
   "metadata": {},
   "outputs": [],
   "source": [
    "# for interactive plots\n",
    "import plotly.express as px\n",
    "\n",
    "# to import open data,\n",
    "from sodapy import Socrata\n",
    "\n",
    "import urllib.request, json \n",
    "\n",
    "from shapely.geometry import Polygon"
   ]
  },
  {
   "cell_type": "markdown",
   "metadata": {},
   "source": [
    "Prep data and ensure it's ready to go."
   ]
  },
  {
   "cell_type": "code",
   "execution_count": null,
   "metadata": {
    "scrolled": true
   },
   "outputs": [],
   "source": [
    "m2w_income_race.columns.to_list()"
   ]
  },
  {
   "cell_type": "code",
   "execution_count": null,
   "metadata": {},
   "outputs": [],
   "source": [
    "#remove geometry\n",
    "keep_df=['geoid',\n",
    " 'name',\n",
    " 'Neighborhood',\n",
    " 'Median Income',\n",
    " 'Total Workers Commuting',\n",
    " 'Car Total',\n",
    " 'Drove alone',\n",
    " 'Carpooled',\n",
    " 'Public transportation',\n",
    " 'Bus',\n",
    " 'Subway or elevated il',\n",
    " 'Long-distance train or commuter rail',\n",
    " 'Light rail',\n",
    " 'Worked from home',\n",
    " '%Car Total',\n",
    " '%Drove alone',\n",
    " '%Carpooled',\n",
    " '%Public transportation',\n",
    " '%Bus',\n",
    " '%Subway or elevated il',\n",
    " '%Long-distance train or commuter rail',\n",
    " '%Light rail',\n",
    " '%Worked from home',\n",
    " 'Total Pop Race',\n",
    " 'White',\n",
    " 'Black',\n",
    " 'Native',\n",
    " 'Asian',\n",
    " 'Pacific Islander',\n",
    " 'Hispanic or Latino',\n",
    " '%White',\n",
    " '%Black',\n",
    " '%Native',\n",
    " '%Asian',\n",
    " '%Pacific Islander',\n",
    " '%Hispanic or Latino',\n",
    "]"
   ]
  },
  {
   "cell_type": "code",
   "execution_count": null,
   "metadata": {},
   "outputs": [],
   "source": [
    "df = m2w_income_race [keep_df]"
   ]
  },
  {
   "cell_type": "code",
   "execution_count": null,
   "metadata": {},
   "outputs": [],
   "source": [
    "type(df)"
   ]
  },
  {
   "cell_type": "code",
   "execution_count": null,
   "metadata": {
    "scrolled": false
   },
   "outputs": [],
   "source": [
    "df.sample(5)"
   ]
  },
  {
   "cell_type": "code",
   "execution_count": null,
   "metadata": {},
   "outputs": [],
   "source": [
    "df.shape"
   ]
  },
  {
   "cell_type": "markdown",
   "metadata": {},
   "source": [
    "Data is ready to go."
   ]
  },
  {
   "cell_type": "markdown",
   "metadata": {},
   "source": [
    "## Central LA"
   ]
  },
  {
   "cell_type": "markdown",
   "metadata": {},
   "source": [
    "### Westlake trial run"
   ]
  },
  {
   "cell_type": "code",
   "execution_count": null,
   "metadata": {},
   "outputs": [],
   "source": [
    "#westlake= df[df['%Public transportation']>20 &\n",
    "             # (df[df.Neighborhood == 'Westlake'])               ]"
   ]
  },
  {
   "cell_type": "code",
   "execution_count": null,
   "metadata": {},
   "outputs": [],
   "source": [
    "westlake= df.query(\"Neighborhood == 'Westlake'\")"
   ]
  },
  {
   "cell_type": "code",
   "execution_count": null,
   "metadata": {},
   "outputs": [],
   "source": [
    "westlake"
   ]
  },
  {
   "cell_type": "code",
   "execution_count": null,
   "metadata": {},
   "outputs": [],
   "source": [
    "westlake.shape"
   ]
  },
  {
   "cell_type": "code",
   "execution_count": null,
   "metadata": {
    "scrolled": true
   },
   "outputs": [],
   "source": [
    "westlake.head()"
   ]
  },
  {
   "cell_type": "code",
   "execution_count": null,
   "metadata": {},
   "outputs": [],
   "source": [
    "fig = px.histogram(df, \n",
    "                   x = \"%Public transportation\",\n",
    "                   title='Percent Public Transportation Means to Work',\n",
    "                   nbins=50, \n",
    "                   color_discrete_sequence=['indianred'])\n",
    "fig.show()"
   ]
  },
  {
   "cell_type": "code",
   "execution_count": null,
   "metadata": {
    "scrolled": false
   },
   "outputs": [],
   "source": [
    "fig = px.bar(westlake, x=\"geoid\", y=\"%White\", color_discrete_sequence=['indianred'])\n",
    "fig.show()"
   ]
  },
  {
   "cell_type": "code",
   "execution_count": null,
   "metadata": {},
   "outputs": [],
   "source": [
    "fig = px.bar(westlake, x=\"geoid\", y=\"%Black\", color_discrete_sequence=['indianred'])\n",
    "fig.show()"
   ]
  },
  {
   "cell_type": "code",
   "execution_count": null,
   "metadata": {},
   "outputs": [],
   "source": [
    "fig = px.bar(westlake, x=\"geoid\", y=\"%White\", color_discrete_sequence=['indianred'])\n",
    "fig.show()"
   ]
  },
  {
   "cell_type": "code",
   "execution_count": null,
   "metadata": {
    "scrolled": false
   },
   "outputs": [],
   "source": [
    "fig = px.bar(westlake, x=\"geoid\", y=\"%Hispanic or Latino\", color_discrete_sequence=['indianred'])\n",
    "fig.show()"
   ]
  },
  {
   "cell_type": "code",
   "execution_count": null,
   "metadata": {},
   "outputs": [],
   "source": [
    "import plotly.graph_objects as go"
   ]
  },
  {
   "cell_type": "code",
   "execution_count": null,
   "metadata": {
    "scrolled": false
   },
   "outputs": [],
   "source": [
    "fig = px.bar(westlake, \n",
    "             y=\"geoid\", \n",
    "             x=[\"%Hispanic or Latino\",\"%White\",\"%Black\",'%Asian','%Native','%Pacific Islander'],\n",
    "             orientation='h')\n",
    "fig.show()"
   ]
  },
  {
   "cell_type": "code",
   "execution_count": null,
   "metadata": {},
   "outputs": [],
   "source": [
    "fig = px.bar(westlake, \n",
    "             x=\"geoid\", \n",
    "             y=[\"%Hispanic or Latino\",\"%White\",\"%Black\",'%Asian','%Native','%Pacific Islander'],\n",
    "             title='Westlake Racial/Ethnic Breakdown',\n",
    "             labels={\n",
    "                     \"geoid\": \"Census Tracts\",\n",
    "                     \"value\": \"Percentage\",\n",
    "                     \"variable\": \"Race/Ethnicity\"\n",
    "                 },\n",
    "             )\n",
    "fig.show()"
   ]
  },
  {
   "cell_type": "markdown",
   "metadata": {},
   "source": [
    "Plotly Colors: https://plotly.com/python/discrete-color/"
   ]
  },
  {
   "cell_type": "code",
   "execution_count": null,
   "metadata": {},
   "outputs": [],
   "source": [
    "fig = px.bar(westlake, \n",
    "             y='geoid', \n",
    "             x=\"Median Income\",\n",
    "             title='Westlake Median Income',\n",
    "             color_discrete_sequence=['#00CC96'],\n",
    "             orientation='h',\n",
    "             labels={\n",
    "                     \"geoid\": \"Census Tracts\",\n",
    "                     \"Median Income\": \"Median Income\",\n",
    "                                      })\n",
    "fig.show()"
   ]
  },
  {
   "cell_type": "markdown",
   "metadata": {},
   "source": [
    "-facet ordering: neighborhood or by public transit, bus, subway,car, etc(4)\n",
    "-graphs (5)"
   ]
  },
  {
   "cell_type": "code",
   "execution_count": null,
   "metadata": {},
   "outputs": [],
   "source": [
    "fig = px.bar(westlake, x=\"geoid\", y=\"%Public transportation\", color_discrete_sequence=['#00CC96'])\n",
    "fig.show()"
   ]
  },
  {
   "cell_type": "code",
   "execution_count": null,
   "metadata": {},
   "outputs": [],
   "source": [
    "fig = px.bar(westlake, \n",
    "             x=\"geoid\", \n",
    "             y=[\"%Car Total\",\"%Public transportation\",],\n",
    "             title='Westlake Racial/Ethnic Breakdown',\n",
    "             labels={\n",
    "                     \"geoid\": \"Census Tracts\",\n",
    "                     \"value\": \"Percentage\",\n",
    "                     \"variable\": \"Mode of Transportation\"\n",
    "                 },\n",
    "             )\n",
    "fig.show()"
   ]
  },
  {
   "cell_type": "code",
   "execution_count": null,
   "metadata": {
    "scrolled": false
   },
   "outputs": [],
   "source": [
    "fig = px.bar(westlake, \n",
    "             x=\"geoid\", \n",
    "             y=[\"%Car Total\",\"%Bus\",\"%Subway or elevated il\",'%Long-distance train or commuter rail','%Light rail','%Worked from home'],\n",
    "             title='Westlake Mode of Trasnportation',\n",
    "             labels={\n",
    "                     \"geoid\": \"Census Tracts\",\n",
    "                     \"value\": \"Percentage\",\n",
    "                     \"variable\": \"Mode of Transportation\"\n",
    "                 },\n",
    "             )\n",
    "fig.show()"
   ]
  },
  {
   "cell_type": "code",
   "execution_count": null,
   "metadata": {},
   "outputs": [],
   "source": [
    "m2w_income_race[m2w_income_race['%Public transportation'] > 20].plot(figsize=(12,10),\n",
    "                 column='%Public transportation',\n",
    "                 cmap='cividis',\n",
    "                 legend=True, \n",
    "                 scheme='NaturalBreaks',)"
   ]
  },
  {
   "cell_type": "code",
   "execution_count": null,
   "metadata": {},
   "outputs": [],
   "source": [
    "m2w_income_race.query(\"Neighborhood == 'Westlake'\").plot(figsize=(12,10),\n",
    "                 column='%Public transportation',\n",
    "                 cmap='cividis',\n",
    "                 legend=True, \n",
    "                 scheme='NaturalBreaks',)"
   ]
  },
  {
   "cell_type": "markdown",
   "metadata": {},
   "source": [
    "Plot differet races altogether\n",
    "Plot income and means2work\n",
    "plot hispanic, asian, white and means2work"
   ]
  },
  {
   "cell_type": "code",
   "execution_count": null,
   "metadata": {},
   "outputs": [],
   "source": [
    "##next week, work on bins\n",
    "fig, axs = plt.subplots(nrows=3, ncols=2, figsize=(25, 25))\n",
    "\n",
    "# name each subplot\n",
    "(ax1, ax2), (ax3, ax4), (ax5, ax6) = axs\n",
    "\n",
    "m2w_income_race.query(\"Neighborhood == 'Westlake'\").plot(figsize=(12,10),\n",
    "                 column='%Public transportation',\n",
    "                 cmap='YlGn',\n",
    "                 edgecolor='white', \n",
    "                 linewidth=0., \n",
    "                 alpha=0.75, \n",
    "                 ax=ax1, \n",
    "                  legend=True, \n",
    "                 scheme='NaturalBreaks',)\n",
    "\n",
    "ax1.set_title('Public Trasnportation')\n",
    "\n",
    "m2w_income_race.query(\"Neighborhood == 'Westlake'\").plot(figsize=(12,10),\n",
    "                 column='%Car Total',\n",
    "                 cmap='YlGn',\n",
    "                 edgecolor='white', \n",
    "                 linewidth=0., \n",
    "                 alpha=0.75, \n",
    "                  ax=ax2, \n",
    "                  legend=True, \n",
    "                 scheme='NaturalBreaks',)\n",
    "\n",
    "ax2.set_title('Car Total')\n",
    "\n",
    "\n",
    "m2w_income_race.query(\"Neighborhood == 'Westlake'\").plot(figsize=(12,10),\n",
    "                 column='%Hispanic or Latino',\n",
    "                 cmap='OrRd',\n",
    "                 edgecolor='white', \n",
    "                 linewidth=0., \n",
    "                 alpha=0.75, \n",
    "                 ax=ax3, \n",
    "                  legend=True, \n",
    "                 scheme='NaturalBreaks',)\n",
    "\n",
    "ax3.set_title('Percent Hispanic/Latino')\n",
    "\n",
    "\n",
    "m2w_income_race.query(\"Neighborhood == 'Westlake'\").plot(figsize=(12,10),\n",
    "                 column='%White',\n",
    "                 cmap='OrRd',\n",
    "                 edgecolor='white', \n",
    "                 linewidth=0., \n",
    "                 alpha=0.75, \n",
    "                 ax=ax4, \n",
    "                 legend=True, \n",
    "                 scheme='NaturalBreaks',)\n",
    "\n",
    "ax4.set_title('Percent White')\n",
    "\n",
    "\n",
    "m2w_income_race.query(\"Neighborhood == 'Westlake'\").plot(figsize=(12,10),\n",
    "                 column='%Black',\n",
    "                 cmap='OrRd',\n",
    "                 edgecolor='white', \n",
    "                 linewidth=0., \n",
    "                 alpha=0.75, \n",
    "                 ax=ax5, \n",
    "                  legend=True, \n",
    "                 scheme='NaturalBreaks',)\n",
    "\n",
    "ax5.set_title('Percent Black')\n",
    "\n",
    "\n",
    "m2w_income_race.query(\"Neighborhood == 'Westlake'\").plot(figsize=(12,10),\n",
    "                 column='%Asian',\n",
    "                 cmap='OrRd',\n",
    "                 edgecolor='white', \n",
    "                 linewidth=0., \n",
    "                 alpha=0.75, \n",
    "                 ax=ax6, \n",
    "                  legend=True, \n",
    "                 scheme='NaturalBreaks',)\n",
    "\n",
    "ax6.set_title('Percent Asian')\n",
    "\n",
    "fig.suptitle('Westlake Overview')"
   ]
  },
  {
   "cell_type": "code",
   "execution_count": null,
   "metadata": {},
   "outputs": [],
   "source": [
    "m2w_income_race.query(\"Neighborhood == 'Westlake'\").plot(figsize=(12,10),\n",
    "                 column='Median Income',\n",
    "                 cmap='magma_r',\n",
    "                 edgecolor='black', \n",
    "                 linewidth=0., \n",
    "                 alpha=0.75, \n",
    "                 scheme='UserDefined',\n",
    "                classification_kwds=dict(bins=[12760,23700,39450,63100,77300,100490,115950,139140,150000,200000]),\n",
    "                 legend=True, \n",
    "               )"
   ]
  },
  {
   "cell_type": "markdown",
   "metadata": {},
   "source": [
    "### Downtown"
   ]
  },
  {
   "cell_type": "code",
   "execution_count": null,
   "metadata": {},
   "outputs": [],
   "source": [
    "dtown= df.query(\"Neighborhood == 'Downtown'\")"
   ]
  },
  {
   "cell_type": "code",
   "execution_count": null,
   "metadata": {},
   "outputs": [],
   "source": [
    "dtown.shape"
   ]
  },
  {
   "cell_type": "code",
   "execution_count": null,
   "metadata": {},
   "outputs": [],
   "source": [
    "type(dtown)"
   ]
  },
  {
   "cell_type": "code",
   "execution_count": null,
   "metadata": {},
   "outputs": [],
   "source": [
    "fig = px.bar(dtown, \n",
    "             x=\"geoid\", \n",
    "             y=[\"%Hispanic or Latino\",\"%White\",\"%Black\",'%Asian','%Native','%Pacific Islander'],\n",
    "             title='Downtown Racial/Ethnic Breakdown',\n",
    "             labels={\n",
    "                     \"geoid\": \"Census Tracts\",\n",
    "                     \"value\": \"Percentage\",\n",
    "                     \"variable\": \"Race/Ethnicity\"\n",
    "                 },\n",
    "             )\n",
    "fig.show()"
   ]
  },
  {
   "cell_type": "code",
   "execution_count": null,
   "metadata": {},
   "outputs": [],
   "source": [
    "fig = px.bar(dtown, \n",
    "             y='geoid', \n",
    "             x=\"Median Income\",\n",
    "             title='Downtown Median Income',\n",
    "             color_discrete_sequence=['#FFA15A'],\n",
    "             orientation='h',\n",
    "             labels={\n",
    "                     \"geoid\": \"Census Tracts\",\n",
    "                     \"Median Income\": \"Median Income\",\n",
    "                                      })\n",
    "fig.show()"
   ]
  },
  {
   "cell_type": "code",
   "execution_count": null,
   "metadata": {},
   "outputs": [],
   "source": [
    "fig = px.bar(dtown, \n",
    "             x=\"geoid\", \n",
    "             y=[\"%Car Total\",\"%Public transportation\",],\n",
    "             title='Downtown Mode of Trasnportation',\n",
    "             labels={\n",
    "                     \"geoid\": \"Census Tracts\",\n",
    "                     \"value\": \"Percentage\",\n",
    "                     \"variable\": \"Mode of Transportation\"\n",
    "                 },\n",
    "             )\n",
    "fig.show()"
   ]
  },
  {
   "cell_type": "code",
   "execution_count": null,
   "metadata": {},
   "outputs": [],
   "source": [
    "fig = px.bar(dtown, \n",
    "             x=\"geoid\", \n",
    "             y=[\"%Car Total\",\"%Bus\",\"%Subway or elevated il\",'%Long-distance train or commuter rail','%Light rail','%Worked from home'],\n",
    "             title='Downtown Mode of Trasnportation',\n",
    "             labels={\n",
    "                     \"geoid\": \"Census Tracts\",\n",
    "                     \"value\": \"Percentage\",\n",
    "                     \"variable\": \"Mode of Transportation\"\n",
    "                 },\n",
    "             )\n",
    "fig.show()"
   ]
  },
  {
   "cell_type": "code",
   "execution_count": null,
   "metadata": {},
   "outputs": [],
   "source": [
    "##next week, work on bins\n",
    "fig, axs = plt.subplots(nrows=3, ncols=2, figsize=(25, 25))\n",
    "\n",
    "# name each subplot\n",
    "(ax1, ax2), (ax3, ax4), (ax5, ax6) = axs\n",
    "\n",
    "m2w_income_race.query(\"Neighborhood == 'Downtown'\").plot(figsize=(12,10),\n",
    "                 column='%Public transportation',\n",
    "                 cmap='YlGn',\n",
    "                 edgecolor='white', \n",
    "                 linewidth=0., \n",
    "                 alpha=0.75, \n",
    "                 ax=ax1, \n",
    "                  legend=True, \n",
    "                 scheme='NaturalBreaks',)\n",
    "\n",
    "ax1.set_title('Public Trasnportation')\n",
    "\n",
    "m2w_income_race.query(\"Neighborhood == 'Downtown'\").plot(figsize=(12,10),\n",
    "                 column='%Car Total',\n",
    "                 cmap='YlGn',\n",
    "                 edgecolor='white', \n",
    "                 linewidth=0., \n",
    "                 alpha=0.75, \n",
    "                  ax=ax2, \n",
    "                  legend=True, \n",
    "                 scheme='NaturalBreaks',)\n",
    "\n",
    "ax2.set_title('Car Total')\n",
    "\n",
    "\n",
    "m2w_income_race.query(\"Neighborhood == 'Downtown'\").plot(figsize=(12,10),\n",
    "                 column='%Hispanic or Latino',\n",
    "                 cmap='OrRd',\n",
    "                 edgecolor='white', \n",
    "                 linewidth=0., \n",
    "                 alpha=0.75, \n",
    "                 ax=ax3, \n",
    "                  legend=True, \n",
    "                 scheme='NaturalBreaks',)\n",
    "\n",
    "ax3.set_title('Percent Hispanic/Latino')\n",
    "\n",
    "\n",
    "m2w_income_race.query(\"Neighborhood == 'Downtown'\").plot(figsize=(12,10),\n",
    "                 column='%White',\n",
    "                 cmap='OrRd',\n",
    "                 edgecolor='white', \n",
    "                 linewidth=0., \n",
    "                 alpha=0.75, \n",
    "                 ax=ax4, \n",
    "                 legend=True, \n",
    "                 scheme='NaturalBreaks',)\n",
    "\n",
    "ax4.set_title('Percent White')\n",
    "\n",
    "\n",
    "m2w_income_race.query(\"Neighborhood == 'Downtown'\").plot(figsize=(12,10),\n",
    "                 column='%Black',\n",
    "                 cmap='OrRd',\n",
    "                 edgecolor='white', \n",
    "                 linewidth=0., \n",
    "                 alpha=0.75, \n",
    "                 ax=ax5, \n",
    "                  legend=True, \n",
    "                 scheme='NaturalBreaks',)\n",
    "\n",
    "ax5.set_title('Percent Black')\n",
    "\n",
    "\n",
    "m2w_income_race.query(\"Neighborhood == 'Downtown'\").plot(figsize=(12,10),\n",
    "                 column='%Asian',\n",
    "                 cmap='OrRd',\n",
    "                 edgecolor='white', \n",
    "                 linewidth=0., \n",
    "                 alpha=0.75, \n",
    "                 ax=ax6, \n",
    "                  legend=True, \n",
    "                 scheme='NaturalBreaks',)\n",
    "\n",
    "ax6.set_title('Percent Asian')\n",
    "\n",
    "fig.suptitle('Downtown Overview')"
   ]
  },
  {
   "cell_type": "code",
   "execution_count": null,
   "metadata": {},
   "outputs": [],
   "source": [
    "m2w_income_race.query(\"Neighborhood == 'Downtown'\").plot(figsize=(12,10),\n",
    "                 column='Median Income',\n",
    "                 cmap='Purples_r',\n",
    "                 edgecolor='black', \n",
    "                 linewidth=0., \n",
    "                 alpha=0.75, \n",
    "                 scheme='UserDefined',\n",
    "                classification_kwds=dict(bins=[12760,23700,39450,63100,77300,100490,115950,139140,150000,200000]),\n",
    "                 legend=True, \n",
    "               )"
   ]
  },
  {
   "cell_type": "markdown",
   "metadata": {},
   "source": [
    "### Koreatown"
   ]
  },
  {
   "cell_type": "code",
   "execution_count": null,
   "metadata": {},
   "outputs": [],
   "source": [
    "ktown= df.query(\"Neighborhood == 'Koreatown'\")"
   ]
  },
  {
   "cell_type": "code",
   "execution_count": null,
   "metadata": {},
   "outputs": [],
   "source": [
    "ktown.shape"
   ]
  },
  {
   "cell_type": "code",
   "execution_count": null,
   "metadata": {},
   "outputs": [],
   "source": [
    "type(ktown)"
   ]
  },
  {
   "cell_type": "code",
   "execution_count": null,
   "metadata": {},
   "outputs": [],
   "source": [
    "fig = px.bar(dtown, \n",
    "             x=\"geoid\", \n",
    "             y=[\"%Hispanic or Latino\",\"%White\",\"%Black\",'%Asian','%Native','%Pacific Islander'],\n",
    "             title='Koreatown Racial/Ethnic Breakdown',\n",
    "             labels={\n",
    "                     \"geoid\": \"Census Tracts\",\n",
    "                     \"value\": \"Percentage\",\n",
    "                     \"variable\": \"Race/Ethnicity\"\n",
    "                 },\n",
    "             )\n",
    "fig.show()"
   ]
  },
  {
   "cell_type": "code",
   "execution_count": null,
   "metadata": {},
   "outputs": [],
   "source": [
    "fig = px.bar(dtown, \n",
    "             y='geoid', \n",
    "             x=\"Median Income\",\n",
    "             title='Koreatown Median Income',\n",
    "             color_discrete_sequence=['#FFA15A'],\n",
    "             orientation='h',\n",
    "             labels={\n",
    "                     \"geoid\": \"Census Tracts\",\n",
    "                     \"Median Income\": \"Median Income\",\n",
    "                                      })\n",
    "fig.show()"
   ]
  },
  {
   "cell_type": "code",
   "execution_count": null,
   "metadata": {},
   "outputs": [],
   "source": [
    "fig = px.bar(dtown, \n",
    "             x=\"geoid\", \n",
    "             y=[\"%Car Total\",\"%Public transportation\",],\n",
    "             title='Koreatown Mode of Trasnportation',\n",
    "             labels={\n",
    "                     \"geoid\": \"Census Tracts\",\n",
    "                     \"value\": \"Percentage\",\n",
    "                     \"variable\": \"Mode of Transportation\"\n",
    "                 },\n",
    "             )\n",
    "fig.show()"
   ]
  },
  {
   "cell_type": "code",
   "execution_count": null,
   "metadata": {},
   "outputs": [],
   "source": [
    "fig = px.bar(dtown, \n",
    "             x=\"geoid\", \n",
    "             y=[\"%Car Total\",\"%Bus\",\"%Subway or elevated il\",'%Long-distance train or commuter rail','%Light rail','%Worked from home'],\n",
    "             title='Koreatown Mode of Transportation',\n",
    "             labels={\n",
    "                     \"geoid\": \"Census Tracts\",\n",
    "                     \"value\": \"Percentage\",\n",
    "                     \"variable\": \"Mode of Transportation\"\n",
    "                 },\n",
    "             )\n",
    "fig.show()"
   ]
  },
  {
   "cell_type": "code",
   "execution_count": null,
   "metadata": {},
   "outputs": [],
   "source": [
    "##next week, work on bins\n",
    "fig, axs = plt.subplots(nrows=3, ncols=2, figsize=(25, 25))\n",
    "\n",
    "# name each subplot\n",
    "(ax1, ax2), (ax3, ax4), (ax5, ax6) = axs\n",
    "\n",
    "m2w_income_race.query(\"Neighborhood == 'Koreatown'\").plot(figsize=(12,10),\n",
    "                 column='%Public transportation',\n",
    "                 cmap='YlGn',\n",
    "                 edgecolor='white', \n",
    "                 linewidth=0., \n",
    "                 alpha=0.75, \n",
    "                 ax=ax1, \n",
    "                  legend=True, \n",
    "                 scheme='NaturalBreaks',)\n",
    "\n",
    "ax1.set_title('Public Trasnportation')\n",
    "\n",
    "m2w_income_race.query(\"Neighborhood == 'Koreatown'\").plot(figsize=(12,10),\n",
    "                 column='%Car Total',\n",
    "                 cmap='YlGn',\n",
    "                 edgecolor='white', \n",
    "                 linewidth=0., \n",
    "                 alpha=0.75, \n",
    "                  ax=ax2, \n",
    "                  legend=True, \n",
    "                 scheme='NaturalBreaks',)\n",
    "\n",
    "ax2.set_title('Car Total')\n",
    "\n",
    "\n",
    "m2w_income_race.query(\"Neighborhood == 'Koreatown'\").plot(figsize=(12,10),\n",
    "                 column='%Hispanic or Latino',\n",
    "                 cmap='OrRd',\n",
    "                 edgecolor='white', \n",
    "                 linewidth=0., \n",
    "                 alpha=0.75, \n",
    "                 ax=ax3, \n",
    "                  legend=True, \n",
    "                 scheme='NaturalBreaks',)\n",
    "\n",
    "ax3.set_title('Percent Hispanic/Latino')\n",
    "\n",
    "\n",
    "m2w_income_race.query(\"Neighborhood == 'Koreatown'\").plot(figsize=(12,10),\n",
    "                 column='%White',\n",
    "                 cmap='OrRd',\n",
    "                 edgecolor='white', \n",
    "                 linewidth=0., \n",
    "                 alpha=0.75, \n",
    "                 ax=ax4, \n",
    "                 legend=True, \n",
    "                 scheme='NaturalBreaks',)\n",
    "\n",
    "ax4.set_title('Percent White')\n",
    "\n",
    "\n",
    "m2w_income_race.query(\"Neighborhood == 'Koreatown'\").plot(figsize=(12,10),\n",
    "                 column='%Black',\n",
    "                 cmap='OrRd',\n",
    "                 edgecolor='white', \n",
    "                 linewidth=0., \n",
    "                 alpha=0.75, \n",
    "                 ax=ax5, \n",
    "                  legend=True, \n",
    "                 scheme='NaturalBreaks',)\n",
    "\n",
    "ax5.set_title('Percent Black')\n",
    "\n",
    "\n",
    "m2w_income_race.query(\"Neighborhood == 'Koreatown'\").plot(figsize=(12,10),\n",
    "                 column='%Asian',\n",
    "                 cmap='OrRd',\n",
    "                 edgecolor='white', \n",
    "                 linewidth=0., \n",
    "                 alpha=0.75, \n",
    "                 ax=ax6, \n",
    "                  legend=True, \n",
    "                 scheme='NaturalBreaks',)\n",
    "\n",
    "ax6.set_title('Percent Asian')\n",
    "\n",
    "fig.suptitle('Koreatown Overview')"
   ]
  },
  {
   "cell_type": "code",
   "execution_count": null,
   "metadata": {},
   "outputs": [],
   "source": [
    "m2w_income_race.query(\"Neighborhood == 'Koreatown'\").plot(figsize=(12,10),\n",
    "                 column='Median Income',\n",
    "                 cmap='YlGnBu',\n",
    "                 edgecolor='black', \n",
    "                 linewidth=0., \n",
    "                 alpha=0.75, \n",
    "                 scheme='UserDefined',\n",
    "                classification_kwds=dict(bins=[12760,23700,39450,63100,77300,100490,115950,139140,150000,200000]),\n",
    "                 legend=True, \n",
    "               )"
   ]
  },
  {
   "cell_type": "markdown",
   "metadata": {},
   "source": [
    "### Hollywood"
   ]
  },
  {
   "cell_type": "code",
   "execution_count": null,
   "metadata": {},
   "outputs": [],
   "source": [
    "hwood= df.query(\"Neighborhood == 'Hollywood'\")"
   ]
  },
  {
   "cell_type": "code",
   "execution_count": null,
   "metadata": {},
   "outputs": [],
   "source": [
    "hwood.shape"
   ]
  },
  {
   "cell_type": "code",
   "execution_count": null,
   "metadata": {},
   "outputs": [],
   "source": [
    "type(hwood)"
   ]
  },
  {
   "cell_type": "code",
   "execution_count": null,
   "metadata": {},
   "outputs": [],
   "source": [
    "fig = px.bar(hwood, \n",
    "             x=\"geoid\", \n",
    "             y=[\"%Hispanic or Latino\",\"%White\",\"%Black\",'%Asian','%Native','%Pacific Islander'],\n",
    "             title='Hollywood Racial/Ethnic Breakdown',\n",
    "             labels={\n",
    "                     \"geoid\": \"Census Tracts\",\n",
    "                     \"value\": \"Percentage\",\n",
    "                     \"variable\": \"Race/Ethnicity\"\n",
    "                 },\n",
    "             )\n",
    "fig.show()"
   ]
  },
  {
   "cell_type": "code",
   "execution_count": null,
   "metadata": {},
   "outputs": [],
   "source": [
    "fig = px.bar(hwood, \n",
    "             y='geoid', \n",
    "             x=\"Median Income\",\n",
    "             title='Hollywood Median Income',\n",
    "             color_discrete_sequence=['#B6E880'],\n",
    "             orientation='h',\n",
    "             labels={\n",
    "                     \"geoid\": \"Census Tracts\",\n",
    "                     \"Median Income\": \"Median Income\",\n",
    "                                      })\n",
    "fig.show()"
   ]
  },
  {
   "cell_type": "code",
   "execution_count": null,
   "metadata": {},
   "outputs": [],
   "source": [
    "fig = px.bar(hwood, \n",
    "             x=\"geoid\", \n",
    "             y=[\"%Car Total\",\"%Public transportation\",],\n",
    "             title='Hollywood Mode of Transportation',\n",
    "             labels={\n",
    "                     \"geoid\": \"Census Tracts\",\n",
    "                     \"value\": \"Percentage\",\n",
    "                     \"variable\": \"Mode of Transportation\"\n",
    "                 },\n",
    "             )\n",
    "fig.show()"
   ]
  },
  {
   "cell_type": "code",
   "execution_count": null,
   "metadata": {},
   "outputs": [],
   "source": [
    "fig = px.bar(hwood, \n",
    "             x=\"geoid\", \n",
    "             y=[\"%Car Total\",\"%Bus\",\"%Subway or elevated il\",'%Long-distance train or commuter rail','%Light rail','%Worked from home'],\n",
    "             title='Hollywood Mode of Transportation',\n",
    "             labels={\n",
    "                     \"geoid\": \"Census Tracts\",\n",
    "                     \"value\": \"Percentage\",\n",
    "                     \"variable\": \"Mode of Transportation\"\n",
    "                 },\n",
    "             )\n",
    "fig.show()"
   ]
  },
  {
   "cell_type": "code",
   "execution_count": null,
   "metadata": {},
   "outputs": [],
   "source": [
    "##next week, work on bins\n",
    "fig, axs = plt.subplots(nrows=3, ncols=2, figsize=(25, 25))\n",
    "\n",
    "# name each subplot\n",
    "(ax1, ax2), (ax3, ax4), (ax5, ax6) = axs\n",
    "\n",
    "m2w_income_race.query(\"Neighborhood == 'Hollywood'\").plot(figsize=(12,10),\n",
    "                 column='%Public transportation',\n",
    "                 cmap='YlGn',\n",
    "                 edgecolor='white', \n",
    "                 linewidth=0., \n",
    "                 alpha=0.75, \n",
    "                 ax=ax1, \n",
    "                  legend=True, \n",
    "                 scheme='NaturalBreaks',)\n",
    "\n",
    "ax1.set_title('Public Trasnportation')\n",
    "\n",
    "m2w_income_race.query(\"Neighborhood == 'Hollywood'\").plot(figsize=(12,10),\n",
    "                 column='%Car Total',\n",
    "                 cmap='YlGn',\n",
    "                 edgecolor='white', \n",
    "                 linewidth=0., \n",
    "                 alpha=0.75, \n",
    "                  ax=ax2, \n",
    "                  legend=True, \n",
    "                 scheme='NaturalBreaks',)\n",
    "\n",
    "ax2.set_title('Car Total')\n",
    "\n",
    "\n",
    "m2w_income_race.query(\"Neighborhood == 'Hollywood'\").plot(figsize=(12,10),\n",
    "                 column='%Hispanic or Latino',\n",
    "                 cmap='OrRd',\n",
    "                 edgecolor='white', \n",
    "                 linewidth=0., \n",
    "                 alpha=0.75, \n",
    "                 ax=ax3, \n",
    "                  legend=True, \n",
    "                 scheme='NaturalBreaks',)\n",
    "\n",
    "ax3.set_title('Percent Hispanic/Latino')\n",
    "\n",
    "\n",
    "m2w_income_race.query(\"Neighborhood == 'Hollywood'\").plot(figsize=(12,10),\n",
    "                 column='%White',\n",
    "                 cmap='OrRd',\n",
    "                 edgecolor='white', \n",
    "                 linewidth=0., \n",
    "                 alpha=0.75, \n",
    "                 ax=ax4, \n",
    "                 legend=True, \n",
    "                 scheme='NaturalBreaks',)\n",
    "\n",
    "ax4.set_title('Percent White')\n",
    "\n",
    "\n",
    "m2w_income_race.query(\"Neighborhood == 'Hollywood'\").plot(figsize=(12,10),\n",
    "                 column='%Black',\n",
    "                 cmap='OrRd',\n",
    "                 edgecolor='white', \n",
    "                 linewidth=0., \n",
    "                 alpha=0.75, \n",
    "                 ax=ax5, \n",
    "                  legend=True, \n",
    "                 scheme='NaturalBreaks',)\n",
    "\n",
    "ax5.set_title('Percent Black')\n",
    "\n",
    "\n",
    "m2w_income_race.query(\"Neighborhood == 'Hollywood'\").plot(figsize=(12,10),\n",
    "                 column='%Asian',\n",
    "                 cmap='OrRd',\n",
    "                 edgecolor='white', \n",
    "                 linewidth=0., \n",
    "                 alpha=0.75, \n",
    "                 ax=ax6, \n",
    "                  legend=True, \n",
    "                 scheme='NaturalBreaks',)\n",
    "\n",
    "ax6.set_title('Percent Asian')\n",
    "\n",
    "fig.suptitle('Hollywood Overview')"
   ]
  },
  {
   "cell_type": "code",
   "execution_count": null,
   "metadata": {},
   "outputs": [],
   "source": [
    "m2w_income_race.query(\"Neighborhood == 'Hollywood'\").plot(figsize=(12,10),\n",
    "                 column='Median Income',\n",
    "                 cmap='YlGnBu',\n",
    "                 edgecolor='black', \n",
    "                 linewidth=0., \n",
    "                 alpha=0.75, \n",
    "                 scheme='UserDefined',\n",
    "                classification_kwds=dict(bins=[12760,23700,39450,63100,77300,100490,115950,139140,150000,200000]),\n",
    "                 legend=True, \n",
    "               )"
   ]
  },
  {
   "cell_type": "markdown",
   "metadata": {},
   "source": [
    "### Pico-Union"
   ]
  },
  {
   "cell_type": "code",
   "execution_count": null,
   "metadata": {},
   "outputs": [],
   "source": [
    "pu= df.query(\"Neighborhood == 'Pico-Union'\")"
   ]
  },
  {
   "cell_type": "code",
   "execution_count": null,
   "metadata": {},
   "outputs": [],
   "source": [
    "pu.shape"
   ]
  },
  {
   "cell_type": "code",
   "execution_count": null,
   "metadata": {},
   "outputs": [],
   "source": [
    "type(pu)"
   ]
  },
  {
   "cell_type": "code",
   "execution_count": null,
   "metadata": {},
   "outputs": [],
   "source": [
    "fig = px.bar(pu, \n",
    "             x=\"geoid\", \n",
    "             y=[\"%Hispanic or Latino\",\"%White\",\"%Black\",'%Asian','%Native','%Pacific Islander'],\n",
    "             title='Pico-Union Racial/Ethnic Breakdown',\n",
    "             labels={\n",
    "                     \"geoid\": \"Census Tracts\",\n",
    "                     \"value\": \"Percentage\",\n",
    "                     \"variable\": \"Race/Ethnicity\"\n",
    "                 },\n",
    "             )\n",
    "fig.show()"
   ]
  },
  {
   "cell_type": "code",
   "execution_count": null,
   "metadata": {},
   "outputs": [],
   "source": [
    "fig = px.bar(pu, \n",
    "             y='geoid', \n",
    "             x=\"Median Income\",\n",
    "             title='Pico-Union Median Income',\n",
    "             color_discrete_sequence=['#19D3F3'],\n",
    "             orientation='h',\n",
    "             labels={\n",
    "                     \"geoid\": \"Census Tracts\",\n",
    "                     \"Median Income\": \"Median Income\",\n",
    "                                      })\n",
    "fig.show()"
   ]
  },
  {
   "cell_type": "code",
   "execution_count": null,
   "metadata": {},
   "outputs": [],
   "source": [
    "fig = px.bar(pu, \n",
    "             x=\"geoid\", \n",
    "             y=[\"%Car Total\",\"%Public transportation\",],\n",
    "             title='Pico-Union Mode of Trasnportation',\n",
    "             labels={\n",
    "                     \"geoid\": \"Census Tracts\",\n",
    "                     \"value\": \"Percentage\",\n",
    "                     \"variable\": \"Mode of Transportation\"\n",
    "                 },\n",
    "             )\n",
    "fig.show()"
   ]
  },
  {
   "cell_type": "code",
   "execution_count": null,
   "metadata": {},
   "outputs": [],
   "source": [
    "fig = px.bar(pu, \n",
    "             x=\"geoid\", \n",
    "             y=[\"%Car Total\",\"%Bus\",\"%Subway or elevated il\",'%Long-distance train or commuter rail','%Light rail','%Worked from home'],\n",
    "             title='Pico-Union Mode of Transportation',\n",
    "             labels={\n",
    "                     \"geoid\": \"Census Tracts\",\n",
    "                     \"value\": \"Percentage\",\n",
    "                     \"variable\": \"Mode of Transportation\"\n",
    "                 },\n",
    "             )\n",
    "fig.show()"
   ]
  },
  {
   "cell_type": "code",
   "execution_count": null,
   "metadata": {},
   "outputs": [],
   "source": [
    "##next week, work on bins\n",
    "fig, axs = plt.subplots(nrows=3, ncols=2, figsize=(25, 25))\n",
    "\n",
    "# name each subplot\n",
    "(ax1, ax2), (ax3, ax4), (ax5, ax6) = axs\n",
    "\n",
    "m2w_income_race.query(\"Neighborhood == 'Pico-Union'\").plot(figsize=(12,10),\n",
    "                 column='%Public transportation',\n",
    "                 cmap='YlGn',\n",
    "                 edgecolor='white', \n",
    "                 linewidth=0., \n",
    "                 alpha=0.75, \n",
    "                 ax=ax1, \n",
    "                  legend=True, \n",
    "                 scheme='NaturalBreaks',)\n",
    "\n",
    "ax1.set_title('Public Trasnportation')\n",
    "\n",
    "m2w_income_race.query(\"Neighborhood == 'Pico-Union'\").plot(figsize=(12,10),\n",
    "                 column='%Car Total',\n",
    "                 cmap='YlGn',\n",
    "                 edgecolor='white', \n",
    "                 linewidth=0., \n",
    "                 alpha=0.75, \n",
    "                  ax=ax2, \n",
    "                  legend=True, \n",
    "                 scheme='NaturalBreaks',)\n",
    "\n",
    "ax2.set_title('Car Total')\n",
    "\n",
    "\n",
    "m2w_income_race.query(\"Neighborhood == 'Pico-Union'\").plot(figsize=(12,10),\n",
    "                 column='%Hispanic or Latino',\n",
    "                 cmap='OrRd',\n",
    "                 edgecolor='white', \n",
    "                 linewidth=0., \n",
    "                 alpha=0.75, \n",
    "                 ax=ax3, \n",
    "                  legend=True, \n",
    "                 scheme='NaturalBreaks',)\n",
    "\n",
    "ax3.set_title('Percent Hispanic/Latino')\n",
    "\n",
    "\n",
    "m2w_income_race.query(\"Neighborhood == 'Pico-Union'\").plot(figsize=(12,10),\n",
    "                 column='%White',\n",
    "                 cmap='OrRd',\n",
    "                 edgecolor='white', \n",
    "                 linewidth=0., \n",
    "                 alpha=0.75, \n",
    "                 ax=ax4, \n",
    "                 legend=True, \n",
    "                 scheme='NaturalBreaks',)\n",
    "\n",
    "ax4.set_title('Percent White')\n",
    "\n",
    "\n",
    "m2w_income_race.query(\"Neighborhood == 'Pico-Union'\").plot(figsize=(12,10),\n",
    "                 column='%Black',\n",
    "                 cmap='OrRd',\n",
    "                 edgecolor='white', \n",
    "                 linewidth=0., \n",
    "                 alpha=0.75, \n",
    "                 ax=ax5, \n",
    "                  legend=True, \n",
    "                 scheme='NaturalBreaks',)\n",
    "\n",
    "ax5.set_title('Percent Black')\n",
    "\n",
    "\n",
    "m2w_income_race.query(\"Neighborhood == 'Pico-Union'\").plot(figsize=(12,10),\n",
    "                 column='%Asian',\n",
    "                 cmap='OrRd',\n",
    "                 edgecolor='white', \n",
    "                 linewidth=0., \n",
    "                 alpha=0.75, \n",
    "                 ax=ax6, \n",
    "                  legend=True, \n",
    "                 scheme='NaturalBreaks',)\n",
    "\n",
    "ax6.set_title('Percent Asian')\n",
    "\n",
    "fig.suptitle('Pico-Union Overview')"
   ]
  },
  {
   "cell_type": "code",
   "execution_count": null,
   "metadata": {},
   "outputs": [],
   "source": [
    "m2w_income_race.query(\"Neighborhood == 'Westlake'\").plot(figsize=(12,10),\n",
    "                 column='Median Income',\n",
    "                 cmap='YlGnBu',\n",
    "                 edgecolor='black', \n",
    "                 linewidth=0., \n",
    "                 alpha=0.75, \n",
    "                 scheme='UserDefined',\n",
    "                classification_kwds=dict(bins=[12760,23700,39450,63100,77300,100490,115950,139140,150000,200000]),\n",
    "                 legend=True, \n",
    "               )"
   ]
  },
  {
   "cell_type": "markdown",
   "metadata": {},
   "source": [
    "## San Fernando Valley"
   ]
  },
  {
   "cell_type": "markdown",
   "metadata": {},
   "source": [
    "### Panaroma City"
   ]
  },
  {
   "cell_type": "code",
   "execution_count": null,
   "metadata": {},
   "outputs": [],
   "source": [
    "paci= df.query(\"Neighborhood == 'Panorama City'\")"
   ]
  },
  {
   "cell_type": "code",
   "execution_count": null,
   "metadata": {},
   "outputs": [],
   "source": [
    "paci.shape"
   ]
  },
  {
   "cell_type": "code",
   "execution_count": null,
   "metadata": {},
   "outputs": [],
   "source": [
    "type(paci)"
   ]
  },
  {
   "cell_type": "code",
   "execution_count": null,
   "metadata": {},
   "outputs": [],
   "source": [
    "fig = px.bar(paci, \n",
    "             x=\"geoid\", \n",
    "             y=[\"%Hispanic or Latino\",\"%White\",\"%Black\",'%Asian','%Native','%Pacific Islander'],\n",
    "             title='Panorama City Racial/Ethnic Breakdown',\n",
    "             labels={\n",
    "                     \"geoid\": \"Census Tracts\",\n",
    "                     \"value\": \"Percentage\",\n",
    "                     \"variable\": \"Race/Ethnicity\"\n",
    "                 },\n",
    "             )\n",
    "fig.show()"
   ]
  },
  {
   "cell_type": "code",
   "execution_count": null,
   "metadata": {},
   "outputs": [],
   "source": [
    "fig = px.bar(paci, \n",
    "             y='geoid', \n",
    "             x=\"Median Income\",\n",
    "             title='Panorama City Median Income',\n",
    "             color_discrete_sequence=['#FF6692'],\n",
    "             orientation='h',\n",
    "             labels={\n",
    "                     \"geoid\": \"Census Tracts\",\n",
    "                     \"Median Income\": \"Median Income\",\n",
    "                                      })\n",
    "fig.show()"
   ]
  },
  {
   "cell_type": "code",
   "execution_count": null,
   "metadata": {},
   "outputs": [],
   "source": [
    "fig = px.bar(paci, \n",
    "             x=\"geoid\", \n",
    "             y=[\"%Car Total\",\"%Public transportation\",],\n",
    "             title='Downtown Mode of Transportation',\n",
    "             labels={\n",
    "                     \"geoid\": \"Census Tracts\",\n",
    "                     \"value\": \"Percentage\",\n",
    "                     \"variable\": \"Mode of Transportation\"\n",
    "                 },\n",
    "             )\n",
    "fig.show()"
   ]
  },
  {
   "cell_type": "code",
   "execution_count": null,
   "metadata": {},
   "outputs": [],
   "source": [
    "fig = px.bar(paci, \n",
    "             x=\"geoid\", \n",
    "             y=[\"%Car Total\",\"%Bus\",\"%Subway or elevated il\",'%Long-distance train or commuter rail','%Light rail','%Worked from home'],\n",
    "             title='Panorama City Mode of Transportation',\n",
    "             labels={\n",
    "                     \"geoid\": \"Census Tracts\",\n",
    "                     \"value\": \"Percentage\",\n",
    "                     \"variable\": \"Mode of Transportation\"\n",
    "                 },\n",
    "             )\n",
    "fig.show()"
   ]
  },
  {
   "cell_type": "code",
   "execution_count": null,
   "metadata": {},
   "outputs": [],
   "source": [
    "##next week, work on bins\n",
    "fig, axs = plt.subplots(nrows=3, ncols=2, figsize=(25, 25))\n",
    "\n",
    "# name each subplot\n",
    "(ax1, ax2), (ax3, ax4), (ax5, ax6) = axs\n",
    "\n",
    "m2w_income_race.query(\"Neighborhood == 'Panorama City'\").plot(figsize=(12,10),\n",
    "                 column='%Public transportation',\n",
    "                 cmap='YlGn',\n",
    "                 edgecolor='white', \n",
    "                 linewidth=0., \n",
    "                 alpha=0.75, \n",
    "                 ax=ax1, \n",
    "                  legend=True, \n",
    "                 scheme='NaturalBreaks',)\n",
    "\n",
    "ax1.set_title('Public Trasnportation')\n",
    "\n",
    "m2w_income_race.query(\"Neighborhood == 'Panorama City'\").plot(figsize=(12,10),\n",
    "                 column='%Car Total',\n",
    "                 cmap='YlGn',\n",
    "                 edgecolor='white', \n",
    "                 linewidth=0., \n",
    "                 alpha=0.75, \n",
    "                  ax=ax2, \n",
    "                  legend=True, \n",
    "                 scheme='NaturalBreaks',)\n",
    "\n",
    "ax2.set_title('Car Total')\n",
    "\n",
    "\n",
    "m2w_income_race.query(\"Neighborhood == 'Panorama City'\").plot(figsize=(12,10),\n",
    "                 column='%Hispanic or Latino',\n",
    "                 cmap='OrRd',\n",
    "                 edgecolor='white', \n",
    "                 linewidth=0., \n",
    "                 alpha=0.75, \n",
    "                 ax=ax3, \n",
    "                  legend=True, \n",
    "                 scheme='NaturalBreaks',)\n",
    "\n",
    "ax3.set_title('Percent Hispanic/Latino')\n",
    "\n",
    "\n",
    "m2w_income_race.query(\"Neighborhood == 'Panorama City'\").plot(figsize=(12,10),\n",
    "                 column='%White',\n",
    "                 cmap='OrRd',\n",
    "                 edgecolor='white', \n",
    "                 linewidth=0., \n",
    "                 alpha=0.75, \n",
    "                 ax=ax4, \n",
    "                 legend=True, \n",
    "                 scheme='NaturalBreaks',)\n",
    "\n",
    "ax4.set_title('Percent White')\n",
    "\n",
    "\n",
    "m2w_income_race.query(\"Neighborhood == 'Panorama City'\").plot(figsize=(12,10),\n",
    "                 column='%Black',\n",
    "                 cmap='OrRd',\n",
    "                 edgecolor='white', \n",
    "                 linewidth=0., \n",
    "                 alpha=0.75, \n",
    "                 ax=ax5, \n",
    "                  legend=True, \n",
    "                 scheme='NaturalBreaks',)\n",
    "\n",
    "ax5.set_title('Percent Black')\n",
    "\n",
    "\n",
    "m2w_income_race.query(\"Neighborhood == 'Panorama City'\").plot(figsize=(12,10),\n",
    "                 column='%Asian',\n",
    "                 cmap='OrRd',\n",
    "                 edgecolor='white', \n",
    "                 linewidth=0., \n",
    "                 alpha=0.75, \n",
    "                 ax=ax6, \n",
    "                  legend=True, \n",
    "                 scheme='NaturalBreaks',)\n",
    "\n",
    "ax6.set_title('Percent Asian')\n",
    "\n",
    "fig.suptitle('Panorama City Overview')"
   ]
  },
  {
   "cell_type": "code",
   "execution_count": null,
   "metadata": {},
   "outputs": [],
   "source": [
    "m2w_income_race.query(\"Neighborhood == 'Westlake'\").plot(figsize=(12,10),\n",
    "                 column='Median Income',\n",
    "                 cmap='YlGnBu',\n",
    "                 edgecolor='black', \n",
    "                 linewidth=0., \n",
    "                 alpha=0.75, \n",
    "                 scheme='UserDefined',\n",
    "                classification_kwds=dict(bins=[12760,23700,39450,63100,77300,100490,115950,139140,150000,200000]),\n",
    "                 legend=True, \n",
    "               )"
   ]
  },
  {
   "cell_type": "markdown",
   "metadata": {},
   "source": [
    "### Valley Village"
   ]
  },
  {
   "cell_type": "code",
   "execution_count": null,
   "metadata": {},
   "outputs": [],
   "source": [
    "vv= df.query(\"Neighborhood == 'Valley Village'\")"
   ]
  },
  {
   "cell_type": "code",
   "execution_count": null,
   "metadata": {},
   "outputs": [],
   "source": [
    "vv.shape"
   ]
  },
  {
   "cell_type": "code",
   "execution_count": null,
   "metadata": {},
   "outputs": [],
   "source": [
    "type(vv)"
   ]
  },
  {
   "cell_type": "code",
   "execution_count": null,
   "metadata": {},
   "outputs": [],
   "source": [
    "fig = px.bar(vv, \n",
    "             x=\"geoid\", \n",
    "             y=[\"%Hispanic or Latino\",\"%White\",\"%Black\",'%Asian','%Native','%Pacific Islander'],\n",
    "             title='Valley Village Racial/Ethnic Breakdown',\n",
    "             labels={\n",
    "                     \"geoid\": \"Census Tracts\",\n",
    "                     \"value\": \"Percentage\",\n",
    "                     \"variable\": \"Race/Ethnicity\"\n",
    "                 },\n",
    "             )\n",
    "fig.show()"
   ]
  },
  {
   "cell_type": "code",
   "execution_count": null,
   "metadata": {},
   "outputs": [],
   "source": [
    "fig = px.bar(vv, \n",
    "             y='geoid', \n",
    "             x=\"Median Income\",\n",
    "             title='Valley Village Median Income',\n",
    "             color_discrete_sequence=['#AB63FA'],\n",
    "             orientation='h',\n",
    "             labels={\n",
    "                     \"geoid\": \"Census Tracts\",\n",
    "                     \"Median Income\": \"Median Income\",\n",
    "                                      })\n",
    "fig.show()"
   ]
  },
  {
   "cell_type": "code",
   "execution_count": null,
   "metadata": {},
   "outputs": [],
   "source": [
    "fig = px.bar(vv, \n",
    "             x=\"geoid\", \n",
    "             y=[\"%Car Total\",\"%Public transportation\",],\n",
    "             title='Valley Village Mode of Transportation',\n",
    "             labels={\n",
    "                     \"geoid\": \"Census Tracts\",\n",
    "                     \"value\": \"Percentage\",\n",
    "                     \"variable\": \"Mode of Transportation\"\n",
    "                 },\n",
    "             )\n",
    "fig.show()"
   ]
  },
  {
   "cell_type": "code",
   "execution_count": null,
   "metadata": {},
   "outputs": [],
   "source": [
    "fig = px.bar(vv, \n",
    "             x=\"geoid\", \n",
    "             y=[\"%Car Total\",\"%Bus\",\"%Subway or elevated il\",'%Long-distance train or commuter rail','%Light rail','%Worked from home'],\n",
    "             title='Valley Village Mode of Transportation',\n",
    "             labels={\n",
    "                     \"geoid\": \"Census Tracts\",\n",
    "                     \"value\": \"Percentage\",\n",
    "                     \"variable\": \"Mode of Transportation\"\n",
    "                 },\n",
    "             )\n",
    "fig.show()"
   ]
  },
  {
   "cell_type": "code",
   "execution_count": null,
   "metadata": {},
   "outputs": [],
   "source": [
    "##next week, work on bins\n",
    "fig, axs = plt.subplots(nrows=3, ncols=2, figsize=(25, 25))\n",
    "\n",
    "# name each subplot\n",
    "(ax1, ax2), (ax3, ax4), (ax5, ax6) = axs\n",
    "\n",
    "m2w_income_race.query(\"Neighborhood == 'Valley Village'\").plot(figsize=(12,10),\n",
    "                 column='%Public transportation',\n",
    "                 cmap='YlGn',\n",
    "                 edgecolor='white', \n",
    "                 linewidth=0., \n",
    "                 alpha=0.75, \n",
    "                 ax=ax1, \n",
    "                  legend=True, \n",
    "                 scheme='NaturalBreaks',)\n",
    "\n",
    "ax1.set_title('Public Trasnportation')\n",
    "\n",
    "m2w_income_race.query(\"Neighborhood == 'Valley Village'\").plot(figsize=(12,10),\n",
    "                 column='%Car Total',\n",
    "                 cmap='YlGn',\n",
    "                 edgecolor='white', \n",
    "                 linewidth=0., \n",
    "                 alpha=0.75, \n",
    "                  ax=ax2, \n",
    "                  legend=True, \n",
    "                 scheme='NaturalBreaks',)\n",
    "\n",
    "ax2.set_title('Car Total')\n",
    "\n",
    "\n",
    "m2w_income_race.query(\"Neighborhood == 'Valley Village'\").plot(figsize=(12,10),\n",
    "                 column='%Hispanic or Latino',\n",
    "                 cmap='OrRd',\n",
    "                 edgecolor='white', \n",
    "                 linewidth=0., \n",
    "                 alpha=0.75, \n",
    "                 ax=ax3, \n",
    "                  legend=True, \n",
    "                 scheme='NaturalBreaks',)\n",
    "\n",
    "ax3.set_title('Percent Hispanic/Latino')\n",
    "\n",
    "\n",
    "m2w_income_race.query(\"Neighborhood == 'Valley Village'\").plot(figsize=(12,10),\n",
    "                 column='%White',\n",
    "                 cmap='OrRd',\n",
    "                 edgecolor='white', \n",
    "                 linewidth=0., \n",
    "                 alpha=0.75, \n",
    "                 ax=ax4, \n",
    "                 legend=True, \n",
    "                 scheme='NaturalBreaks',)\n",
    "\n",
    "ax4.set_title('Percent White')\n",
    "\n",
    "\n",
    "m2w_income_race.query(\"Neighborhood == 'Valley Village'\").plot(figsize=(12,10),\n",
    "                 column='%Black',\n",
    "                 cmap='OrRd',\n",
    "                 edgecolor='white', \n",
    "                 linewidth=0., \n",
    "                 alpha=0.75, \n",
    "                 ax=ax5, \n",
    "                  legend=True, \n",
    "                 scheme='NaturalBreaks',)\n",
    "\n",
    "ax5.set_title('Percent Black')\n",
    "\n",
    "\n",
    "m2w_income_race.query(\"Neighborhood == 'Valley Village'\").plot(figsize=(12,10),\n",
    "                 column='%Asian',\n",
    "                 cmap='OrRd',\n",
    "                 edgecolor='white', \n",
    "                 linewidth=0., \n",
    "                 alpha=0.75, \n",
    "                 ax=ax6, \n",
    "                  legend=True, \n",
    "                 scheme='NaturalBreaks',)\n",
    "\n",
    "ax6.set_title('Percent Asian')\n",
    "\n",
    "fig.suptitle('Valley Village Overview')"
   ]
  },
  {
   "cell_type": "code",
   "execution_count": null,
   "metadata": {},
   "outputs": [],
   "source": [
    "m2w_income_race.query(\"Neighborhood == 'Valley Village'\").plot(figsize=(12,10),\n",
    "                 column='Median Income',\n",
    "                 cmap='YlGnBu',\n",
    "                 edgecolor='black', \n",
    "                 linewidth=0., \n",
    "                 alpha=0.75, \n",
    "                 scheme='UserDefined',\n",
    "                classification_kwds=dict(bins=[12760,23700,39450,63100,77300,100490,115950,139140,150000,200000]),\n",
    "                 legend=True, \n",
    "               )"
   ]
  },
  {
   "cell_type": "markdown",
   "metadata": {},
   "source": [
    "### North Hollywood"
   ]
  },
  {
   "cell_type": "code",
   "execution_count": null,
   "metadata": {},
   "outputs": [],
   "source": [
    "nhwood= df.query(\"Neighborhood == 'North Hollywood'\")"
   ]
  },
  {
   "cell_type": "code",
   "execution_count": null,
   "metadata": {},
   "outputs": [],
   "source": [
    "nhwood.shape"
   ]
  },
  {
   "cell_type": "code",
   "execution_count": null,
   "metadata": {},
   "outputs": [],
   "source": [
    "type(nhwood)"
   ]
  },
  {
   "cell_type": "code",
   "execution_count": null,
   "metadata": {},
   "outputs": [],
   "source": [
    "fig = px.bar(nhwood, \n",
    "             x=\"geoid\", \n",
    "             y=[\"%Hispanic or Latino\",\"%White\",\"%Black\",'%Asian','%Native','%Pacific Islander'],\n",
    "             title='North Hollywood Racial/Ethnic Breakdown',\n",
    "             labels={\n",
    "                     \"geoid\": \"Census Tracts\",\n",
    "                     \"value\": \"Percentage\",\n",
    "                     \"variable\": \"Race/Ethnicity\"\n",
    "                 },\n",
    "             )\n",
    "fig.show()"
   ]
  },
  {
   "cell_type": "code",
   "execution_count": null,
   "metadata": {},
   "outputs": [],
   "source": [
    "fig = px.bar(nhwood, \n",
    "             y='geoid', \n",
    "             x=\"Median Income\",\n",
    "             title='North Hollywood Median Income',\n",
    "             color_discrete_sequence=['#EF553B'],\n",
    "             orientation='h',\n",
    "             labels={\n",
    "                     \"geoid\": \"Census Tracts\",\n",
    "                     \"Median Income\": \"Median Income\",\n",
    "                                      })\n",
    "fig.show()"
   ]
  },
  {
   "cell_type": "code",
   "execution_count": null,
   "metadata": {},
   "outputs": [],
   "source": [
    "fig = px.bar(nhwood, \n",
    "             x=\"geoid\", \n",
    "             y=[\"%Car Total\",\"%Public transportation\",],\n",
    "             title='North Hollywood Mode of Transportation',\n",
    "             labels={\n",
    "                     \"geoid\": \"Census Tracts\",\n",
    "                     \"value\": \"Percentage\",\n",
    "                     \"variable\": \"Mode of Transportation\"\n",
    "                 },\n",
    "             )\n",
    "fig.show()"
   ]
  },
  {
   "cell_type": "code",
   "execution_count": null,
   "metadata": {},
   "outputs": [],
   "source": [
    "fig = px.bar(nhwood, \n",
    "             x=\"geoid\", \n",
    "             y=[\"%Car Total\",\"%Bus\",\"%Subway or elevated il\",'%Long-distance train or commuter rail','%Light rail','%Worked from home'],\n",
    "             title='North Hollywood Mode of Transportation',\n",
    "             labels={\n",
    "                     \"geoid\": \"Census Tracts\",\n",
    "                     \"value\": \"Percentage\",\n",
    "                     \"variable\": \"Mode of Transportation\"\n",
    "                 },\n",
    "             )\n",
    "fig.show()"
   ]
  },
  {
   "cell_type": "code",
   "execution_count": null,
   "metadata": {},
   "outputs": [],
   "source": [
    "##next week, work on bins\n",
    "fig, axs = plt.subplots(nrows=3, ncols=2, figsize=(25, 25))\n",
    "\n",
    "# name each subplot\n",
    "(ax1, ax2), (ax3, ax4), (ax5, ax6) = axs\n",
    "\n",
    "m2w_income_race.query(\"Neighborhood == 'North Hollywood'\").plot(figsize=(12,10),\n",
    "                 column='%Public transportation',\n",
    "                 cmap='YlGn',\n",
    "                 edgecolor='white', \n",
    "                 linewidth=0., \n",
    "                 alpha=0.75, \n",
    "                 ax=ax1, \n",
    "                  legend=True, \n",
    "                 scheme='NaturalBreaks',)\n",
    "\n",
    "ax1.set_title('Public Trasnportation')\n",
    "\n",
    "m2w_income_race.query(\"Neighborhood == 'North Hollywood'\").plot(figsize=(12,10),\n",
    "                 column='%Car Total',\n",
    "                 cmap='YlGn',\n",
    "                 edgecolor='white', \n",
    "                 linewidth=0., \n",
    "                 alpha=0.75, \n",
    "                  ax=ax2, \n",
    "                  legend=True, \n",
    "                 scheme='NaturalBreaks',)\n",
    "\n",
    "ax2.set_title('Car Total')\n",
    "\n",
    "\n",
    "m2w_income_race.query(\"Neighborhood == 'North Hollywood'\").plot(figsize=(12,10),\n",
    "                 column='%Hispanic or Latino',\n",
    "                 cmap='OrRd',\n",
    "                 edgecolor='white', \n",
    "                 linewidth=0., \n",
    "                 alpha=0.75, \n",
    "                 ax=ax3, \n",
    "                  legend=True, \n",
    "                 scheme='NaturalBreaks',)\n",
    "\n",
    "ax3.set_title('Percent Hispanic/Latino')\n",
    "\n",
    "\n",
    "m2w_income_race.query(\"Neighborhood == 'North Hollywood'\").plot(figsize=(12,10),\n",
    "                 column='%White',\n",
    "                 cmap='OrRd',\n",
    "                 edgecolor='white', \n",
    "                 linewidth=0., \n",
    "                 alpha=0.75, \n",
    "                 ax=ax4, \n",
    "                 legend=True, \n",
    "                 scheme='NaturalBreaks',)\n",
    "\n",
    "ax4.set_title('Percent White')\n",
    "\n",
    "\n",
    "m2w_income_race.query(\"Neighborhood == 'North Hollywood'\").plot(figsize=(12,10),\n",
    "                 column='%Black',\n",
    "                 cmap='OrRd',\n",
    "                 edgecolor='white', \n",
    "                 linewidth=0., \n",
    "                 alpha=0.75, \n",
    "                 ax=ax5, \n",
    "                  legend=True, \n",
    "                 scheme='NaturalBreaks',)\n",
    "\n",
    "ax5.set_title('Percent Black')\n",
    "\n",
    "\n",
    "m2w_income_race.query(\"Neighborhood == 'North Hollywood'\").plot(figsize=(12,10),\n",
    "                 column='%Asian',\n",
    "                 cmap='OrRd',\n",
    "                 edgecolor='white', \n",
    "                 linewidth=0., \n",
    "                 alpha=0.75, \n",
    "                 ax=ax6, \n",
    "                  legend=True, \n",
    "                 scheme='NaturalBreaks',)\n",
    "\n",
    "ax6.set_title('Percent Asian')\n",
    "\n",
    "fig.suptitle('North Hollywood Overview')"
   ]
  },
  {
   "cell_type": "code",
   "execution_count": null,
   "metadata": {},
   "outputs": [],
   "source": [
    "m2w_income_race.query(\"Neighborhood == 'North Hollywood'\").plot(figsize=(12,10),\n",
    "                 column='Median Income',\n",
    "                 cmap='YlGnBu',\n",
    "                 edgecolor='black', \n",
    "                 linewidth=0., \n",
    "                 alpha=0.75, \n",
    "                 scheme='UserDefined',\n",
    "                classification_kwds=dict(bins=[12760,23700,39450,63100,77300,100490,115950,139140,150000,200000]),\n",
    "                 legend=True, \n",
    "               )"
   ]
  },
  {
   "cell_type": "markdown",
   "metadata": {},
   "source": [
    "### Studio City"
   ]
  },
  {
   "cell_type": "code",
   "execution_count": null,
   "metadata": {},
   "outputs": [],
   "source": [
    "stci= df.query(\"Neighborhood == 'Studio City'\")"
   ]
  },
  {
   "cell_type": "code",
   "execution_count": null,
   "metadata": {},
   "outputs": [],
   "source": [
    "stci.shape"
   ]
  },
  {
   "cell_type": "code",
   "execution_count": null,
   "metadata": {},
   "outputs": [],
   "source": [
    "type(stci)"
   ]
  },
  {
   "cell_type": "code",
   "execution_count": null,
   "metadata": {},
   "outputs": [],
   "source": [
    "fig = px.bar(stci, \n",
    "             x=\"geoid\", \n",
    "             y=[\"%Hispanic or Latino\",\"%White\",\"%Black\",'%Asian','%Native','%Pacific Islander'],\n",
    "             title='Studio City Racial/Ethnic Breakdown',\n",
    "             labels={\n",
    "                     \"geoid\": \"Census Tracts\",\n",
    "                     \"value\": \"Percentage\",\n",
    "                     \"variable\": \"Race/Ethnicity\"\n",
    "                 },\n",
    "             )\n",
    "fig.show()"
   ]
  },
  {
   "cell_type": "code",
   "execution_count": null,
   "metadata": {},
   "outputs": [],
   "source": [
    "fig = px.bar(stci, \n",
    "             y='geoid', \n",
    "             x=\"Median Income\",\n",
    "             title='Studio City Median Income',\n",
    "             color_discrete_sequence=['#0099C6'],\n",
    "             orientation='h',\n",
    "             labels={\n",
    "                     \"geoid\": \"Census Tracts\",\n",
    "                     \"Median Income\": \"Median Income\",\n",
    "                                      })\n",
    "fig.show()"
   ]
  },
  {
   "cell_type": "code",
   "execution_count": null,
   "metadata": {
    "scrolled": true
   },
   "outputs": [],
   "source": [
    "fig = px.bar(stci, \n",
    "             x=\"geoid\", \n",
    "             y=[\"%Car Total\",\"%Public transportation\",],\n",
    "             title='Studio City Mode of Transportation',\n",
    "             labels={\n",
    "                     \"geoid\": \"Census Tracts\",\n",
    "                     \"value\": \"Percentage\",\n",
    "                     \"variable\": \"Mode of Transportation\"\n",
    "                 },\n",
    "             )\n",
    "fig.show()"
   ]
  },
  {
   "cell_type": "code",
   "execution_count": null,
   "metadata": {},
   "outputs": [],
   "source": [
    "fig = px.bar(stci, \n",
    "             x=\"geoid\", \n",
    "             y=[\"%Car Total\",\"%Bus\",\"%Subway or elevated il\",'%Long-distance train or commuter rail','%Light rail','%Worked from home'],\n",
    "             title='Studio City Mode of Transportation',\n",
    "             labels={\n",
    "                     \"geoid\": \"Census Tracts\",\n",
    "                     \"value\": \"Percentage\",\n",
    "                     \"variable\": \"Mode of Transportation\"\n",
    "                 },\n",
    "             )\n",
    "fig.show()"
   ]
  },
  {
   "cell_type": "code",
   "execution_count": null,
   "metadata": {},
   "outputs": [],
   "source": [
    "##next week, work on bins\n",
    "fig, axs = plt.subplots(nrows=3, ncols=2, figsize=(25, 25))\n",
    "\n",
    "# name each subplot\n",
    "(ax1, ax2), (ax3, ax4), (ax5, ax6) = axs\n",
    "\n",
    "m2w_income_race.query(\"Neighborhood == 'Studio City'\").plot(figsize=(12,10),\n",
    "                 column='%Public transportation',\n",
    "                 cmap='YlGn',\n",
    "                 edgecolor='white', \n",
    "                 linewidth=0., \n",
    "                 alpha=0.75, \n",
    "                 ax=ax1, \n",
    "                  legend=True, \n",
    "                 scheme='NaturalBreaks',)\n",
    "\n",
    "ax1.set_title('Public Trasnportation')\n",
    "\n",
    "m2w_income_race.query(\"Neighborhood == 'Studio City'\").plot(figsize=(12,10),\n",
    "                 column='%Car Total',\n",
    "                 cmap='YlGn',\n",
    "                 edgecolor='white', \n",
    "                 linewidth=0., \n",
    "                 alpha=0.75, \n",
    "                  ax=ax2, \n",
    "                  legend=True, \n",
    "                 scheme='NaturalBreaks',)\n",
    "\n",
    "ax2.set_title('Car Total')\n",
    "\n",
    "\n",
    "m2w_income_race.query(\"Neighborhood == 'Studio City'\").plot(figsize=(12,10),\n",
    "                 column='%Hispanic or Latino',\n",
    "                 cmap='OrRd',\n",
    "                 edgecolor='white', \n",
    "                 linewidth=0., \n",
    "                 alpha=0.75, \n",
    "                 ax=ax3, \n",
    "                  legend=True, \n",
    "                 scheme='NaturalBreaks',)\n",
    "\n",
    "ax3.set_title('Percent Hispanic/Latino')\n",
    "\n",
    "\n",
    "m2w_income_race.query(\"Neighborhood == 'Studio City'\").plot(figsize=(12,10),\n",
    "                 column='%White',\n",
    "                 cmap='OrRd',\n",
    "                 edgecolor='white', \n",
    "                 linewidth=0., \n",
    "                 alpha=0.75, \n",
    "                 ax=ax4, \n",
    "                 legend=True, \n",
    "                 scheme='NaturalBreaks',)\n",
    "\n",
    "ax4.set_title('Percent White')\n",
    "\n",
    "\n",
    "m2w_income_race.query(\"Neighborhood == 'Studio City'\").plot(figsize=(12,10),\n",
    "                 column='%Black',\n",
    "                 cmap='OrRd',\n",
    "                 edgecolor='white', \n",
    "                 linewidth=0., \n",
    "                 alpha=0.75, \n",
    "                 ax=ax5, \n",
    "                  legend=True, \n",
    "                 scheme='NaturalBreaks',)\n",
    "\n",
    "ax5.set_title('Percent Black')\n",
    "\n",
    "\n",
    "m2w_income_race.query(\"Neighborhood == 'Studio City'\").plot(figsize=(12,10),\n",
    "                 column='%Asian',\n",
    "                 cmap='OrRd',\n",
    "                 edgecolor='white', \n",
    "                 linewidth=0., \n",
    "                 alpha=0.75, \n",
    "                 ax=ax6, \n",
    "                  legend=True, \n",
    "                 scheme='NaturalBreaks',)\n",
    "\n",
    "ax6.set_title('Percent Asian')\n",
    "\n",
    "fig.suptitle('Studio City Overview')"
   ]
  },
  {
   "cell_type": "code",
   "execution_count": null,
   "metadata": {},
   "outputs": [],
   "source": [
    "m2w_income_race.query(\"Neighborhood == 'Studio City'\").plot(figsize=(12,10),\n",
    "                 column='Median Income',\n",
    "                 cmap='YlGnBu',\n",
    "                 edgecolor='black', \n",
    "                 linewidth=0., \n",
    "                 alpha=0.75, \n",
    "                 scheme='UserDefined',\n",
    "                classification_kwds=dict(bins=[12760,23700,39450,63100,77300,100490,115950,139140,150000,200000]),\n",
    "                 legend=True, \n",
    "               )"
   ]
  },
  {
   "cell_type": "markdown",
   "metadata": {},
   "source": [
    "## High Tranist Area query DF"
   ]
  },
  {
   "cell_type": "code",
   "execution_count": null,
   "metadata": {},
   "outputs": [],
   "source": [
    "nbh_pt20.columns.to_list()"
   ]
  },
  {
   "cell_type": "code",
   "execution_count": null,
   "metadata": {},
   "outputs": [],
   "source": [
    "keep=['geoid',\n",
    " 'name',\n",
    " 'Neighborhood',\n",
    " 'Median Income',\n",
    " 'Total Workers Commuting',\n",
    " 'Car Total',\n",
    " 'Drove alone',\n",
    " 'Carpooled',\n",
    " 'Public transportation',\n",
    " 'Bus',\n",
    " 'Subway or elevated il',\n",
    " 'Long-distance train or commuter rail',\n",
    " 'Light rail',\n",
    " 'Worked from home',\n",
    " '%Car Total',\n",
    " '%Drove alone',\n",
    " '%Carpooled',\n",
    " '%Public transportation',\n",
    " '%Bus',\n",
    " '%Subway or elevated il',\n",
    " '%Long-distance train or commuter rail',\n",
    " '%Light rail',\n",
    " '%Worked from home',\n",
    " 'Total Pop Race',\n",
    " 'White',\n",
    " 'Black',\n",
    " 'Native',\n",
    " 'Asian',\n",
    " 'Pacific Islander',\n",
    " 'Hispanic or Latino',\n",
    " '%White',\n",
    " '%Black',\n",
    " '%Native',\n",
    " '%Asian',\n",
    " '%Pacific Islander',\n",
    " '%Hispanic or Latino',]"
   ]
  },
  {
   "cell_type": "code",
   "execution_count": null,
   "metadata": {},
   "outputs": [],
   "source": [
    "nbh_pt20_df=nbh_pt20[keep]"
   ]
  },
  {
   "cell_type": "code",
   "execution_count": null,
   "metadata": {},
   "outputs": [],
   "source": [
    "nbh_pt20_df.head(3)"
   ]
  },
  {
   "cell_type": "code",
   "execution_count": null,
   "metadata": {},
   "outputs": [],
   "source": [
    "type(nbh_pt20_df)"
   ]
  },
  {
   "cell_type": "markdown",
   "metadata": {},
   "source": [
    "I'm not neither sure of how creat a function/loop for specific column rows characteristis nor able to to these plotly graphs with a function/loop. So this is my makeshift attempt to be efficient"
   ]
  },
  {
   "cell_type": "code",
   "execution_count": null,
   "metadata": {},
   "outputs": [],
   "source": [
    "fig = px.bar(nbh_pt20_df, x=\"Median Income\", y=\"geoid\",facet_col=\"Neighborhood\",facet_col_wrap=3)\n",
    "fig.show()"
   ]
  },
  {
   "cell_type": "markdown",
   "metadata": {},
   "source": [
    "Each neighborhood has a different set of geoids, that's the problem here. Well need to think this through."
   ]
  },
  {
   "cell_type": "markdown",
   "metadata": {},
   "source": [
    "# Maps"
   ]
  },
  {
   "cell_type": "code",
   "execution_count": null,
   "metadata": {},
   "outputs": [],
   "source": [
    "nbh_pt20.plot()"
   ]
  },
  {
   "cell_type": "code",
   "execution_count": null,
   "metadata": {},
   "outputs": [],
   "source": [
    "m2w_income_race[m2w_income_race['%Public transportation'] > 20].plot(figsize=(12,10),\n",
    "                 column='%Public transportation',\n",
    "                 cmap='cividis',\n",
    "                 legend=True, \n",
    "                 scheme='NaturalBreaks',)"
   ]
  },
  {
   "cell_type": "code",
   "execution_count": null,
   "metadata": {},
   "outputs": [],
   "source": []
  }
 ],
 "metadata": {
  "celltoolbar": "Raw Cell Format",
  "kernelspec": {
   "display_name": "Python 3",
   "language": "python",
   "name": "python3"
  },
  "language_info": {
   "codemirror_mode": {
    "name": "ipython",
    "version": 3
   },
   "file_extension": ".py",
   "mimetype": "text/x-python",
   "name": "python",
   "nbconvert_exporter": "python",
   "pygments_lexer": "ipython3",
   "version": "3.8.5"
  },
  "toc": {
   "base_numbering": 1,
   "nav_menu": {},
   "number_sections": true,
   "sideBar": true,
   "skip_h1_title": false,
   "title_cell": "Table of Contents",
   "title_sidebar": "Contents",
   "toc_cell": false,
   "toc_position": {},
   "toc_section_display": true,
   "toc_window_display": false
  }
 },
 "nbformat": 4,
 "nbformat_minor": 4
}
